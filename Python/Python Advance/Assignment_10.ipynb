{
 "cells": [
  {
   "cell_type": "markdown",
   "id": "54257650",
   "metadata": {},
   "source": [
    "#### Q1. What is the difference between `__getattr__` and `__getattribute__`?\n",
    "**Ans:**  `__getattr__` is called when an attribute is not found using normal lookup. It allows you to dynamically compute or provide a default value for the attribute.\n",
    "\n",
    "`__getattribute__` is called for every attribute access, even if the attribute exists. It is used to customize the behavior of attribute access and can be used for implementing proxy objects or attribute interception.\n"
   ]
  },
  {
   "cell_type": "markdown",
   "id": "51f7319c",
   "metadata": {},
   "source": [
    "#### Q2. What is the difference between properties and descriptors?\n",
    "**Ans:** The differences between Properties and Descriptors is:\n",
    "\n",
    "**Properties:** With Properties we can bind getter, setter and delete functions together with an attribute name, using the built-in property function or `@property` decorator. When we do this, each reference to an attribute looks like simple, direct access, but involes the appropriate function of the object.\n",
    "\n",
    "**Descriptor:** With Descriptor we can bind getter, setter and delete functions into a seperate class. we then assign an object of this class to the attribute name in our main class. When we do this, each reference to an attribute looks like simple, direct access but invokes an appropriate function of descriptor object."
   ]
  },
  {
   "cell_type": "markdown",
   "id": "3303787c",
   "metadata": {},
   "source": [
    "#### Q3. What are the key differences in functionality between __getattr__ and __getattribute__, as well as properties and descriptors?\n",
    "**Ans:** `__getattr__` is called when an attribute is not found using normal lookup. It allows you to dynamically compute or provide a default value for the attribute.\n",
    "\n",
    "`__getattribute__` is called for every attribute access, even if the attribute exists. It is used to customize the behavior of attribute access and can be used for implementing proxy objects or attribute interception.\n",
    "\n",
    "Properties are a way to define computed attributes. They allow you to define custom getter, setter, and deleter methods for attribute access, providing control over attribute behavior.\n",
    "\n",
    "Descriptors are objects that define how attribute access should be handled. They allow you to define custom behavior for getting, setting, and deleting attributes. Descriptors can be used to create properties or other advanced attribute handling mechanisms."
   ]
  },
  {
   "cell_type": "markdown",
   "id": "e7a045a9",
   "metadata": {},
   "source": []
  }
 ],
 "metadata": {
  "kernelspec": {
   "display_name": "Python 3",
   "language": "python",
   "name": "python3"
  },
  "language_info": {
   "codemirror_mode": {
    "name": "ipython",
    "version": 3
   },
   "file_extension": ".py",
   "mimetype": "text/x-python",
   "name": "python",
   "nbconvert_exporter": "python",
   "pygments_lexer": "ipython3",
   "version": "3.6.13"
  }
 },
 "nbformat": 4,
 "nbformat_minor": 5
}
