{
  "cells": [
    {
      "cell_type": "markdown",
      "id": "a091ea5b",
      "metadata": {
        "id": "a091ea5b"
      },
      "source": [
        "#### 1. What is the result of the code, and explain?\n",
        "`>>> X = 'iNeuron'`  \n",
        "`>>> def func():`  \n",
        "`    print(X)`  \n",
        "`>>> func()`  \n",
        "**Ans:** The Result of this code is `iNeuron`, as the function first looks for the variable `X` in its local scope,But since there is no local variable `X`, its returns the value of global variable `x` ie `iNeuron`"
      ]
    },
    {
      "cell_type": "markdown",
      "id": "ef65e0b3",
      "metadata": {
        "id": "ef65e0b3"
      },
      "source": [
        "#### 2. What is the result of the code, and explain?\n",
        "`>>> X = 'iNeuron'`  \n",
        "`>>> def func():`  \n",
        "`X = 'NI!'`  \n",
        "`>>> func()`  \n",
        "`>>> print(X)`  \n",
        "**Ans:** The Result of this code is `NI!`, because the function initially looks for the variable `X` in its local scope if `X` is not available then it checks for variable `X` in the global scope, Since here the `X` is present in the local scope. it prints the value `NI!`"
      ]
    },
    {
      "cell_type": "markdown",
      "id": "952c9d0e",
      "metadata": {
        "id": "952c9d0e"
      },
      "source": [
        "#### 3. What does this code print, and why?\n",
        "`>>> X = 'iNeuron'`  \n",
        "`>>> def func():`  \n",
        "`X = 'NI'`  \n",
        "`print(X)`  \n",
        "`>>> func()`  \n",
        "`>>> print(X)`   \n",
        "**Ans:** The output of the code is `NI` and `iNeuron`. `X=NI` is in the local scope of the function `func()` hence the function prints the x value as  `NI`.  `X = 'iNeuron'` is in the global scope. hence `print(X)` prints output as `iNeuron`"
      ]
    },
    {
      "cell_type": "markdown",
      "id": "905d8b7b",
      "metadata": {
        "id": "905d8b7b"
      },
      "source": [
        "#### 4. What output does this code produce? Why?\n",
        "`>>> X = 'iNeuron'`   \n",
        "`>>> def func():`   \n",
        "`global X`   \n",
        "`X = 'NI'`   \n",
        "`>>> func()`   \n",
        "`>>> print(X)`   \n",
        "**Ans:** The output of the code is `NI`.The global keyword allows a variable to be accessed and changed in the global scope from within a function. However, in the given code, the global keyword is used to modify the existing X variable in the global scope, rather than to access it. The X variable is already defined outside the func function, and by using the global keyword, the function is able to modify the value of X. Therefore, the output of the code is NI.\n"
      ]
    },
    {
      "cell_type": "markdown",
      "id": "1c755c9f",
      "metadata": {
        "id": "1c755c9f"
      },
      "source": [
        "#### 5. What about this code—what’s the output, and why?\n",
        "`>>> X = 'iNeuron'`   \n",
        "`>>> def func():`   \n",
        "`X = 'NI'`   \n",
        "`def nested():`   \n",
        "`print(X)`   \n",
        "`nested()`   \n",
        "`>>> func()`   \n",
        "`>>> X`   \n",
        "**Ans:**The output is 'NI'. The reason  is that the function nested tries to access the variable X, which is not defined in its local scope. As a result, Python looks for X in the global scope and finds the value 'NI', which is then printed by the print() statement in the nested() function."
      ]
    },
    {
      "cell_type": "markdown",
      "id": "f8c745c5",
      "metadata": {
        "id": "f8c745c5"
      },
      "source": [
        "#### 6. How about this code: what is its output in Python 3, and explain?\n",
        "`>>> def func():`  \n",
        "`X = 'NI'`  \n",
        "`def nested():`  \n",
        "`nonlocal X`  \n",
        "`X = 'Spam'`  \n",
        "`nested()`  \n",
        "`print(X)`  \n",
        "`>>> func()`  \n",
        "**Ans:** The output of the code is `Spam`. `nonlocal` keyword in python is used to declare a variable as not local.Hence the statement `X = \"Spam\"` is modified in the global scope. hence the output of `print(X)` statement is `Spam`"
      ]
    }
  ],
  "metadata": {
    "kernelspec": {
      "display_name": "Python 3",
      "language": "python",
      "name": "python3"
    },
    "language_info": {
      "codemirror_mode": {
        "name": "ipython",
        "version": 3
      },
      "file_extension": ".py",
      "mimetype": "text/x-python",
      "name": "python",
      "nbconvert_exporter": "python",
      "pygments_lexer": "ipython3",
      "version": "3.8.8"
    },
    "colab": {
      "provenance": []
    }
  },
  "nbformat": 4,
  "nbformat_minor": 5
}