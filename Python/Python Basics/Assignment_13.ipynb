{
  "cells": [
    {
      "cell_type": "markdown",
      "id": "d8aab80a",
      "metadata": {
        "id": "d8aab80a"
      },
      "source": [
        "#### 1. What advantages do Excel spreadsheets have over CSV spreadsheets?\n",
        "**Ans:** The Advantages of Excel over CSV are:\n",
        "\n",
        "1.Excel file formats, such as XLS and XLSX, are more suitable for storing and analyzing complex data as they offer more features and functionality compared to other file formats.\n",
        "\n",
        "2.In addition to storing data, Excel files can perform operations on the data using macros, formulas, and other tools.\n",
        "\n",
        "3.CSV files, also known as flat files, are plain-text files that do not include formatting, formulas, macros, or any other advanced features."
      ]
    },
    {
      "cell_type": "markdown",
      "id": "b66e958d",
      "metadata": {
        "id": "b66e958d"
      },
      "source": [
        "#### 2.What do you pass to csv.reader() and csv.writer() to create reader and writer objects?"
      ]
    },
    {
      "cell_type": "code",
      "execution_count": null,
      "id": "e7c67268",
      "metadata": {
        "id": "e7c67268"
      },
      "outputs": [],
      "source": [
        "import csv\n",
        "\n",
        "# Open a CSV file for reading\n",
        "with open('my_file.csv', 'r') as file:\n",
        "    # Create a CSV reader object\n",
        "    reader = csv.reader(file)\n",
        "    \n",
        "    # Process the rows in the CSV file\n",
        "    for row in reader:\n",
        "        # Do something with each row\n",
        "        print(row)\n"
      ]
    },
    {
      "cell_type": "markdown",
      "id": "c3478f56",
      "metadata": {
        "id": "c3478f56"
      },
      "source": [
        "#### 3. What modes do File objects for reader and writer objects need to be opened in?\n",
        "**Ans:** For `csv.reader(iterable_file_object)`, the file objects needed to be opened in `read` mode `mode='r'` Whereas for `csv.writer(iterable_file_object)` the file objects needed to be opened in `write` mode `mode='w'`\n"
      ]
    },
    {
      "cell_type": "markdown",
      "id": "c2f017ec",
      "metadata": {
        "id": "c2f017ec"
      },
      "source": [
        "#### 4. What method takes a list argument and writes it to a CSV file?\n",
        "**Ans:** The csv.writer class in Python has two methods that can be used to write data to a CSV file. These methods are writerow() and writerows(). The writerow() method is used to write a single row of data at a time, whereas the writerows() method is used to write multiple rows of data at once."
      ]
    },
    {
      "cell_type": "markdown",
      "id": "68179164",
      "metadata": {
        "id": "68179164"
      },
      "source": [
        "#### 5. What do the keyword arguments delimiter and line terminator do?\n",
        "**Ans:**The keyword arguments delimiter and line terminator are used in the csv.writer() method in Python to specify the character(s) used as a delimiter and line terminator when writing data to a CSV file. The delimiter argument separates the values in each row, and the line terminator argument marks the end of each row."
      ]
    },
    {
      "cell_type": "markdown",
      "id": "94752f89",
      "metadata": {
        "id": "94752f89"
      },
      "source": [
        "#### 6. What function takes a string of JSON data and returns a Python data structure?\n",
        "**Ans:** `loads()` method takes a string of JSON data and returns a Python data structure"
      ]
    },
    {
      "cell_type": "code",
      "execution_count": 2,
      "id": "cf976f3f",
      "metadata": {
        "colab": {
          "base_uri": "https://localhost:8080/"
        },
        "id": "cf976f3f",
        "outputId": "176ce791-224e-4454-a056-b55bf73ac2b2"
      },
      "outputs": [
        {
          "output_type": "stream",
          "name": "stdout",
          "text": [
            "{\n",
            "    \"Name\": \"John Doe\",\n",
            "    \"Age\": 30,\n",
            "    \"Country\": \"United States\",\n",
            "    \"Hobbies\": [\"reading\", \"traveling\", \"hiking\"],\n",
            "    \"Languages\": {\"English\": \"fluent\", \"Spanish\": \"intermediate\"}\n",
            "}\n",
            "Type of my_info_json is <class 'str'>\n",
            "{'Name': 'John Doe', 'Age': 30, 'Country': 'United States', 'Hobbies': ['reading', 'traveling', 'hiking'], 'Languages': {'English': 'fluent', 'Spanish': 'intermediate'}}\n",
            "Type of my_info is <class 'dict'>\n"
          ]
        }
      ],
      "source": [
        "# Example of json.loads() method\n",
        "import json\n",
        "\n",
        "my_info_json = '''{\n",
        "    \"Name\": \"John Doe\",\n",
        "    \"Age\": 30,\n",
        "    \"Country\": \"United States\",\n",
        "    \"Hobbies\": [\"reading\", \"traveling\", \"hiking\"],\n",
        "    \"Languages\": {\"English\": \"fluent\", \"Spanish\": \"intermediate\"}\n",
        "}'''\n",
        "\n",
        "print(my_info_json)\n",
        "print(f'Type of my_info_json is {type(my_info_json)}')\n",
        "\n",
        "my_info = json.loads(my_info_json)\n",
        "print(my_info)\n",
        "print(f'Type of my_info is {type(my_info)}')\n"
      ]
    },
    {
      "cell_type": "markdown",
      "id": "bc39716d",
      "metadata": {
        "id": "bc39716d"
      },
      "source": [
        "#### 7. What function takes a Python data structure and returns a string of JSON data?\n",
        "**Ans:** `dumps()` method takes a python data structure and returns a string of JSON data"
      ]
    },
    {
      "cell_type": "code",
      "execution_count": 1,
      "id": "5125a827",
      "metadata": {
        "colab": {
          "base_uri": "https://localhost:8080/"
        },
        "id": "5125a827",
        "outputId": "8cd260e1-2414-44e2-d268-d04873ae38f2"
      },
      "outputs": [
        {
          "output_type": "stream",
          "name": "stdout",
          "text": [
            "{'Name': 'John Doe', 'Age': 30, 'Country': 'United States', 'Hobbies': ['reading', 'traveling', 'hiking'], 'Languages': {'English': 'fluent', 'Spanish': 'intermediate'}}\n",
            "Type of my_info is <class 'dict'>\n",
            "{\n",
            "    \"Age\": 30,\n",
            "    \"Country\": \"United States\",\n",
            "    \"Hobbies\": [\n",
            "        \"reading\",\n",
            "        \"traveling\",\n",
            "        \"hiking\"\n",
            "    ],\n",
            "    \"Languages\": {\n",
            "        \"English\": \"fluent\",\n",
            "        \"Spanish\": \"intermediate\"\n",
            "    },\n",
            "    \"Name\": \"John Doe\"\n",
            "}\n",
            "Type of my_info_json is <class 'str'>\n"
          ]
        }
      ],
      "source": [
        "# Example of json.dumps() method\n",
        "import json\n",
        "\n",
        "my_info = {\n",
        "    'Name': 'John Doe',\n",
        "    'Age': 30,\n",
        "    'Country': 'United States',\n",
        "    'Hobbies': ['reading', 'traveling', 'hiking'],\n",
        "    'Languages': {'English': 'fluent', 'Spanish': 'intermediate'}\n",
        "}\n",
        "\n",
        "print(my_info)\n",
        "print(f'Type of my_info is {type(my_info)}')\n",
        "\n",
        "my_info_json = json.dumps(my_info, indent=4, sort_keys=True)\n",
        "print(my_info_json)\n",
        "print(f'Type of my_info_json is {type(my_info_json)}')\n"
      ]
    },
    {
      "cell_type": "code",
      "source": [],
      "metadata": {
        "id": "jhT9-qQpDXf5"
      },
      "id": "jhT9-qQpDXf5",
      "execution_count": null,
      "outputs": []
    }
  ],
  "metadata": {
    "kernelspec": {
      "display_name": "Python 3",
      "language": "python",
      "name": "python3"
    },
    "language_info": {
      "codemirror_mode": {
        "name": "ipython",
        "version": 3
      },
      "file_extension": ".py",
      "mimetype": "text/x-python",
      "name": "python",
      "nbconvert_exporter": "python",
      "pygments_lexer": "ipython3",
      "version": "3.8.8"
    },
    "colab": {
      "provenance": []
    }
  },
  "nbformat": 4,
  "nbformat_minor": 5
}