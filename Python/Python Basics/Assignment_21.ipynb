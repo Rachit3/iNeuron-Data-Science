{
  "cells": [
    {
      "cell_type": "markdown",
      "id": "4fe8b19e",
      "metadata": {
        "id": "4fe8b19e"
      },
      "source": [
        "#### 1. Add the current date to the text file today.txt as a string."
      ]
    },
    {
      "cell_type": "code",
      "execution_count": null,
      "id": "4c5ad5ac",
      "metadata": {
        "id": "4c5ad5ac",
        "outputId": "a5f22ce8-8975-462f-8357-ff2e96cb41c7"
      },
      "outputs": [
        {
          "name": "stdout",
          "output_type": "stream",
          "text": [
            "22-09-2021\n"
          ]
        }
      ],
      "source": [
        "import datetime\n",
        "# Code to Add current date to the today.txt file\n",
        "file = open('today.txt','w')\n",
        "file.write(datetime.datetime.now().strftime(\"%d-%m-%Y\"))\n",
        "file.close()\n",
        "# Code to Read current date from today.txt file\n",
        "file = open('today.txt','r')\n",
        "print(file.read())\n",
        "file.close()"
      ]
    },
    {
      "cell_type": "markdown",
      "id": "6cf23762",
      "metadata": {
        "id": "6cf23762"
      },
      "source": [
        "#### 2. Read the text file today.txt into the string today_string"
      ]
    },
    {
      "cell_type": "code",
      "execution_count": null,
      "id": "107143ea",
      "metadata": {
        "id": "107143ea",
        "outputId": "2cc8e5cb-3518-4718-8bd6-d811ca69eae4"
      },
      "outputs": [
        {
          "name": "stdout",
          "output_type": "stream",
          "text": [
            "22-09-2021\n"
          ]
        }
      ],
      "source": [
        "file = open('today.txt','r')\n",
        "today_string = file.read()\n",
        "print(today_string)"
      ]
    },
    {
      "cell_type": "markdown",
      "id": "165addb6",
      "metadata": {
        "id": "165addb6"
      },
      "source": [
        "#### 3. Parse the date from today_string."
      ]
    },
    {
      "cell_type": "code",
      "execution_count": null,
      "id": "c622da5b",
      "metadata": {
        "id": "c622da5b",
        "outputId": "1aebc581-8ac1-4885-c32a-539520549434"
      },
      "outputs": [
        {
          "name": "stdout",
          "output_type": "stream",
          "text": [
            "2021-09-22 00:00:00\n"
          ]
        }
      ],
      "source": [
        "from datetime import datetime\n",
        "parsed_data = datetime.strptime(today_string, '%d-%m-%Y')\n",
        "print(parsed_data)"
      ]
    },
    {
      "cell_type": "markdown",
      "id": "664d3278",
      "metadata": {
        "id": "664d3278"
      },
      "source": [
        "#### 4. List the files in your current directory"
      ]
    },
    {
      "cell_type": "code",
      "execution_count": null,
      "id": "cbacd0e4",
      "metadata": {
        "id": "cbacd0e4"
      },
      "outputs": [],
      "source": [
        "import os\n",
        "for folders, subfolders, files in os.walk(os.getcwd()):\n",
        "    for file in files:\n",
        "        print(file)"
      ]
    },
    {
      "cell_type": "markdown",
      "id": "291a203b",
      "metadata": {
        "id": "291a203b"
      },
      "source": [
        "#### 5. Create a list of all of the files in your parent directory (minimum five files should be available)."
      ]
    },
    {
      "cell_type": "code",
      "execution_count": null,
      "id": "efe9618b",
      "metadata": {
        "id": "efe9618b"
      },
      "outputs": [],
      "source": [
        "import os \n",
        "os.listdir()"
      ]
    },
    {
      "cell_type": "markdown",
      "id": "203dd9fe",
      "metadata": {
        "id": "203dd9fe"
      },
      "source": [
        "#### 6. Use multiprocessing to create three separate processes. Make each one wait a random number of seconds between one and five, print the current time, and then exit."
      ]
    },
    {
      "cell_type": "code",
      "execution_count": null,
      "id": "bcb2799b",
      "metadata": {
        "id": "bcb2799b"
      },
      "outputs": [],
      "source": [
        "import multiprocessing\n",
        "import time \n",
        "import random\n",
        "import datetime\n",
        "\n",
        "def procOne():\n",
        "    print(f'Proc_one_Starttime -> {datetime.datetime.now()}')\n",
        "    time.sleep(random.randint(1,5))\n",
        "    print(f'Proc_one_Endtime -> {datetime.datetime.now()}')\n",
        "    \n",
        "def procTwo():\n",
        "    print(f'Proc_two_Starttime -> {datetime.datetime.now()}')\n",
        "    time.sleep(random.randint(1,5))\n",
        "    print(f'Proc_two_Endtime -> {datetime.datetime.now()}')\n",
        "\n",
        "def procThree():\n",
        "    print(f'Proc_two_Starttime -> {datetime.datetime.now()}')\n",
        "    time.sleep(random.randint(1,5))\n",
        "    print(f'Proc_two_Endtime -> {datetime.datetime.now()}')\n",
        "    \n",
        "if __name__ == \"__main__\":    \n",
        "    p1 = multiprocessing.Process(target=procOne)\n",
        "    p2 = multiprocessing.Process(target=procTwo)\n",
        "    p3 = multiprocessing.Process(target=procThree)\n",
        "\n",
        "    p1.start()\n",
        "    p2.start()\n",
        "    p3.start()\n",
        "\n",
        "    p1.join()\n",
        "    p2.join()\n",
        "    p3.join()"
      ]
    },
    {
      "cell_type": "markdown",
      "id": "71d07e78",
      "metadata": {
        "id": "71d07e78"
      },
      "source": [
        "#### 7. Create a date object of your day of birth."
      ]
    },
    {
      "cell_type": "code",
      "execution_count": 1,
      "id": "b3e67c1c",
      "metadata": {
        "colab": {
          "base_uri": "https://localhost:8080/"
        },
        "id": "b3e67c1c",
        "outputId": "9f7c8197-0f23-4047-a854-74c1497dfb43"
      },
      "outputs": [
        {
          "output_type": "stream",
          "name": "stdout",
          "text": [
            "2000-08-22 00:00:00 <class 'datetime.datetime'>\n"
          ]
        }
      ],
      "source": [
        "from datetime import datetime\n",
        "my_dob = datetime.strptime('22/08/2000','%d/%m/%Y')\n",
        "print(my_dob, type(my_dob))"
      ]
    },
    {
      "cell_type": "markdown",
      "id": "e5775db9",
      "metadata": {
        "id": "e5775db9"
      },
      "source": [
        "#### 8. What day of the week was your day of birth?"
      ]
    },
    {
      "cell_type": "code",
      "execution_count": 2,
      "id": "65b6ae43",
      "metadata": {
        "colab": {
          "base_uri": "https://localhost:8080/",
          "height": 36
        },
        "id": "65b6ae43",
        "outputId": "1702a5b1-97c1-400a-b84f-b17b532e7de9"
      },
      "outputs": [
        {
          "output_type": "execute_result",
          "data": {
            "text/plain": [
              "'Tuesday'"
            ],
            "application/vnd.google.colaboratory.intrinsic+json": {
              "type": "string"
            }
          },
          "metadata": {},
          "execution_count": 2
        }
      ],
      "source": [
        "from datetime import datetime\n",
        "my_dob = datetime(2000,8,22)\n",
        "my_dob.strftime(\"%A\")"
      ]
    },
    {
      "cell_type": "markdown",
      "id": "abe779de",
      "metadata": {
        "id": "abe779de"
      },
      "source": [
        "#### 9. When will you be (or when were you) 10,000 days old?"
      ]
    },
    {
      "cell_type": "code",
      "execution_count": 6,
      "id": "db7e28a0",
      "metadata": {
        "colab": {
          "base_uri": "https://localhost:8080/"
        },
        "id": "db7e28a0",
        "outputId": "93d3fc6c-829e-4c36-a625-fb46e228d07f"
      },
      "outputs": [
        {
          "output_type": "execute_result",
          "data": {
            "text/plain": [
              "datetime.datetime(1973, 4, 6, 0, 0)"
            ]
          },
          "metadata": {},
          "execution_count": 6
        }
      ],
      "source": [
        "from datetime import datetime, timedelta\n",
        "my_dob = datetime.strptime(\"22/08/2000\",'%d/%m/%Y')\n",
        "future_date = my_dob-timedelta(10000)\n",
        "future_date"
      ]
    },
    {
      "cell_type": "code",
      "source": [],
      "metadata": {
        "id": "miCID_jNLLPL"
      },
      "id": "miCID_jNLLPL",
      "execution_count": null,
      "outputs": []
    }
  ],
  "metadata": {
    "kernelspec": {
      "display_name": "Python 3",
      "language": "python",
      "name": "python3"
    },
    "language_info": {
      "codemirror_mode": {
        "name": "ipython",
        "version": 3
      },
      "file_extension": ".py",
      "mimetype": "text/x-python",
      "name": "python",
      "nbconvert_exporter": "python",
      "pygments_lexer": "ipython3",
      "version": "3.8.8"
    },
    "colab": {
      "provenance": []
    }
  },
  "nbformat": 4,
  "nbformat_minor": 5
}