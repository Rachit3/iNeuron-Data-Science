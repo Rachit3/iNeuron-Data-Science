{
  "cells": [
    {
      "cell_type": "markdown",
      "id": "0b1c9422",
      "metadata": {
        "id": "0b1c9422"
      },
      "source": [
        "#### 1. Assign the value 7 to the variable guess_me. Then, write the conditional tests (if, else, and elif) to print the string 'too low' if guess_me is less than 7, 'too high' if greater than 7, and 'just right' if equal to 7."
      ]
    },
    {
      "cell_type": "code",
      "execution_count": null,
      "id": "9bd36b65",
      "metadata": {
        "id": "9bd36b65",
        "outputId": "464a1fcb-8a87-4e54-e587-fa754d187e16"
      },
      "outputs": [
        {
          "name": "stdout",
          "output_type": "stream",
          "text": [
            "just Right\n",
            "too Low\n",
            "too High\n"
          ]
        }
      ],
      "source": [
        "def guess_me(guess_me):\n",
        "    if guess_me < 7:\n",
        "        print('too Low')\n",
        "    elif guess_me > 7:\n",
        "        print('too High')\n",
        "    else:\n",
        "        print('just Right')\n",
        "\n",
        "guess_me(guess_me=7)\n",
        "guess_me(guess_me=5)\n",
        "guess_me(guess_me=15)"
      ]
    },
    {
      "cell_type": "markdown",
      "id": "4726a300",
      "metadata": {
        "id": "4726a300"
      },
      "source": [
        "#### 2. Assign the value 7 to the variable guess_me and the value 1 to the variable start. Write a while loop that compares start with guess_me. Print too low if start is less than guess me. If start equals guess_me, print 'found it!' and exit the loop. If start is greater than guess_me, print 'oops' and exit the loop. Increment start at the end of the loop"
      ]
    },
    {
      "cell_type": "code",
      "execution_count": null,
      "id": "455c37de",
      "metadata": {
        "id": "455c37de",
        "outputId": "5c9378b4-1110-4f4e-ccc1-d6130ee295c0"
      },
      "outputs": [
        {
          "name": "stdout",
          "output_type": "stream",
          "text": [
            "too low\n",
            "too low\n",
            "too low\n",
            "too low\n",
            "too low\n",
            "too low\n",
            "found it\n"
          ]
        }
      ],
      "source": [
        "guess_me = 7\n",
        "start = 1\n",
        "while True:\n",
        "    if start < guess_me:\n",
        "        print('too low')\n",
        "    elif start == guess_me:\n",
        "        print('found it')\n",
        "        break\n",
        "    else:\n",
        "        print('oops')\n",
        "        break\n",
        "    start += 1"
      ]
    },
    {
      "cell_type": "markdown",
      "id": "22fe6aee",
      "metadata": {
        "id": "22fe6aee"
      },
      "source": [
        "#### 3. Print the following values of the list [3, 2, 1, 0] using a for loop."
      ]
    },
    {
      "cell_type": "code",
      "execution_count": null,
      "id": "c1b70fcb",
      "metadata": {
        "id": "c1b70fcb",
        "outputId": "bd4fda2c-171c-4e27-b7e4-3095951dd918"
      },
      "outputs": [
        {
          "name": "stdout",
          "output_type": "stream",
          "text": [
            "3\n",
            "2\n",
            "1\n",
            "0\n"
          ]
        }
      ],
      "source": [
        "in_list = [3,2,1,0]\n",
        "for ele in in_list:\n",
        "    print(ele)"
      ]
    },
    {
      "cell_type": "markdown",
      "id": "b3e4fe5e",
      "metadata": {
        "id": "b3e4fe5e"
      },
      "source": [
        "#### 4. Use a list comprehension to make a list of the even numbers in range(10)"
      ]
    },
    {
      "cell_type": "code",
      "execution_count": null,
      "id": "c8fa10ff",
      "metadata": {
        "id": "c8fa10ff",
        "outputId": "363128aa-5a0f-4bcc-b909-0b3428699183"
      },
      "outputs": [
        {
          "name": "stdout",
          "output_type": "stream",
          "text": [
            "[0, 2, 4, 6, 8, 10]\n"
          ]
        }
      ],
      "source": [
        "print([x for x in range(10+1) if x%2==0 ])"
      ]
    },
    {
      "cell_type": "markdown",
      "id": "692f5e50",
      "metadata": {
        "id": "692f5e50"
      },
      "source": [
        "#### 5. Use a dictionary comprehension to create the dictionary squares. Use range(10) to return the keys, and use the square of each key as its value."
      ]
    },
    {
      "cell_type": "code",
      "execution_count": null,
      "id": "98e03632",
      "metadata": {
        "id": "98e03632",
        "outputId": "50be0b88-bc79-4cea-9c8a-6eab660dac5d"
      },
      "outputs": [
        {
          "name": "stdout",
          "output_type": "stream",
          "text": [
            "{0: 0, 1: 1, 2: 4, 3: 9, 4: 16, 5: 25, 6: 36, 7: 49, 8: 64, 9: 81}\n",
            "{0: 0, 1: 1, 2: 4, 3: 9, 4: 16, 5: 25, 6: 36, 7: 49, 8: 64, 9: 81}\n"
          ]
        }
      ],
      "source": [
        "# Method 1\n",
        "print(dict([(x,pow(x,2)) for x in range(10)]))\n",
        "# Method 2\n",
        "print({x:x**2 for x in range(10)})"
      ]
    },
    {
      "cell_type": "markdown",
      "id": "898769b5",
      "metadata": {
        "id": "898769b5"
      },
      "source": [
        "#### 6. Construct the set odd from the odd numbers in the range using a set comprehension (10)."
      ]
    },
    {
      "cell_type": "code",
      "execution_count": null,
      "id": "844a0f4b",
      "metadata": {
        "id": "844a0f4b",
        "outputId": "66223d9b-9f25-4f92-dee5-d9e42104a85d"
      },
      "outputs": [
        {
          "name": "stdout",
          "output_type": "stream",
          "text": [
            "{1, 3, 5, 7, 9}\n"
          ]
        }
      ],
      "source": [
        "print({x for x in range(10) if x%2 !=0})"
      ]
    },
    {
      "cell_type": "markdown",
      "id": "37ac8a77",
      "metadata": {
        "id": "37ac8a77"
      },
      "source": [
        "#### 7. Use a generator comprehension to return the string 'Got ' and a number for the numbers in range(10). Iterate through this by using a for loop"
      ]
    },
    {
      "cell_type": "code",
      "execution_count": null,
      "id": "5158d350",
      "metadata": {
        "id": "5158d350",
        "outputId": "55a6a8de-6707-45a3-a3bc-1bae15285258"
      },
      "outputs": [
        {
          "name": "stdout",
          "output_type": "stream",
          "text": [
            "Got_0 Got_1 Got_2 Got_3 Got_4 Got_5 Got_6 Got_7 Got_8 Got_9 "
          ]
        }
      ],
      "source": [
        "gen_com = ('Got_'+str(x) for x in range(10))\n",
        "for ele in gen_com:\n",
        "    print(ele, end=' ')"
      ]
    },
    {
      "cell_type": "markdown",
      "id": "dffeae83",
      "metadata": {
        "id": "dffeae83"
      },
      "source": [
        "#### 8. Define a function called good that returns the list ['Harry', 'Ron', 'Hermione']."
      ]
    },
    {
      "cell_type": "code",
      "execution_count": null,
      "id": "ee59ee83",
      "metadata": {
        "id": "ee59ee83",
        "outputId": "8960047d-ff21-46dd-d841-c02c3fa133e4"
      },
      "outputs": [
        {
          "name": "stdout",
          "output_type": "stream",
          "text": [
            "['Harry', 'Ron', 'Hermione']\n"
          ]
        }
      ],
      "source": [
        "def good():\n",
        "    x =  ['Harry', 'Ron', 'Hermione']\n",
        "    return x\n",
        "print(good())"
      ]
    },
    {
      "cell_type": "markdown",
      "id": "9c22791a",
      "metadata": {
        "id": "9c22791a"
      },
      "source": [
        "#### 9. Define a generator function called get_odds that returns the odd numbers from range(10). Use a for loop to find and print the third value returned."
      ]
    },
    {
      "cell_type": "code",
      "execution_count": null,
      "id": "d86ab546",
      "metadata": {
        "id": "d86ab546",
        "outputId": "0f771554-9a9a-487b-9f68-6d0d2168b79c"
      },
      "outputs": [
        {
          "data": {
            "text/plain": [
              "5"
            ]
          },
          "execution_count": 9,
          "metadata": {},
          "output_type": "execute_result"
        }
      ],
      "source": [
        "def get_odds():\n",
        "    output = []\n",
        "    for ele in range(10):\n",
        "        if ele%2 != 0:\n",
        "            output.append(ele)\n",
        "    yield output\n",
        "\n",
        "next(get_odds())[2]"
      ]
    },
    {
      "cell_type": "markdown",
      "id": "e5cd8259",
      "metadata": {
        "id": "e5cd8259"
      },
      "source": [
        "#### 10. Define an exception called OopsException. Raise this exception to see what happens. Then write the code to catch this exception and print 'Caught an oops'."
      ]
    },
    {
      "cell_type": "code",
      "execution_count": null,
      "id": "3670b71d",
      "metadata": {
        "id": "3670b71d",
        "outputId": "e6dc4ee6-3470-4dce-8792-193457c93d05"
      },
      "outputs": [
        {
          "name": "stdout",
          "output_type": "stream",
          "text": [
            "Caught in Oops -> name 'a' is not defined\n"
          ]
        }
      ],
      "source": [
        "class OopsException(Exception):\n",
        "    pass\n",
        "\n",
        "def test(input):\n",
        "    if input <0:\n",
        "        raise OopsException(a)\n",
        "try:\n",
        "    test(-100)\n",
        "except Exception as e:\n",
        "    print('Caught in Oops ->',e)"
      ]
    },
    {
      "cell_type": "markdown",
      "id": "6693ea2c",
      "metadata": {
        "id": "6693ea2c"
      },
      "source": [
        "#### 11. Use zip() to make a dictionary called movies that pairs these lists: titles = ['Creature of Habit', 'Crewel Fate'] and plots = ['A nun turns into a monster', 'A haunted yarn shop']."
      ]
    },
    {
      "cell_type": "code",
      "execution_count": null,
      "id": "c7da478c",
      "metadata": {
        "id": "c7da478c",
        "outputId": "73f13f41-d3c9-45cd-8971-9a4c0b5a3082"
      },
      "outputs": [
        {
          "name": "stdout",
          "output_type": "stream",
          "text": [
            "{'Creature of Habit': 'A nun turns into a monster', 'Crewel Fate': 'A haunted yarn shop'}\n"
          ]
        }
      ],
      "source": [
        "titles = ['Creature of Habit', 'Crewel Fate']\n",
        "plots = ['A nun turns into a monster', 'A haunted yarn shop']\n",
        "output = dict(zip(titles,plots))\n",
        "print(output)"
      ]
    }
  ],
  "metadata": {
    "kernelspec": {
      "display_name": "Python 3 (ipykernel)",
      "language": "python",
      "name": "python3"
    },
    "language_info": {
      "codemirror_mode": {
        "name": "ipython",
        "version": 3
      },
      "file_extension": ".py",
      "mimetype": "text/x-python",
      "name": "python",
      "nbconvert_exporter": "python",
      "pygments_lexer": "ipython3",
      "version": "3.8.8"
    },
    "colab": {
      "provenance": []
    }
  },
  "nbformat": 4,
  "nbformat_minor": 5
}