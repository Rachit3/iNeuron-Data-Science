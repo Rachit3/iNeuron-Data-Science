{
  "cells": [
    {
      "cell_type": "markdown",
      "metadata": {
        "id": "TGuRYxole3jm"
      },
      "source": [
        "#### 1.What are Escape characters ? and how do you use them ?\n",
        "**Ans:** Escape characters are those that are used insert characters that are illegal in a string.  To escape a single character or symbol we  use the backslash `character`\n",
        "**example:** `\\t, \\n`\n"
      ]
    },
    {
      "cell_type": "markdown",
      "metadata": {
        "id": "QXWu3fhne3jn"
      },
      "source": [
        "#### 2.What do the escape characters n and t stand for ?\n",
        "**Ans:** `\\n` stands for newline, `\\t` stands for tab"
      ]
    },
    {
      "cell_type": "markdown",
      "metadata": {
        "id": "qW5YN73ve3jn"
      },
      "source": [
        "#### 3.What is the way to include backslash character in a string?\n",
        "**Ans:** The `\\\\` escape character will represent the backslash character in a string"
      ]
    },
    {
      "cell_type": "markdown",
      "metadata": {
        "id": "vRSilpDIe3jo"
      },
      "source": [
        "#### 4.The string \"Howl's Moving Castle\" is a correct value. Why isn't the single quote character in the word Howl's not escaped a problem ?\n",
        "**Ans:** The string `\"Howl's Moving Castle\"` escaped the problem because it is wrapped inside double quotes. if its wrapped inside single quotes then we have to use escape character `\\'` to show single quote in the final output  \n",
        "`'Howl\\'s Moving Castle'` **`->`** `'Howl's Moving Castle'`"
      ]
    },
    {
      "cell_type": "markdown",
      "metadata": {
        "id": "aV2_I1eHe3jo"
      },
      "source": [
        "#### 5.How do you write a string of newlines if you don't want to use the n character?\n",
        "**Ans:**  Multiline string allow you to use newlines in string without the `\\n` escape character  "
      ]
    },
    {
      "cell_type": "code",
      "execution_count": 1,
      "metadata": {
        "colab": {
          "base_uri": "https://localhost:8080/"
        },
        "id": "Gdfk1Rkte3jo",
        "outputId": "fe16f8c5-a4c9-4d54-ccf8-64e3ba284026"
      },
      "outputs": [
        {
          "output_type": "stream",
          "name": "stdout",
          "text": [
            "This is 6th assignment\n",
            "of the python baiscs module\n"
          ]
        }
      ],
      "source": [
        "# Example:\n",
        "a = '''This is 6th assignment\n",
        "of the python baiscs module'''\n",
        "print(a)"
      ]
    },
    {
      "cell_type": "markdown",
      "metadata": {
        "id": "8LGsj9Pee3jq"
      },
      "source": [
        "#### 6.What are the values of the given expressions ?\n",
        "'Hello, world!'[1]  \n",
        "'Hello, world!'[0:5]  \n",
        "'Hello, world!'[:5]  \n",
        "'Hello, world!'[3:]  "
      ]
    },
    {
      "cell_type": "markdown",
      "metadata": {
        "id": "biid0Y3_e3jq"
      },
      "source": [
        "**Ans:** The values for the given expressions are:  \n",
        "'Hello, world!'[1] **`->`**  `'e'`  \n",
        "'Hello, world!'[0:5] **`->`**  `'Hello'`  \n",
        "'Hello, world!'[:5] **`->`**  `'Hello'`  \n",
        "'Hello, world!'[3:] **`->`**  `'lo, world!'`"
      ]
    },
    {
      "cell_type": "markdown",
      "metadata": {
        "id": "XZik4DTGe3jq"
      },
      "source": [
        "#### 7.What are the values of the following expressions ?\n",
        "'Hello'.upper()  \n",
        "'Hello'.upper().isupper()  \n",
        "'Hello'.upper().lower()    \n",
        "\n",
        "**Ans:** The values for the given expressions are:  \n",
        "'Hello'.upper() **`->`** `'HELLO'`  \n",
        "'Hello'.upper().isupper() **`->`**  `True`    \n",
        "'Hello'.upper().lower() **`->`** `'hello'`  "
      ]
    },
    {
      "cell_type": "markdown",
      "metadata": {
        "id": "VXA6fl1We3jq"
      },
      "source": [
        "#### 8.What are the values of the following expressions ?\n",
        "'Remember, remember, the fifith of July.'.split()  \n",
        "-'.join('There can only one'.split())\n",
        "\n",
        "**Ans:** The values for the given expressions are:  \n",
        "'Remember, remember, the fifith of July.'.split()  **`->`** `['Remember,', 'remember,', 'the', 'fifith', 'of', 'July.']`  \n",
        "'-'.join('There can only one'.split()) **`->`** `'There-can-only-one'` "
      ]
    },
    {
      "cell_type": "markdown",
      "metadata": {
        "id": "wcVuASKae3jr"
      },
      "source": [
        "#### 9.What are the methods for right-justifying, left-justifying and centering a string ?\n",
        "**Ans:** The `rjust()`,`ljust()`,`center()` string methods, respectively"
      ]
    },
    {
      "cell_type": "markdown",
      "metadata": {
        "id": "G8aJpNrNe3jr"
      },
      "source": [
        "#### 10.What is the best way to remove whitespace characters from the start or end ?\n",
        "**Ans:** The use of `lstrip()` and `rstrip()` methods are best way to remove whitesapce characters from the left and right ends of a string respectively."
      ]
    }
  ],
  "metadata": {
    "kernelspec": {
      "display_name": "Python 3",
      "language": "python",
      "name": "python3"
    },
    "language_info": {
      "codemirror_mode": {
        "name": "ipython",
        "version": 3
      },
      "file_extension": ".py",
      "mimetype": "text/x-python",
      "name": "python",
      "nbconvert_exporter": "python",
      "pygments_lexer": "ipython3",
      "version": "3.8.8"
    },
    "colab": {
      "provenance": []
    }
  },
  "nbformat": 4,
  "nbformat_minor": 0
}