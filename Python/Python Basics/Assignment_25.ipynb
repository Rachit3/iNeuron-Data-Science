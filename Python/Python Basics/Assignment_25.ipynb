{
  "cells": [
    {
      "cell_type": "markdown",
      "id": "5aee2c7e",
      "metadata": {
        "id": "5aee2c7e"
      },
      "source": [
        "#### 1) . What is the difference between enclosing a list comprehension in square brackets and parentheses?\n",
        "**Ans:** Enclosing a list comprehension in square brackets returns a list whereas enclosing a list comprehension in parentheses returns a `generator` object"
      ]
    },
    {
      "cell_type": "markdown",
      "id": "43ead631",
      "metadata": {
        "id": "43ead631"
      },
      "source": [
        "#### 2) What is the relationship between generators and iterators?\n",
        "**Ans:**Generators are a type of iterator in Python. In other words, generators are a way of creating iterators using a function or generator expression with the yield keyword to produce values one at a time."
      ]
    },
    {
      "cell_type": "markdown",
      "id": "c4bd6bf0",
      "metadata": {
        "id": "c4bd6bf0"
      },
      "source": [
        "#### 3) What are the signs that a function is a generator function?\n",
        "**Ans:** A generator function uses a `yield` statement instead of a `return` statement. A generator function will always return a iterable object called generator. where as a normal function can return a `string/list/tuple/dict/NoneType` ... etc"
      ]
    },
    {
      "cell_type": "markdown",
      "id": "b35dd5fe",
      "metadata": {
        "id": "b35dd5fe"
      },
      "source": [
        "#### 4) What is the purpose of a yield statement?\n",
        "**Ans:**The yield statement is used in Python to define a generator that can produce a sequence of values on-the-fly, one at a time, without needing to store all the values in memory at once. It is useful for generating large or infinite sequences, or for generating sequences that require significant computation or I/O operations, and allows for the separation of the generation of values from their use or processing.."
      ]
    },
    {
      "cell_type": "markdown",
      "id": "d2182986",
      "metadata": {
        "tags": [],
        "id": "d2182986"
      },
      "source": [
        "#### 5) What is the relationship between map calls and list comprehensions? Make a comparison and contrast between the two ?\n",
        "**Ans:** map() and list comprehensions are two ways to transform elements in a sequence based on a function.\n",
        "\n",
        "map() applies a function to each element of an iterable and returns an iterator with the transformed values.\n",
        "\n",
        "List comprehensions create a new list by applying an expression to each element of an iterable.\n",
        "\n",
        "While both can be used to achieve similar results, map() is more general, as it can be used on any iterable, while list comprehensions are only used for creating a new list from an iterable. List comprehensions are often more concise and readable than equivalent map() calls, especially for simple operations.\n",
        "\n",
        "\n",
        "\n"
      ]
    },
    {
      "cell_type": "code",
      "source": [],
      "metadata": {
        "id": "pdIAmL9cgg7K"
      },
      "id": "pdIAmL9cgg7K",
      "execution_count": null,
      "outputs": []
    }
  ],
  "metadata": {
    "kernelspec": {
      "display_name": "Python 3",
      "language": "python",
      "name": "python3"
    },
    "language_info": {
      "codemirror_mode": {
        "name": "ipython",
        "version": 3
      },
      "file_extension": ".py",
      "mimetype": "text/x-python",
      "name": "python",
      "nbconvert_exporter": "python",
      "pygments_lexer": "ipython3",
      "version": "3.8.8"
    },
    "colab": {
      "provenance": []
    }
  },
  "nbformat": 4,
  "nbformat_minor": 5
}