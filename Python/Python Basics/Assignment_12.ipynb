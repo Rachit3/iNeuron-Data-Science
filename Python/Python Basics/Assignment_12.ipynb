{
  "cells": [
    {
      "cell_type": "markdown",
      "id": "354c063f",
      "metadata": {
        "id": "354c063f"
      },
      "source": [
        "#### 1. In what modes should the PdfFileReader() and PdfFileWriter() File objects will be opened?\n",
        "**Ans:**  **`PdfFileReader()`** file objects should be opened in **`rb`** -> read binary mode, while **`PdfFileWriter()`** file objects should be opened in **`wb`** -> write binary mode."
      ]
    },
    {
      "cell_type": "markdown",
      "id": "c1bd13eb",
      "metadata": {
        "id": "c1bd13eb"
      },
      "source": [
        "#### 2. From a PdfFileReader object, how do you get a Page object for page 5?\n",
        "**Ans:** **`PdfFileReader`** class has a method called **`getPage(page_no)`** which is used to get a page object."
      ]
    },
    {
      "cell_type": "code",
      "execution_count": null,
      "id": "911bee10",
      "metadata": {
        "id": "911bee10"
      },
      "outputs": [],
      "source": [
        "#for example\n",
        "from PyPDF2 import PdfFileReader\n",
        "pdf_reader = PdfFileReader(file_path)\n",
        "for page in pdf_reader.getNumPages():\n",
        "    pdf_reader.getPage(page)"
      ]
    },
    {
      "cell_type": "markdown",
      "id": "ddc7d5e9",
      "metadata": {
        "id": "ddc7d5e9"
      },
      "source": [
        "#### 3. What PdfFileReader variable stores the number of pages in the PDF document?\n",
        "**Ans:** **`getNumPages()`** method of **`PdfFileReader`** class stores the no pages in a PDF document"
      ]
    },
    {
      "cell_type": "code",
      "execution_count": null,
      "id": "eaf52330",
      "metadata": {
        "id": "eaf52330"
      },
      "outputs": [],
      "source": [
        "#Example Code:\n",
        "from PyPDF2 import PdfFileReader\n",
        "pdf_reader = PdfFileReader(file_path)\n",
        "print(pdf_reader.getNumPages()) # Prints the no of pages in a input document"
      ]
    },
    {
      "cell_type": "markdown",
      "id": "b750ecda",
      "metadata": {
        "id": "b750ecda"
      },
      "source": [
        "#### 4. If a PdfFileReader object’s PDF is encrypted with the password swordfish, what must you do before you can obtain Page objects from it?\n",
        "**Ans:** If a **`PdfFileReader`** object’s PDF is encrypted with the password **`swordfish`** and you're not aware of it. first read the Pdf using the PdfFileReader Class. PdfFileReader class provides a attribute called **`isEncrypted`** to check whether a pdf is encrypted or not. the method returns true if a pdf is encrypted and vice versa.  \n",
        "if pdf is encrypted use the **`decrypt()`** method provided by PdfFileReader class first then try to read the contents/pages of the pdf, else PyPDF2 will raise the following error **`PyPDF2.utils.PdfReadError: file has not been decrypted`**"
      ]
    },
    {
      "cell_type": "code",
      "execution_count": null,
      "id": "bbf3e761",
      "metadata": {
        "id": "bbf3e761"
      },
      "outputs": [],
      "source": [
        "#Example Code:\n",
        "from PyPDF2 import PdfFileReader\n",
        "pdf_reader = PdfFileReader(file_path)\n",
        "if pdf_reader.isEncrypted: # to check whether the pdf is encrypted or not\n",
        "    pdf_reader.decrypt(\"swordfish\")\n",
        "for page in pdf_reader.pages:\n",
        "    print(page.extractText()) # to print the text data of a page from pdf"
      ]
    },
    {
      "cell_type": "markdown",
      "id": "eb2989bf",
      "metadata": {
        "id": "eb2989bf"
      },
      "source": [
        "#### 5. What methods do you use to rotate a page?\n",
        "**Ans:** We can the following 2 methods to rotate a page:\n",
        "1. **`rotateClockWise()`**\n",
        "2. **`rotateCounterClockWise()`** \n",
        "\n"
      ]
    },
    {
      "cell_type": "markdown",
      "id": "2b46fab1",
      "metadata": {
        "id": "2b46fab1"
      },
      "source": [
        "#### 6. What is the difference between a Run object and a Paragraph object?\n",
        "**Ans:** The following are the differences between Run object and paragraph object:\n",
        "\n",
        "1.A Paragraph object in python-docx represents a single paragraph of text in a Word document.\n",
        "\n",
        "2.A Run object in python-docx represents a contiguous run of text within a paragraph that has the same formatting.\n",
        "\n",
        "3.A Paragraph object can contain one or more Run objects, depending on how the text within the paragraph is formatted."
      ]
    },
    {
      "cell_type": "markdown",
      "id": "4880f471",
      "metadata": {
        "id": "4880f471"
      },
      "source": [
        "#### 7. How do you obtain a list of Paragraph objects for a Document object that’s stored in a variable named doc?"
      ]
    },
    {
      "cell_type": "code",
      "execution_count": null,
      "id": "51f2fe7f",
      "metadata": {
        "id": "51f2fe7f"
      },
      "outputs": [],
      "source": [
        "# Example Program\n",
        "from docx import Document\n",
        "doc = Document(\"sample_file.docx\") # Path of the Docx file\n",
        "print(doc.paragraphs) # Prints the list of Paragraph objects for a Document\n",
        "for paragraph in doc.paragraphs:\n",
        "    print(paragraph.text) # Prints the text in the paragraph"
      ]
    },
    {
      "cell_type": "markdown",
      "id": "4e696c59",
      "metadata": {
        "id": "4e696c59"
      },
      "source": [
        "#### 8. What type of object has bold, underline, italic, strike, and outline variables?\n",
        "**Ans:** **`Run`**  object has bold, underline, italic, strike, and outline variables. The text in a Word document is more than just a string. It has font, size, color, and other styling information associated with it.\n",
        "\n",
        "A style in Word is a collection of these attributes. A Run object is a contiguous run of text with the same style. A new Run object is needed whenever the text style changes."
      ]
    },
    {
      "cell_type": "markdown",
      "id": "0ff87713",
      "metadata": {
        "id": "0ff87713"
      },
      "source": [
        "#### 9. What is the difference between False, True, and None for the bold variable?"
      ]
    },
    {
      "cell_type": "code",
      "execution_count": null,
      "id": "2e8087e0",
      "metadata": {
        "id": "2e8087e0"
      },
      "outputs": [],
      "source": [
        "bold = True  # Style Set to Bold\n",
        "bold = False # Style Not Set to Bold\n",
        "bold = None # Style is Not Applicable"
      ]
    },
    {
      "cell_type": "markdown",
      "id": "7a280546",
      "metadata": {
        "id": "7a280546"
      },
      "source": [
        "#### 10. How do you create a Document object for a new Word document?"
      ]
    },
    {
      "cell_type": "code",
      "execution_count": null,
      "id": "9a1d1970",
      "metadata": {
        "id": "9a1d1970"
      },
      "outputs": [],
      "source": [
        "# Example Program\n",
        "from docx import Document\n",
        "document = Document()\n",
        "document.add_paragraph(\"12th ds assignment\")\n",
        "document.save('newdoc.docx')"
      ]
    },
    {
      "cell_type": "markdown",
      "id": "0b9f5441",
      "metadata": {
        "id": "0b9f5441"
      },
      "source": [
        "#### 11. How do you add a paragraph with the text 'Hello, there!' to a Document object stored in a variable named doc?"
      ]
    },
    {
      "cell_type": "code",
      "execution_count": 1,
      "id": "031fd95f",
      "metadata": {
        "colab": {
          "base_uri": "https://localhost:8080/",
          "height": 390
        },
        "id": "031fd95f",
        "outputId": "3913c8c7-c95f-4e6d-b044-91023926a490"
      },
      "outputs": [
        {
          "output_type": "error",
          "ename": "ModuleNotFoundError",
          "evalue": "ignored",
          "traceback": [
            "\u001b[0;31m---------------------------------------------------------------------------\u001b[0m",
            "\u001b[0;31mModuleNotFoundError\u001b[0m                       Traceback (most recent call last)",
            "\u001b[0;32m<ipython-input-1-d39870e8c786>\u001b[0m in \u001b[0;36m<module>\u001b[0;34m\u001b[0m\n\u001b[1;32m      1\u001b[0m \u001b[0;31m# Example Program\u001b[0m\u001b[0;34m\u001b[0m\u001b[0;34m\u001b[0m\u001b[0m\n\u001b[0;32m----> 2\u001b[0;31m \u001b[0;32mfrom\u001b[0m \u001b[0mdocx\u001b[0m \u001b[0;32mimport\u001b[0m \u001b[0mDocument\u001b[0m\u001b[0;34m\u001b[0m\u001b[0;34m\u001b[0m\u001b[0m\n\u001b[0m\u001b[1;32m      3\u001b[0m \u001b[0mdoc\u001b[0m \u001b[0;34m=\u001b[0m \u001b[0mDocument\u001b[0m\u001b[0;34m(\u001b[0m\u001b[0;34m)\u001b[0m\u001b[0;34m\u001b[0m\u001b[0;34m\u001b[0m\u001b[0m\n\u001b[1;32m      4\u001b[0m \u001b[0mdoc\u001b[0m\u001b[0;34m.\u001b[0m\u001b[0madd_paragraph\u001b[0m\u001b[0;34m(\u001b[0m\u001b[0;34m'12th ds assignment!'\u001b[0m\u001b[0;34m)\u001b[0m\u001b[0;34m\u001b[0m\u001b[0;34m\u001b[0m\u001b[0m\n\u001b[1;32m      5\u001b[0m \u001b[0mdoc\u001b[0m\u001b[0;34m.\u001b[0m\u001b[0msave\u001b[0m\u001b[0;34m(\u001b[0m\u001b[0;34m'ds.docx'\u001b[0m\u001b[0;34m)\u001b[0m\u001b[0;34m\u001b[0m\u001b[0;34m\u001b[0m\u001b[0m\n",
            "\u001b[0;31mModuleNotFoundError\u001b[0m: No module named 'docx'",
            "",
            "\u001b[0;31m---------------------------------------------------------------------------\u001b[0;32m\nNOTE: If your import is failing due to a missing package, you can\nmanually install dependencies using either !pip or !apt.\n\nTo view examples of installing some common dependencies, click the\n\"Open Examples\" button below.\n\u001b[0;31m---------------------------------------------------------------------------\u001b[0m\n"
          ],
          "errorDetails": {
            "actions": [
              {
                "action": "open_url",
                "actionText": "Open Examples",
                "url": "/notebooks/snippets/importing_libraries.ipynb"
              }
            ]
          }
        }
      ],
      "source": [
        "# Example Program\n",
        "from docx import Document\n",
        "doc = Document()\n",
        "doc.add_paragraph('12th ds assignment!')\n",
        "doc.save('ds.docx')"
      ]
    },
    {
      "cell_type": "markdown",
      "id": "cfed7bb9",
      "metadata": {
        "id": "cfed7bb9"
      },
      "source": [
        "#### 12. What integers represent the levels of headings available in Word documents?\n",
        "**Ans:** The add_heading method in a Word document allows you to specify the level of a heading by using the level attribute. There are five levels of headings, ranging from level 0 to level 4. The level 0 heading is a special type of heading that includes a horizontal line below the text. The level 1 heading is the main heading, and the remaining levels are subheadings with decreasing font sizes."
      ]
    },
    {
      "cell_type": "code",
      "source": [],
      "metadata": {
        "id": "t5kuvru1CXc7"
      },
      "id": "t5kuvru1CXc7",
      "execution_count": null,
      "outputs": []
    }
  ],
  "metadata": {
    "kernelspec": {
      "display_name": "Python 3",
      "language": "python",
      "name": "python3"
    },
    "language_info": {
      "codemirror_mode": {
        "name": "ipython",
        "version": 3
      },
      "file_extension": ".py",
      "mimetype": "text/x-python",
      "name": "python",
      "nbconvert_exporter": "python",
      "pygments_lexer": "ipython3",
      "version": "3.8.8"
    },
    "colab": {
      "provenance": []
    }
  },
  "nbformat": 4,
  "nbformat_minor": 5
}