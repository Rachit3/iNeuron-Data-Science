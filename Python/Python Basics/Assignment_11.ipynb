{
  "cells": [
    {
      "cell_type": "markdown",
      "id": "0162b0f7",
      "metadata": {
        "id": "0162b0f7"
      },
      "source": [
        "#### 1. Create an assert statement that throws an AssertionError if the variable spam is a negative integer."
      ]
    },
    {
      "cell_type": "code",
      "execution_count": 1,
      "id": "e6f5b282",
      "metadata": {
        "colab": {
          "base_uri": "https://localhost:8080/",
          "height": 207
        },
        "id": "e6f5b282",
        "outputId": "a94bbb9c-d296-40db-a534-9b25fcd7f26d"
      },
      "outputs": [
        {
          "output_type": "error",
          "ename": "AssertionError",
          "evalue": "ignored",
          "traceback": [
            "\u001b[0;31m---------------------------------------------------------------------------\u001b[0m",
            "\u001b[0;31mAssertionError\u001b[0m                            Traceback (most recent call last)",
            "\u001b[0;32m<ipython-input-1-23ad8feea904>\u001b[0m in \u001b[0;36m<module>\u001b[0;34m\u001b[0m\n\u001b[1;32m      2\u001b[0m \u001b[0mb\u001b[0m\u001b[0;34m=\u001b[0m\u001b[0;36m20\u001b[0m\u001b[0;34m\u001b[0m\u001b[0;34m\u001b[0m\u001b[0m\n\u001b[1;32m      3\u001b[0m \u001b[0mspam\u001b[0m \u001b[0;34m=\u001b[0m \u001b[0ma\u001b[0m\u001b[0;34m+\u001b[0m\u001b[0mb\u001b[0m\u001b[0;34m\u001b[0m\u001b[0;34m\u001b[0m\u001b[0m\n\u001b[0;32m----> 4\u001b[0;31m \u001b[0;32massert\u001b[0m \u001b[0mspam\u001b[0m \u001b[0;34m>=\u001b[0m\u001b[0;36m50\u001b[0m\u001b[0;34m,\u001b[0m \u001b[0;34m'The value of spam cant be less than 50'\u001b[0m\u001b[0;34m\u001b[0m\u001b[0;34m\u001b[0m\u001b[0m\n\u001b[0m",
            "\u001b[0;31mAssertionError\u001b[0m: The value of spam cant be less than 50"
          ]
        }
      ],
      "source": [
        "a=10\n",
        "b=20\n",
        "spam = a+b\n",
        "assert spam >=50, 'The value of spam cant be less than 50'"
      ]
    },
    {
      "cell_type": "markdown",
      "id": "5a065f8d",
      "metadata": {
        "id": "5a065f8d"
      },
      "source": [
        "#### 2. Write an assert statement that triggers an AssertionError if the variables eggs and bacon contain strings that are the same as each other, even if their cases are different (that is, 'hello' and 'hello' are considered the same, and 'goodbye' and 'GOODbye' are also considered the same)."
      ]
    },
    {
      "cell_type": "code",
      "execution_count": 2,
      "id": "72b4d992",
      "metadata": {
        "id": "72b4d992"
      },
      "outputs": [],
      "source": [
        "def raise_assert(egg,bacon):\n",
        "    egg = egg.upper()\n",
        "    bacon = bacon.upper()\n",
        "    assert not(egg == bacon), 'Eggs/Bacon should not be same'"
      ]
    },
    {
      "cell_type": "code",
      "execution_count": 3,
      "id": "eaf13fbe",
      "metadata": {
        "colab": {
          "base_uri": "https://localhost:8080/",
          "height": 262
        },
        "id": "eaf13fbe",
        "outputId": "d0ad61b2-9029-4aa4-94da-b17a71c9034a"
      },
      "outputs": [
        {
          "output_type": "error",
          "ename": "AssertionError",
          "evalue": "ignored",
          "traceback": [
            "\u001b[0;31m---------------------------------------------------------------------------\u001b[0m",
            "\u001b[0;31mAssertionError\u001b[0m                            Traceback (most recent call last)",
            "\u001b[0;32m<ipython-input-3-66993e9183bf>\u001b[0m in \u001b[0;36m<module>\u001b[0;34m\u001b[0m\n\u001b[0;32m----> 1\u001b[0;31m \u001b[0mraise_assert\u001b[0m\u001b[0;34m(\u001b[0m\u001b[0;34m'hello'\u001b[0m\u001b[0;34m,\u001b[0m\u001b[0;34m'HELLO'\u001b[0m\u001b[0;34m)\u001b[0m\u001b[0;34m\u001b[0m\u001b[0;34m\u001b[0m\u001b[0m\n\u001b[0m",
            "\u001b[0;32m<ipython-input-2-f2cc2b97de3b>\u001b[0m in \u001b[0;36mraise_assert\u001b[0;34m(egg, bacon)\u001b[0m\n\u001b[1;32m      2\u001b[0m     \u001b[0megg\u001b[0m \u001b[0;34m=\u001b[0m \u001b[0megg\u001b[0m\u001b[0;34m.\u001b[0m\u001b[0mupper\u001b[0m\u001b[0;34m(\u001b[0m\u001b[0;34m)\u001b[0m\u001b[0;34m\u001b[0m\u001b[0;34m\u001b[0m\u001b[0m\n\u001b[1;32m      3\u001b[0m     \u001b[0mbacon\u001b[0m \u001b[0;34m=\u001b[0m \u001b[0mbacon\u001b[0m\u001b[0;34m.\u001b[0m\u001b[0mupper\u001b[0m\u001b[0;34m(\u001b[0m\u001b[0;34m)\u001b[0m\u001b[0;34m\u001b[0m\u001b[0;34m\u001b[0m\u001b[0m\n\u001b[0;32m----> 4\u001b[0;31m     \u001b[0;32massert\u001b[0m \u001b[0;32mnot\u001b[0m\u001b[0;34m(\u001b[0m\u001b[0megg\u001b[0m \u001b[0;34m==\u001b[0m \u001b[0mbacon\u001b[0m\u001b[0;34m)\u001b[0m\u001b[0;34m,\u001b[0m \u001b[0;34m'Eggs/Bacon should not be same'\u001b[0m\u001b[0;34m\u001b[0m\u001b[0;34m\u001b[0m\u001b[0m\n\u001b[0m",
            "\u001b[0;31mAssertionError\u001b[0m: Eggs/Bacon should not be same"
          ]
        }
      ],
      "source": [
        "raise_assert('hello','HELLO')"
      ]
    },
    {
      "cell_type": "code",
      "execution_count": 4,
      "id": "9289ae52",
      "metadata": {
        "colab": {
          "base_uri": "https://localhost:8080/",
          "height": 262
        },
        "id": "9289ae52",
        "outputId": "f96eff18-ed65-4f65-dc88-a511e46185ea"
      },
      "outputs": [
        {
          "output_type": "error",
          "ename": "AssertionError",
          "evalue": "ignored",
          "traceback": [
            "\u001b[0;31m---------------------------------------------------------------------------\u001b[0m",
            "\u001b[0;31mAssertionError\u001b[0m                            Traceback (most recent call last)",
            "\u001b[0;32m<ipython-input-4-5322ce220e06>\u001b[0m in \u001b[0;36m<module>\u001b[0;34m\u001b[0m\n\u001b[0;32m----> 1\u001b[0;31m \u001b[0mraise_assert\u001b[0m\u001b[0;34m(\u001b[0m\u001b[0;34m'goodbye'\u001b[0m\u001b[0;34m,\u001b[0m\u001b[0;34m'GOODbye'\u001b[0m\u001b[0;34m)\u001b[0m\u001b[0;34m\u001b[0m\u001b[0;34m\u001b[0m\u001b[0m\n\u001b[0m",
            "\u001b[0;32m<ipython-input-2-f2cc2b97de3b>\u001b[0m in \u001b[0;36mraise_assert\u001b[0;34m(egg, bacon)\u001b[0m\n\u001b[1;32m      2\u001b[0m     \u001b[0megg\u001b[0m \u001b[0;34m=\u001b[0m \u001b[0megg\u001b[0m\u001b[0;34m.\u001b[0m\u001b[0mupper\u001b[0m\u001b[0;34m(\u001b[0m\u001b[0;34m)\u001b[0m\u001b[0;34m\u001b[0m\u001b[0;34m\u001b[0m\u001b[0m\n\u001b[1;32m      3\u001b[0m     \u001b[0mbacon\u001b[0m \u001b[0;34m=\u001b[0m \u001b[0mbacon\u001b[0m\u001b[0;34m.\u001b[0m\u001b[0mupper\u001b[0m\u001b[0;34m(\u001b[0m\u001b[0;34m)\u001b[0m\u001b[0;34m\u001b[0m\u001b[0;34m\u001b[0m\u001b[0m\n\u001b[0;32m----> 4\u001b[0;31m     \u001b[0;32massert\u001b[0m \u001b[0;32mnot\u001b[0m\u001b[0;34m(\u001b[0m\u001b[0megg\u001b[0m \u001b[0;34m==\u001b[0m \u001b[0mbacon\u001b[0m\u001b[0;34m)\u001b[0m\u001b[0;34m,\u001b[0m \u001b[0;34m'Eggs/Bacon should not be same'\u001b[0m\u001b[0;34m\u001b[0m\u001b[0;34m\u001b[0m\u001b[0m\n\u001b[0m",
            "\u001b[0;31mAssertionError\u001b[0m: Eggs/Bacon should not be same"
          ]
        }
      ],
      "source": [
        "raise_assert('goodbye','GOODbye')"
      ]
    },
    {
      "cell_type": "markdown",
      "id": "8762fb8e",
      "metadata": {
        "id": "8762fb8e"
      },
      "source": [
        "#### 3. Create an assert statement that throws an AssertionError every time."
      ]
    },
    {
      "cell_type": "code",
      "execution_count": null,
      "id": "90315686",
      "metadata": {
        "id": "90315686",
        "outputId": "c18cf751-354c-4260-a1e9-d779438f84f7"
      },
      "outputs": [
        {
          "ename": "AssertionError",
          "evalue": "Always Shows Assertion Error",
          "output_type": "error",
          "traceback": [
            "\u001b[1;31m---------------------------------------------------------------------------\u001b[0m",
            "\u001b[1;31mAssertionError\u001b[0m                            Traceback (most recent call last)",
            "\u001b[1;32m<ipython-input-9-b25c0da8a33f>\u001b[0m in \u001b[0;36m<module>\u001b[1;34m\u001b[0m\n\u001b[0;32m      1\u001b[0m \u001b[1;32mdef\u001b[0m \u001b[0massert_always\u001b[0m\u001b[1;33m(\u001b[0m\u001b[1;33m)\u001b[0m\u001b[1;33m:\u001b[0m\u001b[1;33m\u001b[0m\u001b[1;33m\u001b[0m\u001b[0m\n\u001b[0;32m      2\u001b[0m     \u001b[1;32massert\u001b[0m \u001b[1;32mFalse\u001b[0m\u001b[1;33m,\u001b[0m \u001b[1;34m'Always Shows Assertion Error'\u001b[0m\u001b[1;33m\u001b[0m\u001b[1;33m\u001b[0m\u001b[0m\n\u001b[1;32m----> 3\u001b[1;33m \u001b[0massert_always\u001b[0m\u001b[1;33m(\u001b[0m\u001b[1;33m)\u001b[0m\u001b[1;33m\u001b[0m\u001b[1;33m\u001b[0m\u001b[0m\n\u001b[0m",
            "\u001b[1;32m<ipython-input-9-b25c0da8a33f>\u001b[0m in \u001b[0;36massert_always\u001b[1;34m()\u001b[0m\n\u001b[0;32m      1\u001b[0m \u001b[1;32mdef\u001b[0m \u001b[0massert_always\u001b[0m\u001b[1;33m(\u001b[0m\u001b[1;33m)\u001b[0m\u001b[1;33m:\u001b[0m\u001b[1;33m\u001b[0m\u001b[1;33m\u001b[0m\u001b[0m\n\u001b[1;32m----> 2\u001b[1;33m     \u001b[1;32massert\u001b[0m \u001b[1;32mFalse\u001b[0m\u001b[1;33m,\u001b[0m \u001b[1;34m'Always Shows Assertion Error'\u001b[0m\u001b[1;33m\u001b[0m\u001b[1;33m\u001b[0m\u001b[0m\n\u001b[0m\u001b[0;32m      3\u001b[0m \u001b[0massert_always\u001b[0m\u001b[1;33m(\u001b[0m\u001b[1;33m)\u001b[0m\u001b[1;33m\u001b[0m\u001b[1;33m\u001b[0m\u001b[0m\n",
            "\u001b[1;31mAssertionError\u001b[0m: Always Shows Assertion Error"
          ]
        }
      ],
      "source": [
        "def assert_always():\n",
        "    assert False, 'Always Shows Assertion Error'\n",
        "assert_always()"
      ]
    },
    {
      "cell_type": "markdown",
      "id": "b7f56f69",
      "metadata": {
        "id": "b7f56f69"
      },
      "source": [
        "#### 4. What are the two lines that must be present in your software in order to call logging.debug()?"
      ]
    },
    {
      "cell_type": "code",
      "execution_count": null,
      "id": "1a9e6986",
      "metadata": {
        "id": "1a9e6986"
      },
      "outputs": [],
      "source": [
        "import logging\n",
        "logging.basicConfig(filename = 'application_log.txt',level=logging.DEBUG, format=' %(asctime)s - %(levelname)s - %(message)s')"
      ]
    },
    {
      "cell_type": "markdown",
      "id": "f5bbd685",
      "metadata": {
        "id": "f5bbd685"
      },
      "source": [
        "#### 5. What are the two lines that your program must have in order to have logging.debug() send a logging message to a file named programLog.txt?"
      ]
    },
    {
      "cell_type": "code",
      "execution_count": null,
      "id": "b977a8ed",
      "metadata": {
        "id": "b977a8ed"
      },
      "outputs": [],
      "source": [
        "import logging\n",
        "logging.basicConfig(filename = 'application_log.txt',level=logging.DEBUG, format=' %(asctime)s - %(levelname)s - %(message)s')\n",
        "logging.debug(\"Data Inserted Successfully\")\n",
        "logging.debug('Connection Closed Successfully')"
      ]
    },
    {
      "cell_type": "code",
      "execution_count": null,
      "id": "94291c02",
      "metadata": {
        "id": "94291c02",
        "outputId": "4b38076f-0669-4917-c7f8-c40d93a63008"
      },
      "outputs": [
        {
          "name": "stdout",
          "output_type": "stream",
          "text": [
            " 2021-10-10 16:32:15,102 - DEBUG - Data Inserted Successfully\n",
            "\n",
            " 2021-10-10 16:32:15,102 - DEBUG - Connection Closed Successfully\n",
            "\n"
          ]
        }
      ],
      "source": [
        "file = open(\"./application_log.txt\",\"r\")\n",
        "for record in file.readlines():\n",
        "    print(record)"
      ]
    },
    {
      "cell_type": "markdown",
      "id": "c68d91af",
      "metadata": {
        "id": "c68d91af"
      },
      "source": [
        "#### 6. What are the five levels of logging?\n",
        "**Ans:** The Five levels of Logging provided by python's logging module are \n",
        "**`CRITICAL(50)`**,\n",
        "**`ERROR(40)`**,\n",
        "**`WARNING(30)`**,\n",
        "**`INFO(20`**,\n",
        "**`DEBUG(10)`**,\n",
        "**`NOTSET(0)`**"
      ]
    },
    {
      "cell_type": "markdown",
      "id": "d2c84f71",
      "metadata": {
        "id": "d2c84f71"
      },
      "source": [
        "#### 7. What line of code would you add to your software to disable all logging messages?"
      ]
    },
    {
      "cell_type": "code",
      "execution_count": null,
      "id": "c475bd12",
      "metadata": {
        "id": "c475bd12"
      },
      "outputs": [],
      "source": [
        "logging.disable = True"
      ]
    },
    {
      "cell_type": "markdown",
      "id": "1a731463",
      "metadata": {
        "id": "1a731463"
      },
      "source": [
        "#### 8.Why is using logging messages better than using print() to display the same message?\n",
        "**Ans:** Post devlopment of your code, you can disable logging messages without removing the logging function, whereas you need to\n",
        "manually remove print() statements, which is tedious activity. and also print is used when you want to display any particular message or help whereas logging is used to record all events like \n",
        "error, info, debug messages, timestamps."
      ]
    },
    {
      "cell_type": "markdown",
      "id": "8616cb8d",
      "metadata": {
        "id": "8616cb8d"
      },
      "source": [
        "#### 9.What are the differences between the Step Over, Step In, and Step Out buttons in the debugger?\n",
        "**Ans:** The Differences between Step Over, Step In, Step Out buttons in debugger are:\n",
        "1. Step in  -  Step In button will cause the debugger to execute the next line of code and then pause again.\n",
        "2. Step Over - Step Over button will execute the next line of code, similar to the Step In button. However, if the next line of code is a function call, the Step Over button will “step over” the code in the function. The function’s code will be executed at full speed, and the debugger will pause as soon as the function call returns.         \n",
        "3. Step out  - Step Out button will cause the debugger to execute lines of code at full speed until it returns from the current function. "
      ]
    },
    {
      "cell_type": "markdown",
      "id": "25783ac6",
      "metadata": {
        "id": "25783ac6"
      },
      "source": [
        "#### 10.After you click Continue, when will the debugger stop ?\n",
        "**Ans:** Debugger will not stop  untill it terminates or reaches a breakpoint."
      ]
    },
    {
      "cell_type": "markdown",
      "id": "966e93dc",
      "metadata": {
        "id": "966e93dc"
      },
      "source": [
        "#### 11. What is the concept of a breakpoint?\n",
        "**Ans:** Breakpoint is a setting on a line of code that causes the debugger to pause when the program execution reaches the line"
      ]
    }
  ],
  "metadata": {
    "kernelspec": {
      "display_name": "Python 3",
      "language": "python",
      "name": "python3"
    },
    "language_info": {
      "codemirror_mode": {
        "name": "ipython",
        "version": 3
      },
      "file_extension": ".py",
      "mimetype": "text/x-python",
      "name": "python",
      "nbconvert_exporter": "python",
      "pygments_lexer": "ipython3",
      "version": "3.8.8"
    },
    "colab": {
      "provenance": []
    }
  },
  "nbformat": 4,
  "nbformat_minor": 5
}