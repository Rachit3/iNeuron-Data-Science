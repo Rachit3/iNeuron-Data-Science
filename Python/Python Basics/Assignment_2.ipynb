{
  "nbformat": 4,
  "nbformat_minor": 0,
  "metadata": {
    "colab": {
      "provenance": []
    },
    "kernelspec": {
      "name": "python3",
      "display_name": "Python 3"
    },
    "language_info": {
      "name": "python"
    }
  },
  "cells": [
    {
      "cell_type": "markdown",
      "source": [
        "1.What are the two values of the Boolean data type? How do you write them?"
      ],
      "metadata": {
        "id": "i9c_Dm0l_CUz"
      }
    },
    {
      "cell_type": "code",
      "source": [
        "\"\"\"\n",
        "The two values of the Boolean data type are TRUE and FALSE.\n",
        "boolean values can either be directly assigned to variable like this:\n",
        "      a= True\n",
        "      b= False\n",
        "or boolean values can be obtained as the result of an expression in python:\n",
        "      \n",
        "      print(10>9)\n",
        "\n",
        "      the result will be True\n",
        "\"\"\"\n"
      ],
      "metadata": {
        "id": "iYVXreOz_DVZ"
      },
      "execution_count": null,
      "outputs": []
    },
    {
      "cell_type": "markdown",
      "source": [
        "2. What are the three different types of Boolean operators?"
      ],
      "metadata": {
        "id": "ud5Hak49_Krr"
      }
    },
    {
      "cell_type": "code",
      "source": [
        "\"\"\"\n",
        "\n",
        "The three different types of Boolean operators are \"and\",\"or\" and \"not\"  \n",
        "\n",
        "\"\"\""
      ],
      "metadata": {
        "id": "7A7fFoV6Apm3"
      },
      "execution_count": null,
      "outputs": []
    },
    {
      "cell_type": "markdown",
      "source": [
        "3. Make a list of each Boolean operator&#39;s truth tables (i.e. every possible combination of Boolean\n",
        "values for the operator and what it evaluate)."
      ],
      "metadata": {
        "id": "GsohCoa6A-3r"
      }
    },
    {
      "cell_type": "code",
      "source": [
        "\"\"\"\n",
        "         AND                                         OR                                        NOT\n",
        "-----------------------------------------------------------------------------------------------------------------------------------\n",
        "A    |    B    | (A) and (B)                A    |    B    | (A) or (B)                    A    |    not (A)\n",
        "-------------------------------------------------------------------------------------------------------------\n",
        "True |  True   |  True                      True |  True   |  True                        True  |   False\n",
        "     |         |                                 |         |                                    |\n",
        "True |  False  |  False                     True |  False  |  True                        False |   True\n",
        "     |         |                                 |         |                                    \n",
        "False|  True   |  False                     False|  True   |  True                              \n",
        "     |         |                                 |         |                                    \n",
        "False|  False  |  False                     False|  False  |  False                             \n",
        "     \n",
        "\"\"\" "
      ],
      "metadata": {
        "id": "SkyqC0uvBD_7"
      },
      "execution_count": null,
      "outputs": []
    },
    {
      "cell_type": "markdown",
      "source": [
        "4. What are the values of the following expressions?"
      ],
      "metadata": {
        "id": "g5npEaVyE63N"
      }
    },
    {
      "cell_type": "code",
      "source": [
        "(5 > 4) and (3 == 5)\n",
        "\"\"\" False\"\"\"\n",
        "\n",
        "not (5 > 4)\n",
        "\"\"\" False\"\"\"\n",
        "\n",
        "(5 > 4) or (3 == 5)\n",
        "\"\"\" True\"\"\"\n",
        "\n",
        "not ((5 > 4) or (3 == 5))\n",
        "\"\"\" False \"\"\"\n",
        "\n",
        "(True and True) and (True == False)\n",
        "\"\"\"False\"\"\"\n",
        "\n",
        "(not False) or (not True)\n",
        "\"\"\"True\"\"\""
      ],
      "metadata": {
        "colab": {
          "base_uri": "https://localhost:8080/",
          "height": 36
        },
        "id": "Ds6JQk0pFJ-g",
        "outputId": "4c88eb7e-66ef-47c1-efa2-e2e384fa80d2"
      },
      "execution_count": 7,
      "outputs": [
        {
          "output_type": "execute_result",
          "data": {
            "text/plain": [
              "'True'"
            ],
            "application/vnd.google.colaboratory.intrinsic+json": {
              "type": "string"
            }
          },
          "metadata": {},
          "execution_count": 7
        }
      ]
    },
    {
      "cell_type": "markdown",
      "source": [
        "5. What are the six comparison operators?"
      ],
      "metadata": {
        "id": "EQ0BIOZyGg7K"
      }
    },
    {
      "cell_type": "code",
      "source": [
        "\"\"\"\n",
        "1. Less than (<)\n",
        "2. Greater than (>)\n",
        "3. Less than or equal to (<=)\n",
        "4. Greater than or equal to (>=)\n",
        "5. Equal to (==)\n",
        "6. Not equal to (!=)\n",
        "\n",
        "\"\"\""
      ],
      "metadata": {
        "id": "BtyQUq3RGjsh"
      },
      "execution_count": null,
      "outputs": []
    },
    {
      "cell_type": "markdown",
      "source": [
        "6. How do you tell the difference between the equal to and assignment operators?Describe a condition and when you would use one."
      ],
      "metadata": {
        "id": "CVESPmf1G7WF"
      }
    },
    {
      "cell_type": "code",
      "source": [
        "\"\"\"\n",
        "equal to operator (==) is used to compare two values or expressions\n",
        "assignment operator(=) is used to assign a value to a variable\n",
        "\n",
        "\n",
        "equal to operator(==) \n",
        " a+b=a-b\n",
        " false\n",
        "\n",
        "\n",
        "assignment operator(=)\n",
        "a=10\n",
        "b=20\n",
        "\n",
        "\"\"\"\n"
      ],
      "metadata": {
        "id": "kzZHUKAOHUBC"
      },
      "execution_count": null,
      "outputs": []
    },
    {
      "cell_type": "markdown",
      "source": [
        "7. Identify the three blocks in this code:\n",
        "spam = 0\n",
        "if spam == 10:\n",
        "print(&#39;eggs&#39;)\n",
        "if spam &gt; 5:\n",
        "print(&#39;bacon&#39;)\n",
        "else:\n",
        "print(&#39;ham&#39;)\n",
        "print(&#39;spam&#39;)\n",
        "print(&#39;spam&#39;)"
      ],
      "metadata": {
        "id": "JtfywyMgIWk-"
      }
    },
    {
      "cell_type": "code",
      "source": [
        "spam = 0\n",
        "if spam == 10:\n",
        "  print('eggs')      #block 1\n",
        "\n",
        "\n",
        "if spam > 5:\n",
        "  print('bacon')     #block 2\n",
        "\n",
        "\n",
        "else:\n",
        "  print('ham')\n",
        "  print('spam')     #block 3\n",
        "  print('spam')"
      ],
      "metadata": {
        "colab": {
          "base_uri": "https://localhost:8080/"
        },
        "id": "I2lETyYxIiWO",
        "outputId": "a6badcb5-622f-44ea-bdbe-7664d54b6513"
      },
      "execution_count": 8,
      "outputs": [
        {
          "output_type": "stream",
          "name": "stdout",
          "text": [
            "ham\n",
            "spam\n",
            "spam\n"
          ]
        }
      ]
    },
    {
      "cell_type": "markdown",
      "source": [
        "8. Write code that prints Hello if 1 is stored in spam, prints Howdy if 2 is stored in spam, and prints\n",
        "Greetings! if anything else is stored in spam."
      ],
      "metadata": {
        "id": "v3eX3zaIJc9B"
      }
    },
    {
      "cell_type": "code",
      "source": [
        "spam = 1\n",
        "if spam == 1:\n",
        "  print('Hello')      #block 1\n",
        "\n",
        "\n",
        "elif spam == 2:\n",
        "  print('Howdy')     #block 2\n",
        "\n",
        "\n",
        "else:\n",
        "  print('Greetings!')\n",
        "  "
      ],
      "metadata": {
        "colab": {
          "base_uri": "https://localhost:8080/"
        },
        "id": "YjiUzPzHJjVI",
        "outputId": "7de888c3-3643-417e-b215-b910e786d08b"
      },
      "execution_count": 11,
      "outputs": [
        {
          "output_type": "stream",
          "name": "stdout",
          "text": [
            "Hello\n"
          ]
        }
      ]
    }
  ]
}