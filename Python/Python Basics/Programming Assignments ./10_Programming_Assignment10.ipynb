{
  "cells": [
    {
      "cell_type": "markdown",
      "id": "d6f96d38",
      "metadata": {
        "id": "d6f96d38"
      },
      "source": [
        "#### 1.Write a Python Program to find sum of elements in a list ?"
      ]
    },
    {
      "cell_type": "code",
      "execution_count": null,
      "id": "1fbea5b2",
      "metadata": {
        "colab": {
          "base_uri": "https://localhost:8080/"
        },
        "id": "1fbea5b2",
        "outputId": "acf4f0cf-31d2-4bc5-940d-9ffef070e9b7"
      },
      "outputs": [
        {
          "output_type": "stream",
          "name": "stdout",
          "text": [
            "Sum of elements in the list: 15\n"
          ]
        }
      ],
      "source": [
        "# sample list\n",
        "my_list = [1, 2, 3, 4, 5]\n",
        "\n",
        "# initialize sum variable to 0\n",
        "sum = 0\n",
        "\n",
        "# iterate through the list and add each element to the sum variable\n",
        "for num in my_list:\n",
        "    sum += num\n",
        "\n",
        "# print the sum of elements in the list\n",
        "print(\"Sum of elements in the list:\", sum)\n"
      ]
    },
    {
      "cell_type": "markdown",
      "id": "35ff9c7c",
      "metadata": {
        "id": "35ff9c7c"
      },
      "source": [
        "#### 2.Write a Python Program to multiply all numbers in the list ?"
      ]
    },
    {
      "cell_type": "code",
      "execution_count": null,
      "id": "d77e77e6",
      "metadata": {
        "colab": {
          "base_uri": "https://localhost:8080/"
        },
        "id": "d77e77e6",
        "outputId": "b1c6fee3-cda4-4c1c-cb02-dc3230ea2f4b"
      },
      "outputs": [
        {
          "output_type": "stream",
          "name": "stdout",
          "text": [
            "Product of all numbers in the list: 120\n"
          ]
        }
      ],
      "source": [
        "# sample list\n",
        "my_list = [1, 2, 3, 4, 5]\n",
        "\n",
        "# initialize product variable to 1\n",
        "product = 1\n",
        "\n",
        "# iterate through the list and multiply each element to the product variable\n",
        "for num in my_list:\n",
        "    product *= num\n",
        "\n",
        "# print the product of all numbers in the list\n",
        "print(\"Product of all numbers in the list:\", product)\n"
      ]
    },
    {
      "cell_type": "markdown",
      "id": "0561967b",
      "metadata": {
        "id": "0561967b"
      },
      "source": [
        "#### 3.Write a Python Program to find smallest number in the list ?"
      ]
    },
    {
      "cell_type": "code",
      "execution_count": null,
      "id": "3e9863eb",
      "metadata": {
        "id": "3e9863eb",
        "outputId": "f6c638aa-ce54-4a89-c60c-57c472a1b1aa"
      },
      "outputs": [
        {
          "name": "stdout",
          "output_type": "stream",
          "text": [
            "Enter the No of elements in a list: 5\n",
            "Enter a Element: 34\n",
            "Enter a Element: 56\n",
            "Enter a Element: 67\n",
            "Enter a Element: 87\n",
            "Enter a Element: 12\n",
            "The Smallest Element in [34, 56, 67, 87, 12] is 12\n"
          ]
        }
      ],
      "source": [
        "def smallEleInList():\n",
        "    in_ele = int(input('Enter the No of elements in a list: '))\n",
        "    in_list = []\n",
        "    for ele in range(in_ele):\n",
        "        in_list.append(int(input('Enter a Element: ')))\n",
        "    print(f'The Smallest Element in {in_list} is {sorted(in_list)[0]}')\n",
        "smallEleInList()"
      ]
    },
    {
      "cell_type": "markdown",
      "id": "0684d2e6",
      "metadata": {
        "id": "0684d2e6"
      },
      "source": [
        "#### 4.Write a Python Program to find largest number in the list ?"
      ]
    },
    {
      "cell_type": "code",
      "execution_count": null,
      "id": "c1984a1c",
      "metadata": {
        "id": "c1984a1c",
        "outputId": "01c148a3-222e-44c3-c207-411a7c7b6b32"
      },
      "outputs": [
        {
          "name": "stdout",
          "output_type": "stream",
          "text": [
            "Enter the No of elements in a list: 12\n",
            "Enter a Element: 10\n",
            "Enter a Element: 98\n",
            "Enter a Element: 12\n",
            "Enter a Element: 14\n",
            "Enter a Element: 15\n",
            "Enter a Element: 65\n",
            "Enter a Element: 76\n",
            "Enter a Element: 87\n",
            "Enter a Element: 34\n",
            "Enter a Element: 56\n",
            "Enter a Element: 87\n",
            "Enter a Element: 34\n",
            "The Largest Element in [10, 98, 12, 14, 15, 65, 76, 87, 34, 56, 87, 34] is 98\n"
          ]
        }
      ],
      "source": [
        "def largestEleInList():\n",
        "    in_ele = int(input('Enter the No of elements in a list: '))\n",
        "    in_list = []\n",
        "    for ele in range(in_ele):\n",
        "        in_list.append(int(input('Enter a Element: ')))\n",
        "    print(f'The Largest Element in {in_list} is {sorted(in_list, reverse=True)[0]}')\n",
        "\n",
        "largestEleInList()"
      ]
    },
    {
      "cell_type": "markdown",
      "id": "ef882ac4",
      "metadata": {
        "id": "ef882ac4"
      },
      "source": [
        "#### 5.Write a Python Program to find second largest number in the list ?"
      ]
    },
    {
      "cell_type": "code",
      "execution_count": null,
      "id": "ca2c5e29",
      "metadata": {
        "id": "ca2c5e29",
        "outputId": "93036a12-b90d-40b4-d05b-fb8bfed47116"
      },
      "outputs": [
        {
          "name": "stdout",
          "output_type": "stream",
          "text": [
            "Enter the No of elements in a list: 5\n",
            "Enter a Element: 12\n",
            "Enter a Element: 13\n",
            "Enter a Element: 14\n",
            "Enter a Element: 15\n",
            "Enter a Element: 16\n",
            "The Second Largest Element in [12, 13, 14, 15, 16] is 15\n"
          ]
        }
      ],
      "source": [
        "def secondLargestEleInList():\n",
        "    in_ele = int(input('Enter the No of elements in a list: '))\n",
        "    in_list = []\n",
        "    for ele in range(in_ele):\n",
        "        in_list.append(int(input('Enter a Element: ')))\n",
        "    print(f'The Second Largest Element in {in_list} is {sorted(in_list, reverse=True)[1]}')\n",
        "\n",
        "secondLargestEleInList()"
      ]
    },
    {
      "cell_type": "markdown",
      "id": "ee185d52",
      "metadata": {
        "id": "ee185d52"
      },
      "source": [
        "#### 6.Write a Python Program to find N largest elements in the list ?"
      ]
    },
    {
      "cell_type": "code",
      "execution_count": null,
      "id": "e2c518fa",
      "metadata": {
        "id": "e2c518fa",
        "outputId": "955dc55b-2422-471c-b4eb-f6b84fb3cba9"
      },
      "outputs": [
        {
          "name": "stdout",
          "output_type": "stream",
          "text": [
            "Enter the No of elements in a list: 10\n",
            "Enter a Element: 1\n",
            "Enter a Element: 2\n",
            "Enter a Element: 3\n",
            "Enter a Element: 4\n",
            "Enter a Element: 5\n",
            "Enter a Element: 6\n",
            "Enter a Element: 7\n",
            "Enter a Element: 8\n",
            "Enter a Element: 9\n",
            "Enter a Element: 10\n",
            "The 4 Largest Element in [1, 2, 3, 4, 5, 6, 7, 8, 9, 10] is [10, 9, 8, 7]\n"
          ]
        }
      ],
      "source": [
        "def nLargestEleInList(k):\n",
        "    in_ele = int(input('Enter the No of elements in a list: '))\n",
        "    in_list = []\n",
        "    for ele in range(in_ele):\n",
        "        in_list.append(int(input('Enter a Element: ')))\n",
        "    print(f'The {k} Largest Element in {in_list} is {sorted(in_list, reverse=True)[0:k]}')\n",
        "\n",
        "nLargestEleInList(4)"
      ]
    },
    {
      "cell_type": "markdown",
      "id": "7f5a2b91",
      "metadata": {
        "id": "7f5a2b91"
      },
      "source": [
        "#### 7.Write a Python Program to find even numbers in the list ?"
      ]
    },
    {
      "cell_type": "code",
      "execution_count": null,
      "id": "e9b0d19a",
      "metadata": {
        "id": "e9b0d19a",
        "outputId": "11d5932a-f2e8-41bf-8b03-72df7539aa9a"
      },
      "outputs": [
        {
          "name": "stdout",
          "output_type": "stream",
          "text": [
            "Enter the No of elements in a list: 6\n",
            "Enter a Element: 1\n",
            "Enter a Element: 2\n",
            "Enter a Element: 3\n",
            "Enter a Element: 4\n",
            "Enter a Element: 5\n",
            "Enter a Element: 6\n",
            "The Even Elements in [1, 2, 3, 4, 5, 6] are [2, 4, 6]\n"
          ]
        }
      ],
      "source": [
        "def evenNoInList():\n",
        "    in_ele = int(input('Enter the No of elements in a list: '))\n",
        "    in_list = []\n",
        "    even_list = []\n",
        "    for ele in range(in_ele):\n",
        "        in_list.append(int(input('Enter a Element: ')))\n",
        "    for ele in in_list:\n",
        "        if ele%2 == 0:\n",
        "            even_list.append(ele)\n",
        "    print(f'The Even Elements in {in_list} are {even_list}')\n",
        "\n",
        "evenNoInList()"
      ]
    },
    {
      "cell_type": "markdown",
      "id": "a5d3f862",
      "metadata": {
        "id": "a5d3f862"
      },
      "source": [
        "#### 8.Write a Python Program to find odd numbers in the list ?"
      ]
    },
    {
      "cell_type": "code",
      "execution_count": null,
      "id": "101d0718",
      "metadata": {
        "id": "101d0718",
        "outputId": "325099b9-2df6-425b-d76b-1af7c8e8b141"
      },
      "outputs": [
        {
          "name": "stdout",
          "output_type": "stream",
          "text": [
            "Enter the No of elements in a list: 6\n",
            "Enter a Element: 1\n",
            "Enter a Element: 2\n",
            "Enter a Element: 3\n",
            "Enter a Element: 4\n",
            "Enter a Element: 5\n",
            "Enter a Element: 6\n",
            "The Even Elements in [1, 2, 3, 4, 5, 6] are [1, 3, 5]\n"
          ]
        }
      ],
      "source": [
        "def oddNoInList():\n",
        "    in_ele = int(input('Enter the No of elements in a list: '))\n",
        "    in_list = []\n",
        "    odd_list = []\n",
        "    for ele in range(in_ele):\n",
        "        in_list.append(int(input('Enter a Element: ')))\n",
        "    for ele in in_list:\n",
        "        if ele%2 != 0:\n",
        "            odd_list.append(ele)\n",
        "    print(f'The Even Elements in {in_list} are {odd_list}')\n",
        "\n",
        "oddNoInList()"
      ]
    },
    {
      "cell_type": "markdown",
      "id": "f97fa7ea",
      "metadata": {
        "id": "f97fa7ea"
      },
      "source": [
        "#### 9.Write a Python Program to remove empty list from list ?"
      ]
    },
    {
      "cell_type": "code",
      "execution_count": null,
      "id": "193a2ef1",
      "metadata": {
        "colab": {
          "base_uri": "https://localhost:8080/"
        },
        "id": "193a2ef1",
        "outputId": "f5ea2029-7668-44dd-ae5c-83313b5bec04"
      },
      "outputs": [
        {
          "output_type": "stream",
          "name": "stdout",
          "text": [
            "Updated list: [1, 2, 3, 4, 5]\n"
          ]
        }
      ],
      "source": [
        "# sample list\n",
        "my_list = [1, 2, [], 3, [], [], 4, 5, []]\n",
        "\n",
        "# use list comprehension to filter out empty lists\n",
        "my_list = [lst for lst in my_list if lst]\n",
        "\n",
        "# print the updated list\n",
        "print(\"Updated list:\", my_list)\n"
      ]
    },
    {
      "cell_type": "markdown",
      "id": "1a5b1f91",
      "metadata": {
        "id": "1a5b1f91"
      },
      "source": [
        "#### 10.Write a Python Program to Cloning or Copying a list ?"
      ]
    },
    {
      "cell_type": "code",
      "execution_count": null,
      "id": "55882ca5",
      "metadata": {
        "colab": {
          "base_uri": "https://localhost:8080/"
        },
        "id": "55882ca5",
        "outputId": "62a2e919-42e4-4985-f9de-fb4e041944c5"
      },
      "outputs": [
        {
          "output_type": "stream",
          "name": "stdout",
          "text": [
            "Number of occurrences of 1 in the list: 3\n"
          ]
        }
      ],
      "source": [
        "# sample list\n",
        "my_list = [1, 2, 3, 4, 1, 2, 1, 5]\n",
        "\n",
        "# element to count occurrences for\n",
        "element = 1\n",
        "\n",
        "# initialize count variable to 0\n",
        "count = 0\n",
        "\n",
        "# iterate through the list and check if the element matches the current element\n",
        "for num in my_list:\n",
        "    if num == element:\n",
        "        count += 1\n",
        "\n",
        "# print the number of occurrences of the element in the list\n",
        "print(\"Number of occurrences of\", element, \"in the list:\", count)\n"
      ]
    },
    {
      "cell_type": "markdown",
      "id": "37e5e6bd",
      "metadata": {
        "id": "37e5e6bd"
      },
      "source": [
        "#### 11.Write a Python Program to count occurences of an element in a list ?"
      ]
    },
    {
      "cell_type": "code",
      "execution_count": null,
      "id": "8a5e7b52",
      "metadata": {
        "colab": {
          "base_uri": "https://localhost:8080/"
        },
        "id": "8a5e7b52",
        "outputId": "4275c891-e584-44e2-a24c-505fead31395"
      },
      "outputs": [
        {
          "output_type": "stream",
          "name": "stdout",
          "text": [
            "Number of occurrences of 1 in the list: 3\n"
          ]
        }
      ],
      "source": [
        "# sample list\n",
        "my_list = [1, 2, 3, 4, 1, 2, 1, 5]\n",
        "\n",
        "# element to count occurrences for\n",
        "element = 1\n",
        "\n",
        "# initialize count variable to 0\n",
        "count = 0\n",
        "\n",
        "# iterate through the list and check if the element matches the current element\n",
        "for num in my_list:\n",
        "    if num == element:\n",
        "        count += 1\n",
        "\n",
        "# print the number of occurrences of the element in the list\n",
        "print(\"Number of occurrences of\", element, \"in the list:\", count)\n"
      ]
    }
  ],
  "metadata": {
    "kernelspec": {
      "display_name": "Python 3",
      "language": "python",
      "name": "python3"
    },
    "language_info": {
      "codemirror_mode": {
        "name": "ipython",
        "version": 3
      },
      "file_extension": ".py",
      "mimetype": "text/x-python",
      "name": "python",
      "nbconvert_exporter": "python",
      "pygments_lexer": "ipython3",
      "version": "3.8.8"
    },
    "colab": {
      "provenance": []
    }
  },
  "nbformat": 4,
  "nbformat_minor": 5
}