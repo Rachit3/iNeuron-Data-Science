{
  "cells": [
    {
      "cell_type": "markdown",
      "id": "823845d3",
      "metadata": {
        "id": "823845d3"
      },
      "source": [
        "#### 1. Write a Python Program to find sum of Array ?"
      ]
    },
    {
      "cell_type": "code",
      "execution_count": 2,
      "id": "6dd2fd5c",
      "metadata": {
        "colab": {
          "base_uri": "https://localhost:8080/"
        },
        "id": "6dd2fd5c",
        "outputId": "27af22e9-7548-4284-d166-703a3863a5c0"
      },
      "outputs": [
        {
          "output_type": "stream",
          "name": "stdout",
          "text": [
            "Enter the Array: 10,20,30\n",
            "The sum of (10, 20, 30) is 60\n"
          ]
        }
      ],
      "source": [
        "def sum_Array():\n",
        "    arr = eval(input(\"Enter the Array: \"))\n",
        "    print(f'The sum of {arr} is {sum(arr)}')\n",
        "\n",
        "sum_Array()"
      ]
    },
    {
      "cell_type": "markdown",
      "id": "9e6c1983",
      "metadata": {
        "id": "9e6c1983"
      },
      "source": [
        "#### 2. Write a Python Program to find Largest element in an Array ?"
      ]
    },
    {
      "cell_type": "code",
      "execution_count": 4,
      "id": "e5c57cb3",
      "metadata": {
        "colab": {
          "base_uri": "https://localhost:8080/"
        },
        "id": "e5c57cb3",
        "outputId": "f2b90759-0ebe-47de-cbd2-e6c4a5fda11e"
      },
      "outputs": [
        {
          "output_type": "stream",
          "name": "stdout",
          "text": [
            "Enter the Array: 10,20,30\n",
            "The Largest Element in (10, 20, 30) is 30\n"
          ]
        }
      ],
      "source": [
        "def largestElement():\n",
        "    arr = eval(input(\"Enter the Array: \"))\n",
        "    print(f\"The Largest Element in {arr} is {sorted(arr, reverse=True)[0]}\")\n",
        "    \n",
        "largestElement()"
      ]
    },
    {
      "cell_type": "markdown",
      "id": "c2705b7d",
      "metadata": {
        "id": "c2705b7d"
      },
      "source": [
        "#### 3. Write a Python Program for array rotation ?"
      ]
    },
    {
      "cell_type": "code",
      "execution_count": 5,
      "id": "08afb7ff",
      "metadata": {
        "colab": {
          "base_uri": "https://localhost:8080/"
        },
        "id": "08afb7ff",
        "outputId": "d1ea497d-71da-4423-9ddd-9c6207afa631"
      },
      "outputs": [
        {
          "output_type": "stream",
          "name": "stdout",
          "text": [
            "Enter the Array: 10,20,30\n",
            "The Reverse of Array (10, 20, 30) is (30, 20, 10)\n"
          ]
        }
      ],
      "source": [
        "def reverse_Array():\n",
        "    arr = eval(input(\"Enter the Array: \"))\n",
        "    print(f\"The Reverse of Array {arr} is {arr[::-1]}\")\n",
        "    \n",
        "reverse_Array()"
      ]
    },
    {
      "cell_type": "markdown",
      "id": "5b6207c1",
      "metadata": {
        "id": "5b6207c1"
      },
      "source": [
        "#### 4. Write a Python Program to Split the array and add the first part to the end ?"
      ]
    },
    {
      "cell_type": "code",
      "execution_count": 6,
      "id": "d6e5de3d",
      "metadata": {
        "colab": {
          "base_uri": "https://localhost:8080/"
        },
        "id": "d6e5de3d",
        "outputId": "3246aa52-5686-45a1-dac5-ea572af2b344"
      },
      "outputs": [
        {
          "output_type": "stream",
          "name": "stdout",
          "text": [
            "[3, 4, 5, 1, 2]\n"
          ]
        }
      ],
      "source": [
        "def split_and_add(arr, n):\n",
        "   \n",
        "    part1 = arr[:n]\n",
        "    part2 = arr[n:]\n",
        "\n",
        "    \n",
        "    return part2 + part1\n",
        "\n",
        "arr = [1, 2, 3, 4, 5]\n",
        "n = 2\n",
        "result = split_and_add(arr, n)\n",
        "print(result)\n"
      ]
    },
    {
      "cell_type": "markdown",
      "id": "eb0e084d",
      "metadata": {
        "id": "eb0e084d"
      },
      "source": [
        "#### 5. Write a Python Program to check if given array is Monotonic ?"
      ]
    },
    {
      "cell_type": "code",
      "execution_count": null,
      "id": "08c0196d",
      "metadata": {
        "id": "08c0196d",
        "outputId": "86ad241a-fa42-46c9-a83d-33a137a932dd"
      },
      "outputs": [
        {
          "name": "stdout",
          "output_type": "stream",
          "text": [
            "Enter the Array: [1,2,3,4,5]\n",
            "Array [1, 2, 3, 4, 5] is Monotonic\n",
            "Enter the Array: 4,2,4,5,6,1\n",
            "Array (4, 2, 4, 5, 6, 1) is Not Monotonic\n"
          ]
        }
      ],
      "source": [
        "def checkMonotonic():\n",
        "    in_arr = eval(input(\"Enter the Array: \"))\n",
        "    if(all(in_arr[i]<=in_arr[i+1] for i in range(len(in_arr)-1)) or all(in_arr[i]>=in_arr[i+1] for i in range(len(in_arr)-1))):\n",
        "        print(f'Array {in_arr} is Monotonic')\n",
        "    else:\n",
        "        print(f'Array {in_arr} is Not Monotonic')\n",
        "\n",
        "checkMonotonic()\n",
        "checkMonotonic()"
      ]
    }
  ],
  "metadata": {
    "kernelspec": {
      "display_name": "Python 3 (ipykernel)",
      "language": "python",
      "name": "python3"
    },
    "language_info": {
      "codemirror_mode": {
        "name": "ipython",
        "version": 3
      },
      "file_extension": ".py",
      "mimetype": "text/x-python",
      "name": "python",
      "nbconvert_exporter": "python",
      "pygments_lexer": "ipython3",
      "version": "3.8.8"
    },
    "colab": {
      "provenance": []
    }
  },
  "nbformat": 4,
  "nbformat_minor": 5
}