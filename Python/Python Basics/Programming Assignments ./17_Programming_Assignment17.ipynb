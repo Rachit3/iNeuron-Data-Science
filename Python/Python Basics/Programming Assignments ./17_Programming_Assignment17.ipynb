{
  "cells": [
    {
      "cell_type": "markdown",
      "id": "86c4e861",
      "metadata": {
        "id": "86c4e861"
      },
      "source": [
        "#### 1.Create a function that takes three arguments a, b, c and returns the sum of the numbers that are evenly divided by c from the range a, b inclusive ?\n",
        "**Examples:**  \n",
        "`evenly_divisible(1, 10, 20) ➞ 0\n",
        "    # No number between 1 and 10 can be evenly divided by 20.\n",
        "evenly_divisible(1, 10, 2) ➞ 30\n",
        "    # 2 + 4 + 6 + 8 + 10 = 30\n",
        "evenly_divisible(1, 10, 3) ➞ 18\n",
        "    # 3 + 6 + 9 = 18`"
      ]
    },
    {
      "cell_type": "code",
      "execution_count": 1,
      "id": "b9f60e1c",
      "metadata": {
        "colab": {
          "base_uri": "https://localhost:8080/"
        },
        "id": "b9f60e1c",
        "outputId": "66613ff5-0b49-4cd7-974e-3ef8ba50ba59"
      },
      "outputs": [
        {
          "output_type": "execute_result",
          "data": {
            "text/plain": [
              "18"
            ]
          },
          "metadata": {},
          "execution_count": 1
        }
      ],
      "source": [
        "def evenly_divisible(a, b, c):\n",
        "    total = 0\n",
        "    for num in range(a, b+1):\n",
        "        if num % c == 0:\n",
        "            total += num\n",
        "    return total\n",
        "    \n",
        "\n",
        "evenly_divisible(1,10,20)\n",
        "evenly_divisible(1,10,2)\n",
        "evenly_divisible(1,10,3)"
      ]
    },
    {
      "cell_type": "markdown",
      "id": "8589ab33",
      "metadata": {
        "id": "8589ab33"
      },
      "source": [
        "#### 2.Create a function that returns True if a given inequality expression is correct and False otherwise ?\n",
        "**Examples:**  \n",
        "`correct_signs(\"3 < 7 < 11\") ➞ True`  \n",
        "`correct_signs(\"13 > 44 > 33 > 1\") ➞ False`  \n",
        "`correct_signs(\"1 < 2 < 6 < 9 > 3\") ➞ True`"
      ]
    },
    {
      "cell_type": "code",
      "execution_count": null,
      "id": "0021eeb2",
      "metadata": {
        "id": "0021eeb2",
        "outputId": "5dfb2d5f-9f56-473c-8df5-21e18ca6cfd4"
      },
      "outputs": [
        {
          "name": "stdout",
          "output_type": "stream",
          "text": [
            "Enter the inequality: 3 < 7 < 11\n",
            "3 < 7 < 11 ➞ True\n",
            "Enter the inequality: 13 > 44 > 33 > 1\n",
            "13 > 44 > 33 > 1 ➞ False\n",
            "Enter the inequality: 1 < 2 < 6 < 9 > 3\n",
            "1 < 2 < 6 < 9 > 3 ➞ True\n"
          ]
        }
      ],
      "source": [
        "def checkEquality():\n",
        "    in_string = input('Enter the inequality: ')\n",
        "    out_bool = eval(in_string)\n",
        "    print(f'{in_string} ➞ {out_bool}')\n",
        "\n",
        "for x in range(3):\n",
        "    checkEquality()"
      ]
    },
    {
      "cell_type": "markdown",
      "id": "d7200223",
      "metadata": {
        "id": "d7200223"
      },
      "source": [
        "#### 3.Create a function that replaces all the vowels in a string with a specified character ?\n",
        "**Examples:**  \n",
        "`replace_vowels(\"the aardvark\", \"#\") ➞ \"th# ##rdv#rk\"`  \n",
        "`replace_vowels(\"minnie mouse\", \"?\") ➞ \"m?nn?? m??s?\"`  \n",
        "`replace_vowels(\"shakespeare\", \"*\") ➞ \"shksp**r\"`"
      ]
    },
    {
      "cell_type": "code",
      "execution_count": null,
      "id": "e83aad2e",
      "metadata": {
        "id": "e83aad2e",
        "outputId": "e9e835e0-1771-44d6-94a5-eac41ed6817b"
      },
      "outputs": [
        {
          "name": "stdout",
          "output_type": "stream",
          "text": [
            "String: the aardvark\n",
            "Replacement character: #\n",
            "the aardvark # ➞ th# ##rdv#rk\n",
            "String: minnie mouse\n",
            "Replacement character: ?\n",
            "minnie mouse ? ➞ m?nn?? m??s?\n",
            "String: shakespeare\n",
            "Replacement character: *\n",
            "shakespeare * ➞ sh*k*sp**r*\n"
          ]
        }
      ],
      "source": [
        "def replaceVowels():\n",
        "    vowels = ['a','e','i','o','u','A','E','I','O','U']\n",
        "    in_string = input(\"String: \")\n",
        "    in_string_copy = in_string\n",
        "    in_char = input('Replacement character: ')\n",
        "    for ele in in_string:\n",
        "        if ele in vowels:\n",
        "            in_string = in_string.replace(ele,in_char)\n",
        "    print(f'{in_string_copy} {in_char} ➞ {in_string}')\n",
        "            \n",
        "for x in range(3):\n",
        "    replaceVowels()"
      ]
    },
    {
      "cell_type": "markdown",
      "id": "4c343c6e",
      "metadata": {
        "id": "4c343c6e"
      },
      "source": [
        "#### 4.Write a function that calculates the factorial of a number recursively ?\n",
        "**Examples:**  \n",
        "`factorial(5) ➞ 120`  \n",
        "`factorial(3) ➞ 6`  \n",
        "`factorial(1) ➞ 1`  \n",
        "`factorial(0) ➞ 1`  "
      ]
    },
    {
      "cell_type": "code",
      "execution_count": null,
      "id": "4d026831",
      "metadata": {
        "id": "4d026831",
        "outputId": "875be354-745e-44eb-9d3a-83e1748a4461"
      },
      "outputs": [
        {
          "name": "stdout",
          "output_type": "stream",
          "text": [
            "factorial(5) ➞ 120\n",
            "factorial(3) ➞ 6\n",
            "factorial(1) ➞ 1\n",
            "factorial(0) ➞ 1\n"
          ]
        }
      ],
      "source": [
        "def factorial(n):\n",
        "    if n==0:\n",
        "        return 1\n",
        "    return n * factorial(n-1)\n",
        "\n",
        "print(f'factorial(5) ➞ {factorial(5)}')\n",
        "print(f'factorial(3) ➞ {factorial(3)}')\n",
        "print(f'factorial(1) ➞ {factorial(1)}')\n",
        "print(f'factorial(0) ➞ {factorial(0)}')"
      ]
    },
    {
      "cell_type": "markdown",
      "id": "a0d0b57f",
      "metadata": {
        "id": "a0d0b57f"
      },
      "source": [
        "#### 5.Hamming distance is the number of characters that differ between two strings ?\n",
        "To illustrate:  \n",
        "    `String1: \"abcbba\"`  \n",
        "    `String2: \"abcbda\"`  \n",
        "Hamming Distance: 1 - \"b\" vs. \"d\" is the only difference.  \n",
        "Create a function that computes the hamming distance between two strings.  \n",
        "**Examples:**  \n",
        "`hamming_distance(\"abcde\", \"bcdef\") ➞ 5`  \n",
        "`hamming_distance(\"abcde\", \"abcde\") ➞ 0`  \n",
        "`hamming_distance(\"strong\", \"strung\") ➞ 1`  "
      ]
    },
    {
      "cell_type": "code",
      "execution_count": 4,
      "id": "d72b29ae",
      "metadata": {
        "colab": {
          "base_uri": "https://localhost:8080/"
        },
        "id": "d72b29ae",
        "outputId": "63fd158a-d30e-4572-8659-29d55b454558"
      },
      "outputs": [
        {
          "output_type": "execute_result",
          "data": {
            "text/plain": [
              "5"
            ]
          },
          "metadata": {},
          "execution_count": 4
        }
      ],
      "source": [
        "def hamming_distance(str1, str2):\n",
        "    if len(str1) != len(str2):\n",
        "        raise ValueError(\"Strings must be of equal length\")\n",
        "    count = 0\n",
        "    for i in range(len(str1)):\n",
        "        if str1[i] != str2[i]:\n",
        "            count += 1\n",
        "    return count\n",
        "\n",
        "hamming_distance(\"abcde\", \"bcdef\")\n",
        "\n"
      ]
    },
    {
      "cell_type": "code",
      "source": [],
      "metadata": {
        "id": "xzLCRoHxGQT1"
      },
      "id": "xzLCRoHxGQT1",
      "execution_count": null,
      "outputs": []
    }
  ],
  "metadata": {
    "kernelspec": {
      "display_name": "Python 3",
      "language": "python",
      "name": "python3"
    },
    "language_info": {
      "codemirror_mode": {
        "name": "ipython",
        "version": 3
      },
      "file_extension": ".py",
      "mimetype": "text/x-python",
      "name": "python",
      "nbconvert_exporter": "python",
      "pygments_lexer": "ipython3",
      "version": "3.8.8"
    },
    "colab": {
      "provenance": []
    }
  },
  "nbformat": 4,
  "nbformat_minor": 5
}