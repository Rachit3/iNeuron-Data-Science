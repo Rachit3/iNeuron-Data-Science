{
  "cells": [
    {
      "cell_type": "markdown",
      "id": "901748b2",
      "metadata": {
        "id": "901748b2"
      },
      "source": [
        "#### 1. Write a Python Program to find LCM ?"
      ]
    },
    {
      "cell_type": "code",
      "execution_count": 1,
      "id": "91140999",
      "metadata": {
        "colab": {
          "base_uri": "https://localhost:8080/"
        },
        "id": "91140999",
        "outputId": "fd650594-4017-48fd-b065-d46b82248957"
      },
      "outputs": [
        {
          "output_type": "stream",
          "name": "stdout",
          "text": [
            "The LCM of 3,9 is 9\n"
          ]
        }
      ],
      "source": [
        "def Lcm(x_term,y_term):\n",
        "    if x_term > y_term:\n",
        "        greater = x_term\n",
        "    else:\n",
        "        greater = x_term\n",
        "    while True:\n",
        "        if((greater%x_term == 0) and (greater%y_term == 0)):\n",
        "            lcm = greater\n",
        "            break\n",
        "        else:\n",
        "            greater +=1\n",
        "    print(f'The LCM of {x_term},{y_term} is {lcm}')\n",
        "\n",
        "Lcm(3,9)\n"
      ]
    },
    {
      "cell_type": "markdown",
      "id": "5998fa74",
      "metadata": {
        "id": "5998fa74"
      },
      "source": [
        "#### 2. Write a Python Program to find HCF ?"
      ]
    },
    {
      "cell_type": "code",
      "execution_count": 7,
      "id": "352d08d9",
      "metadata": {
        "colab": {
          "base_uri": "https://localhost:8080/"
        },
        "id": "352d08d9",
        "outputId": "7b3d25b8-22b1-43da-e7fc-f96eeac33d10"
      },
      "outputs": [
        {
          "output_type": "stream",
          "name": "stdout",
          "text": [
            "The HCF of 3,9 is 3\n"
          ]
        }
      ],
      "source": [
        "def Hcf(x_term,y_term):\n",
        "    if x_term>y_term:\n",
        "        smaller = y_term\n",
        "    else:\n",
        "        smaller = x_term\n",
        "    for ele in range(1,smaller+1):\n",
        "        if((x_term%ele == 0) and (y_term%ele == 0)):\n",
        "            hcf = ele\n",
        "    print(f'The HCF of {x_term},{y_term} is {hcf}')\n",
        "\n",
        "Hcf(3,9)\n"
      ]
    },
    {
      "cell_type": "markdown",
      "id": "f29f8214",
      "metadata": {
        "id": "f29f8214"
      },
      "source": [
        "#### 3. Write a Python Program to Convert Decimal to Binary, Octal and Hexadecimal ?"
      ]
    },
    {
      "cell_type": "code",
      "execution_count": null,
      "id": "53212645",
      "metadata": {
        "id": "53212645",
        "outputId": "89165c65-6377-4328-8e7a-6394a00a1984"
      },
      "outputs": [
        {
          "name": "stdout",
          "output_type": "stream",
          "text": [
            "Enter a Number: 55252555\n",
            "Binary Number -> 0b11010010110001011001001011\n",
            "Octal Number -> 0o322613113\n",
            "Hexadecimal Number -> 0x34b164b\n"
          ]
        }
      ],
      "source": [
        "def DecimalToOther():\n",
        "    num = int(input('Enter a Number: '))\n",
        "    print(f'Binary Number -> {bin(num)}')\n",
        "    print(f'Octal Number -> {oct(num)}')    \n",
        "    print(f'Hexadecimal Number -> {hex(num)}')    \n",
        "\n",
        "DecimalToOther()"
      ]
    },
    {
      "cell_type": "markdown",
      "id": "1a4ed424",
      "metadata": {
        "id": "1a4ed424"
      },
      "source": [
        "#### 4. Write a Python Program to Find the ASCII value of  a Character ?"
      ]
    },
    {
      "cell_type": "code",
      "execution_count": 3,
      "id": "8173265f",
      "metadata": {
        "colab": {
          "base_uri": "https://localhost:8080/"
        },
        "id": "8173265f",
        "outputId": "f19ad88c-df3e-4d5e-8f21-4cf026377913"
      },
      "outputs": [
        {
          "output_type": "stream",
          "name": "stdout",
          "text": [
            "Enter a Character: &\n",
            "Ascii Character of & is 38\n"
          ]
        }
      ],
      "source": [
        "def charToAscii():\n",
        "    char = input('Enter a Character: ')\n",
        "    if len(char) > 1:\n",
        "        print('Please Enter a Single Character')\n",
        "    else:\n",
        "        print(f'Ascii Character of {char} is {ord(char)}')\n",
        "\n",
        "charToAscii()"
      ]
    },
    {
      "cell_type": "markdown",
      "id": "e9f467f1",
      "metadata": {
        "id": "e9f467f1"
      },
      "source": [
        "#### 5. Write a Python Program to Make a Simple Calculator with 4 Basic Mathematical operations ?"
      ]
    },
    {
      "cell_type": "code",
      "execution_count": 6,
      "id": "846d7a21",
      "metadata": {
        "colab": {
          "base_uri": "https://localhost:8080/"
        },
        "id": "846d7a21",
        "outputId": "37446c11-5d55-4a02-8a89-0268c9e46aea"
      },
      "outputs": [
        {
          "output_type": "stream",
          "name": "stdout",
          "text": [
            "Select a Arithmetic Operation:         \n",
            "1.Addition(+)        \n",
            "2.Division(-)        \n",
            "2.Multiplication(*)        \n",
            "4.Division(/)        \n",
            "3.Stop(0)\n",
            "\n",
            "Enter a arithmetic operation  *\n",
            "\n",
            "Enter 1st Number: 50\n",
            "Enter 2nd Number: 2\n",
            "50*2=100\n",
            "\n",
            "Enter a arithmetic operation  0\n",
            "thanks for using this calc\n"
          ]
        }
      ],
      "source": [
        "import operator\n",
        "\n",
        "o = { \"+\": operator.add, \"-\": operator.sub, \"*\":operator.mul, \"/\":operator.truediv } \n",
        "\n",
        "print('Select a Arithmetic Operation: \\\n",
        "        \\n1.Addition(+)\\\n",
        "        \\n2.Division(-)\\\n",
        "        \\n2.Multiplication(*)\\\n",
        "        \\n4.Division(/)\\\n",
        "        \\n3.Stop(0)\\n')\n",
        "   \n",
        "\n",
        "while True:\n",
        "    operator = input('Enter a arithmetic operation  ')\n",
        "    if operator == '0':\n",
        "        print(\"thanks for using this calc4\")\n",
        "        break\n",
        "    elif operator not in ['+','-','*','/']:\n",
        "        print(\"Please enter a valid operator\")\n",
        "    else:\n",
        "        num_1 = int(input('\\nEnter 1st Number: '))\n",
        "        num_2 = int(input('Enter 2nd Number: '))\n",
        "        print(f'{num_1}{operator}{num_2}={o[operator](num_1,num_2)}\\n')"
      ]
    }
  ],
  "metadata": {
    "kernelspec": {
      "display_name": "Python 3",
      "language": "python",
      "name": "python3"
    },
    "language_info": {
      "codemirror_mode": {
        "name": "ipython",
        "version": 3
      },
      "file_extension": ".py",
      "mimetype": "text/x-python",
      "name": "python",
      "nbconvert_exporter": "python",
      "pygments_lexer": "ipython3",
      "version": "3.8.8"
    },
    "colab": {
      "provenance": []
    }
  },
  "nbformat": 4,
  "nbformat_minor": 5
}