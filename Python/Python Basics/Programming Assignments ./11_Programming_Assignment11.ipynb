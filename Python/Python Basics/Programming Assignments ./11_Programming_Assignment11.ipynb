{
  "cells": [
    {
      "cell_type": "markdown",
      "id": "267b6b8f",
      "metadata": {
        "id": "267b6b8f"
      },
      "source": [
        "#### 1. Write a Python program to find words which are greater than given length k ?"
      ]
    },
    {
      "cell_type": "code",
      "execution_count": 1,
      "id": "d3ec10f6",
      "metadata": {
        "colab": {
          "base_uri": "https://localhost:8080/"
        },
        "id": "d3ec10f6",
        "outputId": "5ee6921e-90c9-4c90-cb46-a7d7fba83943"
      },
      "outputs": [
        {
          "output_type": "stream",
          "name": "stdout",
          "text": [
            "Enter a string: This is to test tif the code is working fine\n",
            "Enter a value for k: 4\n",
            "Words longer than 4: ['working']\n"
          ]
        }
      ],
      "source": [
        "def find_long_words(text, k):\n",
        "    words = text.split()\n",
        "    long_words = []\n",
        "    for word in words:\n",
        "        if len(word) > k:\n",
        "            long_words.append(word)\n",
        "    return long_words\n",
        "\n",
        "text = input(\"Enter a string: \")\n",
        "k = int(input(\"Enter a value for k: \"))\n",
        "long_words = find_long_words(text, k)\n",
        "print(\"Words longer than {}: {}\".format(k, long_words))\n"
      ]
    },
    {
      "cell_type": "markdown",
      "id": "3711485d",
      "metadata": {
        "id": "3711485d"
      },
      "source": [
        "#### 2. Write a Python program for removing i-th character from a string ?"
      ]
    },
    {
      "cell_type": "code",
      "execution_count": 2,
      "id": "f7fccd01",
      "metadata": {
        "colab": {
          "base_uri": "https://localhost:8080/"
        },
        "id": "f7fccd01",
        "outputId": "94521db9-faf1-43a1-f8c4-55e34bf17fe7"
      },
      "outputs": [
        {
          "output_type": "stream",
          "name": "stdout",
          "text": [
            "Enter a string: Hello World\n",
            "Enter the index of the character to remove: 3\n",
            "New string:  Helo World\n"
          ]
        }
      ],
      "source": [
        "def remove_char(string, i):\n",
        "    if i < 0 or i >= len(string):\n",
        "        return \"Index out of range\"\n",
        "    else:\n",
        "        return string[:i] + string[i+1:]\n",
        "\n",
        "string = input(\"Enter a string: \")\n",
        "i = int(input(\"Enter the index of the character to remove: \"))\n",
        "new_string = remove_char(string, i)\n",
        "print(\"New string: \", new_string)\n"
      ]
    },
    {
      "cell_type": "markdown",
      "id": "845ba790",
      "metadata": {
        "id": "845ba790"
      },
      "source": [
        "#### 3. Write a Python program to split and join a string ?"
      ]
    },
    {
      "cell_type": "code",
      "execution_count": null,
      "id": "fd82df54",
      "metadata": {
        "id": "fd82df54",
        "outputId": "0710ec6f-f5e9-4f4c-ffab-5495f0f00a47"
      },
      "outputs": [
        {
          "name": "stdout",
          "output_type": "stream",
          "text": [
            "Enter the string: Ineuron Full Stack Data Science Course\n",
            "Split String: ['Ineuron', 'Full', 'Stack', 'Data', 'Science', 'Course']\n",
            "Join String: Ineuron Full Stack Data Science Course\n"
          ]
        }
      ],
      "source": [
        "def splitJoinString():\n",
        "    in_string = input('Enter the string: ')\n",
        "    print(f\"Split String: {in_string.split(' ')}\")\n",
        "    print(f\"Join String: {' '.join(in_string.split(' '))}\")\n",
        "\n",
        "splitJoinString()"
      ]
    },
    {
      "cell_type": "markdown",
      "id": "ee642cdf",
      "metadata": {
        "id": "ee642cdf"
      },
      "source": [
        "#### 4. Write a Python to check if a given string is binary string or not ?"
      ]
    },
    {
      "cell_type": "code",
      "execution_count": null,
      "id": "6d04b29e",
      "metadata": {
        "id": "6d04b29e",
        "outputId": "e846e5a0-803b-4803-d235-f69836b8aa98"
      },
      "outputs": [
        {
          "name": "stdout",
          "output_type": "stream",
          "text": [
            "Enter the string: 1234\n",
            "1234 is not a binart string\n",
            "Enter the string: 1010101\n",
            "1010101 is a binary string\n"
          ]
        }
      ],
      "source": [
        "def checkBinary():\n",
        "    in_string = input('Enter the string: ')\n",
        "    stun = 0\n",
        "    for ele in in_string:\n",
        "        if ele in ['0','1']:\n",
        "            stun = 1\n",
        "            continue\n",
        "        else:\n",
        "            stun = 0\n",
        "            break\n",
        "    statement = 'is a binary string' if stun == 1 else 'is not a binart string' \n",
        "    print(f'{in_string} {statement}')\n",
        "\n",
        "checkBinary()\n",
        "checkBinary()"
      ]
    },
    {
      "cell_type": "markdown",
      "id": "d22e2622",
      "metadata": {
        "id": "d22e2622"
      },
      "source": [
        "#### 5. Write a Python program to find uncommon words from two Strings ?"
      ]
    },
    {
      "cell_type": "code",
      "execution_count": null,
      "id": "be223e06",
      "metadata": {
        "id": "be223e06",
        "outputId": "a11038b5-24dd-46aa-abb1-fbb75dc82d86"
      },
      "outputs": [
        {
          "name": "stdout",
          "output_type": "stream",
          "text": [
            "Enter the String 1: Supervised Learning\n",
            "Enter the String 2: Unsupervised Learning\n",
            "{'Unsupervised', 'Supervised'}\n"
          ]
        }
      ],
      "source": [
        "def unCommonWords():\n",
        "    in_string_1 = set(input(\"Enter the String 1: \").split(' '))\n",
        "    in_string_2 = set(input(\"Enter the String 2: \").split(' '))\n",
        "    out_string = (in_string_1.union(in_string_2)).difference(in_string_1.intersection(in_string_2))\n",
        "    print(out_string)\n",
        "\n",
        "unCommonWords()"
      ]
    },
    {
      "cell_type": "markdown",
      "id": "a077bda5",
      "metadata": {
        "id": "a077bda5"
      },
      "source": [
        "#### 6. Write a Python to find all duplicate characters in string ?"
      ]
    },
    {
      "cell_type": "code",
      "execution_count": null,
      "id": "6116a494",
      "metadata": {
        "id": "6116a494",
        "outputId": "2be13e0b-2ff2-4688-d81d-b2206ff699f7"
      },
      "outputs": [
        {
          "name": "stdout",
          "output_type": "stream",
          "text": [
            "Enter the string: full stack data science course\n",
            "Duplicate characters are: ['s', 't', 'c', 'l', 'a', 'e', ' ', 'u']\n"
          ]
        }
      ],
      "source": [
        "def duplicateChars():\n",
        "    in_string = input('Enter the string: ')\n",
        "    non_duplicate_list = []\n",
        "    duplicate_list = []\n",
        "    for ele in in_string:\n",
        "        if ele not in non_duplicate_list:\n",
        "            non_duplicate_list.append(ele)\n",
        "        else:\n",
        "            duplicate_list.append(ele)\n",
        "    print(f'Duplicate characters are: {list(set(duplicate_list))}')\n",
        "        \n",
        "duplicateChars()"
      ]
    },
    {
      "cell_type": "markdown",
      "id": "e14912b1",
      "metadata": {
        "id": "e14912b1"
      },
      "source": [
        "#### 7. Write a Python Program to check if a string contains any special character?"
      ]
    },
    {
      "cell_type": "code",
      "execution_count": 3,
      "id": "b51b221d",
      "metadata": {
        "colab": {
          "base_uri": "https://localhost:8080/"
        },
        "id": "b51b221d",
        "outputId": "9999c133-10c5-4e45-be69-ae98406b027b"
      },
      "outputs": [
        {
          "output_type": "stream",
          "name": "stdout",
          "text": [
            "Enter a string: Hello World!\n",
            "String contains special character\n"
          ]
        }
      ],
      "source": [
        "import re\n",
        "\n",
        "def has_special_char(string):\n",
        "    pattern = re.compile(\"[@_!#$%^&*()<>?/\\|}{~:]\")\n",
        "    return pattern.search(string) is not None\n",
        "\n",
        "string = input(\"Enter a string: \")\n",
        "if has_special_char(string):\n",
        "    print(\"String contains special character\")\n",
        "else:\n",
        "    print(\"String does not contain special character\")\n"
      ]
    }
  ],
  "metadata": {
    "kernelspec": {
      "display_name": "Python 3",
      "language": "python",
      "name": "python3"
    },
    "language_info": {
      "codemirror_mode": {
        "name": "ipython",
        "version": 3
      },
      "file_extension": ".py",
      "mimetype": "text/x-python",
      "name": "python",
      "nbconvert_exporter": "python",
      "pygments_lexer": "ipython3",
      "version": "3.8.8"
    },
    "colab": {
      "provenance": []
    }
  },
  "nbformat": 4,
  "nbformat_minor": 5
}