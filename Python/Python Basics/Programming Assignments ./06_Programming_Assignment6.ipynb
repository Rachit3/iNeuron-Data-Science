{
  "cells": [
    {
      "cell_type": "markdown",
      "id": "cd035ec4",
      "metadata": {
        "id": "cd035ec4"
      },
      "source": [
        "#### 1. Write a Python Program to Display Fibonacci Sequence using Recursion ?"
      ]
    },
    {
      "cell_type": "code",
      "execution_count": 1,
      "id": "c6a0db1b",
      "metadata": {
        "colab": {
          "base_uri": "https://localhost:8080/"
        },
        "id": "c6a0db1b",
        "outputId": "bd53dfa8-60fc-469c-afc8-4950c777dbb5"
      },
      "outputs": [
        {
          "output_type": "stream",
          "name": "stdout",
          "text": [
            "Enter the length of Series: 10\n",
            "0, 1, 3, 5, 8, 13, 21, 34, 55, 89, 144, 233, "
          ]
        }
      ],
      "source": [
        "def Fibonacci(n,a,b):\n",
        "    if n == 0:\n",
        "        return 1\n",
        "    else:\n",
        "        result = a+b\n",
        "        print(result, end=', ')\n",
        "        Fibonacci(n-1,b,result)\n",
        "num = int(input('Enter the length of Series: '))\n",
        "print('0, 1',end=', ')\n",
        "Fibonacci(num,1,2)"
      ]
    },
    {
      "cell_type": "markdown",
      "id": "15b838c7",
      "metadata": {
        "id": "15b838c7"
      },
      "source": [
        "#### 2. Write a Python Program to Find Factorial of a Number using Recursion ?"
      ]
    },
    {
      "cell_type": "code",
      "execution_count": null,
      "id": "56e04b25",
      "metadata": {
        "id": "56e04b25",
        "outputId": "c8ed0a1a-0f79-4b99-dcf5-fd6a362a991a"
      },
      "outputs": [
        {
          "name": "stdout",
          "output_type": "stream",
          "text": [
            "Enter a number: 5\n",
            "The Factorial of 5 is 120\n"
          ]
        }
      ],
      "source": [
        "def factorial(num):\n",
        "    if (num < 1):\n",
        "        return 1\n",
        "    else:\n",
        "        return num*factorial(num-1)\n",
        "num = int(input('Enter a number: '))\n",
        "value = factorial(num)\n",
        "print(f'The Factorial of {num} is {value}')"
      ]
    },
    {
      "cell_type": "markdown",
      "id": "95f7ab1e",
      "metadata": {
        "id": "95f7ab1e"
      },
      "source": [
        "#### 3. Write a Python Program to Calculate your Body Mass Index ?"
      ]
    },
    {
      "cell_type": "code",
      "execution_count": 2,
      "id": "8e0c3d17",
      "metadata": {
        "colab": {
          "base_uri": "https://localhost:8080/"
        },
        "id": "8e0c3d17",
        "outputId": "e0f757e0-954a-4bfe-dc47-c2a0d8c10359"
      },
      "outputs": [
        {
          "output_type": "stream",
          "name": "stdout",
          "text": [
            "Enter your Weight(kgs): 60\n",
            "Enter your Height(mts): 170\n",
            "Your BMI is 0.0020761245674740486 which means you are Underweight \n"
          ]
        }
      ],
      "source": [
        "def BMI():\n",
        "    weight = eval(input('Enter your Weight(kgs): '))\n",
        "    height = eval(input('Enter your Height(mts): '))\n",
        "    bmi = weight/pow(height,2)\n",
        "    if (bmi < 18.5):\n",
        "        status = 'Underweight'\n",
        "    elif (bmi >= 18.5 and calc_bmi < 24.9):\n",
        "        status = 'Healthy'\n",
        "    elif (bmi >= 24.9 and calc_bmi < 30):\n",
        "        status = 'Overweight'\n",
        "    elif (bmi >=30):\n",
        "        status = 'Obese'\n",
        "    print(f'Your BMI is {bmi} which means you are {status} ')\n",
        "BMI()"
      ]
    },
    {
      "cell_type": "markdown",
      "id": "8be593fe",
      "metadata": {
        "id": "8be593fe"
      },
      "source": [
        "#### 4. Write a Python Program to Calculate the Natural Logarithm of any Number ?"
      ]
    },
    {
      "cell_type": "code",
      "execution_count": null,
      "id": "e1db8d0f",
      "metadata": {
        "id": "e1db8d0f",
        "outputId": "3fedc8be-c11d-47fe-bb74-10312297032d"
      },
      "outputs": [
        {
          "name": "stdout",
          "output_type": "stream",
          "text": [
            "Enter a Number:32\n",
            "3.4657359027997265\n"
          ]
        }
      ],
      "source": [
        "import math\n",
        "def genNatLog():\n",
        "    in_num = eval(input(\"Enter a Number:\"))\n",
        "    print(math.log(in_num))\n",
        "\n",
        "genNatLog()"
      ]
    },
    {
      "cell_type": "markdown",
      "id": "5dc827ea",
      "metadata": {
        "id": "5dc827ea"
      },
      "source": [
        "#### 5. Write a Python Program for Cube sum of first n Natural Numbers ?"
      ]
    },
    {
      "cell_type": "code",
      "execution_count": null,
      "id": "70a3a203",
      "metadata": {
        "id": "70a3a203",
        "outputId": "065abf24-36cd-45d8-b045-e27839097203"
      },
      "outputs": [
        {
          "name": "stdout",
          "output_type": "stream",
          "text": [
            "Enter the no of Natural Numbers: 3\n",
            "The Cube Sum of First 3 Natural Numbers is 36.0\n"
          ]
        }
      ],
      "source": [
        "def cubeOfNaturalNumbers():\n",
        "    in_num = int(input(\"Enter the no of Natural Numbers: \"))\n",
        "    result = pow(((in_num * (in_num +1))/2),2)\n",
        "    print(f'The Cube Sum of First {in_num} Natural Numbers is {result}')\n",
        "\n",
        "cubeOfNaturalNumbers()"
      ]
    }
  ],
  "metadata": {
    "kernelspec": {
      "display_name": "Python 3",
      "language": "python",
      "name": "python3"
    },
    "language_info": {
      "codemirror_mode": {
        "name": "ipython",
        "version": 3
      },
      "file_extension": ".py",
      "mimetype": "text/x-python",
      "name": "python",
      "nbconvert_exporter": "python",
      "pygments_lexer": "ipython3",
      "version": "3.8.8"
    },
    "colab": {
      "provenance": []
    }
  },
  "nbformat": 4,
  "nbformat_minor": 5
}