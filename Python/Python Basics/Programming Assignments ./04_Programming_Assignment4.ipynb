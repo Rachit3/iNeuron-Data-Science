{
  "cells": [
    {
      "cell_type": "markdown",
      "metadata": {
        "id": "PGxCzAyaG39I"
      },
      "source": [
        "#### 1.Write a Python Program to find the factorial of a number ?"
      ]
    },
    {
      "cell_type": "code",
      "execution_count": 1,
      "metadata": {
        "colab": {
          "base_uri": "https://localhost:8080/"
        },
        "id": "ruOCFPBEG39J",
        "outputId": "f8d21ef3-4c95-4c4a-aa69-79b27b638880"
      },
      "outputs": [
        {
          "output_type": "stream",
          "name": "stdout",
          "text": [
            "Enter a number: 3\n",
            "The Factorial of 3 is 6\n"
          ]
        }
      ],
      "source": [
        "def factorial(num):\n",
        "    if (num < 1):\n",
        "        return 1\n",
        "    else:\n",
        "        return num*factorial(num-1)\n",
        "num = int(input('Enter a number: '))\n",
        "value = factorial(num)\n",
        "print(f'The Factorial of {num} is {value}')"
      ]
    },
    {
      "cell_type": "markdown",
      "metadata": {
        "id": "wq8wyMG2G39L"
      },
      "source": [
        "#### 2.Write a Python Program to display the multiplication table ?"
      ]
    },
    {
      "cell_type": "code",
      "execution_count": 2,
      "metadata": {
        "colab": {
          "base_uri": "https://localhost:8080/"
        },
        "id": "Zh5C24pAG39L",
        "outputId": "c858dc8f-ee40-4a2a-c161-c4afa40c86e5"
      },
      "outputs": [
        {
          "output_type": "stream",
          "name": "stdout",
          "text": [
            "Enter a number: 6\n",
            "Enter no of entries: 10\n",
            "6 X 1 = 6\n",
            "6 X 2 = 12\n",
            "6 X 3 = 18\n",
            "6 X 4 = 24\n",
            "6 X 5 = 30\n",
            "6 X 6 = 36\n",
            "6 X 7 = 42\n",
            "6 X 8 = 48\n",
            "6 X 9 = 54\n",
            "6 X 10 = 60\n"
          ]
        }
      ],
      "source": [
        "def printTable(base,entries):\n",
        "    for x in range(1,entries+1):\n",
        "        print(f'{base} X {x} = {base*x}')\n",
        "\n",
        "num = int(input('Enter a number: '))\n",
        "values = int(input('Enter no of entries: '))\n",
        "printTable(num,values)"
      ]
    },
    {
      "cell_type": "markdown",
      "metadata": {
        "id": "H3ac9fzvG39L"
      },
      "source": [
        "#### 3.Write a Python Program to print the fibonacci sequence ?"
      ]
    },
    {
      "cell_type": "code",
      "execution_count": 3,
      "metadata": {
        "colab": {
          "base_uri": "https://localhost:8080/"
        },
        "id": "mXRyxuuXG39M",
        "outputId": "be737952-5143-4bd1-df9d-af541b0ae835"
      },
      "outputs": [
        {
          "output_type": "stream",
          "name": "stdout",
          "text": [
            "Enter the no of fibonacci sequences you want? 13\n",
            "The First 13 fibonacci series are:  [0, 1, 1, 2, 3, 5, 8, 13, 21, 34, 55, 89, 144]\n"
          ]
        }
      ],
      "source": [
        "s_count = int(input('Enter the no of fibonacci sequences you want? '))\n",
        "initial_list = [0,1]\n",
        "if s_count < 0:\n",
        "    print('Fibonacci Numbers are not available for Negative Numbers')\n",
        "elif s_count <= 2 and s_count >= 0:\n",
        "    print(initial_list)\n",
        "else:\n",
        "    for ins in range(s_count):\n",
        "        if ins >= 2:\n",
        "            initial_list.append(initial_list[ins-1]+initial_list[ins-2])\n",
        "    print(f'The First {s_count} fibonacci series are: ',initial_list)"
      ]
    },
    {
      "cell_type": "markdown",
      "metadata": {
        "id": "MPMRXABIG39M"
      },
      "source": [
        "#### 4.Write a Python Program to check Armstrong number ?"
      ]
    },
    {
      "cell_type": "code",
      "execution_count": 7,
      "metadata": {
        "colab": {
          "base_uri": "https://localhost:8080/"
        },
        "id": "JSFJELU_G39M",
        "outputId": "f56251dc-4d0c-4ee2-8da3-69ebf53eabe1"
      },
      "outputs": [
        {
          "output_type": "stream",
          "name": "stdout",
          "text": [
            "Enter a number: 5646\n",
            "5646 is  Not a Armstrong Number\n"
          ]
        }
      ],
      "source": [
        "def isArmstrongNumber():\n",
        "    in_num = input('Enter a number: ')\n",
        "    sum = 0\n",
        "    for char in range(len(in_num)):\n",
        "        sum = sum + pow(int(in_num[char]),3)\n",
        "    if sum == int(in_num):\n",
        "        print(f'{in_num} is a Armstrong Number')\n",
        "    else:\n",
        "        print(f'{in_num} is  Not a Armstrong Number')\n",
        "\n",
        "\n",
        "isArmstrongNumber()"
      ]
    },
    {
      "cell_type": "markdown",
      "metadata": {
        "id": "ade9LZXGG39M"
      },
      "source": [
        "#### 5.Write a Python Program to Find Armstrong number in an interval ?"
      ]
    },
    {
      "cell_type": "code",
      "execution_count": 10,
      "metadata": {
        "colab": {
          "base_uri": "https://localhost:8080/"
        },
        "id": "7lCUnlBFG39N",
        "outputId": "744c5045-0e48-4a57-ec5c-901311d54149"
      },
      "outputs": [
        {
          "output_type": "stream",
          "name": "stdout",
          "text": [
            "Enter the Start of the Interval: 1\n",
            "Enter the End of the Interval: 10000\n",
            "The Armstrong numbers between 1 and 10000 are [1, 153, 370, 371, 407]\n"
          ]
        }
      ],
      "source": [
        "def isArmstrongNumber(in_num, storage):\n",
        "    sum = 0\n",
        "    for char in range(len(in_num)):\n",
        "        sum = sum + pow(int(in_num[char]),3)\n",
        "    if sum == int(in_num):\n",
        "        storage.append(int(in_num))\n",
        "\n",
        "start = int(input('Enter the Start of the Interval: '))\n",
        "end = int(input('Enter the End of the Interval: '))\n",
        "list_of_armstrong = []\n",
        "\n",
        "if start > end:\n",
        "    print(\"Start Interval Cannot be Greater than End Interval\")\n",
        "else:\n",
        "    for number in range(start,end+1):\n",
        "        isArmstrongNumber(str(number),list_of_armstrong)\n",
        "    print(f'The Armstrong numbers between {start} and {end} are {list_of_armstrong}')\n"
      ]
    },
    {
      "cell_type": "markdown",
      "metadata": {
        "id": "ll1L5ItcG39N"
      },
      "source": [
        "#### 6.Write a Python Program to sum of natural numbers ?"
      ]
    },
    {
      "cell_type": "code",
      "execution_count": 11,
      "metadata": {
        "colab": {
          "base_uri": "https://localhost:8080/"
        },
        "id": "DBf6MrjXG39N",
        "outputId": "c8f126be-f8e0-4b1b-fbd4-42be7838b86a"
      },
      "outputs": [
        {
          "output_type": "stream",
          "name": "stdout",
          "text": [
            "Enter a number: 63\n",
            "Sum of 63 natural numbers is 2016.0\n"
          ]
        }
      ],
      "source": [
        "def sumOfNaturalNumbers(num):\n",
        "    sum = num*((num+1)/2)\n",
        "    print(f'Sum of {num} natural numbers is {sum}')\n",
        "    \n",
        "num = int(input('Enter a number: '))\n",
        "sumOfNaturalNumbers(num)"
      ]
    }
  ],
  "metadata": {
    "kernelspec": {
      "display_name": "Python 3",
      "language": "python",
      "name": "python3"
    },
    "language_info": {
      "codemirror_mode": {
        "name": "ipython",
        "version": 3
      },
      "file_extension": ".py",
      "mimetype": "text/x-python",
      "name": "python",
      "nbconvert_exporter": "python",
      "pygments_lexer": "ipython3",
      "version": "3.8.8"
    },
    "colab": {
      "provenance": []
    }
  },
  "nbformat": 4,
  "nbformat_minor": 0
}