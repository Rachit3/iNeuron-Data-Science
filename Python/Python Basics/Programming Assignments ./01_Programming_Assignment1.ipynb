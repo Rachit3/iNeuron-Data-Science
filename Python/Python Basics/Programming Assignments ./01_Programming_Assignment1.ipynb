{
  "cells": [
    {
      "cell_type": "markdown",
      "metadata": {
        "id": "rpOfVb1uDHkb"
      },
      "source": [
        "#### 1.Write a Python program to print 'Hello Python' ?"
      ]
    },
    {
      "cell_type": "code",
      "execution_count": null,
      "metadata": {
        "id": "EvIfrk7RDHkd",
        "outputId": "a49ae5e9-b3a1-45cc-f5f3-362cd07e4836"
      },
      "outputs": [
        {
          "name": "stdout",
          "output_type": "stream",
          "text": [
            "Hello Python\n"
          ]
        }
      ],
      "source": [
        "print('Hello Python')"
      ]
    },
    {
      "cell_type": "markdown",
      "metadata": {
        "id": "be-RlL-tDHkg"
      },
      "source": [
        "#### 2.Write a Python program to do arithmetic operations addition and division ?"
      ]
    },
    {
      "cell_type": "code",
      "execution_count": 2,
      "metadata": {
        "colab": {
          "base_uri": "https://localhost:8080/"
        },
        "id": "9Fn_2I5rDHkg",
        "outputId": "6cb66a31-9805-4ddc-c290-578e072ab037"
      },
      "outputs": [
        {
          "output_type": "stream",
          "name": "stdout",
          "text": [
            "Select a Arithmetic Operation:         \n",
            "1.Addition(+)        \n",
            "2.Division(-)        \n",
            "2.Multiplication(*)        \n",
            "4.Division(/)        \n",
            "3.Stop(0)\n",
            "\n",
            "Enter a arithmetic operation = +\n",
            "\n",
            "Enter 1st Number: 56\n",
            "Enter 2nd Number: 63\n",
            "56+63=119\n",
            "\n",
            "Enter a arithmetic operation = 0\n",
            "Program Stopped successfully\n"
          ]
        }
      ],
      "source": [
        "import operator\n",
        "\n",
        "o = { \"+\": operator.add, \"-\": operator.sub, \"*\":operator.mul, \"/\":operator.truediv } \n",
        "\n",
        "print('Select a Arithmetic Operation: \\\n",
        "        \\n1.Addition(+)\\\n",
        "        \\n2.Division(-)\\\n",
        "        \\n2.Multiplication(*)\\\n",
        "        \\n4.Division(/)\\\n",
        "        \\n3.Stop(0)\\n')\n",
        "   \n",
        "\n",
        "while True:\n",
        "    operator = input('Enter a arithmetic operation = ')\n",
        "    if operator == '0':\n",
        "        print(\"Program Stopped successfully\")\n",
        "        break\n",
        "    elif operator not in ['+','-','*','/']:\n",
        "        print(\"Please enter a valid operator\")\n",
        "    else:\n",
        "        num_1 = int(input('\\nEnter 1st Number: '))\n",
        "        num_2 = int(input('Enter 2nd Number: '))\n",
        "        print('{}{}{}={}\\n'.format(num_1, operator, num_2, o[operator](num_1,num_2)))\n"
      ]
    },
    {
      "cell_type": "markdown",
      "metadata": {
        "id": "iLzIgrMBDHki"
      },
      "source": [
        "#### 3.Write a Python program to find the area of a triangle ?"
      ]
    },
    {
      "cell_type": "code",
      "execution_count": 1,
      "metadata": {
        "colab": {
          "base_uri": "https://localhost:8080/"
        },
        "id": "XkMNEfrcDHkj",
        "outputId": "0f2588d6-39fd-441d-9202-1ea0f0ca9d47"
      },
      "outputs": [
        {
          "output_type": "stream",
          "name": "stdout",
          "text": [
            "Enter height of triangle: 8\n",
            "Enter base of triangle: 9\n",
            "\n",
            "Area of triangle = 36.0\n"
          ]
        }
      ],
      "source": [
        "height = int(input('Enter height of triangle: '))\n",
        "base = int(input('Enter base of triangle: '))\n",
        "\n",
        "def area_Of_Triangle(height, base):\n",
        "    print('\\nArea of triangle =', 0.5*height*base)\n",
        "\n",
        "area_Of_Triangle(height,base)"
      ]
    },
    {
      "cell_type": "markdown",
      "metadata": {
        "id": "qiAIjZBbDHkk"
      },
      "source": [
        "#### 4.Write a Python program to swap two variables ?"
      ]
    },
    {
      "cell_type": "code",
      "execution_count": 3,
      "metadata": {
        "colab": {
          "base_uri": "https://localhost:8080/"
        },
        "id": "LykBBnB4DHkl",
        "outputId": "6811df5b-ef4c-4d26-b670-89ee96b6ab7f"
      },
      "outputs": [
        {
          "output_type": "stream",
          "name": "stdout",
          "text": [
            "Enter First Number: 56\n",
            "Enter Second Number: 23\n",
            "Before swapping =  56 23\n",
            "After swapping =  23 56\n"
          ]
        }
      ],
      "source": [
        "num_1 = int(input(\"Enter First Number: \"))\n",
        "num_2 = int(input(\"Enter Second Number: \"))\n",
        "\n",
        "def swap_nums(a,b):\n",
        "    temp = a\n",
        "    a = b\n",
        "    b = temp\n",
        "    return a,b\n",
        "\n",
        "print('Before swapping = ',num_1, num_2)\n",
        "num_1, num_2 = swap_nums(num_1, num_2)\n",
        "print('After swapping = ',num_1,num_2)\n",
        "\n",
        "   "
      ]
    },
    {
      "cell_type": "markdown",
      "metadata": {
        "id": "XOr9oRUPDHkm"
      },
      "source": [
        "#### 5.Write a Python program to generate a random number ?"
      ]
    },
    {
      "cell_type": "code",
      "execution_count": 4,
      "metadata": {
        "colab": {
          "base_uri": "https://localhost:8080/"
        },
        "id": "ObeMp5BSDHkn",
        "outputId": "af72e17d-0914-4ca7-8fc1-eef317e73d0f"
      },
      "outputs": [
        {
          "output_type": "stream",
          "name": "stdout",
          "text": [
            "Random number =  61629\n",
            "Random number =  39\n"
          ]
        }
      ],
      "source": [
        "from random import randint\n",
        "\n",
        "def generateRandomNumber(start=0, end=100000):\n",
        "    print('Random number = ',randint(start,end))\n",
        "\n",
        "# Generating random numbers without arguments    \n",
        "generateRandomNumber()\n",
        "\n",
        "# Generating random numbers with arguments    \n",
        "generateRandomNumber(0,100)"
      ]
    }
  ],
  "metadata": {
    "kernelspec": {
      "display_name": "Python 3",
      "language": "python",
      "name": "python3"
    },
    "language_info": {
      "codemirror_mode": {
        "name": "ipython",
        "version": 3
      },
      "file_extension": ".py",
      "mimetype": "text/x-python",
      "name": "python",
      "nbconvert_exporter": "python",
      "pygments_lexer": "ipython3",
      "version": "3.8.8"
    },
    "colab": {
      "provenance": []
    }
  },
  "nbformat": 4,
  "nbformat_minor": 0
}