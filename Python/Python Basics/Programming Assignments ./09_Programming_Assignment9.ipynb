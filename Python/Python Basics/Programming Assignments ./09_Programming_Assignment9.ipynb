{
  "cells": [
    {
      "cell_type": "markdown",
      "id": "d0105bec",
      "metadata": {
        "id": "d0105bec"
      },
      "source": [
        "# Assignment 9 Solutions"
      ]
    },
    {
      "cell_type": "markdown",
      "id": "abd957e6",
      "metadata": {
        "id": "abd957e6"
      },
      "source": [
        "#### 1.Write a Python Program to check if the given number is a Disarium Number ?"
      ]
    },
    {
      "cell_type": "code",
      "execution_count": 1,
      "id": "746fd8cb",
      "metadata": {
        "colab": {
          "base_uri": "https://localhost:8080/"
        },
        "id": "746fd8cb",
        "outputId": "37140580-b0ed-4c45-cf03-1ca0eb673506"
      },
      "outputs": [
        {
          "output_type": "stream",
          "name": "stdout",
          "text": [
            "Enter a number: 456\n",
            "456 is not a Disarium number\n"
          ]
        }
      ],
      "source": [
        "number = input(\"Enter a number: \")\n",
        "length = len(number)\n",
        "sum = 0\n",
        "for i in range(length):\n",
        "    sum += int(number[i]) ** (i+1)\n",
        "\n",
        "if sum == int(number):\n",
        "    print(number, \"is a Disarium number\")\n",
        "else:\n",
        "    print(number, \"is not a Disarium number\")\n"
      ]
    },
    {
      "cell_type": "markdown",
      "id": "f11e7cd5",
      "metadata": {
        "id": "f11e7cd5"
      },
      "source": [
        "#### 2.Write a Python Program to print all Disarium numbers between 1 to 100 ?"
      ]
    },
    {
      "cell_type": "code",
      "execution_count": 2,
      "id": "03d9e0f4",
      "metadata": {
        "colab": {
          "base_uri": "https://localhost:8080/"
        },
        "id": "03d9e0f4",
        "outputId": "6d3482e7-b9be-4907-b139-efefcd29e0a7"
      },
      "outputs": [
        {
          "output_type": "stream",
          "name": "stdout",
          "text": [
            "1\n",
            "2\n",
            "3\n",
            "4\n",
            "5\n",
            "6\n",
            "7\n",
            "8\n",
            "9\n",
            "89\n"
          ]
        }
      ],
      "source": [
        "for num in range(1, 101):\n",
        "    number = str(num)\n",
        "    length = len(number)\n",
        "    sum = 0\n",
        "    for i in range(length):\n",
        "        sum += int(number[i]) ** (i+1)\n",
        "\n",
        "    if sum == num:\n",
        "        print(num)\n"
      ]
    },
    {
      "cell_type": "markdown",
      "id": "a3f58a68",
      "metadata": {
        "id": "a3f58a68"
      },
      "source": [
        "#### 3.Write a Python Program to check if the given number is Happy Number ?"
      ]
    },
    {
      "cell_type": "code",
      "execution_count": 4,
      "id": "28d42beb",
      "metadata": {
        "colab": {
          "base_uri": "https://localhost:8080/"
        },
        "id": "28d42beb",
        "outputId": "95a21074-6533-43d3-88c0-06455acfcdd6"
      },
      "outputs": [
        {
          "output_type": "stream",
          "name": "stdout",
          "text": [
            "Enter a Number: 434654\n",
            "434654 is not a Happy Number\n",
            "Enter a Number: 54\n",
            "54 is not a Happy Number\n"
          ]
        }
      ],
      "source": [
        "def checkHappyNumber():\n",
        "    in_num = input('Enter a Number: ')\n",
        "    in_num_duplicate = in_num\n",
        "    trackNumber = set()   \n",
        "    while True:\n",
        "        if in_num != '1' and str(in_num) not in trackNumber:\n",
        "            trackNumber.add(in_num)\n",
        "            sum = 0\n",
        "            for ele in range(len((in_num))):\n",
        "                sum = sum + int(in_num[ele])**2\n",
        "            in_num = str(sum)\n",
        "        elif str(in_num) in trackNumber:\n",
        "            print(f'{in_num_duplicate} is not a Happy Number')\n",
        "            break\n",
        "        else:\n",
        "            print(f'{in_num_duplicate} is a Happy Number')\n",
        "            break\n",
        "\n",
        "checkHappyNumber()\n",
        "checkHappyNumber()\n"
      ]
    },
    {
      "cell_type": "markdown",
      "id": "4c5027f6",
      "metadata": {
        "id": "4c5027f6"
      },
      "source": [
        "#### 4.Write a Python Program to print all Happy numbers between 1 and 100 ?"
      ]
    },
    {
      "cell_type": "code",
      "execution_count": null,
      "id": "a578ab2a",
      "metadata": {
        "id": "a578ab2a",
        "outputId": "6210fd85-611c-4359-b8dd-0e1d1f6293a1"
      },
      "outputs": [
        {
          "name": "stdout",
          "output_type": "stream",
          "text": [
            "The Happy Numbers between 0 and 100 are [1, 7, 10, 13, 19, 23, 28, 31, 32, 44, 49, 68, 70, 79, 82, 86, 91, 94, 97, 100]\n"
          ]
        }
      ],
      "source": [
        "def checkHappyNumber(start=0,end=100):\n",
        "    happyNumbersList = []\n",
        "    for in_num in range(start,end+1):\n",
        "        in_num = str(in_num)\n",
        "        inum_holder = in_num\n",
        "        trackNumber = set()   \n",
        "        while True:\n",
        "            if in_num != '1' and str(in_num) not in trackNumber:\n",
        "                trackNumber.add(in_num)\n",
        "                sum = 0\n",
        "                for ele in range(len((in_num))):\n",
        "                    sum = sum + int(in_num[ele])**2\n",
        "                in_num = str(sum)\n",
        "            elif str(in_num) in trackNumber:\n",
        "                break\n",
        "            else:\n",
        "                happyNumbersList.append(int(inum_holder))\n",
        "                break\n",
        "    print(f'The Happy Numbers between {start} and {end} are {happyNumbersList}')\n",
        "    \n",
        "checkHappyNumber(0,100)"
      ]
    },
    {
      "cell_type": "markdown",
      "id": "ed74970d",
      "metadata": {
        "id": "ed74970d"
      },
      "source": [
        "#### 5.Write a Python Program to determine whether the given number is a Harshad Number ?"
      ]
    },
    {
      "cell_type": "code",
      "execution_count": null,
      "id": "c2459d31",
      "metadata": {
        "id": "c2459d31",
        "outputId": "7da1fa3c-c6ec-43f6-c574-515225ce4407"
      },
      "outputs": [
        {
          "name": "stdout",
          "output_type": "stream",
          "text": [
            "Enter a Number: 6804\n",
            "6804 is a Harshad Number\n",
            "Enter a Number: 20\n",
            "20 is a Harshad Number\n"
          ]
        }
      ],
      "source": [
        "def checkHarshadNumber():\n",
        "    in_num = input('Enter a Number: ')\n",
        "    sum = 0\n",
        "    for item in range(len(in_num)):\n",
        "        sum = sum + int(in_num[item])\n",
        "    if int(in_num)%sum == 0:\n",
        "        print(f'{in_num} is a Harshad Number')\n",
        "    else:\n",
        "        print(f'{in_num} is a Not Harshad Number')\n",
        "        \n",
        "checkHarshadNumber()\n",
        "checkHarshadNumber()"
      ]
    },
    {
      "cell_type": "markdown",
      "id": "142b8027",
      "metadata": {
        "id": "142b8027"
      },
      "source": [
        "#### 6.Write a Python Program to print all pronic numbers between 1 and 100 ?"
      ]
    },
    {
      "cell_type": "code",
      "execution_count": 5,
      "id": "dc0b22c6",
      "metadata": {
        "colab": {
          "base_uri": "https://localhost:8080/"
        },
        "id": "dc0b22c6",
        "outputId": "f7fb8ea4-1d3d-4f99-fb55-4f35785fdeb0"
      },
      "outputs": [
        {
          "output_type": "stream",
          "name": "stdout",
          "text": [
            "2\n",
            "6\n",
            "12\n",
            "20\n",
            "30\n",
            "42\n",
            "56\n",
            "72\n",
            "90\n"
          ]
        }
      ],
      "source": [
        "def is_pronic_number(num):\n",
        "    for i in range(num):\n",
        "        if i * (i + 1) == num:\n",
        "            return True\n",
        "    return False\n",
        "\n",
        "\n",
        "# print all pronic numbers between 1 and 100\n",
        "for num in range(1, 101):\n",
        "    if is_pronic_number(num):\n",
        "        print(num)\n"
      ]
    }
  ],
  "metadata": {
    "kernelspec": {
      "display_name": "Python 3",
      "language": "python",
      "name": "python3"
    },
    "language_info": {
      "codemirror_mode": {
        "name": "ipython",
        "version": 3
      },
      "file_extension": ".py",
      "mimetype": "text/x-python",
      "name": "python",
      "nbconvert_exporter": "python",
      "pygments_lexer": "ipython3",
      "version": "3.8.8"
    },
    "colab": {
      "provenance": []
    }
  },
  "nbformat": 4,
  "nbformat_minor": 5
}