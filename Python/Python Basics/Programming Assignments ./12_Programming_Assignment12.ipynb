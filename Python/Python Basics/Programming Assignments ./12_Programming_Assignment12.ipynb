{
  "cells": [
    {
      "cell_type": "markdown",
      "id": "47588382",
      "metadata": {
        "id": "47588382"
      },
      "source": [
        "#### 1.Write a Python program to Extract Unique values dictionary values?"
      ]
    },
    {
      "cell_type": "code",
      "execution_count": 2,
      "id": "8cfece02",
      "metadata": {
        "colab": {
          "base_uri": "https://localhost:8080/"
        },
        "id": "8cfece02",
        "outputId": "17e6c555-d098-472c-f633-5e833a43e10f"
      },
      "outputs": [
        {
          "output_type": "stream",
          "name": "stdout",
          "text": [
            "dict_values(['Apple', 'Mango', 'Coconut', 'Mango', 'Banana', 'Apple', 'Banana'])\n",
            "Unique Values: ['Apple', 'Banana', 'Mango', 'Coconut']\n"
          ]
        }
      ],
      "source": [
        "dict = {1:'Apple',2:'Mango',3:'Coconut',4:'Mango',5:'Banana',6:'Apple',7:'Banana'}\n",
        "print(dict.values())\n",
        "print(f'Unique Values: {list(set(dict.values()))}')"
      ]
    },
    {
      "cell_type": "markdown",
      "id": "3cfcbbc9",
      "metadata": {
        "id": "3cfcbbc9"
      },
      "source": [
        "#### 2.Write a Python program to find the sum of all items in a dictionary?"
      ]
    },
    {
      "cell_type": "code",
      "execution_count": 3,
      "id": "33738c60",
      "metadata": {
        "colab": {
          "base_uri": "https://localhost:8080/"
        },
        "id": "33738c60",
        "outputId": "245bb0a8-ab4b-4ac3-98f0-613f62f9fb49"
      },
      "outputs": [
        {
          "output_type": "stream",
          "name": "stdout",
          "text": [
            "Sum of All items:  60\n"
          ]
        }
      ],
      "source": [
        "in_dict = {'a':10,'b':20,'c':30}\n",
        "print('Sum of All items: ',sum(in_dict.values()))"
      ]
    },
    {
      "cell_type": "markdown",
      "id": "5e26e96b",
      "metadata": {
        "id": "5e26e96b"
      },
      "source": [
        "#### 3.Write a Python program to Merging two Dictionaries?"
      ]
    },
    {
      "cell_type": "code",
      "execution_count": null,
      "id": "059056dd",
      "metadata": {
        "id": "059056dd",
        "outputId": "f01ce7b9-68ce-4002-9f52-4efd27a0154b"
      },
      "outputs": [
        {
          "name": "stdout",
          "output_type": "stream",
          "text": [
            "{'cousre_name': 'Ineuron', 'course_instructors': ['Sudhanshu Kumar', 'Krish Naik']}\n"
          ]
        }
      ],
      "source": [
        "course_details = {\n",
        "    'cousre_name':'Ineuron'\n",
        "}\n",
        "instructors = {\n",
        "    'course_instructors':['Sudhanshu Kumar','Krish Naik']\n",
        "}\n",
        "course_details.update(instructors)\n",
        "print(course_details)"
      ]
    },
    {
      "cell_type": "markdown",
      "id": "ea32cefe",
      "metadata": {
        "id": "ea32cefe"
      },
      "source": [
        "#### 4.Write a Python program to convert key-values list to flat dictionary?"
      ]
    },
    {
      "cell_type": "code",
      "execution_count": null,
      "id": "55139b2d",
      "metadata": {
        "id": "55139b2d",
        "outputId": "7069ecd7-0a7b-424e-f670-86a73d31a825"
      },
      "outputs": [
        {
          "name": "stdout",
          "output_type": "stream",
          "text": [
            "{'A': 10, 'B': 20, 'C': 30, 'D': 40, 'E': 50, 'F': 60, 'G': 70, 'H': 80, 'I': 90, 'J': 100}\n"
          ]
        }
      ],
      "source": [
        "in_list = [('A',10),('B',20),('C',30),('D',40),('E',50),('F',60),('G',70),('H',80),('I',90),('J',100)]\n",
        "\n",
        "# Method #1\n",
        "dict(in_list)\n",
        "\n",
        "# Method #2\n",
        "out_dict = {}\n",
        "for ele in in_list:\n",
        "    out_dict[ele[0]] = ele[1]\n",
        "print(out_dict)"
      ]
    },
    {
      "cell_type": "markdown",
      "id": "e945b1cf",
      "metadata": {
        "id": "e945b1cf"
      },
      "source": [
        "#### 5.Write a Python program to insertion at the beginning in OrderedDict?"
      ]
    },
    {
      "cell_type": "code",
      "execution_count": null,
      "id": "b28845f5",
      "metadata": {
        "id": "b28845f5",
        "outputId": "6b9ed6fa-5e03-4c09-d0b8-a77d1bbea470"
      },
      "outputs": [
        {
          "name": "stdout",
          "output_type": "stream",
          "text": [
            "dict_one OrderedDict([('Apple', 'Iphone'), ('Microsoft', 'Windows'), ('Google', 'chrome')])\n",
            "dict_one OrderedDict([('Apple', 'Iphone'), ('Microsoft', 'Windows'), ('Google', 'chrome'), ('Tesla', 'SpaceX')])\n",
            "dict_one OrderedDict([('Tesla', 'SpaceX'), ('Apple', 'Iphone'), ('Microsoft', 'Windows'), ('Google', 'chrome')])\n"
          ]
        }
      ],
      "source": [
        "from collections import OrderedDict\n",
        "dict_one = OrderedDict({'Apple':'Iphone','Microsoft':'Windows','Google':'chrome'})\n",
        "print('dict_one',dict_one)\n",
        "dict_two = {'Tesla':'SpaceX'}\n",
        "dict_one.update(dict_two)\n",
        "print('dict_one',dict_one)\n",
        "dict_one.move_to_end('Tesla',last=False)\n",
        "print('dict_one',dict_one)"
      ]
    },
    {
      "cell_type": "markdown",
      "id": "a67da729",
      "metadata": {
        "id": "a67da729"
      },
      "source": [
        "#### 6.Write a Python program to check order of character in string using OrderedDict()?"
      ]
    },
    {
      "cell_type": "code",
      "execution_count": null,
      "id": "cc023a52",
      "metadata": {
        "id": "cc023a52",
        "outputId": "f06563ed-1910-400f-9a7e-ffbeb6735b29"
      },
      "outputs": [
        {
          "name": "stdout",
          "output_type": "stream",
          "text": [
            "{'a': 1000, 'f': 200, 'd': 300, 'c': 400, 'b': 500, 'e': 600}\n",
            "OrderedDict([('a', 1000), ('b', 500), ('c', 400), ('d', 300), ('e', 600), ('f', 200)])\n"
          ]
        }
      ],
      "source": [
        "from collections import OrderedDict\n",
        "\n",
        "initial_list = {'a': 1000, 'f': 200, 'd': 300, 'c': 400, 'b': 500, 'e': 600}\n",
        "print(initial_list)\n",
        "\n",
        "final_list = OrderedDict(dict(sorted(initial_list.items())))\n",
        "print(final_list)"
      ]
    },
    {
      "cell_type": "markdown",
      "id": "00e77a00",
      "metadata": {
        "id": "00e77a00"
      },
      "source": [
        "#### 7.Write a Python program to sort Python Dictionaries by Key or Value?"
      ]
    },
    {
      "cell_type": "code",
      "execution_count": 6,
      "id": "799ba84a",
      "metadata": {
        "colab": {
          "base_uri": "https://localhost:8080/"
        },
        "id": "799ba84a",
        "outputId": "b4b1aa5e-5425-4201-c7f9-51753758ed19"
      },
      "outputs": [
        {
          "output_type": "stream",
          "name": "stdout",
          "text": [
            "Sorted dictionary by key: {'a': 1, 'b': 2, 'c': 3}\n",
            "Sorted dictionary by value: {'a': 1, 'b': 2, 'c': 3}\n"
          ]
        }
      ],
      "source": [
        "dictionary = {'c': 3, 'a': 1, 'b': 2}\n",
        "\n",
        "# Sort dictionary by key\n",
        "sorted_dict_by_key = {}\n",
        "for key in sorted(dictionary.keys()):\n",
        "    sorted_dict_by_key[key] = dictionary[key]\n",
        "print(\"Sorted dictionary by key:\", sorted_dict_by_key)\n",
        "\n",
        "# Sort dictionary by value\n",
        "sorted_dict_by_value = {}\n",
        "for key, value in sorted(dictionary.items(), key=lambda item: item[1]):\n",
        "    sorted_dict_by_value[key] = value\n",
        "print(\"Sorted dictionary by value:\", sorted_dict_by_value)\n",
        "\n"
      ]
    }
  ],
  "metadata": {
    "kernelspec": {
      "display_name": "Python 3 (ipykernel)",
      "language": "python",
      "name": "python3"
    },
    "language_info": {
      "codemirror_mode": {
        "name": "ipython",
        "version": 3
      },
      "file_extension": ".py",
      "mimetype": "text/x-python",
      "name": "python",
      "nbconvert_exporter": "python",
      "pygments_lexer": "ipython3",
      "version": "3.8.8"
    },
    "colab": {
      "provenance": []
    }
  },
  "nbformat": 4,
  "nbformat_minor": 5
}