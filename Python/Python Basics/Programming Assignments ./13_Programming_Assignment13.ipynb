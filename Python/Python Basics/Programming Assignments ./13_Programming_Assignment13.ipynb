{
  "cells": [
    {
      "cell_type": "markdown",
      "id": "e73a2da3",
      "metadata": {
        "id": "e73a2da3"
      },
      "source": [
        "#### 1.Write a program that calculates and prints the value according to the given formula:\n",
        "`Q = Square root of [(2 * C * D)/H]`  \n",
        "Following are the fixed values of C and H:  \n",
        "C is 50. H is 30.  \n",
        "D is the variable whose values should be input to your program in a comma-separated sequence.  \n",
        "**Example:** Let us assume the following comma separated input sequence is given to the program:`100,150,180`  \n",
        "The output of the program should be:  `18,22,24`    "
      ]
    },
    {
      "cell_type": "code",
      "execution_count": 1,
      "id": "ef7d1c7c",
      "metadata": {
        "colab": {
          "base_uri": "https://localhost:8080/"
        },
        "id": "ef7d1c7c",
        "outputId": "b5fe8420-032f-4f84-dbae-4d58a90b1f9a"
      },
      "outputs": [
        {
          "output_type": "stream",
          "name": "stdout",
          "text": [
            "Enter the sequence of D values separated by commas: 100,150,180\n",
            "18,22,24\n"
          ]
        }
      ],
      "source": [
        "import math\n",
        "\n",
        "C = 50\n",
        "H = 30\n",
        "\n",
        "def calculate_value(d):\n",
        "    return int(math.sqrt((2 * C * d) / H))\n",
        "\n",
        "input_string = input(\"Enter the sequence of D values separated by commas: \")\n",
        "d_values = input_string.split(\",\")\n",
        "output_values = []\n",
        "for d in d_values:\n",
        "    output_values.append(str(calculate_value(int(d))))\n",
        "\n",
        "print(\",\".join(output_values))\n"
      ]
    },
    {
      "cell_type": "markdown",
      "id": "2f5b884e",
      "metadata": {
        "id": "2f5b884e"
      },
      "source": [
        "#### 2.Write a program which takes 2 digits, X,Y as input and generates a 2-dimensional array. The element value in the i-th row and j-th column of the array should be i*j.     \n",
        "`Note: i=0,1.., X-1; j=0,1,¡Y-1.`  \n",
        "**Example:** Suppose the following inputs are given to the program: `3,5`  \n",
        "Then, the output of the program should be:`[[0, 0, 0, 0, 0], [0, 1, 2, 3, 4], [0, 2, 4, 6, 8]]`   "
      ]
    },
    {
      "cell_type": "code",
      "execution_count": 2,
      "id": "999879ce",
      "metadata": {
        "colab": {
          "base_uri": "https://localhost:8080/"
        },
        "id": "999879ce",
        "outputId": "f49a8b94-9a01-44a9-c44c-735ba592ded7"
      },
      "outputs": [
        {
          "output_type": "stream",
          "name": "stdout",
          "text": [
            "Enter the values of X and Y separated by a comma: 3,5\n",
            "[[0, 0, 0, 0, 0], [0, 1, 2, 3, 4], [0, 2, 4, 6, 8]]\n"
          ]
        }
      ],
      "source": [
        "X, Y = map(int, input(\"Enter the values of X and Y separated by a comma: \").split(\",\"))\n",
        "array = [[i*j for j in range(Y)] for i in range(X)]\n",
        "print(array)\n"
      ]
    },
    {
      "cell_type": "markdown",
      "id": "512e5348",
      "metadata": {
        "id": "512e5348"
      },
      "source": [
        "#### 3.Write a program that accepts a comma separated sequence of words as input and prints the words in a comma-separated sequence after sorting them alphabetically ? \n",
        "Suppose the following input is supplied to the program: `without,hello,bag,world`  \n",
        "Then, the output should be: `bag,hello,without,world`\n"
      ]
    },
    {
      "cell_type": "code",
      "execution_count": null,
      "id": "d62e5da5",
      "metadata": {
        "id": "d62e5da5",
        "outputId": "7f703283-3c61-4be9-8db0-c660430ef8ee"
      },
      "outputs": [
        {
          "name": "stdout",
          "output_type": "stream",
          "text": [
            "Enter the Input String: without,hello,bag,world\n",
            "Output: bag,hello,without,world\n"
          ]
        }
      ],
      "source": [
        "def sortString():\n",
        "    in_string = input(\"Enter the Input String: \")\n",
        "    out_string = ','.join(sorted(in_string.split(',')))\n",
        "    print(f'Output: {out_string}')\n",
        "    \n",
        "sortString()"
      ]
    },
    {
      "cell_type": "markdown",
      "id": "67d99dab",
      "metadata": {
        "id": "67d99dab"
      },
      "source": [
        "#### 4.Write a program that accepts a sequence of whitespace separated words as input and prints the words after removing all duplicate words and sorting them alphanumerically.\n",
        "Suppose the following input is supplied to the program: `hello world and practice makes perfect and hello world again`  \n",
        "Then, the output should be: `again and hello makes perfect practice world`"
      ]
    },
    {
      "cell_type": "code",
      "execution_count": null,
      "id": "2633f827",
      "metadata": {
        "id": "2633f827",
        "outputId": "9cb5778a-f96a-4885-b1af-6098dc15fb77"
      },
      "outputs": [
        {
          "name": "stdout",
          "output_type": "stream",
          "text": [
            "Enter the Input String: hello world and practice makes perfect and hello world again\n",
            "Output: again and hello makes perfect practice world\n"
          ]
        }
      ],
      "source": [
        "def sortAlphaNumerically():\n",
        "    in_string = input(\"Enter the Input String: \")\n",
        "    out_string = ' '.join(sorted(sorted(list(set(in_string.split(\" \"))))))\n",
        "    print(f'Output: {out_string}')\n",
        "    \n",
        "sortAlphaNumerically()"
      ]
    },
    {
      "cell_type": "markdown",
      "id": "bf647aa0",
      "metadata": {
        "id": "bf647aa0"
      },
      "source": [
        "#### 5.Write a program that accepts a sentence and calculate the number of letters and digits.\n",
        "Suppose the following input is supplied to the program: `hello world! 123`  \n",
        "Then, the output should be:  \n",
        "`LETTERS 10`  \n",
        "`DIGITS 3`  "
      ]
    },
    {
      "cell_type": "code",
      "execution_count": null,
      "id": "a1055c73",
      "metadata": {
        "id": "a1055c73",
        "outputId": "997ae936-8b93-4080-d81d-fb9775c2ee06"
      },
      "outputs": [
        {
          "name": "stdout",
          "output_type": "stream",
          "text": [
            "Enter the Input String: hello world! 123\n",
            "LETTERS 10 \n",
            "DIGITS 3\n"
          ]
        }
      ],
      "source": [
        "def countLetterAndDigits():\n",
        "    in_string = input(\"Enter the Input String: \")\n",
        "    lettersList = 'ABCDEFGHIJKLMNOPQRSTUVWXYZabcdefghijklmnopqrstuvwxyz'\n",
        "    digitsList = '0123456789'\n",
        "    letters = 0\n",
        "    digits = 0\n",
        "    for ele in in_string:\n",
        "        if ele in lettersList:\n",
        "            letters += 1\n",
        "        if ele in digitsList:\n",
        "            digits += 1\n",
        "    print(f'LETTERS {letters} \\nDIGITS {digits}')\n",
        "        \n",
        "countLetterAndDigits()"
      ]
    },
    {
      "cell_type": "markdown",
      "id": "925eb219",
      "metadata": {
        "id": "925eb219"
      },
      "source": [
        "#### 6.A website requires the users to input username and password to register. Write a program to check the validity of password input by users.\n",
        "Following are the criteria for checking the password:  \n",
        "1. At least 1 letter between [a-z]\n",
        "2. At least 1 number between [0-9]\n",
        "1. At least 1 letter between [A-Z]\n",
        "3. At least 1 character from [$#@]\n",
        "4. Minimum length of transaction password: 6\n",
        "5. Maximum length of transaction password: 12\n",
        "\n",
        "Your program should accept a sequence of comma separated passwords and will check them according to the above criteria. Passwords that match the criteria are to be printed, each separated by a comma.\n",
        "\n",
        "**Example:**  \n",
        "If the following passwords are given as input to the program: `ABd1234@1,a F1#,2w3E*,2We3345`  \n",
        "Then, the output of the program should be:`ABd1234@1`\n"
      ]
    },
    {
      "cell_type": "code",
      "execution_count": 3,
      "id": "b7b299c2",
      "metadata": {
        "colab": {
          "base_uri": "https://localhost:8080/"
        },
        "id": "b7b299c2",
        "outputId": "c66e5907-2ea5-4610-948c-f632e6547ec2"
      },
      "outputs": [
        {
          "output_type": "stream",
          "name": "stdout",
          "text": [
            "Enter a sequence of passwords separated by commas: ABd1234@1,a F1#,2w3E*,2We3345\n",
            "ABd1234@1\n"
          ]
        }
      ],
      "source": [
        "import re\n",
        "\n",
        "def is_valid_password(password):\n",
        "    # Check the length of the password\n",
        "    if len(password) < 6 or len(password) > 12:\n",
        "        return False\n",
        "    # Check if the password contains at least one lowercase letter, one uppercase letter, one digit, and one special character\n",
        "    pattern = r\"^(?=.*[a-z])(?=.*[A-Z])(?=.*\\d)(?=.*[$#@])[A-Za-z\\d$#@]{6,12}$\"\n",
        "    if re.match(pattern, password):\n",
        "        return True\n",
        "    else:\n",
        "        return False\n",
        "\n",
        "passwords = input(\"Enter a sequence of passwords separated by commas: \")\n",
        "valid_passwords = []\n",
        "for password in passwords.split(\",\"):\n",
        "    if is_valid_password(password):\n",
        "        valid_passwords.append(password)\n",
        "\n",
        "print(\",\".join(valid_passwords))\n"
      ]
    }
  ],
  "metadata": {
    "kernelspec": {
      "display_name": "Python 3 (ipykernel)",
      "language": "python",
      "name": "python3"
    },
    "language_info": {
      "codemirror_mode": {
        "name": "ipython",
        "version": 3
      },
      "file_extension": ".py",
      "mimetype": "text/x-python",
      "name": "python",
      "nbconvert_exporter": "python",
      "pygments_lexer": "ipython3",
      "version": "3.8.8"
    },
    "colab": {
      "provenance": []
    }
  },
  "nbformat": 4,
  "nbformat_minor": 5
}