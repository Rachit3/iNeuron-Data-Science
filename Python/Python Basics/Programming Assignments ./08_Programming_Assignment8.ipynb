{
  "cells": [
    {
      "cell_type": "markdown",
      "id": "823845d3",
      "metadata": {
        "id": "823845d3"
      },
      "source": [
        "#### 1. Write a Python Program to Add two Matrices ?"
      ]
    },
    {
      "cell_type": "code",
      "execution_count": 1,
      "id": "6dd2fd5c",
      "metadata": {
        "colab": {
          "base_uri": "https://localhost:8080/"
        },
        "id": "6dd2fd5c",
        "outputId": "ffd2b492-5ac4-46e7-d79b-e613ebb876c2"
      },
      "outputs": [
        {
          "output_type": "stream",
          "name": "stdout",
          "text": [
            "[[10, 10, 10], [10, 10, 10], [10, 10, 10]]\n"
          ]
        }
      ],
      "source": [
        "def add_matrices(matrix1, matrix2):\n",
        "    result = [[0 for j in range(len(matrix1[0]))] for i in range(len(matrix1))]\n",
        "    for i in range(len(matrix1)):\n",
        "        for j in range(len(matrix1[0])):\n",
        "            result[i][j] = matrix1[i][j] + matrix2[i][j]\n",
        "    return result\n",
        "\n",
        "matrix1 = [[1, 2, 3], [4, 5, 6], [7, 8, 9]]\n",
        "matrix2 = [[9, 8, 7], [6, 5, 4], [3, 2, 1]]\n",
        "result = add_matrices(matrix1, matrix2)\n",
        "print(result)\n"
      ]
    },
    {
      "cell_type": "markdown",
      "id": "9e6c1983",
      "metadata": {
        "id": "9e6c1983"
      },
      "source": [
        "#### 2. Write a Python Program to Multiply two Matrices ?"
      ]
    },
    {
      "cell_type": "code",
      "execution_count": 2,
      "id": "e5c57cb3",
      "metadata": {
        "colab": {
          "base_uri": "https://localhost:8080/"
        },
        "id": "e5c57cb3",
        "outputId": "3a061720-2654-4c6e-d0de-3193dc850274"
      },
      "outputs": [
        {
          "output_type": "stream",
          "name": "stdout",
          "text": [
            "[[38, 32], [101, 86], [164, 140]]\n"
          ]
        }
      ],
      "source": [
        "def multiply_matrices(matrix1, matrix2):\n",
        "    result = [[0 for j in range(len(matrix2[0]))] for i in range(len(matrix1))]\n",
        "    for i in range(len(matrix1)):\n",
        "        for j in range(len(matrix2[0])):\n",
        "            for k in range(len(matrix2)):\n",
        "                result[i][j] += matrix1[i][k] * matrix2[k][j]\n",
        "    return result\n",
        "\n",
        "matrix1 = [[1, 2, 3], [4, 5, 6], [7, 8, 9]]\n",
        "matrix2 = [[9, 8], [7, 6], [5, 4]]\n",
        "result = multiply_matrices(matrix1, matrix2)\n",
        "print(result)\n"
      ]
    },
    {
      "cell_type": "markdown",
      "id": "c2705b7d",
      "metadata": {
        "id": "c2705b7d"
      },
      "source": [
        "#### 3. Write a Python Program to transpose a Matrix ?"
      ]
    },
    {
      "cell_type": "code",
      "execution_count": 3,
      "id": "08afb7ff",
      "metadata": {
        "colab": {
          "base_uri": "https://localhost:8080/"
        },
        "id": "08afb7ff",
        "outputId": "a3da6395-f9ea-42bb-9776-97e488218f21"
      },
      "outputs": [
        {
          "output_type": "stream",
          "name": "stdout",
          "text": [
            "[[1, 4, 7], [2, 5, 8], [3, 6, 9]]\n"
          ]
        }
      ],
      "source": [
        "def transpose_matrix(matrix):\n",
        "    rows = len(matrix)\n",
        "    cols = len(matrix[0])\n",
        "    result = [[0 for j in range(rows)] for i in range(cols)]\n",
        "    for i in range(rows):\n",
        "        for j in range(cols):\n",
        "            result[j][i] = matrix[i][j]\n",
        "    return result\n",
        "\n",
        "matrix = [[1, 2, 3], [4, 5, 6], [7, 8, 9]]\n",
        "result = transpose_matrix(matrix)\n",
        "print(result)\n"
      ]
    },
    {
      "cell_type": "markdown",
      "id": "5b6207c1",
      "metadata": {
        "id": "5b6207c1"
      },
      "source": [
        "#### 4. Write a Python Program to sort Words in an Alphabatical Order ?"
      ]
    },
    {
      "cell_type": "code",
      "execution_count": 5,
      "id": "d6e5de3d",
      "metadata": {
        "colab": {
          "base_uri": "https://localhost:8080/"
        },
        "id": "d6e5de3d",
        "outputId": "c01139ca-629c-4417-c0dd-1e6c6000593c"
      },
      "outputs": [
        {
          "output_type": "stream",
          "name": "stdout",
          "text": [
            "Enter a sentence: I dont like an apple neither a ball\n",
            "I a an apple ball dont like neither\n"
          ]
        }
      ],
      "source": [
        "sentence = input(\"Enter a sentence: \")\n",
        "words = sentence.split()\n",
        "sorted_words = sorted(words)\n",
        "sorted_sentence = \" \".join(sorted_words)\n",
        "print(sorted_sentence)\n"
      ]
    },
    {
      "cell_type": "markdown",
      "id": "eb0e084d",
      "metadata": {
        "id": "eb0e084d"
      },
      "source": [
        "#### 5. Write a Python Program to remove Punctuations From a String ?"
      ]
    },
    {
      "cell_type": "code",
      "execution_count": 6,
      "id": "08c0196d",
      "metadata": {
        "colab": {
          "base_uri": "https://localhost:8080/"
        },
        "id": "08c0196d",
        "outputId": "47a057ea-113c-4781-f342-f2d6bb3db7f1"
      },
      "outputs": [
        {
          "output_type": "stream",
          "name": "stdout",
          "text": [
            "Enter a sentence: let's get rid of this\n",
            "lets get rid of this\n"
          ]
        }
      ],
      "source": [
        "import string\n",
        "\n",
        "sentence = input(\"Enter a sentence: \")\n",
        "punctuations = string.punctuation\n",
        "\n",
        "new_sentence = \"\"\n",
        "for char in sentence:\n",
        "    if char not in punctuations:\n",
        "        new_sentence += char\n",
        "\n",
        "print(new_sentence)\n"
      ]
    }
  ],
  "metadata": {
    "kernelspec": {
      "display_name": "Python 3 (ipykernel)",
      "language": "python",
      "name": "python3"
    },
    "language_info": {
      "codemirror_mode": {
        "name": "ipython",
        "version": 3
      },
      "file_extension": ".py",
      "mimetype": "text/x-python",
      "name": "python",
      "nbconvert_exporter": "python",
      "pygments_lexer": "ipython3",
      "version": "3.8.8"
    },
    "colab": {
      "provenance": []
    }
  },
  "nbformat": 4,
  "nbformat_minor": 5
}