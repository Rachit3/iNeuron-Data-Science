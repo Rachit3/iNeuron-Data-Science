{
  "cells": [
    {
      "cell_type": "markdown",
      "id": "41bc56d1",
      "metadata": {
        "id": "41bc56d1"
      },
      "source": [
        "# Assignment 4 Solutions"
      ]
    },
    {
      "cell_type": "markdown",
      "id": "4d2ed0e4",
      "metadata": {
        "id": "4d2ed0e4"
      },
      "source": [
        "#### 1.What exactly is `[ ]`?\n",
        "**Ans**:  `[]` represents an empty list that contains no items."
      ]
    },
    {
      "cell_type": "markdown",
      "id": "b6e56852",
      "metadata": {
        "id": "b6e56852"
      },
      "source": [
        "#### 2.In a list of values stored in a variable called spam, how would you assign the value 'hello' as the third value? (Assume [2, 4, 6, 8, 10] are in spam.) \n"
      ]
    },
    {
      "cell_type": "code",
      "execution_count": null,
      "id": "737fb672",
      "metadata": {
        "id": "737fb672",
        "outputId": "a146f85d-f6f5-4c1e-d9f3-267c98829235"
      },
      "outputs": [
        {
          "name": "stdout",
          "output_type": "stream",
          "text": [
            "[2, 4, 6, 8, 10]\n",
            "[2, 4, 'hello', 8, 10]\n"
          ]
        }
      ],
      "source": [
        "\n",
        "spam=[2,4,6,8,10]\n",
        "spam[2]='hello'\n",
        "print(spam)"
      ]
    },
    {
      "cell_type": "markdown",
      "id": "423f2578",
      "metadata": {
        "id": "423f2578"
      },
      "source": [
        "## Let's pretend the spam includes the list ['a','b','c',d'] for the next three queries."
      ]
    },
    {
      "cell_type": "markdown",
      "id": "c3093377",
      "metadata": {
        "id": "c3093377"
      },
      "source": [
        "#### 3. What is the value of `spam[int(int('3'*2)//11)]` ?\n"
      ]
    },
    {
      "cell_type": "code",
      "execution_count": 1,
      "id": "338984fe",
      "metadata": {
        "colab": {
          "base_uri": "https://localhost:8080/"
        },
        "id": "338984fe",
        "outputId": "53a5600b-bfbf-4210-a1ea-a69c7b65cc06"
      },
      "outputs": [
        {
          "output_type": "stream",
          "name": "stdout",
          "text": [
            "d\n"
          ]
        }
      ],
      "source": [
        "spam=['a','b','c','d']\n",
        "print(spam[int(int('3'*2)//11)])\n",
        "\n",
        "\"\"\"Answer is d because  '3' * 2 is the string '33', which is passed to int() before being divided by 11. This becomes 3. Therefore spam[3] is d\"\"\"  "
      ]
    },
    {
      "cell_type": "markdown",
      "id": "9e1182c8",
      "metadata": {
        "id": "9e1182c8"
      },
      "source": [
        "#### 4. What is the value of spam[-1]?\n"
      ]
    },
    {
      "cell_type": "code",
      "execution_count": 2,
      "id": "ee415de9",
      "metadata": {
        "colab": {
          "base_uri": "https://localhost:8080/"
        },
        "id": "ee415de9",
        "outputId": "beb5b758-0221-4601-d937-5d07d20eb031"
      },
      "outputs": [
        {
          "output_type": "stream",
          "name": "stdout",
          "text": [
            "d\n"
          ]
        }
      ],
      "source": [
        "\"\"\"spam[-1] is d\"\"\"\n",
        "spam=['a','b','c','d']\n",
        "print(spam[-1])"
      ]
    },
    {
      "cell_type": "markdown",
      "id": "95920e0b",
      "metadata": {
        "id": "95920e0b"
      },
      "source": [
        "#### 5. What is the value of spam[:2]?\n"
      ]
    },
    {
      "cell_type": "code",
      "execution_count": 3,
      "id": "19c06353",
      "metadata": {
        "colab": {
          "base_uri": "https://localhost:8080/"
        },
        "id": "19c06353",
        "outputId": "409b5826-4bce-4ba5-f56f-0bd6d36f00f0"
      },
      "outputs": [
        {
          "output_type": "stream",
          "name": "stdout",
          "text": [
            "['a', 'b']\n"
          ]
        }
      ],
      "source": [
        "\"\"\" It returns all the elements from 0 to 2-1 index position\"\"\"\n",
        "print(spam[:2])"
      ]
    },
    {
      "cell_type": "markdown",
      "id": "0c597670",
      "metadata": {
        "id": "0c597670"
      },
      "source": [
        "## Let's pretend bacon has the list [3.14,'cat',11,'cat',True] for the next three question"
      ]
    },
    {
      "cell_type": "markdown",
      "id": "4532aa75",
      "metadata": {
        "id": "4532aa75"
      },
      "source": [
        "#### 6. What is the value of bacon.index('cat')?"
      ]
    },
    {
      "cell_type": "code",
      "execution_count": null,
      "id": "29ad2c43",
      "metadata": {
        "id": "29ad2c43",
        "outputId": "1fb31509-4508-4efc-8633-00295d728270"
      },
      "outputs": [
        {
          "name": "stdout",
          "output_type": "stream",
          "text": [
            "bacon.index('cat') -> 1\n"
          ]
        }
      ],
      "source": [
        "\"\"\"The value of bacon.index('cat') is 1\"\"\"\n",
        "bacon=[3.14,'cat',11,'cat',True]\n",
        "print(bacon.index('cat'))"
      ]
    },
    {
      "cell_type": "markdown",
      "id": "a6315daa",
      "metadata": {
        "id": "a6315daa"
      },
      "source": [
        "#### 7. How does bacon.append(99) change the look of the list value in bacon?\n"
      ]
    },
    {
      "cell_type": "code",
      "execution_count": null,
      "id": "be0ebd05",
      "metadata": {
        "id": "be0ebd05",
        "outputId": "2e69ab22-4de2-4cc6-abd8-cc81dcd49556"
      },
      "outputs": [
        {
          "name": "stdout",
          "output_type": "stream",
          "text": [
            "[3.14, 'cat', 11, 'cat', True]\n",
            "[3.14, 'cat', 11, 'cat', True, 99]\n"
          ]
        }
      ],
      "source": [
        "# It adds new elements to the end of the list\n",
        "print(bacon)\n",
        "bacon.append(99) \n",
        "print(bacon)"
      ]
    },
    {
      "cell_type": "markdown",
      "id": "85e81927",
      "metadata": {
        "id": "85e81927"
      },
      "source": [
        "#### 8. How does bacon.remove('cat') change the look of the list in bacon?\n"
      ]
    },
    {
      "cell_type": "code",
      "execution_count": null,
      "id": "c3aca074",
      "metadata": {
        "id": "c3aca074",
        "outputId": "23efab04-f080-4f8d-d1d4-7f31b870f326"
      },
      "outputs": [
        {
          "name": "stdout",
          "output_type": "stream",
          "text": [
            "[3.14, 'cat', 11, 'cat', True, 99]\n",
            "[3.14, 11, 'cat', True, 99]\n"
          ]
        }
      ],
      "source": [
        "'''It removes the first occurence of the element in the list'''\n",
        "print(bacon)\n",
        "bacon.remove('cat')\n",
        "print(bacon)"
      ]
    },
    {
      "cell_type": "markdown",
      "id": "cdbe3c4a",
      "metadata": {
        "id": "cdbe3c4a"
      },
      "source": [
        "#### 9.what are the list concatenation and list replication operations?\n"
      ]
    },
    {
      "cell_type": "code",
      "execution_count": 5,
      "id": "bd9dc39a",
      "metadata": {
        "colab": {
          "base_uri": "https://localhost:8080/"
        },
        "id": "bd9dc39a",
        "outputId": "8e075469-1fed-492e-b45d-dd6dbd3347b2"
      },
      "outputs": [
        {
          "output_type": "stream",
          "name": "stdout",
          "text": [
            "['A', 'B', 'C', 'D', 'E', 'a', 'b', 'c']\n",
            "['a', 'b', 'c', 'a', 'b', 'c']\n"
          ]
        }
      ],
      "source": [
        "# The operator for list concatenation is +, while the operator for replication is *.\n",
        "list_1 = ['A','B','C','D','E']\n",
        "list_2 = ['a','b','c']\n",
        "print(list_1 + list_2) # List Concatenation\n",
        "print(list_2*2) # List Replication"
      ]
    },
    {
      "cell_type": "markdown",
      "id": "d4f9b87c",
      "metadata": {
        "id": "d4f9b87c"
      },
      "source": [
        "#### 10.what is the difference between the list method append() and insert()?\n"
      ]
    },
    {
      "cell_type": "code",
      "execution_count": 6,
      "id": "e2901ff6",
      "metadata": {
        "colab": {
          "base_uri": "https://localhost:8080/"
        },
        "id": "e2901ff6",
        "outputId": "c67de37e-f99c-421b-db6a-7c05692aed97"
      },
      "outputs": [
        {
          "output_type": "stream",
          "name": "stdout",
          "text": [
            "['A', 'B', 'C', 'D', 'E', 'F']\n",
            "['A', 'B', 'C', 'zz', 'D', 'E', 'F']\n"
          ]
        }
      ],
      "source": [
        "'''append() will add values only at the end of a list, whereas insert() can add them anywhere in the list.'''\n",
        "list = ['A','B','C','D','E']\n",
        "list.append('F')\n",
        "print(list)\n",
        "list.insert(3,'zz')\n",
        "print(list)"
      ]
    },
    {
      "cell_type": "markdown",
      "id": "3b178c74",
      "metadata": {
        "id": "3b178c74"
      },
      "source": [
        "#### 11. What are the two methods for removing items from a list?\n",
        "**Ans:** The `del` statement and the `remove()` method can remove items from a list."
      ]
    },
    {
      "cell_type": "markdown",
      "id": "3811c0e8",
      "metadata": {
        "id": "3811c0e8"
      },
      "source": [
        "#### 12. Describe how list values and string values are identical.\n",
        "**Ans:** Both lists and strings can be passed to `len()` function, have indexes and slices, be used in `for` loops, be concatenated or replicated, and be used with the `in` and `not in` operators."
      ]
    },
    {
      "cell_type": "markdown",
      "id": "4845136b",
      "metadata": {
        "id": "4845136b"
      },
      "source": [
        "#### 13. What's the difference between tuples and lists?\n",
        "**Ans:** Lists are `Mutable`, `Indexable` and `Slicable`. they can have values added, removed, or changed. Tuples are `Immutable` but `Indexable` and `Slicable`. the tuple values cannot be changed at all. Also, tuples are represented using parentheses, `()`, while lists use the square brackets, `[]`."
      ]
    },
    {
      "cell_type": "markdown",
      "id": "7fa16181",
      "metadata": {
        "id": "7fa16181"
      },
      "source": [
        "#### 14. How do you type a tuple value that only contains the integer 42?\n"
      ]
    },
    {
      "cell_type": "code",
      "execution_count": 7,
      "id": "20c9775f",
      "metadata": {
        "colab": {
          "base_uri": "https://localhost:8080/"
        },
        "id": "20c9775f",
        "outputId": "e77c8a76-880b-4dfa-8f31-4c326bd78e31"
      },
      "outputs": [
        {
          "output_type": "stream",
          "name": "stdout",
          "text": [
            "<class 'int'>\n",
            "<class 'tuple'>\n"
          ]
        }
      ],
      "source": [
        "\"\"\"use a comma after 42 -->(42,)  otherwise its considered as a int by python Interpreter)\"\"\"\n",
        "tuple_1=(42)\n",
        "tuple_2=(42,)\n",
        "print(type(tuple_1))\n",
        "print(type(tuple_2))"
      ]
    },
    {
      "cell_type": "markdown",
      "id": "42d87c87",
      "metadata": {
        "id": "42d87c87"
      },
      "source": [
        "#### 15. How do you get a list value's tuple form? How do you get a tuple value's list form?\n",
        "**Ans:** The tuple() and list() functions, respectively are used to convert a list to tuple and vice versa"
      ]
    },
    {
      "cell_type": "markdown",
      "id": "eac0fa89",
      "metadata": {
        "id": "eac0fa89"
      },
      "source": [
        "#### 16. Variables that &quot;contain&quot; list values are not necessarily lists themselves. Instead, what do they contain?\n",
        "**Ans**: They contain references to list values."
      ]
    },
    {
      "cell_type": "markdown",
      "id": "c0f78aa7",
      "metadata": {
        "id": "c0f78aa7"
      },
      "source": [
        "#### 17. How do you distinguish between copy.copy() and copy.deepcopy()?\n",
        "**Ans:** The most important difference is that copy.deepcopy() will duplicate any lists inside the list and copy.copy() wont."
      ]
    }
  ],
  "metadata": {
    "kernelspec": {
      "display_name": "Python 3",
      "language": "python",
      "name": "python3"
    },
    "language_info": {
      "codemirror_mode": {
        "name": "ipython",
        "version": 3
      },
      "file_extension": ".py",
      "mimetype": "text/x-python",
      "name": "python",
      "nbconvert_exporter": "python",
      "pygments_lexer": "ipython3",
      "version": "3.8.8"
    },
    "colab": {
      "provenance": []
    }
  },
  "nbformat": 4,
  "nbformat_minor": 5
}