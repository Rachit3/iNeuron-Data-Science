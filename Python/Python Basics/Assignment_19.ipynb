{
  "cells": [
    {
      "cell_type": "markdown",
      "id": "b81faea0",
      "metadata": {
        "id": "b81faea0"
      },
      "source": [
        "#### 1. Make a class called Thing with no contents and print it. Then, create an object called example from this class and also print it. Are the printed values the same or different?"
      ]
    },
    {
      "cell_type": "code",
      "execution_count": null,
      "id": "ca6baf51",
      "metadata": {
        "id": "ca6baf51",
        "outputId": "983b07a6-94e2-420a-dfd6-42c96f5cc8d7"
      },
      "outputs": [
        {
          "name": "stdout",
          "output_type": "stream",
          "text": [
            "<class '__main__.Thing'>\n",
            "<__main__.Thing object at 0x0000019773483280>\n"
          ]
        }
      ],
      "source": [
        "class Thing:\n",
        "    pass\n",
        "\n",
        "print(Thing)\n",
        "\n",
        "example = Thing()\n",
        "print(example)"
      ]
    },
    {
      "cell_type": "markdown",
      "id": "a72ea27d",
      "metadata": {
        "id": "a72ea27d"
      },
      "source": [
        "#### 2. Create a new class called Thing2 and add the value 'abc' to the letters class attribute. Letters should be printed."
      ]
    },
    {
      "cell_type": "code",
      "execution_count": null,
      "id": "2884a385",
      "metadata": {
        "id": "2884a385",
        "outputId": "0d2d046b-e130-496e-ed68-554b18055c53"
      },
      "outputs": [
        {
          "name": "stdout",
          "output_type": "stream",
          "text": [
            "abc\n"
          ]
        }
      ],
      "source": [
        "class Thing2:\n",
        "    letters = 'abc'\n",
        "    \n",
        "print(Thing2.letters)"
      ]
    },
    {
      "cell_type": "markdown",
      "id": "5a9babc7",
      "metadata": {
        "id": "5a9babc7"
      },
      "source": [
        "#### 3. Make yet another class called, of course, Thing3. This time, assign the value 'xyz' to an instance (object) attribute called letters. Print letters. Do you need to make an object from the class to do this?"
      ]
    },
    {
      "cell_type": "code",
      "execution_count": null,
      "id": "2431604e",
      "metadata": {
        "id": "2431604e",
        "outputId": "628ab02d-7620-44e2-a585-57d35080a5f7"
      },
      "outputs": [
        {
          "name": "stdout",
          "output_type": "stream",
          "text": [
            "xyz\n"
          ]
        }
      ],
      "source": [
        "class Thing3:    \n",
        "    def __init__(self):\n",
        "        self.letters = 'xyz'\n",
        "        \n",
        "try:        \n",
        "    print(Thing3.letters) # Will raise a syntax Error\n",
        "except:\n",
        "    my_thing = Thing3()\n",
        "    print(my_thing.letters)"
      ]
    },
    {
      "cell_type": "markdown",
      "id": "7b7c745d",
      "metadata": {
        "id": "7b7c745d"
      },
      "source": [
        "#### 4. Create an Element class with the instance attributes name, symbol, and number. Create a class object with the values 'Hydrogen,' 'H,' and 1."
      ]
    },
    {
      "cell_type": "code",
      "execution_count": null,
      "id": "5d1706be",
      "metadata": {
        "id": "5d1706be"
      },
      "outputs": [],
      "source": [
        "class Element:   \n",
        "    def __init__(self, name, symbol, number):\n",
        "        self.name = name\n",
        "        self.symbol = symbol\n",
        "        self.number = number\n",
        "\n",
        "my_elements = Element('Hydrogen','H',1)"
      ]
    },
    {
      "cell_type": "markdown",
      "id": "6e689470",
      "metadata": {
        "id": "6e689470"
      },
      "source": [
        "#### 5. Make a dictionary with these keys and values: 'name': 'Hydrogen', 'symbol': 'H', 'number': 1. Then, create an object called hydrogen from class Element using this dictionary."
      ]
    },
    {
      "cell_type": "code",
      "execution_count": null,
      "id": "449c5a72",
      "metadata": {
        "id": "449c5a72",
        "outputId": "030fb45a-dc95-4800-87dc-c2f217766dab"
      },
      "outputs": [
        {
          "name": "stdout",
          "output_type": "stream",
          "text": [
            "{'name': 'Hydrogen', 'symbol': 'H', 'number': 1}\n",
            "Using Method #1 ->\tHydrogen\tH\t1\n",
            "Using Method #2 ->\tHydrogen\tH\t1\n"
          ]
        }
      ],
      "source": [
        "custom_dict = {'name':'Hydrogen','symbol':'H','number':1}\n",
        "print(custom_dict)\n",
        "\n",
        "# Method 1\n",
        "hydrogen = Element(*custom_dict.values())\n",
        "print('Using Method #1 ->',hydrogen.name,hydrogen.symbol,hydrogen.number, sep='\\t')\n",
        "\n",
        "# Method 2\n",
        "hydrogen = Element(**custom_dict)\n",
        "print('Using Method #2 ->',hydrogen.name,hydrogen.symbol,hydrogen.number, sep='\\t')"
      ]
    },
    {
      "cell_type": "markdown",
      "id": "29fcbd3c",
      "metadata": {
        "id": "29fcbd3c"
      },
      "source": [
        "#### 6. For the Element class, define a method called dump() that prints the values of the object’s attributes (name, symbol, and number). Create the hydrogen object from this new definition and use dump() to print its attributes."
      ]
    },
    {
      "cell_type": "code",
      "execution_count": null,
      "id": "29f1c595",
      "metadata": {
        "id": "29f1c595",
        "outputId": "1a5cd8f1-ddea-41e8-e809-f898b96f30fb"
      },
      "outputs": [
        {
          "name": "stdout",
          "output_type": "stream",
          "text": [
            "Hydrogen H 1\n"
          ]
        }
      ],
      "source": [
        "class Element:\n",
        "    def __init__(self, name, symbol, number):\n",
        "        self.name = name\n",
        "        self.symbol = symbol\n",
        "        self.number = number      \n",
        "    def dump(self):\n",
        "        print(self.name, self.symbol, self.number)\n",
        "        \n",
        "hydrogen = Element('Hydrogen','H',1)\n",
        "hydrogen.dump()"
      ]
    },
    {
      "cell_type": "markdown",
      "id": "6ac60e69",
      "metadata": {
        "id": "6ac60e69"
      },
      "source": [
        "#### 7. Call print(hydrogen). In the definition of Element, change the name of method dump to `__str__`, create a new hydrogen object, and call print(hydrogen) again."
      ]
    },
    {
      "cell_type": "code",
      "execution_count": null,
      "id": "dcf913a7",
      "metadata": {
        "id": "dcf913a7",
        "outputId": "e5ba1377-309f-4d81-afef-bf813f38745e"
      },
      "outputs": [
        {
          "name": "stdout",
          "output_type": "stream",
          "text": [
            "<__main__.Element object at 0x00000197734BC280>\n",
            "Hydrogen H 1\n"
          ]
        }
      ],
      "source": [
        "print(hydrogen)\n",
        "\n",
        "class Element:\n",
        "    def __init__(self, name, symbol, number):\n",
        "        self.name = name\n",
        "        self.symbol = symbol\n",
        "        self.number = number      \n",
        "    def __str__(self):\n",
        "        return f'{self.name} {self.symbol} {self.number}'\n",
        "        \n",
        "Hydrogen = Element('Hydrogen','H',1)\n",
        "print(Hydrogen)"
      ]
    },
    {
      "cell_type": "markdown",
      "id": "77fe6e98",
      "metadata": {
        "id": "77fe6e98"
      },
      "source": [
        "#### 8. Modify Element to make the attributes name, symbol, and number private. Define a getter property for each to return its value."
      ]
    },
    {
      "cell_type": "code",
      "execution_count": null,
      "id": "db24fe38",
      "metadata": {
        "id": "db24fe38",
        "outputId": "b0a2b276-f1e1-4c6f-f334-7398549dae9d"
      },
      "outputs": [
        {
          "name": "stdout",
          "output_type": "stream",
          "text": [
            "Hydrogen\n",
            "H\n",
            "1\n"
          ]
        }
      ],
      "source": [
        "class Element:\n",
        "    def __init__(self,name,symbol,number):\n",
        "        self.__name = name\n",
        "        self.__symbol = symbol\n",
        "        self.__number = number\n",
        "    \n",
        "    @property\n",
        "    def get_name(self):\n",
        "        return self.__name\n",
        "    \n",
        "    @property\n",
        "    def get_symbol(self):\n",
        "        return self.__symbol\n",
        "    \n",
        "    @property\n",
        "    def get_number(self):\n",
        "        return self.__number\n",
        "    \n",
        "hydrogen = Element('Hydrogen','H',1)\n",
        "print(hydrogen.get_name)\n",
        "print(hydrogen.get_symbol)\n",
        "print(hydrogen.get_number)"
      ]
    },
    {
      "cell_type": "markdown",
      "id": "99ebba53",
      "metadata": {
        "id": "99ebba53"
      },
      "source": [
        "#### 9. Define three classes: Bear, Rabbit, and Octothorpe. For each, define only one method: eats(). This should return 'berries' (Bear), 'clover' (Rabbit), or 'campers' (Octothorpe). Create one object from each and print what it eats."
      ]
    },
    {
      "cell_type": "code",
      "execution_count": null,
      "id": "c3d62d48",
      "metadata": {
        "id": "c3d62d48",
        "outputId": "be96a8b2-6aa8-4521-c26a-bddac4c2b453"
      },
      "outputs": [
        {
          "name": "stdout",
          "output_type": "stream",
          "text": [
            "berries\n",
            "clover\n",
            "campers\n"
          ]
        }
      ],
      "source": [
        "class Bear:\n",
        "    def eats(self):\n",
        "        print('berries')\n",
        "class Rabbit:\n",
        "    def eats(self):\n",
        "        print('clover')\n",
        "class Octothorpe:\n",
        "    def eats(self):\n",
        "        print('campers')\n",
        "        \n",
        "bear = Bear()\n",
        "rabbit = Rabbit()\n",
        "octothrope = Octothorpe()\n",
        "\n",
        "bear.eats()\n",
        "rabbit.eats()\n",
        "octothrope.eats()"
      ]
    },
    {
      "cell_type": "markdown",
      "id": "0b4ae61e",
      "metadata": {
        "id": "0b4ae61e"
      },
      "source": [
        "#### 10. Define these classes: Laser, Claw, and SmartPhone. Each has only one method: does(). This returns 'disintegrate' (Laser), 'crush' (Claw), or 'ring' (SmartPhone). Then, define the class Robot that has one instance (object) of each of these. Define a does() method for the Robot that prints what its component objects do."
      ]
    },
    {
      "cell_type": "code",
      "execution_count": null,
      "id": "cee9d108",
      "metadata": {
        "id": "cee9d108",
        "outputId": "337dc7c9-59f2-4193-da8b-61a123ee5d33"
      },
      "outputs": [
        {
          "name": "stdout",
          "output_type": "stream",
          "text": [
            "disintegrate crush ring\n"
          ]
        }
      ],
      "source": [
        "class Laser:\n",
        "    def does(self):\n",
        "        return 'disintegrate'\n",
        "class Claw:\n",
        "    def does(self):\n",
        "        return 'crush'\n",
        "class Smartphone:\n",
        "    def does(self):\n",
        "        return 'ring'\n",
        "class Robot:\n",
        "    def __init__(self):\n",
        "        self.laser = Laser()\n",
        "        self.claw = Claw()\n",
        "        self.smartphone = Smartphone()\n",
        "    def does(self):\n",
        "        print(self.laser.does(),self.claw.does(),self.smartphone.does())\n",
        "        \n",
        "r2d2 = Robot()\n",
        "r2d2.does()"
      ]
    }
  ],
  "metadata": {
    "kernelspec": {
      "display_name": "Python 3 (ipykernel)",
      "language": "python",
      "name": "python3"
    },
    "language_info": {
      "codemirror_mode": {
        "name": "ipython",
        "version": 3
      },
      "file_extension": ".py",
      "mimetype": "text/x-python",
      "name": "python",
      "nbconvert_exporter": "python",
      "pygments_lexer": "ipython3",
      "version": "3.8.8"
    },
    "colab": {
      "provenance": []
    }
  },
  "nbformat": 4,
  "nbformat_minor": 5
}