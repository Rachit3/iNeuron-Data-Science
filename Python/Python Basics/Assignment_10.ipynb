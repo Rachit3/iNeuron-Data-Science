{
  "cells": [
    {
      "cell_type": "markdown",
      "id": "c00ae223",
      "metadata": {
        "id": "c00ae223"
      },
      "source": [
        "#### 1. How do you distinguish between shutil.copy() and shutil.copytree()?\n",
        "**Ans:** The `shutil.copy()` function is utilized to duplicate the contents of a file from one location to another. It requires two parameters, namely, source and destination. The source signifies the file that needs to be copied, while the destination represents the file or folder where the source data should be duplicated. If the destination is a folder, then the source file with the same name will be copied to that folder. If the destination is a file, then the source file's contents will be duplicated to the destination file while retaining the original name.\n",
        "\n",
        "The `shutil.copytree()` method is utilized to copy the complete contents of a directory to another directory. It accepts two arguments, namely, src and dest. This function recursively duplicates all the content from the source directory and stores it in the destination directory. The crucial thing to keep in mind is that the destination directory should not exist before the copy operation because it will be created automatically during the copy process. The permissions and times of directories are duplicated using shutil.copystat(), and individual files are copied using shutil.copy2() by default, but this behavior can be altered by using the copy_function attribute.\n"
      ]
    },
    {
      "cell_type": "markdown",
      "id": "0a932861",
      "metadata": {
        "id": "0a932861"
      },
      "source": [
        "#### 2. What function is used to rename files??\n",
        "**Ans:** `os.rename()` function is used to rename files or directories "
      ]
    },
    {
      "cell_type": "markdown",
      "id": "34ce7a3d",
      "metadata": {
        "id": "34ce7a3d"
      },
      "source": [
        "#### 3. What is the difference between the delete functions in the send2trash and shutil modules?\n",
        "**Ans:** The shutil module contains the shutil.rmtree() function that deletes a directory along with all its contents. Additionally, other functions with similar functionality include os.remove(), which removes a file, and os.rmdir(), which removes an empty directory. The issue with these functions is that once a file is deleted, it is lost permanently. If a file is unintentionally deleted using these methods, there is no way to recover it.\n",
        "\n",
        "On the other hand, the send2trash module offers the send2trash.send2trash() function to delete a file or directory. These methods move the files or directories to the trash folder instead of permanently deleting them. Therefore, if a file or folder is accidentally deleted using the send2trash.send2trash() function, it can still be recovered from the trash folder. Unlike the os and shutil modules, send2trash is not included in the standard Python library and must be installed explicitly using the command !pip install send2trash."
      ]
    },
    {
      "cell_type": "markdown",
      "id": "bf6ed792",
      "metadata": {
        "id": "bf6ed792"
      },
      "source": [
        "#### 4.ZipFile objects have a close() method just like File objects’ close() method. What ZipFile method is equivalent to File objects’ open() method?\n",
        "**Ans:** ZipFile Module provides a method called as `zipfile.ZipFile()` to read and write to zipFiles. it takes arugments lile filename and mode etc `zipfile.ZipFile('filename', mode = 'r')`"
      ]
    },
    {
      "cell_type": "markdown",
      "id": "c625fcea",
      "metadata": {
        "id": "c625fcea"
      },
      "source": [
        "#### 5. Create a programme that searches a folder tree for files with a certain file extension (such as .pdf or .jpg). Copy these files from whatever location they are in to a new folder"
      ]
    },
    {
      "cell_type": "code",
      "execution_count": null,
      "id": "4710d7d8",
      "metadata": {
        "id": "4710d7d8",
        "outputId": "f9d5d747-0bfa-4fe1-95f3-415da866a660"
      },
      "outputs": [
        {
          "name": "stdout",
          "output_type": "stream",
          "text": [
            "Folder Name ➞ C:\\Users\\vishnu.adepu\\Documents\\iNeuron-Assignments\\Python Basic Assignment\\Dummy Source\n",
            "\n",
            "Sub Folders ➞ []\n",
            "\n",
            "Files ➞ ['01.Assignment_01.ipynb', '02.Assignment_02.ipynb', '03.Assignment_03.ipynb', '04.Assignment_04.ipynb', '05.Assignment_05.ipynb', '06.Assignment_06.ipynb', '07.Assignment_07.ipynb', '08.Assignment_08.ipynb', '09.Assignment_09.ipynb', '10.Assignment_10.ipynb', '11.Assignment_11.ipynb', '12.Assignment_12.ipynb', '13.Assignment_13.ipynb', '14.Assignment_14.ipynb', '15.Assignment_15.ipynb', '16.Assignment_16.ipynb', '17.Assignment_17.ipynb', '18.Assignment_18.ipynb', '19.Assignment_19.ipynb', '20.Assignment_20.ipynb', '21.Assignment_21.ipynb', '22.Assignment_22.ipynb', '23.Assignment_23.ipynb', '24.Assignment_24.ipynb', '25.Assignment_25.ipynb']\n",
            "\n",
            "Files copied successfully from C:\\Users\\vishnu.adepu\\Documents\\iNeuron-Assignments\\Python Basic Assignment\\Dummy Source to C:\\Users\\vishnu.adepu\\Documents\\iNeuron-Assignments\\Python Basic Assignment\\Dummy Destination\n"
          ]
        }
      ],
      "source": [
        "import os\n",
        "import shutil\n",
        "\n",
        "def search_and_copy(source,destination,extensions):\n",
        "    source = os.path.abspath(source)\n",
        "    destination = os.path.abspath(destination)\n",
        "    for foldername, subfolder, filenames in os.walk(source):\n",
        "        print(f'Folder Name ➞ {foldername}',end='\\n\\n')\n",
        "        print(f'Sub Folders ➞ {subfolder}',end='\\n\\n')\n",
        "        print(f'Files ➞ {filenames}',end='\\n\\n')\n",
        "        for filename in filenames:\n",
        "            fileName,extension = os.path.splitext(filename)\n",
        "            if extension in extensions:\n",
        "                targetFile = foldername+os.path.sep+fileName+extension\n",
        "                shutil.copy(targetFile, destination)\n",
        "        print(f'Files copied successfully from {source} to {destination}')\n",
        "    \n",
        "extensions = ['.pdf','.jpg','.ipynb']\n",
        "source = 'Dummy Source'\n",
        "destination = 'Dummy Destination'\n",
        "search_and_copy(source, destination, extensions)"
      ]
    }
  ],
  "metadata": {
    "kernelspec": {
      "display_name": "Python 3",
      "language": "python",
      "name": "python3"
    },
    "language_info": {
      "codemirror_mode": {
        "name": "ipython",
        "version": 3
      },
      "file_extension": ".py",
      "mimetype": "text/x-python",
      "name": "python",
      "nbconvert_exporter": "python",
      "pygments_lexer": "ipython3",
      "version": "3.8.8"
    },
    "colab": {
      "provenance": []
    }
  },
  "nbformat": 4,
  "nbformat_minor": 5
}