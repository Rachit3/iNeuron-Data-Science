{
  "cells": [
    {
      "cell_type": "markdown",
      "id": "3267a0e0",
      "metadata": {
        "id": "3267a0e0"
      },
      "source": [
        "#### 1. What is the relationship between def statements and lambda expressions ?\n",
        "**Ans:** `def` statements and lambda expressions is that a def statement creates a named function that can be called multiple times, while a `lambda `expression creates an anonymous function that is typically used only once, in the context where it is defined."
      ]
    },
    {
      "cell_type": "markdown",
      "id": "e23f6be0",
      "metadata": {
        "id": "e23f6be0"
      },
      "source": [
        "#### 2. What is the benefit of lambda?\n",
        "**Ans:** The main benefit of using lambda expressions in Python is that they provide a compact and concise way to define simple functions without the need to create a separate named function."
      ]
    },
    {
      "cell_type": "markdown",
      "id": "c0abb1a0",
      "metadata": {
        "id": "c0abb1a0"
      },
      "source": [
        "#### 3. Compare and contrast map, filter, and reduce.\n",
        "**Ans:** The differences between map, filter and reduce are: \n",
        "1. `map()`: The map() function is a type of higher-order. This function takes another function as a parameter\n",
        "along with a sequence of iterables and returns an output after applying the function to each iterable present in the\n",
        "sequence. \n",
        "2. `filter()`: The filter() function is used to create an output list consisting of values for which the function returns true.\n",
        "3. `reduce()`: The reduce() function, as the name describes, applies a given function to the iterables and returns a single value"
      ]
    },
    {
      "cell_type": "markdown",
      "id": "ed66668e",
      "metadata": {
        "id": "ed66668e"
      },
      "source": [
        "#### 4. What are function annotations, and how are they used?\n",
        "**Ans:** Function annotations provide a way of associating various parts of a function with arbitrary pythoncexpressions at compile time.   \n",
        "Annotations of simple parameters `def func(x: expression, y: expression = 20):`  \n",
        "Whereas the annotations for excess parameters are as − `def func (**args: expression, **kwargs: expression):`"
      ]
    },
    {
      "cell_type": "markdown",
      "id": "e91c02f9",
      "metadata": {
        "id": "e91c02f9"
      },
      "source": [
        "#### 5. What are recursive functions, and how are they used?\n",
        "**Ans:** A recursive function is a function that calls itself during its execution. The process may repeat several times, \n",
        "giving the result at the end of each iteration. "
      ]
    },
    {
      "cell_type": "markdown",
      "id": "0616de68",
      "metadata": {
        "id": "0616de68"
      },
      "source": [
        "#### 6. What are some general design guidelines for coding functions?\n",
        "**Ans:** Some of the general design guidelines for coding functions are:\n",
        "\n",
        "1.Keep functions simple and focused.\n",
        "\n",
        "2.Avoid side effects and global state modifications.\n",
        "\n",
        "3.Use consistent naming conventions and parameter ordering.\n",
        "\n",
        "4.Write self-documenting code with clear and descriptive names.\n",
        "\n",
        "5.Keep functions small (ideally <20-30 lines of code).\n",
        "\n",
        "6.Use appropriate data types and handle errors gracefully.\n",
        "\n",
        "7.Write unit tests to ensure expected behavior.\n",
        "\n",
        "8.Refactor functions as needed to improve performance, maintainability, and readability."
      ]
    },
    {
      "cell_type": "markdown",
      "id": "50555ec6",
      "metadata": {
        "id": "50555ec6"
      },
      "source": [
        "#### 7. Name three or more ways that functions can communicate results to a caller.\n",
        "**Ans:** Some of the ways in which a function can communicate with the calling function is:\n",
        "1. print\n",
        "2. return\n",
        "3. yield"
      ]
    }
  ],
  "metadata": {
    "kernelspec": {
      "display_name": "Python 3",
      "language": "python",
      "name": "python3"
    },
    "language_info": {
      "codemirror_mode": {
        "name": "ipython",
        "version": 3
      },
      "file_extension": ".py",
      "mimetype": "text/x-python",
      "name": "python",
      "nbconvert_exporter": "python",
      "pygments_lexer": "ipython3",
      "version": "3.8.8"
    },
    "colab": {
      "provenance": []
    }
  },
  "nbformat": 4,
  "nbformat_minor": 5
}