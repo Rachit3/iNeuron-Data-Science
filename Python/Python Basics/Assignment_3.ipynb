{
  "nbformat": 4,
  "nbformat_minor": 0,
  "metadata": {
    "colab": {
      "provenance": []
    },
    "kernelspec": {
      "name": "python3",
      "display_name": "Python 3"
    },
    "language_info": {
      "name": "python"
    }
  },
  "cells": [
    {
      "cell_type": "markdown",
      "source": [
        "1. Why are functions advantageous to have in your programs?"
      ],
      "metadata": {
        "id": "MGWXjvVAN3Hh"
      }
    },
    {
      "cell_type": "code",
      "source": [
        "\"\"\"\n",
        "Because of functions \n",
        "- we can reuse a code multiple number of times\n",
        "- same function can be used in various codes\n",
        "- functions divides the code into blocks which is easy for understanding and maintainan\n",
        "\"\"\""
      ],
      "metadata": {
        "id": "lEMx9uykN3Ze"
      },
      "execution_count": null,
      "outputs": []
    },
    {
      "cell_type": "markdown",
      "source": [
        "2. When does the code in a function run: when it&#39;s specified or when it&#39;s called?"
      ],
      "metadata": {
        "id": "oTyYSzHnN31H"
      }
    },
    {
      "cell_type": "code",
      "source": [
        "\"\"\"\n",
        "A code in a function runs  when its called\n",
        "\n",
        "\"\"\""
      ],
      "metadata": {
        "id": "EGAZHeWuN4FF"
      },
      "execution_count": null,
      "outputs": []
    },
    {
      "cell_type": "markdown",
      "source": [
        "3. What statement creates a function?"
      ],
      "metadata": {
        "id": "ZATX2EkYN4Wx"
      }
    },
    {
      "cell_type": "code",
      "source": [
        "\"\"\"\n",
        "CREATE FUNCTION statement creates a function in python\n",
        "\n",
        "\"\"\""
      ],
      "metadata": {
        "id": "iUgc8BnFN4mc"
      },
      "execution_count": null,
      "outputs": []
    },
    {
      "cell_type": "markdown",
      "source": [
        "4. What is the difference between a function and a function call?"
      ],
      "metadata": {
        "id": "1qP80lxrN412"
      }
    },
    {
      "cell_type": "code",
      "source": [
        "\"\"\"\n",
        "function is a piece of code or block of code that conatains certain statements to perform a specific task.\n",
        "function call is invoking an available function to use it.\n",
        "\n",
        "\"\"\""
      ],
      "metadata": {
        "id": "p3XuZS1wN5GA"
      },
      "execution_count": null,
      "outputs": []
    },
    {
      "cell_type": "markdown",
      "source": [
        "5. How many global scopes are there in a Python program? How many local scopes?"
      ],
      "metadata": {
        "id": "FIu3N_YvN5U3"
      }
    },
    {
      "cell_type": "code",
      "source": [
        "\"\"\"\n",
        "There are 2 scopes in a python program :\n",
        "1. Local Scope: when a variable is declared inside a function, then that variable cant be used outside of that function block.\n",
        "                this is called local scope.\n",
        "2. Global Scope: When a variable is declared in the main body of the program, then that is called global scope as it can be used \n",
        "                inside any function in that program.\n",
        "\"\"\""
      ],
      "metadata": {
        "id": "Jxa6n3lKN5kw"
      },
      "execution_count": null,
      "outputs": []
    },
    {
      "cell_type": "markdown",
      "source": [
        "6. What happens to variables in a local scope when the function call returns?"
      ],
      "metadata": {
        "id": "Tyle1GxkN6pN"
      }
    },
    {
      "cell_type": "code",
      "source": [
        "\"\"\"\n",
        "the variables in the a local scope are destroyed or rendered useless and cant be used outside that function body\n",
        "when the fucntion call returns.\n",
        "\"\"\""
      ],
      "metadata": {
        "id": "RLlRLEoSN64H"
      },
      "execution_count": null,
      "outputs": []
    },
    {
      "cell_type": "markdown",
      "source": [
        "7. What is the concept of a return value? Is it possible to have a return value in an expression?"
      ],
      "metadata": {
        "id": "Pm-1tS84N-U-"
      }
    },
    {
      "cell_type": "code",
      "source": [
        "\"\"\"\n",
        "return function stops the fucntion and returns the value of the function at that instance.\n",
        "\n",
        "return value can only be used inside a function.\n",
        "\n",
        "Yes its possible to have a return value in an expression. \n",
        "\"\"\""
      ],
      "metadata": {
        "id": "GQ18XlFDN-lU"
      },
      "execution_count": null,
      "outputs": []
    },
    {
      "cell_type": "markdown",
      "source": [
        "8. If a function does not have a return statement, what is the return value of a call to that function?"
      ],
      "metadata": {
        "id": "tJS6YDFoN-__"
      }
    },
    {
      "cell_type": "code",
      "source": [
        "\"\"\"\n",
        "If a function does not have a return statement, then the return value of a call to that function will be 'None'\n",
        "\"\"\""
      ],
      "metadata": {
        "id": "50-2dI7rN_R0"
      },
      "execution_count": null,
      "outputs": []
    },
    {
      "cell_type": "markdown",
      "source": [
        "9. How do you make a function variable refer to the global variable?"
      ],
      "metadata": {
        "id": "Qpso8ErdN_hy"
      }
    },
    {
      "cell_type": "code",
      "source": [
        "\"\"\"\n",
        "we can make a function variable refer to the global variable by using 'Global' keyword before that variable\n",
        "\"\"\"\n"
      ],
      "metadata": {
        "id": "-53KOtyON_xq"
      },
      "execution_count": null,
      "outputs": []
    },
    {
      "cell_type": "markdown",
      "source": [
        "10. What is the data type of None?"
      ],
      "metadata": {
        "id": "K2KmUbDjOAD_"
      }
    },
    {
      "cell_type": "code",
      "source": [
        "'''\n",
        "the data type of none is 'NoneType' .\n",
        "'''"
      ],
      "metadata": {
        "id": "7-uIf7riOATX"
      },
      "execution_count": null,
      "outputs": []
    },
    {
      "cell_type": "markdown",
      "source": [
        "11. What does the sentence import areallyourpetsnamederic do?"
      ],
      "metadata": {
        "id": "4XxGMZfgOAoZ"
      }
    },
    {
      "cell_type": "code",
      "source": [
        "'''\n",
        "It imports a module called 'areallyourpetsnamederic'\n",
        "'''"
      ],
      "metadata": {
        "id": "3boYUKnbOA31"
      },
      "execution_count": null,
      "outputs": []
    },
    {
      "cell_type": "markdown",
      "source": [
        "12. If you had a bacon() feature in a spam module, what would you call it after importing spam?"
      ],
      "metadata": {
        "id": "1y37cs8YOBGK"
      }
    },
    {
      "cell_type": "code",
      "source": [
        "'''\n",
        " It can called using spam.bacon()\n",
        " '''"
      ],
      "metadata": {
        "id": "p2Cmgy43OBV1"
      },
      "execution_count": null,
      "outputs": []
    },
    {
      "cell_type": "markdown",
      "source": [
        "13. What can you do to save a programme from crashing if it encounters an error?"
      ],
      "metadata": {
        "id": "WnINfGjBOBk8"
      }
    },
    {
      "cell_type": "code",
      "source": [
        "\n",
        "'''\n",
        "to save a programme from crashing, we can enclose that programme under 'try' block and can write and \n",
        "print an error message in except block after try Block.\n",
        "\n",
        "try:\n",
        "  -------\n",
        "  program\n",
        "  ------\n",
        "  -------\n",
        "except:\n",
        "  --------\n",
        "'''"
      ],
      "metadata": {
        "id": "5nJUb_NROB3n"
      },
      "execution_count": null,
      "outputs": []
    },
    {
      "cell_type": "markdown",
      "source": [
        "14. What is the purpose of the try clause? What is the purpose of the except clause?"
      ],
      "metadata": {
        "id": "QQFeBy7kOCIU"
      }
    },
    {
      "cell_type": "code",
      "source": [
        "'''\n",
        "try block takes the code which has the risk of crashing or giving an error.\n",
        "except block is execute if the try block code gives an error.\n",
        "'''"
      ],
      "metadata": {
        "id": "SAltUXfNOCYo"
      },
      "execution_count": null,
      "outputs": []
    }
  ]
}