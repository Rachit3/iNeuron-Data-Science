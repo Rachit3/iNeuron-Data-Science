{
  "nbformat": 4,
  "nbformat_minor": 0,
  "metadata": {
    "colab": {
      "provenance": []
    },
    "kernelspec": {
      "name": "python3",
      "display_name": "Python 3"
    },
    "language_info": {
      "name": "python"
    }
  },
  "cells": [
    {
      "cell_type": "markdown",
      "source": [
        "**Question** : Given a string s, find the first non-repeating character in it and return its index. If it does not exist, return -1.\n",
        "\n",
        "Example 1:\n",
        "Input: s = \"leetcode\"\n",
        "Output: 0\n",
        "\n",
        "Example 2:\n",
        "Input: s = \"loveleetcode\"\n",
        "Output: 2\n",
        "\n",
        "Example 3:\n",
        "Input: s = \"aabb\"\n",
        "Output: -1\n",
        "\n",
        "Constraints:\n",
        "a. 1 <= s.length <= 10^5\n",
        "b. s consists of only lowercase English letters. "
      ],
      "metadata": {
        "id": "bQs_LPy23LYF"
      }
    },
    {
      "cell_type": "code",
      "execution_count": 1,
      "metadata": {
        "id": "togjisIO3Hev"
      },
      "outputs": [],
      "source": [
        "def firstUniqChar(s):\n",
        "    char_freq = {}\n",
        "\n",
        "    # Count the frequency of each character\n",
        "    for char in s:\n",
        "        char_freq[char] = char_freq.get(char, 0) + 1\n",
        "\n",
        "    # Find the first character with frequency 1\n",
        "    for i, char in enumerate(s):\n",
        "        if char_freq[char] == 1:\n",
        "            return i\n",
        "\n",
        "    return -1\n"
      ]
    },
    {
      "cell_type": "code",
      "source": [
        "#example 1\n",
        "s = \"leetcode\"\n",
        "firstUniqChar(s)\n"
      ],
      "metadata": {
        "colab": {
          "base_uri": "https://localhost:8080/"
        },
        "id": "OSOh7NPy3fR4",
        "outputId": "372ddc2c-bc0e-4e94-db5c-58bce11e5387"
      },
      "execution_count": 3,
      "outputs": [
        {
          "output_type": "execute_result",
          "data": {
            "text/plain": [
              "0"
            ]
          },
          "metadata": {},
          "execution_count": 3
        }
      ]
    },
    {
      "cell_type": "code",
      "source": [
        "#example 2\n",
        "s = \"loveleetcode\"\n",
        "firstUniqChar(s)"
      ],
      "metadata": {
        "colab": {
          "base_uri": "https://localhost:8080/"
        },
        "id": "-qCX5tXC3fDd",
        "outputId": "c74045b2-6502-4568-9474-42f3492631db"
      },
      "execution_count": 4,
      "outputs": [
        {
          "output_type": "execute_result",
          "data": {
            "text/plain": [
              "2"
            ]
          },
          "metadata": {},
          "execution_count": 4
        }
      ]
    },
    {
      "cell_type": "code",
      "source": [
        "#example 3\n",
        "s = \"aabb\"\n",
        "firstUniqChar(s)\n"
      ],
      "metadata": {
        "colab": {
          "base_uri": "https://localhost:8080/"
        },
        "id": "0ZnH644x3iSC",
        "outputId": "cf81ec5f-cfe8-47fe-fef8-fd394c34c78c"
      },
      "execution_count": 5,
      "outputs": [
        {
          "output_type": "execute_result",
          "data": {
            "text/plain": [
              "-1"
            ]
          },
          "metadata": {},
          "execution_count": 5
        }
      ]
    },
    {
      "cell_type": "code",
      "source": [],
      "metadata": {
        "id": "If_H0tPf32lO"
      },
      "execution_count": null,
      "outputs": []
    }
  ]
}