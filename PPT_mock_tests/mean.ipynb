{
  "nbformat": 4,
  "nbformat_minor": 0,
  "metadata": {
    "colab": {
      "provenance": []
    },
    "kernelspec": {
      "name": "python3",
      "display_name": "Python 3"
    },
    "language_info": {
      "name": "python"
    }
  },
  "cells": [
    {
      "cell_type": "markdown",
      "source": [
        "19. Write a function called ‘calculate_mean’ that takes a list of numbers as input and returns the mean (average) of the numbers. The function should calculate the mean using the sum of the numbers divided by the total count.\n",
        "\n",
        "Example:\n",
        "\n",
        "def calculate_mean(numbers):\n",
        "    total = sum(numbers)\n",
        "    count = len(numbers)\n",
        "    mean = total / count\n",
        "    return mean\n",
        "\n",
        "data = [10, 15, 20, 25, 30]\n",
        "mean_value = calculate_mean(data)\n",
        "print(\"Mean:\", mean_value)\n",
        "\n",
        "Output:\n",
        "Mean: 20.0"
      ],
      "metadata": {
        "id": "wUUeWaAWcezy"
      }
    },
    {
      "cell_type": "code",
      "execution_count": 1,
      "metadata": {
        "colab": {
          "base_uri": "https://localhost:8080/"
        },
        "id": "bsJcsyS9ccc8",
        "outputId": "c9e53f59-91b6-4ea8-8254-7ea6eab7581b"
      },
      "outputs": [
        {
          "output_type": "stream",
          "name": "stdout",
          "text": [
            "Mean: 20.0\n"
          ]
        }
      ],
      "source": [
        "def calculate_mean(numbers):\n",
        "    total = sum(numbers)\n",
        "    count = len(numbers)\n",
        "    mean = total / count\n",
        "    return mean\n",
        "\n",
        "data = [10, 15, 20, 25, 30]\n",
        "mean_value = calculate_mean(data)\n",
        "print(\"Mean:\", mean_value)\n"
      ]
    },
    {
      "cell_type": "code",
      "source": [],
      "metadata": {
        "id": "OSyz-ug9cjBM"
      },
      "execution_count": null,
      "outputs": []
    }
  ]
}