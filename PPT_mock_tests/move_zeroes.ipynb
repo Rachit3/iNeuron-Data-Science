{
  "nbformat": 4,
  "nbformat_minor": 0,
  "metadata": {
    "colab": {
      "provenance": []
    },
    "kernelspec": {
      "name": "python3",
      "display_name": "Python 3"
    },
    "language_info": {
      "name": "python"
    }
  },
  "cells": [
    {
      "cell_type": "markdown",
      "source": [
        "**question** : Given an integer array nums, move all 0's to the end of it while maintaining the relative order of the non-zero elements.\n",
        "\n",
        "Note that you must do this in-place without making a copy of the array.\n",
        "\n",
        "Example 1:\n",
        "Input: nums = [0,1,0,3,12]\n",
        "Output: [1,3,12,0,0]\n",
        "\n",
        "Example 2:\n",
        "Input: nums = [0]\n",
        "Output: [0]\n",
        "\n",
        "Constraints:\n",
        "a. 1 <= nums.length <= 10^4\n",
        "b. -2^31 <= nums[i] <= 2^31 - 1"
      ],
      "metadata": {
        "id": "W40uGYz62E4E"
      }
    },
    {
      "cell_type": "code",
      "execution_count": 1,
      "metadata": {
        "id": "UVqVjuF_17jc"
      },
      "outputs": [],
      "source": [
        "def moveZeroes(nums):\n",
        "    left = right = 0\n",
        "\n",
        "    while right < len(nums):\n",
        "        if nums[right] != 0:\n",
        "            nums[left], nums[right] = nums[right], nums[left]\n",
        "            left += 1\n",
        "        right += 1\n",
        "\n",
        "    while left < len(nums):\n",
        "        nums[left] = 0\n",
        "        left += 1\n",
        "\n",
        "    return nums\n"
      ]
    },
    {
      "cell_type": "code",
      "source": [
        "#example 1\n",
        "nums = [0, 1, 0, 3, 12]\n",
        "moveZeroes(nums)\n"
      ],
      "metadata": {
        "colab": {
          "base_uri": "https://localhost:8080/"
        },
        "id": "x7_GrBBQ2PtY",
        "outputId": "25467826-eab8-4121-a5d6-810ce4df8f14"
      },
      "execution_count": 4,
      "outputs": [
        {
          "output_type": "execute_result",
          "data": {
            "text/plain": [
              "[1, 3, 12, 0, 0]"
            ]
          },
          "metadata": {},
          "execution_count": 4
        }
      ]
    },
    {
      "cell_type": "code",
      "source": [
        "#example 2\n",
        "nums = [0]\n",
        "moveZeroes(nums)"
      ],
      "metadata": {
        "colab": {
          "base_uri": "https://localhost:8080/"
        },
        "id": "CveW17Aw2UC6",
        "outputId": "605e164e-ad5f-4c4c-d1ba-81afeb15e963"
      },
      "execution_count": 5,
      "outputs": [
        {
          "output_type": "execute_result",
          "data": {
            "text/plain": [
              "[0]"
            ]
          },
          "metadata": {},
          "execution_count": 5
        }
      ]
    },
    {
      "cell_type": "code",
      "source": [],
      "metadata": {
        "id": "s9hR31Ib2f6K"
      },
      "execution_count": null,
      "outputs": []
    }
  ]
}