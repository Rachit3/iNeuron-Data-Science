{
  "nbformat": 4,
  "nbformat_minor": 0,
  "metadata": {
    "colab": {
      "provenance": []
    },
    "kernelspec": {
      "name": "python3",
      "display_name": "Python 3"
    },
    "language_info": {
      "name": "python"
    }
  },
  "cells": [
    {
      "cell_type": "markdown",
      "source": [
        "18. Implement a decorator function called ‘timer’ that measures the execution time of a function. The ‘timer’ decorator should print the time taken by the decorated function to execute. Use the ‘time’ module in Python to calculate the execution time.\n",
        "\n",
        "Example:\n",
        "\n",
        "import time\n",
        "\n",
        "@timer\n",
        "def my_function():\n",
        "    # Function code goes here\n",
        "    time.sleep(2)\n",
        "\n",
        "my_function()\n",
        "\n",
        "Output:\n",
        "\"Execution time: 2.00123 seconds\""
      ],
      "metadata": {
        "id": "yFASSJsvcJrC"
      }
    },
    {
      "cell_type": "code",
      "execution_count": 1,
      "metadata": {
        "colab": {
          "base_uri": "https://localhost:8080/"
        },
        "id": "wkxwzbv-cIOv",
        "outputId": "22406855-46f0-4784-e971-17cce6defefb"
      },
      "outputs": [
        {
          "output_type": "stream",
          "name": "stdout",
          "text": [
            "Execution time: 2.0021188259124756 seconds\n"
          ]
        }
      ],
      "source": [
        "import time\n",
        "\n",
        "def timer(func):\n",
        "    def wrapper(*args, **kwargs):\n",
        "        start_time = time.time()\n",
        "        result = func(*args, **kwargs)\n",
        "        end_time = time.time()\n",
        "        execution_time = end_time - start_time\n",
        "        print(f\"Execution time: {execution_time} seconds\")\n",
        "        return result\n",
        "    return wrapper\n",
        "\n",
        "# Example usage\n",
        "@timer\n",
        "def my_function():\n",
        "    # Function code goes here\n",
        "    time.sleep(2)\n",
        "\n",
        "my_function()\n",
        "\n",
        "\n"
      ]
    },
    {
      "cell_type": "code",
      "source": [],
      "metadata": {
        "id": "TkUE_9OQcSbf"
      },
      "execution_count": null,
      "outputs": []
    }
  ]
}