{
  "nbformat": 4,
  "nbformat_minor": 0,
  "metadata": {
    "colab": {
      "provenance": []
    },
    "kernelspec": {
      "name": "python3",
      "display_name": "Python 3"
    },
    "language_info": {
      "name": "python"
    }
  },
  "cells": [
    {
      "cell_type": "code",
      "execution_count": 1,
      "metadata": {
        "id": "usesmtrR_dOG"
      },
      "outputs": [],
      "source": [
        "class Stack:\n",
        "    def __init__(self):\n",
        "        self.stack = []\n",
        "\n",
        "    def push(self, item):\n",
        "        self.stack.append(item)\n",
        "\n",
        "    def pop(self):\n",
        "        if self.isEmpty():\n",
        "            return None\n",
        "        return self.stack.pop()\n",
        "\n",
        "    def isEmpty(self):\n",
        "        return len(self.stack) == 0\n"
      ]
    },
    {
      "cell_type": "code",
      "source": [
        "stack = Stack()\n",
        "\n",
        "stack.push(1)\n",
        "stack.push(2)\n",
        "stack.push(3)\n",
        "\n",
        "print(stack.pop())\n",
        "print(stack.pop())\n",
        "print(stack.pop())\n",
        "print(stack.pop())\n",
        "print(stack.isEmpty())\n"
      ],
      "metadata": {
        "colab": {
          "base_uri": "https://localhost:8080/"
        },
        "id": "GAuXXmcH_nNK",
        "outputId": "ac346ce6-103d-4c75-d5f0-39e3fcbfafbe"
      },
      "execution_count": 2,
      "outputs": [
        {
          "output_type": "stream",
          "name": "stdout",
          "text": [
            "3\n",
            "2\n",
            "1\n",
            "None\n",
            "True\n"
          ]
        }
      ]
    }
  ]
}