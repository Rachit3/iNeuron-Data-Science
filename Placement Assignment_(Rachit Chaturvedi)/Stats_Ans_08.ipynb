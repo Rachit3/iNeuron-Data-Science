{
  "nbformat": 4,
  "nbformat_minor": 0,
  "metadata": {
    "colab": {
      "provenance": []
    },
    "kernelspec": {
      "name": "python3",
      "display_name": "Python 3"
    },
    "language_info": {
      "name": "python"
    }
  },
  "cells": [
    {
      "cell_type": "code",
      "execution_count": null,
      "metadata": {
        "colab": {
          "base_uri": "https://localhost:8080/"
        },
        "id": "h6rrYckJKx87",
        "outputId": "651e3d61-1553-484a-96cd-fbdd19a347ee"
      },
      "outputs": [
        {
          "output_type": "stream",
          "name": "stdout",
          "text": [
            "Wilcoxon signed-rank test:\n",
            "Test statistic: 0.0\n",
            "p-value: 0.001953125\n",
            "The therapy had a significant effect on anxiety levels.\n",
            "We reject the null hypothesis.\n"
          ]
        }
      ],
      "source": [
        "import scipy.stats as stats\n",
        "\n",
        "before_therapy = [10, 8, 12, 15, 6, 9, 11, 7, 14, 10]\n",
        "after_therapy = [7, 6, 10, 12, 5, 8, 9, 6, 12, 8]\n",
        "difference = [-3, -2, -2, -3, -1, -1, -2, -1, -2, -2]\n",
        "\n",
        "# Perform Wilcoxon signed-rank test\n",
        "statistic, p_value = stats.wilcoxon(difference)\n",
        "\n",
        "print(\"Wilcoxon signed-rank test:\")\n",
        "print(\"Test statistic:\", statistic)\n",
        "print(\"p-value:\", p_value)\n",
        "\n",
        "# Interpret the p-value\n",
        "alpha = 0.05  # Significance level\n",
        "\n",
        "if p_value < alpha:\n",
        "    print(\"The therapy had a significant effect on anxiety levels.\")\n",
        "    print(\"We reject the null hypothesis.\")\n",
        "else:\n",
        "    print(\"The therapy did not have a significant effect on anxiety levels.\")\n",
        "    print(\"We fail to reject the null hypothesis.\")\n"
      ]
    },
    {
      "cell_type": "code",
      "source": [],
      "metadata": {
        "id": "_DHoZviTLW8s"
      },
      "execution_count": null,
      "outputs": []
    }
  ]
}