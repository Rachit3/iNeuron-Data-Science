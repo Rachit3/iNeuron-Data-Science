{
  "nbformat": 4,
  "nbformat_minor": 0,
  "metadata": {
    "colab": {
      "provenance": []
    },
    "kernelspec": {
      "name": "python3",
      "display_name": "Python 3"
    },
    "language_info": {
      "name": "python"
    }
  },
  "cells": [
    {
      "cell_type": "code",
      "source": [
        "import nltk\n",
        "nltk.download('punkt')\n",
        "nltk.download('averaged_perceptron_tagger')"
      ],
      "metadata": {
        "id": "zr55rXKrAADz"
      },
      "execution_count": null,
      "outputs": []
    },
    {
      "cell_type": "code",
      "execution_count": 9,
      "metadata": {
        "colab": {
          "base_uri": "https://localhost:8080/"
        },
        "id": "UvbiJAjL_lcm",
        "outputId": "57e84dd4-21df-4c6c-d5e4-150ca7840f1e"
      },
      "outputs": [
        {
          "name": "stdout",
          "output_type": "stream",
          "text": [
            "Enter text here: apple was running late to the class\n"
          ]
        },
        {
          "output_type": "execute_result",
          "data": {
            "text/plain": [
              "{'nouns': 2, 'verbs': 2}"
            ]
          },
          "metadata": {},
          "execution_count": 9
        }
      ],
      "source": [
        "\n",
        "from nltk import word_tokenize, pos_tag\n",
        "from collections import defaultdict\n",
        "\n",
        "def count_pos(text):\n",
        "    # Tokenize the text into words\n",
        "    words = word_tokenize(text)\n",
        "\n",
        "    # Perform part-of-speech tagging\n",
        "    tagged_words = pos_tag(words)\n",
        "\n",
        "    # Initialize counts dictionary\n",
        "    counts = defaultdict(int)\n",
        "\n",
        "    # Count the number of each part of speech\n",
        "    for word, pos in tagged_words:\n",
        "        if pos.startswith('V'):  # Verb\n",
        "            counts['verbs'] += 1\n",
        "        elif pos.startswith('N'):  # Noun\n",
        "            counts['nouns'] += 1\n",
        "        elif pos.startswith('PRP'):  # Pronoun\n",
        "            counts['pronouns'] += 1\n",
        "        elif pos.startswith('JJ'):  # Adjective\n",
        "            counts['adjectives'] += 1\n",
        "\n",
        "    return dict(counts)\n",
        "\n",
        "# Test the function\n",
        "text = input('Enter text here: ')\n",
        "result = count_pos(text)\n",
        "result\n"
      ]
    }
  ]
}