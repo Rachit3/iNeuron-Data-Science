{
  "nbformat": 4,
  "nbformat_minor": 0,
  "metadata": {
    "colab": {
      "provenance": []
    },
    "kernelspec": {
      "name": "python3",
      "display_name": "Python 3"
    },
    "language_info": {
      "name": "python"
    }
  },
  "cells": [
    {
      "cell_type": "code",
      "execution_count": 3,
      "metadata": {
        "colab": {
          "base_uri": "https://localhost:8080/"
        },
        "id": "xtrhcZI7Kksd",
        "outputId": "05f401e0-4715-4e8b-88d9-125318983a38"
      },
      "outputs": [
        {
          "output_type": "stream",
          "name": "stdout",
          "text": [
            "The mean scores of the students are the same (fail to reject null hypothesis).\n"
          ]
        }
      ],
      "source": [
        "import scipy.stats as stats\n",
        "import numpy as np\n",
        "\n",
        "# Define the scores for each exam\n",
        "name=[\"Karan\", \"Deepa\", \"Karthik\", \"Chandan\", \"Jeevan\"]\n",
        "exam1_scores = [85, 70, 90, 75, 95]\n",
        "exam2_scores = [90, 80, 85, 70, 92]\n",
        "final_exam_scores = [92, 85, 88, 75, 96]\n",
        "\n",
        "# Perform one-way ANOVA test\n",
        "f_statistic, p_value = stats.f_oneway(exam1_scores, exam2_scores, final_exam_scores)\n",
        "\n",
        "# Check if null hypothesis is rejected\n",
        "if p_value < 0.05:\n",
        "    print(\"The mean scores of the students are not the same (reject null hypothesis).\")\n",
        "    \n",
        "    # Combine all scores\n",
        "    all_scores = exam1_scores + exam2_scores + final_exam_scores\n",
        "    \n",
        "    # Find the student with the highest score\n",
        "    highest_score = max(all_scores)\n",
        "    \n",
        "    # Find the student(s) with the highest score\n",
        "    students=np.array(name)\n",
        "    students_with_highest_score = students[all_scores.index(highest_score)]\n",
        "    \n",
        "    print(\"The student(s) with the highest score is:\", students_with_highest_score)\n",
        "else:\n",
        "    print(\"The mean scores of the students are the same (fail to reject null hypothesis).\")\n"
      ]
    },
    {
      "cell_type": "code",
      "source": [],
      "metadata": {
        "id": "V0o5mBQdLus3"
      },
      "execution_count": null,
      "outputs": []
    }
  ]
}