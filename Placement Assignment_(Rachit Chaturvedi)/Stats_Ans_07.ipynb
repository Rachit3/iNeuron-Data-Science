{
  "nbformat": 4,
  "nbformat_minor": 0,
  "metadata": {
    "colab": {
      "provenance": []
    },
    "kernelspec": {
      "name": "python3",
      "display_name": "Python 3"
    },
    "language_info": {
      "name": "python"
    }
  },
  "cells": [
    {
      "cell_type": "code",
      "execution_count": 1,
      "metadata": {
        "id": "CUWHtEfsGPKe"
      },
      "outputs": [],
      "source": [
        "import numpy as np\n",
        "\n",
        "# Given regression equations:\n",
        "# Equation 1: 2X + 3Y - 8 = 0\n",
        "# Equation 2: 2Y + X - 5 = 0\n",
        "\n",
        "# Given that Variance of X is 4\n",
        "variance_X = 4"
      ]
    },
    {
      "cell_type": "code",
      "source": [
        "# Calculate Variance of Y\n",
        "Y_values = np.roots([3, -8])  # Solve equation 1 for Y\n",
        "variance_Y = np.var(Y_values)\n",
        "print(\"Variance of Y:\", variance_Y)"
      ],
      "metadata": {
        "colab": {
          "base_uri": "https://localhost:8080/"
        },
        "id": "OfKj52xXGbad",
        "outputId": "59faa26d-2d70-4ef6-82a1-6d00fbafc8cb"
      },
      "execution_count": 8,
      "outputs": [
        {
          "output_type": "stream",
          "name": "stdout",
          "text": [
            "Variance of Y: 0.0\n"
          ]
        }
      ]
    },
    {
      "cell_type": "code",
      "source": [
        "# Calculate Coefficient of Determination (R^2)\n",
        "coefficient_of_determination = variance_Y / variance_X\n",
        "print(\"Coefficient of Determination (R^2):\", coefficient_of_determination)"
      ],
      "metadata": {
        "colab": {
          "base_uri": "https://localhost:8080/"
        },
        "id": "WnCJ_xM2GXTQ",
        "outputId": "245c9b55-9ac7-4c89-c15a-dff20c4b4f9b"
      },
      "execution_count": 9,
      "outputs": [
        {
          "output_type": "stream",
          "name": "stdout",
          "text": [
            "Coefficient of Determination (R^2): 0.0\n"
          ]
        }
      ]
    },
    {
      "cell_type": "code",
      "source": [
        "# Calculate Standard Error of Estimate\n",
        "standard_error_X_on_Y = np.sqrt(variance_Y)\n",
        "standard_error_Y_on_X = np.sqrt(variance_X)\n",
        "print(\"Standard Error of Estimate of X on Y:\", standard_error_X_on_Y)\n",
        "print(\"Standard Error of Estimate of Y on X:\", standard_error_Y_on_X)\n"
      ],
      "metadata": {
        "colab": {
          "base_uri": "https://localhost:8080/"
        },
        "id": "PYXG8pgcGU8q",
        "outputId": "28f925e6-1cdb-4ff1-a12c-8d1e8df7eeb6"
      },
      "execution_count": 7,
      "outputs": [
        {
          "output_type": "stream",
          "name": "stdout",
          "text": [
            "Standard Error of Estimate of X on Y: 0.0\n",
            "Standard Error of Estimate of Y on X: 2.0\n"
          ]
        }
      ]
    },
    {
      "cell_type": "code",
      "source": [],
      "metadata": {
        "id": "nKOSTcuFHVR0"
      },
      "execution_count": null,
      "outputs": []
    }
  ]
}