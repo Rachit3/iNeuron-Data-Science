{
  "nbformat": 4,
  "nbformat_minor": 0,
  "metadata": {
    "colab": {
      "provenance": []
    },
    "kernelspec": {
      "name": "python3",
      "display_name": "Python 3"
    },
    "language_info": {
      "name": "python"
    }
  },
  "cells": [
    {
      "cell_type": "code",
      "execution_count": 5,
      "metadata": {
        "colab": {
          "base_uri": "https://localhost:8080/"
        },
        "id": "iWFJo2HuNIee",
        "outputId": "4b4a9045-1188-48c6-96d6-89ebabdd101c"
      },
      "outputs": [
        {
          "output_type": "stream",
          "name": "stdout",
          "text": [
            "Data saved as nasa_data.csv\n"
          ]
        }
      ],
      "source": [
        "import requests\n",
        "import csv\n",
        "\n",
        "def download_data(url):\n",
        "    \"\"\"\n",
        "    Download data from the given URL and return the JSON response.\n",
        "    \"\"\"\n",
        "    response = requests.get(url)\n",
        "    return response.json()\n",
        "\n",
        "def process_data(data):\n",
        "    \"\"\"\n",
        "    Process the JSON data and extract the desired fields.\n",
        "    Returns a list of dictionaries representing the processed data.\n",
        "    \"\"\"\n",
        "    processed_data = []\n",
        "    for item in data:\n",
        "        # Extract the desired fields from the JSON data\n",
        "        processed_item = {\n",
        "            'id': item.get('id', ''),\n",
        "            'name': item.get('name', ''),\n",
        "            'year': item.get('year', ''),\n",
        "            'mass': item.get('mass', ''),\n",
        "            'reclat': item.get('reclat', ''),\n",
        "            'reclong': item.get('reclong', ''),\n",
        "            'geolocation_type': item['geolocation']['type'] if 'geolocation' in item and 'type' in item['geolocation'] else '',\n",
        "            'geolocation_coordinates': item['geolocation']['coordinates'] if 'geolocation' in item and 'coordinates' in item['geolocation'] else ''\n",
        "        }\n",
        "        processed_data.append(processed_item)\n",
        "    return processed_data\n",
        "\n",
        "def save_as_csv(data, filename):\n",
        "    \"\"\"\n",
        "    Save the processed data as a CSV file with the given filename.\n",
        "    \"\"\"\n",
        "    keys = data[0].keys()\n",
        "    with open(filename, 'w', newline='') as csvfile:\n",
        "        writer = csv.DictWriter(csvfile, fieldnames=keys)\n",
        "        writer.writeheader()\n",
        "        writer.writerows(data)\n",
        "    print(f\"Data saved as {filename}\")\n",
        "\n",
        "# Main program\n",
        "url = \"https://data.nasa.gov/resource/y77d-th95.json\"\n",
        "data = download_data(url)\n",
        "processed_data = process_data(data)\n",
        "save_as_csv(processed_data, \"nasa_data.csv\")\n",
        "\n"
      ]
    }
  ]
}