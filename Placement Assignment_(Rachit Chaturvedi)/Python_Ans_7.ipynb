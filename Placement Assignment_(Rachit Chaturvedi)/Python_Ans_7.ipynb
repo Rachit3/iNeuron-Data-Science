{
  "nbformat": 4,
  "nbformat_minor": 0,
  "metadata": {
    "colab": {
      "provenance": [],
      "collapsed_sections": [
        "RJoykV2Af95U"
      ]
    },
    "kernelspec": {
      "name": "python3",
      "display_name": "Python 3"
    },
    "language_info": {
      "name": "python"
    }
  },
  "cells": [
    {
      "cell_type": "markdown",
      "source": [
        "# Code to extract JSON data (Question 4)"
      ],
      "metadata": {
        "id": "RJoykV2Af95U"
      }
    },
    {
      "cell_type": "code",
      "execution_count": 2,
      "metadata": {
        "colab": {
          "base_uri": "https://localhost:8080/"
        },
        "id": "iWFJo2HuNIee",
        "outputId": "e802cec8-abaa-41ec-b345-9ff101673724"
      },
      "outputs": [
        {
          "output_type": "stream",
          "name": "stdout",
          "text": [
            "Data saved as nasa_data.csv\n"
          ]
        }
      ],
      "source": [
        "import requests\n",
        "import csv\n",
        "\n",
        "def download_data(url):\n",
        "    \"\"\"\n",
        "    Download data from the given URL and return the JSON response.\n",
        "    \"\"\"\n",
        "    response = requests.get(url)\n",
        "    return response.json()\n",
        "\n",
        "def process_data(data):\n",
        "    \"\"\"\n",
        "    Process the JSON data and extract the desired fields.\n",
        "    Returns a list of dictionaries representing the processed data.\n",
        "    \"\"\"\n",
        "    processed_data = []\n",
        "    for item in data:\n",
        "        # Extract the desired fields from the JSON data\n",
        "        processed_item = {\n",
        "            'id': item.get('id', ''),\n",
        "            'name': item.get('name', ''),\n",
        "            'year': item.get('year', ''),\n",
        "            'mass': item.get('mass', ''),\n",
        "            'reclat': item.get('reclat', ''),\n",
        "            'reclong': item.get('reclong', ''),\n",
        "            'geolocation_type': item['geolocation']['type'] if 'geolocation' in item and 'type' in item['geolocation'] else '',\n",
        "            'geolocation_coordinates': item['geolocation']['coordinates'] if 'geolocation' in item and 'coordinates' in item['geolocation'] else ''\n",
        "        }\n",
        "        processed_data.append(processed_item)\n",
        "    return processed_data\n",
        "\n",
        "def save_as_csv(data, filename):\n",
        "    \"\"\"\n",
        "    Save the processed data as a CSV file with the given filename.\n",
        "    \"\"\"\n",
        "    keys = data[0].keys()\n",
        "    with open(filename, 'w', newline='') as csvfile:\n",
        "        writer = csv.DictWriter(csvfile, fieldnames=keys)\n",
        "        writer.writeheader()\n",
        "        writer.writerows(data)\n",
        "    print(f\"Data saved as {filename}\")\n",
        "\n",
        "# Main program\n",
        "url = \"https://data.nasa.gov/resource/y77d-th95.json\"\n",
        "data = download_data(url)\n",
        "processed_data = process_data(data)\n",
        "save_as_csv(processed_data, \"nasa_data.csv\")\n",
        "\n"
      ]
    },
    {
      "cell_type": "markdown",
      "source": [
        "# Drawing insights"
      ],
      "metadata": {
        "id": "kpGV0bQJgdjb"
      }
    },
    {
      "cell_type": "code",
      "source": [
        "import pandas as pd"
      ],
      "metadata": {
        "id": "iR1kLtqFXt2E"
      },
      "execution_count": 9,
      "outputs": []
    },
    {
      "cell_type": "code",
      "source": [
        "#viewing data\n",
        "df=pd.read_csv('nasa_data.csv')\n",
        "df.head(10) \n"
      ],
      "metadata": {
        "colab": {
          "base_uri": "https://localhost:8080/",
          "height": 363
        },
        "id": "l_Up6je3XX9z",
        "outputId": "70f05d68-03c5-4160-dbcf-11a4f15d9c3d"
      },
      "execution_count": 11,
      "outputs": [
        {
          "output_type": "execute_result",
          "data": {
            "text/plain": [
              "    id                 name                     year      mass    reclat  \\\n",
              "0    1               Aachen  1880-01-01T00:00:00.000      21.0  50.77500   \n",
              "1    2               Aarhus  1951-01-01T00:00:00.000     720.0  56.18333   \n",
              "2    6                 Abee  1952-01-01T00:00:00.000  107000.0  54.21667   \n",
              "3   10             Acapulco  1976-01-01T00:00:00.000    1914.0  16.88333   \n",
              "4  370              Achiras  1902-01-01T00:00:00.000     780.0 -33.16667   \n",
              "5  379             Adhi Kot  1919-01-01T00:00:00.000    4239.0  32.10000   \n",
              "6  390  Adzhi-Bogdo (stone)  1949-01-01T00:00:00.000     910.0  44.83333   \n",
              "7  392                 Agen  1814-01-01T00:00:00.000   30000.0  44.21667   \n",
              "8  398               Aguada  1930-01-01T00:00:00.000    1620.0 -31.60000   \n",
              "9  417        Aguila Blanca  1920-01-01T00:00:00.000    1440.0 -30.86667   \n",
              "\n",
              "     reclong geolocation_type geolocation_coordinates  \n",
              "0    6.08333            Point       [6.08333, 50.775]  \n",
              "1   10.23333            Point    [10.23333, 56.18333]  \n",
              "2 -113.00000            Point        [-113, 54.21667]  \n",
              "3  -99.90000            Point       [-99.9, 16.88333]  \n",
              "4  -64.95000            Point     [-64.95, -33.16667]  \n",
              "5   71.80000            Point            [71.8, 32.1]  \n",
              "6   95.16667            Point    [95.16667, 44.83333]  \n",
              "7    0.61667            Point     [0.61667, 44.21667]  \n",
              "8  -65.23333            Point      [-65.23333, -31.6]  \n",
              "9  -64.55000            Point     [-64.55, -30.86667]  "
            ],
            "text/html": [
              "\n",
              "  <div id=\"df-8757dbae-bb45-46da-bfc4-ac9970574fc5\">\n",
              "    <div class=\"colab-df-container\">\n",
              "      <div>\n",
              "<style scoped>\n",
              "    .dataframe tbody tr th:only-of-type {\n",
              "        vertical-align: middle;\n",
              "    }\n",
              "\n",
              "    .dataframe tbody tr th {\n",
              "        vertical-align: top;\n",
              "    }\n",
              "\n",
              "    .dataframe thead th {\n",
              "        text-align: right;\n",
              "    }\n",
              "</style>\n",
              "<table border=\"1\" class=\"dataframe\">\n",
              "  <thead>\n",
              "    <tr style=\"text-align: right;\">\n",
              "      <th></th>\n",
              "      <th>id</th>\n",
              "      <th>name</th>\n",
              "      <th>year</th>\n",
              "      <th>mass</th>\n",
              "      <th>reclat</th>\n",
              "      <th>reclong</th>\n",
              "      <th>geolocation_type</th>\n",
              "      <th>geolocation_coordinates</th>\n",
              "    </tr>\n",
              "  </thead>\n",
              "  <tbody>\n",
              "    <tr>\n",
              "      <th>0</th>\n",
              "      <td>1</td>\n",
              "      <td>Aachen</td>\n",
              "      <td>1880-01-01T00:00:00.000</td>\n",
              "      <td>21.0</td>\n",
              "      <td>50.77500</td>\n",
              "      <td>6.08333</td>\n",
              "      <td>Point</td>\n",
              "      <td>[6.08333, 50.775]</td>\n",
              "    </tr>\n",
              "    <tr>\n",
              "      <th>1</th>\n",
              "      <td>2</td>\n",
              "      <td>Aarhus</td>\n",
              "      <td>1951-01-01T00:00:00.000</td>\n",
              "      <td>720.0</td>\n",
              "      <td>56.18333</td>\n",
              "      <td>10.23333</td>\n",
              "      <td>Point</td>\n",
              "      <td>[10.23333, 56.18333]</td>\n",
              "    </tr>\n",
              "    <tr>\n",
              "      <th>2</th>\n",
              "      <td>6</td>\n",
              "      <td>Abee</td>\n",
              "      <td>1952-01-01T00:00:00.000</td>\n",
              "      <td>107000.0</td>\n",
              "      <td>54.21667</td>\n",
              "      <td>-113.00000</td>\n",
              "      <td>Point</td>\n",
              "      <td>[-113, 54.21667]</td>\n",
              "    </tr>\n",
              "    <tr>\n",
              "      <th>3</th>\n",
              "      <td>10</td>\n",
              "      <td>Acapulco</td>\n",
              "      <td>1976-01-01T00:00:00.000</td>\n",
              "      <td>1914.0</td>\n",
              "      <td>16.88333</td>\n",
              "      <td>-99.90000</td>\n",
              "      <td>Point</td>\n",
              "      <td>[-99.9, 16.88333]</td>\n",
              "    </tr>\n",
              "    <tr>\n",
              "      <th>4</th>\n",
              "      <td>370</td>\n",
              "      <td>Achiras</td>\n",
              "      <td>1902-01-01T00:00:00.000</td>\n",
              "      <td>780.0</td>\n",
              "      <td>-33.16667</td>\n",
              "      <td>-64.95000</td>\n",
              "      <td>Point</td>\n",
              "      <td>[-64.95, -33.16667]</td>\n",
              "    </tr>\n",
              "    <tr>\n",
              "      <th>5</th>\n",
              "      <td>379</td>\n",
              "      <td>Adhi Kot</td>\n",
              "      <td>1919-01-01T00:00:00.000</td>\n",
              "      <td>4239.0</td>\n",
              "      <td>32.10000</td>\n",
              "      <td>71.80000</td>\n",
              "      <td>Point</td>\n",
              "      <td>[71.8, 32.1]</td>\n",
              "    </tr>\n",
              "    <tr>\n",
              "      <th>6</th>\n",
              "      <td>390</td>\n",
              "      <td>Adzhi-Bogdo (stone)</td>\n",
              "      <td>1949-01-01T00:00:00.000</td>\n",
              "      <td>910.0</td>\n",
              "      <td>44.83333</td>\n",
              "      <td>95.16667</td>\n",
              "      <td>Point</td>\n",
              "      <td>[95.16667, 44.83333]</td>\n",
              "    </tr>\n",
              "    <tr>\n",
              "      <th>7</th>\n",
              "      <td>392</td>\n",
              "      <td>Agen</td>\n",
              "      <td>1814-01-01T00:00:00.000</td>\n",
              "      <td>30000.0</td>\n",
              "      <td>44.21667</td>\n",
              "      <td>0.61667</td>\n",
              "      <td>Point</td>\n",
              "      <td>[0.61667, 44.21667]</td>\n",
              "    </tr>\n",
              "    <tr>\n",
              "      <th>8</th>\n",
              "      <td>398</td>\n",
              "      <td>Aguada</td>\n",
              "      <td>1930-01-01T00:00:00.000</td>\n",
              "      <td>1620.0</td>\n",
              "      <td>-31.60000</td>\n",
              "      <td>-65.23333</td>\n",
              "      <td>Point</td>\n",
              "      <td>[-65.23333, -31.6]</td>\n",
              "    </tr>\n",
              "    <tr>\n",
              "      <th>9</th>\n",
              "      <td>417</td>\n",
              "      <td>Aguila Blanca</td>\n",
              "      <td>1920-01-01T00:00:00.000</td>\n",
              "      <td>1440.0</td>\n",
              "      <td>-30.86667</td>\n",
              "      <td>-64.55000</td>\n",
              "      <td>Point</td>\n",
              "      <td>[-64.55, -30.86667]</td>\n",
              "    </tr>\n",
              "  </tbody>\n",
              "</table>\n",
              "</div>\n",
              "      <button class=\"colab-df-convert\" onclick=\"convertToInteractive('df-8757dbae-bb45-46da-bfc4-ac9970574fc5')\"\n",
              "              title=\"Convert this dataframe to an interactive table.\"\n",
              "              style=\"display:none;\">\n",
              "        \n",
              "  <svg xmlns=\"http://www.w3.org/2000/svg\" height=\"24px\"viewBox=\"0 0 24 24\"\n",
              "       width=\"24px\">\n",
              "    <path d=\"M0 0h24v24H0V0z\" fill=\"none\"/>\n",
              "    <path d=\"M18.56 5.44l.94 2.06.94-2.06 2.06-.94-2.06-.94-.94-2.06-.94 2.06-2.06.94zm-11 1L8.5 8.5l.94-2.06 2.06-.94-2.06-.94L8.5 2.5l-.94 2.06-2.06.94zm10 10l.94 2.06.94-2.06 2.06-.94-2.06-.94-.94-2.06-.94 2.06-2.06.94z\"/><path d=\"M17.41 7.96l-1.37-1.37c-.4-.4-.92-.59-1.43-.59-.52 0-1.04.2-1.43.59L10.3 9.45l-7.72 7.72c-.78.78-.78 2.05 0 2.83L4 21.41c.39.39.9.59 1.41.59.51 0 1.02-.2 1.41-.59l7.78-7.78 2.81-2.81c.8-.78.8-2.07 0-2.86zM5.41 20L4 18.59l7.72-7.72 1.47 1.35L5.41 20z\"/>\n",
              "  </svg>\n",
              "      </button>\n",
              "      \n",
              "  <style>\n",
              "    .colab-df-container {\n",
              "      display:flex;\n",
              "      flex-wrap:wrap;\n",
              "      gap: 12px;\n",
              "    }\n",
              "\n",
              "    .colab-df-convert {\n",
              "      background-color: #E8F0FE;\n",
              "      border: none;\n",
              "      border-radius: 50%;\n",
              "      cursor: pointer;\n",
              "      display: none;\n",
              "      fill: #1967D2;\n",
              "      height: 32px;\n",
              "      padding: 0 0 0 0;\n",
              "      width: 32px;\n",
              "    }\n",
              "\n",
              "    .colab-df-convert:hover {\n",
              "      background-color: #E2EBFA;\n",
              "      box-shadow: 0px 1px 2px rgba(60, 64, 67, 0.3), 0px 1px 3px 1px rgba(60, 64, 67, 0.15);\n",
              "      fill: #174EA6;\n",
              "    }\n",
              "\n",
              "    [theme=dark] .colab-df-convert {\n",
              "      background-color: #3B4455;\n",
              "      fill: #D2E3FC;\n",
              "    }\n",
              "\n",
              "    [theme=dark] .colab-df-convert:hover {\n",
              "      background-color: #434B5C;\n",
              "      box-shadow: 0px 1px 3px 1px rgba(0, 0, 0, 0.15);\n",
              "      filter: drop-shadow(0px 1px 2px rgba(0, 0, 0, 0.3));\n",
              "      fill: #FFFFFF;\n",
              "    }\n",
              "  </style>\n",
              "\n",
              "      <script>\n",
              "        const buttonEl =\n",
              "          document.querySelector('#df-8757dbae-bb45-46da-bfc4-ac9970574fc5 button.colab-df-convert');\n",
              "        buttonEl.style.display =\n",
              "          google.colab.kernel.accessAllowed ? 'block' : 'none';\n",
              "\n",
              "        async function convertToInteractive(key) {\n",
              "          const element = document.querySelector('#df-8757dbae-bb45-46da-bfc4-ac9970574fc5');\n",
              "          const dataTable =\n",
              "            await google.colab.kernel.invokeFunction('convertToInteractive',\n",
              "                                                     [key], {});\n",
              "          if (!dataTable) return;\n",
              "\n",
              "          const docLinkHtml = 'Like what you see? Visit the ' +\n",
              "            '<a target=\"_blank\" href=https://colab.research.google.com/notebooks/data_table.ipynb>data table notebook</a>'\n",
              "            + ' to learn more about interactive tables.';\n",
              "          element.innerHTML = '';\n",
              "          dataTable['output_type'] = 'display_data';\n",
              "          await google.colab.output.renderOutput(dataTable, element);\n",
              "          const docLink = document.createElement('div');\n",
              "          docLink.innerHTML = docLinkHtml;\n",
              "          element.appendChild(docLink);\n",
              "        }\n",
              "      </script>\n",
              "    </div>\n",
              "  </div>\n",
              "  "
            ]
          },
          "metadata": {},
          "execution_count": 11
        }
      ]
    },
    {
      "cell_type": "code",
      "source": [
        "#looking for null values\n",
        "print(df['year'].isna().sum())"
      ],
      "metadata": {
        "colab": {
          "base_uri": "https://localhost:8080/"
        },
        "id": "wSqD_l5fZ2iC",
        "outputId": "081e9a1b-8061-47b3-bf37-9c6d3efad767"
      },
      "execution_count": 21,
      "outputs": [
        {
          "output_type": "stream",
          "name": "stdout",
          "text": [
            "1\n"
          ]
        }
      ]
    },
    {
      "cell_type": "code",
      "source": [
        "# dropping null values\n",
        "df.dropna(subset=['year'], inplace=True)"
      ],
      "metadata": {
        "id": "F2KUVRdwaKrr"
      },
      "execution_count": 22,
      "outputs": []
    },
    {
      "cell_type": "code",
      "source": [
        "df['year']"
      ],
      "metadata": {
        "id": "A7J2w3eOhLBe"
      },
      "execution_count": null,
      "outputs": []
    },
    {
      "cell_type": "code",
      "source": [
        "#since year is not in correct format, changing it\n",
        "df['year'] = df['year'].astype(str).apply(lambda x: int(x[:4]))"
      ],
      "metadata": {
        "id": "EU_a4GziXYwa"
      },
      "execution_count": 41,
      "outputs": []
    },
    {
      "cell_type": "code",
      "source": [
        "df['year']"
      ],
      "metadata": {
        "colab": {
          "base_uri": "https://localhost:8080/"
        },
        "id": "epa1r-CnYHTt",
        "outputId": "3fbf9fec-cba1-4a24-9816-b2594a5ae8ba"
      },
      "execution_count": 42,
      "outputs": [
        {
          "output_type": "execute_result",
          "data": {
            "text/plain": [
              "0      1880\n",
              "1      1951\n",
              "2      1952\n",
              "3      1976\n",
              "4      1902\n",
              "       ... \n",
              "995    1934\n",
              "996    2011\n",
              "997    1869\n",
              "998    1922\n",
              "999    1905\n",
              "Name: year, Length: 999, dtype: int64"
            ]
          },
          "metadata": {},
          "execution_count": 42
        }
      ]
    },
    {
      "cell_type": "markdown",
      "source": [
        "**Earth meteorites that fell before the year 2000**"
      ],
      "metadata": {
        "id": "fBqZr0kohiaV"
      }
    },
    {
      "cell_type": "code",
      "source": [
        "# Earth meteorites that fell before the year 2000\n",
        "meteorites_before_2000 = df[(df['year'] < 2000)][['id', 'name', 'year']].reset_index(drop=True)\n",
        "print(meteorites_before_2000)"
      ],
      "metadata": {
        "colab": {
          "base_uri": "https://localhost:8080/"
        },
        "id": "VlySB3iBaqFv",
        "outputId": "9d5bc73b-b95e-4ac7-b1ae-102f34b9a84a"
      },
      "execution_count": 36,
      "outputs": [
        {
          "output_type": "stream",
          "name": "stdout",
          "text": [
            "        id       name  year\n",
            "0        1     Aachen  1880\n",
            "1        2     Aarhus  1951\n",
            "2        6       Abee  1952\n",
            "3       10   Acapulco  1976\n",
            "4      370    Achiras  1902\n",
            "..     ...        ...   ...\n",
            "924  24004   Timochin  1807\n",
            "925  24009   Tirupati  1934\n",
            "926  24011      Tjabe  1869\n",
            "927  24012   Tjerebon  1922\n",
            "928  24019  Tomakovka  1905\n",
            "\n",
            "[929 rows x 3 columns]\n"
          ]
        }
      ]
    },
    {
      "cell_type": "markdown",
      "source": [
        "**earth meteorites co-ordinates who fell before the year 1970**"
      ],
      "metadata": {
        "id": "TjuoQajmhz44"
      }
    },
    {
      "cell_type": "code",
      "source": [
        "# earth meteorites co-ordinates who fell before the year 1970\n",
        "meteorites_before_1970 = df[(df['year'] < 1970)][['id', 'name', 'year','geolocation_coordinates']].reset_index(drop=True)\n",
        "print(meteorites_before_1970)"
      ],
      "metadata": {
        "colab": {
          "base_uri": "https://localhost:8080/"
        },
        "id": "y7RmqmFHa-QQ",
        "outputId": "c961e7a8-e8f2-476e-da94-dfcd9e41e20d"
      },
      "execution_count": 38,
      "outputs": [
        {
          "output_type": "stream",
          "name": "stdout",
          "text": [
            "        id       name  year geolocation_coordinates\n",
            "0        1     Aachen  1880       [6.08333, 50.775]\n",
            "1        2     Aarhus  1951    [10.23333, 56.18333]\n",
            "2        6       Abee  1952        [-113, 54.21667]\n",
            "3      370    Achiras  1902     [-64.95, -33.16667]\n",
            "4      379   Adhi Kot  1919            [71.8, 32.1]\n",
            "..     ...        ...   ...                     ...\n",
            "775  24004   Timochin  1807            [35.2, 54.5]\n",
            "776  24009   Tirupati  1934    [79.41667, 13.63333]\n",
            "777  24011      Tjabe  1869   [111.53333, -7.08333]\n",
            "778  24012   Tjerebon  1922   [106.58333, -6.66667]\n",
            "779  24019  Tomakovka  1905       [34.76667, 47.85]\n",
            "\n",
            "[780 rows x 4 columns]\n"
          ]
        }
      ]
    },
    {
      "cell_type": "markdown",
      "source": [
        "**Earth meteorites whose mass was more than 10000 kg**"
      ],
      "metadata": {
        "id": "d1cmylIYh7W9"
      }
    },
    {
      "cell_type": "code",
      "source": [
        "# Earth meteorites whose mass was more than 10000 kg\n",
        "meteorites_mass_over_10000kg = df[(df['mass'] < 10000)][['id', 'name', 'year','mass']].reset_index(drop=True)\n",
        "print(meteorites_mass_over_10000kg)"
      ],
      "metadata": {
        "colab": {
          "base_uri": "https://localhost:8080/"
        },
        "id": "F6ciHYc0eo_S",
        "outputId": "bc960c1d-ec2a-4cb4-a8c8-45180c1ead8a"
      },
      "execution_count": 39,
      "outputs": [
        {
          "output_type": "stream",
          "name": "stdout",
          "text": [
            "        id       name  year    mass\n",
            "0        1     Aachen  1880    21.0\n",
            "1        2     Aarhus  1951   720.0\n",
            "2       10   Acapulco  1976  1914.0\n",
            "3      370    Achiras  1902   780.0\n",
            "4      379   Adhi Kot  1919  4239.0\n",
            "..     ...        ...   ...     ...\n",
            "716  23984  Tianzhang  1986  2232.0\n",
            "717  23999  Tillaberi  1970  3000.0\n",
            "718  24009   Tirupati  1934   230.0\n",
            "719  54823    Tissint  2011  7000.0\n",
            "720  24019  Tomakovka  1905   600.0\n",
            "\n",
            "[721 rows x 4 columns]\n"
          ]
        }
      ]
    }
  ]
}