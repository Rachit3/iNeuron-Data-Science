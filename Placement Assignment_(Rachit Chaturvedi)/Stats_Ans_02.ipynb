{
  "nbformat": 4,
  "nbformat_minor": 0,
  "metadata": {
    "colab": {
      "provenance": []
    },
    "kernelspec": {
      "name": "python3",
      "display_name": "Python 3"
    },
    "language_info": {
      "name": "python"
    }
  },
  "cells": [
    {
      "cell_type": "code",
      "execution_count": 1,
      "metadata": {
        "id": "WC8DjmCoWNuW"
      },
      "outputs": [],
      "source": [
        "import scipy.stats as stats\n",
        "\n",
        "# Given information\n",
        "mean_height = 170\n",
        "std_dev = 10\n",
        "sample_size = 1000"
      ]
    },
    {
      "cell_type": "code",
      "source": [
        "# a. Percentage of individuals with heights between 160 cm and 180 cm\n",
        "z_160 = (160 - mean_height) / std_dev\n",
        "z_180 = (180 - mean_height) / std_dev\n",
        "percentage = (stats.norm.cdf(z_180) - stats.norm.cdf(z_160)) * 100\n",
        "print(f\"Percentage of individuals with heights between 160 cm and 180 cm: {percentage}%\")"
      ],
      "metadata": {
        "colab": {
          "base_uri": "https://localhost:8080/"
        },
        "id": "__NUgkI4crgy",
        "outputId": "6657289f-5145-4741-bf3b-c8ed95c8d62f"
      },
      "execution_count": 11,
      "outputs": [
        {
          "output_type": "stream",
          "name": "stdout",
          "text": [
            "Percentage of individuals with heights between 160 cm and 180 cm: 68.26894921370858%\n"
          ]
        }
      ]
    },
    {
      "cell_type": "code",
      "source": [
        "# b. Probability that the average height of a sample of 100 individuals is greater than 175 cm\n",
        "sample_mean_std_dev = std_dev / (sample_size ** 0.5)\n",
        "z_175 = (175 - mean_height) / sample_mean_std_dev\n",
        "probability = 1 - stats.norm.cdf(z_175)\n",
        "print(f\"Probability that average height of 100 individuals is greater than 175 cm: {probability}\")"
      ],
      "metadata": {
        "colab": {
          "base_uri": "https://localhost:8080/"
        },
        "id": "A-cvhR8hcnBB",
        "outputId": "c9c695c6-aee3-473a-a881-0160351ecda0"
      },
      "execution_count": 10,
      "outputs": [
        {
          "output_type": "stream",
          "name": "stdout",
          "text": [
            "Probability that average height of 100 individuals is greater than 175 cm: 0.0\n"
          ]
        }
      ]
    },
    {
      "cell_type": "code",
      "source": [
        "# c. Z-score corresponding to a height of 185 cm\n",
        "z_185 = (185 - mean_height) / std_dev\n",
        "print(f\"Z-score corresponding to a height of 185 cm: {z_185}\")"
      ],
      "metadata": {
        "colab": {
          "base_uri": "https://localhost:8080/"
        },
        "id": "owRpmjNXcjcx",
        "outputId": "e2fabc8d-83fc-49c1-b7b0-94b20abf7f8e"
      },
      "execution_count": 9,
      "outputs": [
        {
          "output_type": "stream",
          "name": "stdout",
          "text": [
            "Z-score corresponding to a height of 185 cm: 1.5\n"
          ]
        }
      ]
    },
    {
      "cell_type": "code",
      "source": [
        "# d. Approximate height corresponding to the 5% threshold\n",
        "threshold_z = stats.norm.ppf(0.05)\n",
        "threshold_height = mean_height + (threshold_z * std_dev)\n",
        "print(f\"Approximate height corresponding to the 5% threshold: {threshold_height} cm\")"
      ],
      "metadata": {
        "colab": {
          "base_uri": "https://localhost:8080/"
        },
        "id": "d1Dh2UK3ceiV",
        "outputId": "0695e3ef-de35-4ff8-bbab-fea8640f22ba"
      },
      "execution_count": 7,
      "outputs": [
        {
          "output_type": "stream",
          "name": "stdout",
          "text": [
            "Approximate height corresponding to the 5% threshold: 153.55146373048527 cm\n"
          ]
        }
      ]
    },
    {
      "cell_type": "code",
      "source": [
        "# e. Coefficient of variation (CV) for the dataset\n",
        "cv = (std_dev / mean_height) * 100\n",
        "print(f\"Coefficient of variation (CV) for the dataset: {cv}%\")"
      ],
      "metadata": {
        "colab": {
          "base_uri": "https://localhost:8080/"
        },
        "id": "mLJoJaJQcYP4",
        "outputId": "703d0a3f-3ad0-4619-84c7-b77a7929de96"
      },
      "execution_count": 8,
      "outputs": [
        {
          "output_type": "stream",
          "name": "stdout",
          "text": [
            "Coefficient of variation (CV) for the dataset: 5.88235294117647%\n"
          ]
        }
      ]
    },
    {
      "cell_type": "code",
      "source": [
        "# f. Skewness of the dataset\n",
        "skewness = 0  # Since the skewness is given as approximately zero\n",
        "print(f\"Skewness of the dataset: {skewness}\")"
      ],
      "metadata": {
        "colab": {
          "base_uri": "https://localhost:8080/"
        },
        "id": "R6C6vOyScVUG",
        "outputId": "4765f7da-b111-416b-ac2a-69c2dc19149a"
      },
      "execution_count": 12,
      "outputs": [
        {
          "output_type": "stream",
          "name": "stdout",
          "text": [
            "Skewness of the dataset: 0\n"
          ]
        }
      ]
    },
    {
      "cell_type": "code",
      "source": [],
      "metadata": {
        "id": "nlkzYxuHe_5d"
      },
      "execution_count": null,
      "outputs": []
    }
  ]
}