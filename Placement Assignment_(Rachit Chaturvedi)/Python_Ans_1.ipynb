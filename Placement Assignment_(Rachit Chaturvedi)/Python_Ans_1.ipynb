{
  "nbformat": 4,
  "nbformat_minor": 0,
  "metadata": {
    "colab": {
      "provenance": []
    },
    "kernelspec": {
      "name": "python3",
      "display_name": "Python 3"
    },
    "language_info": {
      "name": "python"
    }
  },
  "cells": [
    {
      "cell_type": "code",
      "execution_count": 1,
      "metadata": {
        "colab": {
          "base_uri": "https://localhost:8080/"
        },
        "id": "L8X3OHKRxo5B",
        "outputId": "4c30b3a7-81bc-4bcc-f386-ad8f841062b5"
      },
      "outputs": [
        {
          "output_type": "stream",
          "name": "stdout",
          "text": [
            "Enter the string here: write write write all the number from from from 1 to 100\n",
            "5\n"
          ]
        }
      ],
      "source": [
        "string = input(\"Enter the string here: \")\n",
        "\n",
        "# Split the string into individual words\n",
        "words = string.split()\n",
        "\n",
        "# Count the frequency of each word\n",
        "word_frequency = {}\n",
        "for word in words:\n",
        "    if word in word_frequency:\n",
        "        word_frequency[word] += 1\n",
        "    else:\n",
        "        word_frequency[word] = 1\n",
        "\n",
        "# Find the highest frequency\n",
        "max_frequency = max(word_frequency.values())\n",
        "\n",
        "# Find the length of the highest-frequency word\n",
        "max_freq_length = max(len(word) for word, frequency in word_frequency.items() if frequency == max_frequency)\n",
        "\n",
        "print(max_freq_length)  # Output: 5\n"
      ]
    }
  ]
}