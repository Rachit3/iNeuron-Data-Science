{
  "nbformat": 4,
  "nbformat_minor": 0,
  "metadata": {
    "colab": {
      "provenance": []
    },
    "kernelspec": {
      "name": "python3",
      "display_name": "Python 3"
    },
    "language_info": {
      "name": "python"
    }
  },
  "cells": [
    {
      "cell_type": "markdown",
      "source": [
        "**Goals:**\n",
        "\n",
        "\n",
        "1.   Predict the high booking area using an Unsupervised algorithm and use        some map function to display the data\n",
        "2.   Predict the price  for those high booking area using supervised algorithm\n",
        "\n"
      ],
      "metadata": {
        "id": "EB1xUKmSkm3K"
      }
    },
    {
      "cell_type": "code",
      "execution_count": null,
      "metadata": {
        "id": "_8yZsKHYxjO4"
      },
      "outputs": [],
      "source": [
        "import pandas as pd\n",
        "from sklearn.cluster import KMeans\n",
        "from sklearn.preprocessing import StandardScaler\n",
        "from sklearn.linear_model import LinearRegression\n",
        "from sklearn.metrics import mean_squared_error\n",
        "import folium"
      ]
    },
    {
      "cell_type": "code",
      "source": [
        "data=pd.read_csv('/content/drive/MyDrive/datasets/rideshare_kaggle.csv')\n",
        "# download this dataset from : https://www.kaggle.com/datasets/brllrb/uber-and-lyft-dataset-boston-ma"
      ],
      "metadata": {
        "id": "34qtwbrpzS3M"
      },
      "execution_count": null,
      "outputs": []
    },
    {
      "cell_type": "markdown",
      "source": [
        "#Data Pre-processing"
      ],
      "metadata": {
        "id": "0nLGgbpBFGdr"
      }
    },
    {
      "cell_type": "code",
      "source": [
        "data.shape"
      ],
      "metadata": {
        "colab": {
          "base_uri": "https://localhost:8080/"
        },
        "id": "b489IpDlPJxP",
        "outputId": "1bcd47f3-2c10-40b9-e370-c6456e8e61cd"
      },
      "execution_count": null,
      "outputs": [
        {
          "output_type": "execute_result",
          "data": {
            "text/plain": [
              "(693071, 57)"
            ]
          },
          "metadata": {},
          "execution_count": 3
        }
      ]
    },
    {
      "cell_type": "markdown",
      "source": [
        "its a very big dataset!!!"
      ],
      "metadata": {
        "id": "aEkoV6ZEQMWI"
      }
    },
    {
      "cell_type": "code",
      "source": [
        "data[10:20]"
      ],
      "metadata": {
        "colab": {
          "base_uri": "https://localhost:8080/",
          "height": 977
        },
        "id": "3zMAWlIJzbKR",
        "outputId": "0e98a390-1945-4f67-8586-f09deac80d46"
      },
      "execution_count": null,
      "outputs": [
        {
          "output_type": "execute_result",
          "data": {
            "text/plain": [
              "                                      id     timestamp  hour  day  month  \\\n",
              "10  9043bf77-1d45-4a93-9520-a083e0277f16  1.543594e+09    16   30     11   \n",
              "11  d859ec69-b3ff-4af8-9abd-441e31430c94  1.543433e+09    19   28     11   \n",
              "12  009e9c53-074d-43cf-aef2-0fbc7a47ed3d  1.543616e+09    22   30     11   \n",
              "13  23f145da-f0c1-4d1f-a184-496bc003a7db  1.544698e+09    10   13     12   \n",
              "14  357559cb-8c58-4278-a41a-e33b2e0997a3  1.544729e+09    19   13     12   \n",
              "15  50ef1165-9d23-416c-a65c-18906207b295  1.545005e+09    23   16     12   \n",
              "16  91c4861c-1780-42b0-bca1-bbd64a422cc3  1.544748e+09     0   14     12   \n",
              "17  e219e545-a006-4936-a6cc-7d00adf0e418  1.543519e+09    19   29     11   \n",
              "18  fa5fb705-03a0-4eb9-82d9-7fe80872f754  1.543674e+09    14    1     12   \n",
              "19  18d580ac-c91a-4b6d-aa75-ab62566f713e  1.544941e+09     6   16     12   \n",
              "\n",
              "               datetime          timezone         source  \\\n",
              "10  2018-11-30 16:13:03  America/New_York       Back Bay   \n",
              "11  2018-11-28 19:23:07  America/New_York       Back Bay   \n",
              "12  2018-11-30 22:13:01  America/New_York      North End   \n",
              "13  2018-12-13 10:50:11  America/New_York      North End   \n",
              "14  2018-12-13 19:15:03  America/New_York      North End   \n",
              "15  2018-12-16 23:55:11  America/New_York      North End   \n",
              "16  2018-12-14 00:40:07  America/New_York      North End   \n",
              "17  2018-11-29 19:18:00  America/New_York      North End   \n",
              "18  2018-12-01 14:13:04  America/New_York      North End   \n",
              "19  2018-12-16 06:15:11  America/New_York  North Station   \n",
              "\n",
              "                destination cab_type  ... precipIntensityMax uvIndexTime  \\\n",
              "10  Northeastern University     Lyft  ...             0.0004  1543593600   \n",
              "11  Northeastern University     Lyft  ...             0.0000  1543420800   \n",
              "12                 West End     Uber  ...             0.0003  1543593600   \n",
              "13                 West End     Uber  ...             0.0001  1544716800   \n",
              "14                 West End     Uber  ...             0.0001  1544716800   \n",
              "15                 West End     Uber  ...             0.1252  1544979600   \n",
              "16                 West End     Uber  ...             0.0001  1544716800   \n",
              "17                 West End     Uber  ...             0.0000  1543510800   \n",
              "18                 West End     Uber  ...             0.0000  1543683600   \n",
              "19         Haymarket Square     Lyft  ...             0.1246  1544979600   \n",
              "\n",
              "    temperatureMin  temperatureMinTime  temperatureMax  temperatureMaxTime  \\\n",
              "10           28.64          1543579200           42.32          1543600800   \n",
              "11           33.82          1543399200           42.72          1543438800   \n",
              "12           28.79          1543579200           42.52          1543600800   \n",
              "13           18.29          1544688000           33.83          1544731200   \n",
              "14           18.29          1544688000           33.83          1544731200   \n",
              "15           39.22          1544954400           43.83          1544990400   \n",
              "16           18.29          1544688000           33.83          1544731200   \n",
              "17           35.35          1543550400           44.61          1543510800   \n",
              "18           31.71          1543658400           44.66          1543690800   \n",
              "19           38.94          1544954400           43.78          1544990400   \n",
              "\n",
              "    apparentTemperatureMin  apparentTemperatureMinTime  \\\n",
              "10                   29.29                  1543579200   \n",
              "11                   30.19                  1543399200   \n",
              "12                   26.41                  1543575600   \n",
              "13                   13.79                  1544688000   \n",
              "14                   13.79                  1544688000   \n",
              "15                   33.98                  1545019200   \n",
              "16                   13.79                  1544688000   \n",
              "17                   31.14                  1543550400   \n",
              "18                   28.06                  1543658400   \n",
              "19                   33.76                  1545019200   \n",
              "\n",
              "    apparentTemperatureMax apparentTemperatureMaxTime  \n",
              "10                   40.48                 1543611600  \n",
              "11                   36.75                 1543438800  \n",
              "12                   40.53                 1543611600  \n",
              "13                   32.85                 1544734800  \n",
              "14                   32.85                 1544734800  \n",
              "15                   38.38                 1544986800  \n",
              "16                   32.85                 1544734800  \n",
              "17                   38.21                 1543510800  \n",
              "18                   43.99                 1543690800  \n",
              "19                   38.39                 1544986800  \n",
              "\n",
              "[10 rows x 57 columns]"
            ],
            "text/html": [
              "\n",
              "  <div id=\"df-ea355925-3a36-4106-8cbb-b34d27fe64b0\">\n",
              "    <div class=\"colab-df-container\">\n",
              "      <div>\n",
              "<style scoped>\n",
              "    .dataframe tbody tr th:only-of-type {\n",
              "        vertical-align: middle;\n",
              "    }\n",
              "\n",
              "    .dataframe tbody tr th {\n",
              "        vertical-align: top;\n",
              "    }\n",
              "\n",
              "    .dataframe thead th {\n",
              "        text-align: right;\n",
              "    }\n",
              "</style>\n",
              "<table border=\"1\" class=\"dataframe\">\n",
              "  <thead>\n",
              "    <tr style=\"text-align: right;\">\n",
              "      <th></th>\n",
              "      <th>id</th>\n",
              "      <th>timestamp</th>\n",
              "      <th>hour</th>\n",
              "      <th>day</th>\n",
              "      <th>month</th>\n",
              "      <th>datetime</th>\n",
              "      <th>timezone</th>\n",
              "      <th>source</th>\n",
              "      <th>destination</th>\n",
              "      <th>cab_type</th>\n",
              "      <th>...</th>\n",
              "      <th>precipIntensityMax</th>\n",
              "      <th>uvIndexTime</th>\n",
              "      <th>temperatureMin</th>\n",
              "      <th>temperatureMinTime</th>\n",
              "      <th>temperatureMax</th>\n",
              "      <th>temperatureMaxTime</th>\n",
              "      <th>apparentTemperatureMin</th>\n",
              "      <th>apparentTemperatureMinTime</th>\n",
              "      <th>apparentTemperatureMax</th>\n",
              "      <th>apparentTemperatureMaxTime</th>\n",
              "    </tr>\n",
              "  </thead>\n",
              "  <tbody>\n",
              "    <tr>\n",
              "      <th>10</th>\n",
              "      <td>9043bf77-1d45-4a93-9520-a083e0277f16</td>\n",
              "      <td>1.543594e+09</td>\n",
              "      <td>16</td>\n",
              "      <td>30</td>\n",
              "      <td>11</td>\n",
              "      <td>2018-11-30 16:13:03</td>\n",
              "      <td>America/New_York</td>\n",
              "      <td>Back Bay</td>\n",
              "      <td>Northeastern University</td>\n",
              "      <td>Lyft</td>\n",
              "      <td>...</td>\n",
              "      <td>0.0004</td>\n",
              "      <td>1543593600</td>\n",
              "      <td>28.64</td>\n",
              "      <td>1543579200</td>\n",
              "      <td>42.32</td>\n",
              "      <td>1543600800</td>\n",
              "      <td>29.29</td>\n",
              "      <td>1543579200</td>\n",
              "      <td>40.48</td>\n",
              "      <td>1543611600</td>\n",
              "    </tr>\n",
              "    <tr>\n",
              "      <th>11</th>\n",
              "      <td>d859ec69-b3ff-4af8-9abd-441e31430c94</td>\n",
              "      <td>1.543433e+09</td>\n",
              "      <td>19</td>\n",
              "      <td>28</td>\n",
              "      <td>11</td>\n",
              "      <td>2018-11-28 19:23:07</td>\n",
              "      <td>America/New_York</td>\n",
              "      <td>Back Bay</td>\n",
              "      <td>Northeastern University</td>\n",
              "      <td>Lyft</td>\n",
              "      <td>...</td>\n",
              "      <td>0.0000</td>\n",
              "      <td>1543420800</td>\n",
              "      <td>33.82</td>\n",
              "      <td>1543399200</td>\n",
              "      <td>42.72</td>\n",
              "      <td>1543438800</td>\n",
              "      <td>30.19</td>\n",
              "      <td>1543399200</td>\n",
              "      <td>36.75</td>\n",
              "      <td>1543438800</td>\n",
              "    </tr>\n",
              "    <tr>\n",
              "      <th>12</th>\n",
              "      <td>009e9c53-074d-43cf-aef2-0fbc7a47ed3d</td>\n",
              "      <td>1.543616e+09</td>\n",
              "      <td>22</td>\n",
              "      <td>30</td>\n",
              "      <td>11</td>\n",
              "      <td>2018-11-30 22:13:01</td>\n",
              "      <td>America/New_York</td>\n",
              "      <td>North End</td>\n",
              "      <td>West End</td>\n",
              "      <td>Uber</td>\n",
              "      <td>...</td>\n",
              "      <td>0.0003</td>\n",
              "      <td>1543593600</td>\n",
              "      <td>28.79</td>\n",
              "      <td>1543579200</td>\n",
              "      <td>42.52</td>\n",
              "      <td>1543600800</td>\n",
              "      <td>26.41</td>\n",
              "      <td>1543575600</td>\n",
              "      <td>40.53</td>\n",
              "      <td>1543611600</td>\n",
              "    </tr>\n",
              "    <tr>\n",
              "      <th>13</th>\n",
              "      <td>23f145da-f0c1-4d1f-a184-496bc003a7db</td>\n",
              "      <td>1.544698e+09</td>\n",
              "      <td>10</td>\n",
              "      <td>13</td>\n",
              "      <td>12</td>\n",
              "      <td>2018-12-13 10:50:11</td>\n",
              "      <td>America/New_York</td>\n",
              "      <td>North End</td>\n",
              "      <td>West End</td>\n",
              "      <td>Uber</td>\n",
              "      <td>...</td>\n",
              "      <td>0.0001</td>\n",
              "      <td>1544716800</td>\n",
              "      <td>18.29</td>\n",
              "      <td>1544688000</td>\n",
              "      <td>33.83</td>\n",
              "      <td>1544731200</td>\n",
              "      <td>13.79</td>\n",
              "      <td>1544688000</td>\n",
              "      <td>32.85</td>\n",
              "      <td>1544734800</td>\n",
              "    </tr>\n",
              "    <tr>\n",
              "      <th>14</th>\n",
              "      <td>357559cb-8c58-4278-a41a-e33b2e0997a3</td>\n",
              "      <td>1.544729e+09</td>\n",
              "      <td>19</td>\n",
              "      <td>13</td>\n",
              "      <td>12</td>\n",
              "      <td>2018-12-13 19:15:03</td>\n",
              "      <td>America/New_York</td>\n",
              "      <td>North End</td>\n",
              "      <td>West End</td>\n",
              "      <td>Uber</td>\n",
              "      <td>...</td>\n",
              "      <td>0.0001</td>\n",
              "      <td>1544716800</td>\n",
              "      <td>18.29</td>\n",
              "      <td>1544688000</td>\n",
              "      <td>33.83</td>\n",
              "      <td>1544731200</td>\n",
              "      <td>13.79</td>\n",
              "      <td>1544688000</td>\n",
              "      <td>32.85</td>\n",
              "      <td>1544734800</td>\n",
              "    </tr>\n",
              "    <tr>\n",
              "      <th>15</th>\n",
              "      <td>50ef1165-9d23-416c-a65c-18906207b295</td>\n",
              "      <td>1.545005e+09</td>\n",
              "      <td>23</td>\n",
              "      <td>16</td>\n",
              "      <td>12</td>\n",
              "      <td>2018-12-16 23:55:11</td>\n",
              "      <td>America/New_York</td>\n",
              "      <td>North End</td>\n",
              "      <td>West End</td>\n",
              "      <td>Uber</td>\n",
              "      <td>...</td>\n",
              "      <td>0.1252</td>\n",
              "      <td>1544979600</td>\n",
              "      <td>39.22</td>\n",
              "      <td>1544954400</td>\n",
              "      <td>43.83</td>\n",
              "      <td>1544990400</td>\n",
              "      <td>33.98</td>\n",
              "      <td>1545019200</td>\n",
              "      <td>38.38</td>\n",
              "      <td>1544986800</td>\n",
              "    </tr>\n",
              "    <tr>\n",
              "      <th>16</th>\n",
              "      <td>91c4861c-1780-42b0-bca1-bbd64a422cc3</td>\n",
              "      <td>1.544748e+09</td>\n",
              "      <td>0</td>\n",
              "      <td>14</td>\n",
              "      <td>12</td>\n",
              "      <td>2018-12-14 00:40:07</td>\n",
              "      <td>America/New_York</td>\n",
              "      <td>North End</td>\n",
              "      <td>West End</td>\n",
              "      <td>Uber</td>\n",
              "      <td>...</td>\n",
              "      <td>0.0001</td>\n",
              "      <td>1544716800</td>\n",
              "      <td>18.29</td>\n",
              "      <td>1544688000</td>\n",
              "      <td>33.83</td>\n",
              "      <td>1544731200</td>\n",
              "      <td>13.79</td>\n",
              "      <td>1544688000</td>\n",
              "      <td>32.85</td>\n",
              "      <td>1544734800</td>\n",
              "    </tr>\n",
              "    <tr>\n",
              "      <th>17</th>\n",
              "      <td>e219e545-a006-4936-a6cc-7d00adf0e418</td>\n",
              "      <td>1.543519e+09</td>\n",
              "      <td>19</td>\n",
              "      <td>29</td>\n",
              "      <td>11</td>\n",
              "      <td>2018-11-29 19:18:00</td>\n",
              "      <td>America/New_York</td>\n",
              "      <td>North End</td>\n",
              "      <td>West End</td>\n",
              "      <td>Uber</td>\n",
              "      <td>...</td>\n",
              "      <td>0.0000</td>\n",
              "      <td>1543510800</td>\n",
              "      <td>35.35</td>\n",
              "      <td>1543550400</td>\n",
              "      <td>44.61</td>\n",
              "      <td>1543510800</td>\n",
              "      <td>31.14</td>\n",
              "      <td>1543550400</td>\n",
              "      <td>38.21</td>\n",
              "      <td>1543510800</td>\n",
              "    </tr>\n",
              "    <tr>\n",
              "      <th>18</th>\n",
              "      <td>fa5fb705-03a0-4eb9-82d9-7fe80872f754</td>\n",
              "      <td>1.543674e+09</td>\n",
              "      <td>14</td>\n",
              "      <td>1</td>\n",
              "      <td>12</td>\n",
              "      <td>2018-12-01 14:13:04</td>\n",
              "      <td>America/New_York</td>\n",
              "      <td>North End</td>\n",
              "      <td>West End</td>\n",
              "      <td>Uber</td>\n",
              "      <td>...</td>\n",
              "      <td>0.0000</td>\n",
              "      <td>1543683600</td>\n",
              "      <td>31.71</td>\n",
              "      <td>1543658400</td>\n",
              "      <td>44.66</td>\n",
              "      <td>1543690800</td>\n",
              "      <td>28.06</td>\n",
              "      <td>1543658400</td>\n",
              "      <td>43.99</td>\n",
              "      <td>1543690800</td>\n",
              "    </tr>\n",
              "    <tr>\n",
              "      <th>19</th>\n",
              "      <td>18d580ac-c91a-4b6d-aa75-ab62566f713e</td>\n",
              "      <td>1.544941e+09</td>\n",
              "      <td>6</td>\n",
              "      <td>16</td>\n",
              "      <td>12</td>\n",
              "      <td>2018-12-16 06:15:11</td>\n",
              "      <td>America/New_York</td>\n",
              "      <td>North Station</td>\n",
              "      <td>Haymarket Square</td>\n",
              "      <td>Lyft</td>\n",
              "      <td>...</td>\n",
              "      <td>0.1246</td>\n",
              "      <td>1544979600</td>\n",
              "      <td>38.94</td>\n",
              "      <td>1544954400</td>\n",
              "      <td>43.78</td>\n",
              "      <td>1544990400</td>\n",
              "      <td>33.76</td>\n",
              "      <td>1545019200</td>\n",
              "      <td>38.39</td>\n",
              "      <td>1544986800</td>\n",
              "    </tr>\n",
              "  </tbody>\n",
              "</table>\n",
              "<p>10 rows × 57 columns</p>\n",
              "</div>\n",
              "      <button class=\"colab-df-convert\" onclick=\"convertToInteractive('df-ea355925-3a36-4106-8cbb-b34d27fe64b0')\"\n",
              "              title=\"Convert this dataframe to an interactive table.\"\n",
              "              style=\"display:none;\">\n",
              "        \n",
              "  <svg xmlns=\"http://www.w3.org/2000/svg\" height=\"24px\"viewBox=\"0 0 24 24\"\n",
              "       width=\"24px\">\n",
              "    <path d=\"M0 0h24v24H0V0z\" fill=\"none\"/>\n",
              "    <path d=\"M18.56 5.44l.94 2.06.94-2.06 2.06-.94-2.06-.94-.94-2.06-.94 2.06-2.06.94zm-11 1L8.5 8.5l.94-2.06 2.06-.94-2.06-.94L8.5 2.5l-.94 2.06-2.06.94zm10 10l.94 2.06.94-2.06 2.06-.94-2.06-.94-.94-2.06-.94 2.06-2.06.94z\"/><path d=\"M17.41 7.96l-1.37-1.37c-.4-.4-.92-.59-1.43-.59-.52 0-1.04.2-1.43.59L10.3 9.45l-7.72 7.72c-.78.78-.78 2.05 0 2.83L4 21.41c.39.39.9.59 1.41.59.51 0 1.02-.2 1.41-.59l7.78-7.78 2.81-2.81c.8-.78.8-2.07 0-2.86zM5.41 20L4 18.59l7.72-7.72 1.47 1.35L5.41 20z\"/>\n",
              "  </svg>\n",
              "      </button>\n",
              "      \n",
              "  <style>\n",
              "    .colab-df-container {\n",
              "      display:flex;\n",
              "      flex-wrap:wrap;\n",
              "      gap: 12px;\n",
              "    }\n",
              "\n",
              "    .colab-df-convert {\n",
              "      background-color: #E8F0FE;\n",
              "      border: none;\n",
              "      border-radius: 50%;\n",
              "      cursor: pointer;\n",
              "      display: none;\n",
              "      fill: #1967D2;\n",
              "      height: 32px;\n",
              "      padding: 0 0 0 0;\n",
              "      width: 32px;\n",
              "    }\n",
              "\n",
              "    .colab-df-convert:hover {\n",
              "      background-color: #E2EBFA;\n",
              "      box-shadow: 0px 1px 2px rgba(60, 64, 67, 0.3), 0px 1px 3px 1px rgba(60, 64, 67, 0.15);\n",
              "      fill: #174EA6;\n",
              "    }\n",
              "\n",
              "    [theme=dark] .colab-df-convert {\n",
              "      background-color: #3B4455;\n",
              "      fill: #D2E3FC;\n",
              "    }\n",
              "\n",
              "    [theme=dark] .colab-df-convert:hover {\n",
              "      background-color: #434B5C;\n",
              "      box-shadow: 0px 1px 3px 1px rgba(0, 0, 0, 0.15);\n",
              "      filter: drop-shadow(0px 1px 2px rgba(0, 0, 0, 0.3));\n",
              "      fill: #FFFFFF;\n",
              "    }\n",
              "  </style>\n",
              "\n",
              "      <script>\n",
              "        const buttonEl =\n",
              "          document.querySelector('#df-ea355925-3a36-4106-8cbb-b34d27fe64b0 button.colab-df-convert');\n",
              "        buttonEl.style.display =\n",
              "          google.colab.kernel.accessAllowed ? 'block' : 'none';\n",
              "\n",
              "        async function convertToInteractive(key) {\n",
              "          const element = document.querySelector('#df-ea355925-3a36-4106-8cbb-b34d27fe64b0');\n",
              "          const dataTable =\n",
              "            await google.colab.kernel.invokeFunction('convertToInteractive',\n",
              "                                                     [key], {});\n",
              "          if (!dataTable) return;\n",
              "\n",
              "          const docLinkHtml = 'Like what you see? Visit the ' +\n",
              "            '<a target=\"_blank\" href=https://colab.research.google.com/notebooks/data_table.ipynb>data table notebook</a>'\n",
              "            + ' to learn more about interactive tables.';\n",
              "          element.innerHTML = '';\n",
              "          dataTable['output_type'] = 'display_data';\n",
              "          await google.colab.output.renderOutput(dataTable, element);\n",
              "          const docLink = document.createElement('div');\n",
              "          docLink.innerHTML = docLinkHtml;\n",
              "          element.appendChild(docLink);\n",
              "        }\n",
              "      </script>\n",
              "    </div>\n",
              "  </div>\n",
              "  "
            ]
          },
          "metadata": {},
          "execution_count": 4
        }
      ]
    },
    {
      "cell_type": "code",
      "source": [
        "data.columns"
      ],
      "metadata": {
        "colab": {
          "base_uri": "https://localhost:8080/"
        },
        "id": "ZY2FEwjWzj5m",
        "outputId": "1b1ab7f9-79f8-4edc-a730-2aa5b4d381c4"
      },
      "execution_count": null,
      "outputs": [
        {
          "output_type": "execute_result",
          "data": {
            "text/plain": [
              "Index(['id', 'timestamp', 'hour', 'day', 'month', 'datetime', 'timezone',\n",
              "       'source', 'destination', 'cab_type', 'product_id', 'name', 'price',\n",
              "       'distance', 'surge_multiplier', 'latitude', 'longitude', 'temperature',\n",
              "       'apparentTemperature', 'short_summary', 'long_summary',\n",
              "       'precipIntensity', 'precipProbability', 'humidity', 'windSpeed',\n",
              "       'windGust', 'windGustTime', 'visibility', 'temperatureHigh',\n",
              "       'temperatureHighTime', 'temperatureLow', 'temperatureLowTime',\n",
              "       'apparentTemperatureHigh', 'apparentTemperatureHighTime',\n",
              "       'apparentTemperatureLow', 'apparentTemperatureLowTime', 'icon',\n",
              "       'dewPoint', 'pressure', 'windBearing', 'cloudCover', 'uvIndex',\n",
              "       'visibility.1', 'ozone', 'sunriseTime', 'sunsetTime', 'moonPhase',\n",
              "       'precipIntensityMax', 'uvIndexTime', 'temperatureMin',\n",
              "       'temperatureMinTime', 'temperatureMax', 'temperatureMaxTime',\n",
              "       'apparentTemperatureMin', 'apparentTemperatureMinTime',\n",
              "       'apparentTemperatureMax', 'apparentTemperatureMaxTime'],\n",
              "      dtype='object')"
            ]
          },
          "metadata": {},
          "execution_count": 5
        }
      ]
    },
    {
      "cell_type": "code",
      "source": [
        "data[data.duplicated()] #checking for duplicate rows"
      ],
      "metadata": {
        "colab": {
          "base_uri": "https://localhost:8080/",
          "height": 143
        },
        "id": "p5NZKPuGVX9k",
        "outputId": "b086465e-97e8-41a7-82b3-3fb596380a68"
      },
      "execution_count": null,
      "outputs": [
        {
          "output_type": "execute_result",
          "data": {
            "text/plain": [
              "Empty DataFrame\n",
              "Columns: [id, timestamp, hour, day, month, datetime, timezone, source, destination, cab_type, product_id, name, price, distance, surge_multiplier, latitude, longitude, temperature, apparentTemperature, short_summary, long_summary, precipIntensity, precipProbability, humidity, windSpeed, windGust, windGustTime, visibility, temperatureHigh, temperatureHighTime, temperatureLow, temperatureLowTime, apparentTemperatureHigh, apparentTemperatureHighTime, apparentTemperatureLow, apparentTemperatureLowTime, icon, dewPoint, pressure, windBearing, cloudCover, uvIndex, visibility.1, ozone, sunriseTime, sunsetTime, moonPhase, precipIntensityMax, uvIndexTime, temperatureMin, temperatureMinTime, temperatureMax, temperatureMaxTime, apparentTemperatureMin, apparentTemperatureMinTime, apparentTemperatureMax, apparentTemperatureMaxTime]\n",
              "Index: []\n",
              "\n",
              "[0 rows x 57 columns]"
            ],
            "text/html": [
              "\n",
              "  <div id=\"df-a6d87243-5002-40c1-b54e-c8880d9011ad\">\n",
              "    <div class=\"colab-df-container\">\n",
              "      <div>\n",
              "<style scoped>\n",
              "    .dataframe tbody tr th:only-of-type {\n",
              "        vertical-align: middle;\n",
              "    }\n",
              "\n",
              "    .dataframe tbody tr th {\n",
              "        vertical-align: top;\n",
              "    }\n",
              "\n",
              "    .dataframe thead th {\n",
              "        text-align: right;\n",
              "    }\n",
              "</style>\n",
              "<table border=\"1\" class=\"dataframe\">\n",
              "  <thead>\n",
              "    <tr style=\"text-align: right;\">\n",
              "      <th></th>\n",
              "      <th>id</th>\n",
              "      <th>timestamp</th>\n",
              "      <th>hour</th>\n",
              "      <th>day</th>\n",
              "      <th>month</th>\n",
              "      <th>datetime</th>\n",
              "      <th>timezone</th>\n",
              "      <th>source</th>\n",
              "      <th>destination</th>\n",
              "      <th>cab_type</th>\n",
              "      <th>...</th>\n",
              "      <th>precipIntensityMax</th>\n",
              "      <th>uvIndexTime</th>\n",
              "      <th>temperatureMin</th>\n",
              "      <th>temperatureMinTime</th>\n",
              "      <th>temperatureMax</th>\n",
              "      <th>temperatureMaxTime</th>\n",
              "      <th>apparentTemperatureMin</th>\n",
              "      <th>apparentTemperatureMinTime</th>\n",
              "      <th>apparentTemperatureMax</th>\n",
              "      <th>apparentTemperatureMaxTime</th>\n",
              "    </tr>\n",
              "  </thead>\n",
              "  <tbody>\n",
              "  </tbody>\n",
              "</table>\n",
              "<p>0 rows × 57 columns</p>\n",
              "</div>\n",
              "      <button class=\"colab-df-convert\" onclick=\"convertToInteractive('df-a6d87243-5002-40c1-b54e-c8880d9011ad')\"\n",
              "              title=\"Convert this dataframe to an interactive table.\"\n",
              "              style=\"display:none;\">\n",
              "        \n",
              "  <svg xmlns=\"http://www.w3.org/2000/svg\" height=\"24px\"viewBox=\"0 0 24 24\"\n",
              "       width=\"24px\">\n",
              "    <path d=\"M0 0h24v24H0V0z\" fill=\"none\"/>\n",
              "    <path d=\"M18.56 5.44l.94 2.06.94-2.06 2.06-.94-2.06-.94-.94-2.06-.94 2.06-2.06.94zm-11 1L8.5 8.5l.94-2.06 2.06-.94-2.06-.94L8.5 2.5l-.94 2.06-2.06.94zm10 10l.94 2.06.94-2.06 2.06-.94-2.06-.94-.94-2.06-.94 2.06-2.06.94z\"/><path d=\"M17.41 7.96l-1.37-1.37c-.4-.4-.92-.59-1.43-.59-.52 0-1.04.2-1.43.59L10.3 9.45l-7.72 7.72c-.78.78-.78 2.05 0 2.83L4 21.41c.39.39.9.59 1.41.59.51 0 1.02-.2 1.41-.59l7.78-7.78 2.81-2.81c.8-.78.8-2.07 0-2.86zM5.41 20L4 18.59l7.72-7.72 1.47 1.35L5.41 20z\"/>\n",
              "  </svg>\n",
              "      </button>\n",
              "      \n",
              "  <style>\n",
              "    .colab-df-container {\n",
              "      display:flex;\n",
              "      flex-wrap:wrap;\n",
              "      gap: 12px;\n",
              "    }\n",
              "\n",
              "    .colab-df-convert {\n",
              "      background-color: #E8F0FE;\n",
              "      border: none;\n",
              "      border-radius: 50%;\n",
              "      cursor: pointer;\n",
              "      display: none;\n",
              "      fill: #1967D2;\n",
              "      height: 32px;\n",
              "      padding: 0 0 0 0;\n",
              "      width: 32px;\n",
              "    }\n",
              "\n",
              "    .colab-df-convert:hover {\n",
              "      background-color: #E2EBFA;\n",
              "      box-shadow: 0px 1px 2px rgba(60, 64, 67, 0.3), 0px 1px 3px 1px rgba(60, 64, 67, 0.15);\n",
              "      fill: #174EA6;\n",
              "    }\n",
              "\n",
              "    [theme=dark] .colab-df-convert {\n",
              "      background-color: #3B4455;\n",
              "      fill: #D2E3FC;\n",
              "    }\n",
              "\n",
              "    [theme=dark] .colab-df-convert:hover {\n",
              "      background-color: #434B5C;\n",
              "      box-shadow: 0px 1px 3px 1px rgba(0, 0, 0, 0.15);\n",
              "      filter: drop-shadow(0px 1px 2px rgba(0, 0, 0, 0.3));\n",
              "      fill: #FFFFFF;\n",
              "    }\n",
              "  </style>\n",
              "\n",
              "      <script>\n",
              "        const buttonEl =\n",
              "          document.querySelector('#df-a6d87243-5002-40c1-b54e-c8880d9011ad button.colab-df-convert');\n",
              "        buttonEl.style.display =\n",
              "          google.colab.kernel.accessAllowed ? 'block' : 'none';\n",
              "\n",
              "        async function convertToInteractive(key) {\n",
              "          const element = document.querySelector('#df-a6d87243-5002-40c1-b54e-c8880d9011ad');\n",
              "          const dataTable =\n",
              "            await google.colab.kernel.invokeFunction('convertToInteractive',\n",
              "                                                     [key], {});\n",
              "          if (!dataTable) return;\n",
              "\n",
              "          const docLinkHtml = 'Like what you see? Visit the ' +\n",
              "            '<a target=\"_blank\" href=https://colab.research.google.com/notebooks/data_table.ipynb>data table notebook</a>'\n",
              "            + ' to learn more about interactive tables.';\n",
              "          element.innerHTML = '';\n",
              "          dataTable['output_type'] = 'display_data';\n",
              "          await google.colab.output.renderOutput(dataTable, element);\n",
              "          const docLink = document.createElement('div');\n",
              "          docLink.innerHTML = docLinkHtml;\n",
              "          element.appendChild(docLink);\n",
              "        }\n",
              "      </script>\n",
              "    </div>\n",
              "  </div>\n",
              "  "
            ]
          },
          "metadata": {},
          "execution_count": 6
        }
      ]
    },
    {
      "cell_type": "markdown",
      "source": [
        "**No duplicate records found**"
      ],
      "metadata": {
        "id": "dKDl1O3wVr5n"
      }
    },
    {
      "cell_type": "code",
      "source": [
        "data.isna().sum()"
      ],
      "metadata": {
        "colab": {
          "base_uri": "https://localhost:8080/"
        },
        "id": "aNwIA9I_2mKo",
        "outputId": "fc174ac9-1e96-4daf-e15e-01eb7e8b9a2b"
      },
      "execution_count": null,
      "outputs": [
        {
          "output_type": "execute_result",
          "data": {
            "text/plain": [
              "id                                 0\n",
              "timestamp                          0\n",
              "hour                               0\n",
              "day                                0\n",
              "month                              0\n",
              "datetime                           0\n",
              "timezone                           0\n",
              "source                             0\n",
              "destination                        0\n",
              "cab_type                           0\n",
              "product_id                         0\n",
              "name                               0\n",
              "price                          55095\n",
              "distance                           0\n",
              "surge_multiplier                   0\n",
              "latitude                           0\n",
              "longitude                          0\n",
              "temperature                        0\n",
              "apparentTemperature                0\n",
              "short_summary                      0\n",
              "long_summary                       0\n",
              "precipIntensity                    0\n",
              "precipProbability                  0\n",
              "humidity                           0\n",
              "windSpeed                          0\n",
              "windGust                           0\n",
              "windGustTime                       0\n",
              "visibility                         0\n",
              "temperatureHigh                    0\n",
              "temperatureHighTime                0\n",
              "temperatureLow                     0\n",
              "temperatureLowTime                 0\n",
              "apparentTemperatureHigh            0\n",
              "apparentTemperatureHighTime        0\n",
              "apparentTemperatureLow             0\n",
              "apparentTemperatureLowTime         0\n",
              "icon                               0\n",
              "dewPoint                           0\n",
              "pressure                           0\n",
              "windBearing                        0\n",
              "cloudCover                         0\n",
              "uvIndex                            0\n",
              "visibility.1                       0\n",
              "ozone                              0\n",
              "sunriseTime                        0\n",
              "sunsetTime                         0\n",
              "moonPhase                          0\n",
              "precipIntensityMax                 0\n",
              "uvIndexTime                        0\n",
              "temperatureMin                     0\n",
              "temperatureMinTime                 0\n",
              "temperatureMax                     0\n",
              "temperatureMaxTime                 0\n",
              "apparentTemperatureMin             0\n",
              "apparentTemperatureMinTime         0\n",
              "apparentTemperatureMax             0\n",
              "apparentTemperatureMaxTime         0\n",
              "dtype: int64"
            ]
          },
          "metadata": {},
          "execution_count": 7
        }
      ]
    },
    {
      "cell_type": "markdown",
      "source": [
        "*There are lots of null values in prices column. I tested the model by interpolating the null values with the  mean price, median price and also by dropping the null values. I found out that the error is less when mean value is used to interpolate, so I am going with mean value.*"
      ],
      "metadata": {
        "id": "wUXrTuRqMvAs"
      }
    },
    {
      "cell_type": "code",
      "source": [
        "# Interpolate missing values to the mean\n",
        "\n",
        "data['price'].fillna(data['price'].mean(), inplace=True)"
      ],
      "metadata": {
        "id": "YRD78ROf2xs7"
      },
      "execution_count": null,
      "outputs": []
    },
    {
      "cell_type": "code",
      "source": [
        "# Interpolate missing values to the median\n",
        "#data['price'].fillna(data['price'].median(), inplace=True)"
      ],
      "metadata": {
        "id": "M2TOCFgbPvDQ"
      },
      "execution_count": null,
      "outputs": []
    },
    {
      "cell_type": "code",
      "source": [
        "#drop all the null values\n",
        "#data.dropna(inplace=True)"
      ],
      "metadata": {
        "id": "9J043kqUTTwI"
      },
      "execution_count": null,
      "outputs": []
    },
    {
      "cell_type": "code",
      "source": [
        "data['price'].isna().sum()"
      ],
      "metadata": {
        "colab": {
          "base_uri": "https://localhost:8080/"
        },
        "id": "9aowNmxZ3Hy0",
        "outputId": "f2b562b2-8bbd-412a-d92c-6bf89b2a196b"
      },
      "execution_count": null,
      "outputs": [
        {
          "output_type": "execute_result",
          "data": {
            "text/plain": [
              "0"
            ]
          },
          "metadata": {},
          "execution_count": 11
        }
      ]
    },
    {
      "cell_type": "code",
      "source": [
        "data['price']"
      ],
      "metadata": {
        "colab": {
          "base_uri": "https://localhost:8080/"
        },
        "id": "VTQzAYKwQ-NF",
        "outputId": "b4508fb4-38f7-486a-9125-8977e9a01d28"
      },
      "execution_count": null,
      "outputs": [
        {
          "output_type": "execute_result",
          "data": {
            "text/plain": [
              "0          5.000000\n",
              "1         11.000000\n",
              "2          7.000000\n",
              "3         26.000000\n",
              "4          9.000000\n",
              "            ...    \n",
              "693066    13.000000\n",
              "693067     9.500000\n",
              "693068    16.545125\n",
              "693069    27.000000\n",
              "693070    10.000000\n",
              "Name: price, Length: 693071, dtype: float64"
            ]
          },
          "metadata": {},
          "execution_count": 12
        }
      ]
    },
    {
      "cell_type": "markdown",
      "source": [
        "# Unsupervised Algorithm (K-means Clustering)"
      ],
      "metadata": {
        "id": "voWVmGFvFNwk"
      }
    },
    {
      "cell_type": "code",
      "source": [
        "#Preprocess the data for clustering\n",
        "\n",
        "clustering_data = data[['latitude', 'longitude']].copy()"
      ],
      "metadata": {
        "id": "mRTnyTJSFbSB"
      },
      "execution_count": null,
      "outputs": []
    },
    {
      "cell_type": "code",
      "source": [
        "#  Scale the data\n",
        "scaler = StandardScaler()\n",
        "scaled_data = scaler.fit_transform(clustering_data)"
      ],
      "metadata": {
        "id": "waybefOKFiZi"
      },
      "execution_count": null,
      "outputs": []
    },
    {
      "cell_type": "code",
      "source": [
        "#Choose the number of clusters\n",
        "num_clusters = 5"
      ],
      "metadata": {
        "id": "ibQCDkrnFm1I"
      },
      "execution_count": null,
      "outputs": []
    },
    {
      "cell_type": "code",
      "source": [
        "#Apply k-means clustering\n",
        "kmeans = KMeans(n_clusters=num_clusters, random_state=42)\n",
        "cluster_labels = kmeans.fit_predict(scaled_data)\n"
      ],
      "metadata": {
        "colab": {
          "base_uri": "https://localhost:8080/"
        },
        "id": "EE63u47WFvJS",
        "outputId": "3cef6508-93ed-42b2-bd94-01eaa116dbc4"
      },
      "execution_count": null,
      "outputs": [
        {
          "output_type": "stream",
          "name": "stderr",
          "text": [
            "/usr/local/lib/python3.10/dist-packages/sklearn/cluster/_kmeans.py:870: FutureWarning: The default value of `n_init` will change from 10 to 'auto' in 1.4. Set the value of `n_init` explicitly to suppress the warning\n",
            "  warnings.warn(\n"
          ]
        }
      ]
    },
    {
      "cell_type": "code",
      "source": [
        "#Analyze the clusters\n",
        "data['cluster_label'] = cluster_labels"
      ],
      "metadata": {
        "id": "O0nSjxQbFw0M"
      },
      "execution_count": null,
      "outputs": []
    },
    {
      "cell_type": "markdown",
      "source": [
        "# Visualization for k-means clustering (high booking area)"
      ],
      "metadata": {
        "id": "sUybCkAdF9l4"
      }
    },
    {
      "cell_type": "code",
      "source": [
        "\n",
        "from folium.plugins import MarkerCluster\n",
        "\n",
        "# Create a map centered around the average latitude and longitude\n",
        "map_center = [data['latitude'].mean(), data['longitude'].mean()]\n",
        "map_clusters = folium.Map(location=map_center, zoom_start=11, width='80%', height='80%')\n",
        "\n",
        "# Create a marker cluster group\n",
        "marker_cluster = MarkerCluster().add_to(map_clusters)\n",
        "\n",
        "# Iterate over the clusters and add markers to the marker cluster group\n",
        "for cluster_label in range(num_clusters):\n",
        "    cluster_data = data[data['cluster_label'] == cluster_label]\n",
        "    cluster_center = [cluster_data['latitude'].mean(), cluster_data['longitude'].mean()]\n",
        "    cluster_size = len(cluster_data)\n",
        "    \n",
        "    # Create a marker for the cluster center with the number of bookings as the label\n",
        "    folium.Marker(cluster_center, icon=folium.Icon(color='blue', icon='info-sign'),\n",
        "                  popup=f\"Bookings: {cluster_size}\").add_to(marker_cluster)\n",
        "\n",
        "# Display the map with cluster markers\n",
        "display(map_clusters)\n"
      ],
      "metadata": {
        "colab": {
          "base_uri": "https://localhost:8080/",
          "height": 1000
        },
        "id": "YtLErBlnaOCb",
        "outputId": "732d8fff-1452-45d0-de46-a7141735a71a"
      },
      "execution_count": null,
      "outputs": [
        {
          "output_type": "display_data",
          "data": {
            "text/plain": [
              "<folium.folium.Map at 0x7f9a9b313010>"
            ],
            "text/html": [
              "<div style=\"width:100%;\"><div style=\"position:relative;width:100%;height:0;padding-bottom:60%;\"><span style=\"color:#565656\">Make this Notebook Trusted to load map: File -> Trust Notebook</span><iframe srcdoc=\"&lt;!DOCTYPE html&gt;\n",
              "&lt;html&gt;\n",
              "&lt;head&gt;\n",
              "    \n",
              "    &lt;meta http-equiv=&quot;content-type&quot; content=&quot;text/html; charset=UTF-8&quot; /&gt;\n",
              "    \n",
              "        &lt;script&gt;\n",
              "            L_NO_TOUCH = false;\n",
              "            L_DISABLE_3D = false;\n",
              "        &lt;/script&gt;\n",
              "    \n",
              "    &lt;style&gt;html, body {width: 100%;height: 100%;margin: 0;padding: 0;}&lt;/style&gt;\n",
              "    &lt;style&gt;#map {position:absolute;top:0;bottom:0;right:0;left:0;}&lt;/style&gt;\n",
              "    &lt;script src=&quot;https://cdn.jsdelivr.net/npm/leaflet@1.9.3/dist/leaflet.js&quot;&gt;&lt;/script&gt;\n",
              "    &lt;script src=&quot;https://code.jquery.com/jquery-1.12.4.min.js&quot;&gt;&lt;/script&gt;\n",
              "    &lt;script src=&quot;https://cdn.jsdelivr.net/npm/bootstrap@5.2.2/dist/js/bootstrap.bundle.min.js&quot;&gt;&lt;/script&gt;\n",
              "    &lt;script src=&quot;https://cdnjs.cloudflare.com/ajax/libs/Leaflet.awesome-markers/2.0.2/leaflet.awesome-markers.js&quot;&gt;&lt;/script&gt;\n",
              "    &lt;link rel=&quot;stylesheet&quot; href=&quot;https://cdn.jsdelivr.net/npm/leaflet@1.9.3/dist/leaflet.css&quot;/&gt;\n",
              "    &lt;link rel=&quot;stylesheet&quot; href=&quot;https://cdn.jsdelivr.net/npm/bootstrap@5.2.2/dist/css/bootstrap.min.css&quot;/&gt;\n",
              "    &lt;link rel=&quot;stylesheet&quot; href=&quot;https://netdna.bootstrapcdn.com/bootstrap/3.0.0/css/bootstrap.min.css&quot;/&gt;\n",
              "    &lt;link rel=&quot;stylesheet&quot; href=&quot;https://cdn.jsdelivr.net/npm/@fortawesome/fontawesome-free@6.2.0/css/all.min.css&quot;/&gt;\n",
              "    &lt;link rel=&quot;stylesheet&quot; href=&quot;https://cdnjs.cloudflare.com/ajax/libs/Leaflet.awesome-markers/2.0.2/leaflet.awesome-markers.css&quot;/&gt;\n",
              "    &lt;link rel=&quot;stylesheet&quot; href=&quot;https://cdn.jsdelivr.net/gh/python-visualization/folium/folium/templates/leaflet.awesome.rotate.min.css&quot;/&gt;\n",
              "    \n",
              "            &lt;meta name=&quot;viewport&quot; content=&quot;width=device-width,\n",
              "                initial-scale=1.0, maximum-scale=1.0, user-scalable=no&quot; /&gt;\n",
              "            &lt;style&gt;\n",
              "                #map_b51c5f99f0e7d6406f0ad1a78fa102dd {\n",
              "                    position: relative;\n",
              "                    width: 80.0%;\n",
              "                    height: 80.0%;\n",
              "                    left: 0.0%;\n",
              "                    top: 0.0%;\n",
              "                }\n",
              "                .leaflet-container { font-size: 1rem; }\n",
              "            &lt;/style&gt;\n",
              "        \n",
              "    &lt;script src=&quot;https://cdnjs.cloudflare.com/ajax/libs/leaflet.markercluster/1.1.0/leaflet.markercluster.js&quot;&gt;&lt;/script&gt;\n",
              "    &lt;link rel=&quot;stylesheet&quot; href=&quot;https://cdnjs.cloudflare.com/ajax/libs/leaflet.markercluster/1.1.0/MarkerCluster.css&quot;/&gt;\n",
              "    &lt;link rel=&quot;stylesheet&quot; href=&quot;https://cdnjs.cloudflare.com/ajax/libs/leaflet.markercluster/1.1.0/MarkerCluster.Default.css&quot;/&gt;\n",
              "&lt;/head&gt;\n",
              "&lt;body&gt;\n",
              "    \n",
              "    \n",
              "            &lt;div class=&quot;folium-map&quot; id=&quot;map_b51c5f99f0e7d6406f0ad1a78fa102dd&quot; &gt;&lt;/div&gt;\n",
              "        \n",
              "&lt;/body&gt;\n",
              "&lt;script&gt;\n",
              "    \n",
              "    \n",
              "            var map_b51c5f99f0e7d6406f0ad1a78fa102dd = L.map(\n",
              "                &quot;map_b51c5f99f0e7d6406f0ad1a78fa102dd&quot;,\n",
              "                {\n",
              "                    center: [42.33817248175151, -71.06615081629444],\n",
              "                    crs: L.CRS.EPSG3857,\n",
              "                    zoom: 11,\n",
              "                    zoomControl: true,\n",
              "                    preferCanvas: false,\n",
              "                }\n",
              "            );\n",
              "\n",
              "            \n",
              "\n",
              "        \n",
              "    \n",
              "            var tile_layer_70ae3ccf5d8397d6f6c599cb601467ae = L.tileLayer(\n",
              "                &quot;https://{s}.tile.openstreetmap.org/{z}/{x}/{y}.png&quot;,\n",
              "                {&quot;attribution&quot;: &quot;Data by \\u0026copy; \\u003ca target=\\&quot;_blank\\&quot; href=\\&quot;http://openstreetmap.org\\&quot;\\u003eOpenStreetMap\\u003c/a\\u003e, under \\u003ca target=\\&quot;_blank\\&quot; href=\\&quot;http://www.openstreetmap.org/copyright\\&quot;\\u003eODbL\\u003c/a\\u003e.&quot;, &quot;detectRetina&quot;: false, &quot;maxNativeZoom&quot;: 18, &quot;maxZoom&quot;: 18, &quot;minZoom&quot;: 0, &quot;noWrap&quot;: false, &quot;opacity&quot;: 1, &quot;subdomains&quot;: &quot;abc&quot;, &quot;tms&quot;: false}\n",
              "            ).addTo(map_b51c5f99f0e7d6406f0ad1a78fa102dd);\n",
              "        \n",
              "    \n",
              "            var marker_cluster_d79917942ff35a19388b46cd412714af = L.markerClusterGroup(\n",
              "                {}\n",
              "            );\n",
              "            map_b51c5f99f0e7d6406f0ad1a78fa102dd.addLayer(marker_cluster_d79917942ff35a19388b46cd412714af);\n",
              "        \n",
              "    \n",
              "            var marker_f9360753f4f5aa8e750ff62e7893eec7 = L.marker(\n",
              "                [42.34686618002725, -71.08368164988347],\n",
              "                {}\n",
              "            ).addTo(marker_cluster_d79917942ff35a19388b46cd412714af);\n",
              "        \n",
              "    \n",
              "            var icon_d2e1f247f276a5ff8c779cbe700b426b = L.AwesomeMarkers.icon(\n",
              "                {&quot;extraClasses&quot;: &quot;fa-rotate-0&quot;, &quot;icon&quot;: &quot;info-sign&quot;, &quot;iconColor&quot;: &quot;white&quot;, &quot;markerColor&quot;: &quot;blue&quot;, &quot;prefix&quot;: &quot;glyphicon&quot;}\n",
              "            );\n",
              "            marker_f9360753f4f5aa8e750ff62e7893eec7.setIcon(icon_d2e1f247f276a5ff8c779cbe700b426b);\n",
              "        \n",
              "    \n",
              "        var popup_3418059c3ef8827e4f03291e402f3c79 = L.popup({&quot;maxWidth&quot;: &quot;100%&quot;});\n",
              "\n",
              "        \n",
              "            \n",
              "                var html_0bc18aa4793e336cf1f2fe50a8a6bdba = $(`&lt;div id=&quot;html_0bc18aa4793e336cf1f2fe50a8a6bdba&quot; style=&quot;width: 100.0%; height: 100.0%;&quot;&gt;Bookings: 90964&lt;/div&gt;`)[0];\n",
              "                popup_3418059c3ef8827e4f03291e402f3c79.setContent(html_0bc18aa4793e336cf1f2fe50a8a6bdba);\n",
              "            \n",
              "        \n",
              "\n",
              "        marker_f9360753f4f5aa8e750ff62e7893eec7.bindPopup(popup_3418059c3ef8827e4f03291e402f3c79)\n",
              "        ;\n",
              "\n",
              "        \n",
              "    \n",
              "    \n",
              "            var marker_4c5595071bf315c53278636c49d61e42 = L.marker(\n",
              "                [42.35968242097058, -71.05457982069416],\n",
              "                {}\n",
              "            ).addTo(marker_cluster_d79917942ff35a19388b46cd412714af);\n",
              "        \n",
              "    \n",
              "            var icon_de685d97b812828457a1c66c05cd9271 = L.AwesomeMarkers.icon(\n",
              "                {&quot;extraClasses&quot;: &quot;fa-rotate-0&quot;, &quot;icon&quot;: &quot;info-sign&quot;, &quot;iconColor&quot;: &quot;white&quot;, &quot;markerColor&quot;: &quot;blue&quot;, &quot;prefix&quot;: &quot;glyphicon&quot;}\n",
              "            );\n",
              "            marker_4c5595071bf315c53278636c49d61e42.setIcon(icon_de685d97b812828457a1c66c05cd9271);\n",
              "        \n",
              "    \n",
              "        var popup_bc4e581022449c13fbbfafb30a5a953d = L.popup({&quot;maxWidth&quot;: &quot;100%&quot;});\n",
              "\n",
              "        \n",
              "            \n",
              "                var html_bf4261fba67d48f7b11e818a876dd065 = $(`&lt;div id=&quot;html_bf4261fba67d48f7b11e818a876dd065&quot; style=&quot;width: 100.0%; height: 100.0%;&quot;&gt;Bookings: 175789&lt;/div&gt;`)[0];\n",
              "                popup_bc4e581022449c13fbbfafb30a5a953d.setContent(html_bf4261fba67d48f7b11e818a876dd065);\n",
              "            \n",
              "        \n",
              "\n",
              "        marker_4c5595071bf315c53278636c49d61e42.bindPopup(popup_bc4e581022449c13fbbfafb30a5a953d)\n",
              "        ;\n",
              "\n",
              "        \n",
              "    \n",
              "    \n",
              "            var marker_21da485cda7fd92d0f1b6b2e101cac02 = L.marker(\n",
              "                [42.214799999999975, -71.033],\n",
              "                {}\n",
              "            ).addTo(marker_cluster_d79917942ff35a19388b46cd412714af);\n",
              "        \n",
              "    \n",
              "            var icon_2020a6e9060ec9667fb968d2e472e60a = L.AwesomeMarkers.icon(\n",
              "                {&quot;extraClasses&quot;: &quot;fa-rotate-0&quot;, &quot;icon&quot;: &quot;info-sign&quot;, &quot;iconColor&quot;: &quot;white&quot;, &quot;markerColor&quot;: &quot;blue&quot;, &quot;prefix&quot;: &quot;glyphicon&quot;}\n",
              "            );\n",
              "            marker_21da485cda7fd92d0f1b6b2e101cac02.setIcon(icon_2020a6e9060ec9667fb968d2e472e60a);\n",
              "        \n",
              "    \n",
              "        var popup_ecefd0bccdb52eca0895268d164e49cb = L.popup({&quot;maxWidth&quot;: &quot;100%&quot;});\n",
              "\n",
              "        \n",
              "            \n",
              "                var html_bae994f0aebb6fb4ac9edd030465706c = $(`&lt;div id=&quot;html_bae994f0aebb6fb4ac9edd030465706c&quot; style=&quot;width: 100.0%; height: 100.0%;&quot;&gt;Bookings: 88546&lt;/div&gt;`)[0];\n",
              "                popup_ecefd0bccdb52eca0895268d164e49cb.setContent(html_bae994f0aebb6fb4ac9edd030465706c);\n",
              "            \n",
              "        \n",
              "\n",
              "        marker_21da485cda7fd92d0f1b6b2e101cac02.bindPopup(popup_ecefd0bccdb52eca0895268d164e49cb)\n",
              "        ;\n",
              "\n",
              "        \n",
              "    \n",
              "    \n",
              "            var marker_42519fe06481f37f5108dc1da1104eec = L.marker(\n",
              "                [42.36091800108786, -71.06526060388389],\n",
              "                {}\n",
              "            ).addTo(marker_cluster_d79917942ff35a19388b46cd412714af);\n",
              "        \n",
              "    \n",
              "            var icon_cf5994e0db7cfa5d3771b440266ae6b1 = L.AwesomeMarkers.icon(\n",
              "                {&quot;extraClasses&quot;: &quot;fa-rotate-0&quot;, &quot;icon&quot;: &quot;info-sign&quot;, &quot;iconColor&quot;: &quot;white&quot;, &quot;markerColor&quot;: &quot;blue&quot;, &quot;prefix&quot;: &quot;glyphicon&quot;}\n",
              "            );\n",
              "            marker_42519fe06481f37f5108dc1da1104eec.setIcon(icon_cf5994e0db7cfa5d3771b440266ae6b1);\n",
              "        \n",
              "    \n",
              "        var popup_61dfde8b8317e7a510285b1f80db22de = L.popup({&quot;maxWidth&quot;: &quot;100%&quot;});\n",
              "\n",
              "        \n",
              "            \n",
              "                var html_8ab3f6662b76b2093267fe0d8c8b7aa6 = $(`&lt;div id=&quot;html_8ab3f6662b76b2093267fe0d8c8b7aa6&quot; style=&quot;width: 100.0%; height: 100.0%;&quot;&gt;Bookings: 240841&lt;/div&gt;`)[0];\n",
              "                popup_61dfde8b8317e7a510285b1f80db22de.setContent(html_8ab3f6662b76b2093267fe0d8c8b7aa6);\n",
              "            \n",
              "        \n",
              "\n",
              "        marker_42519fe06481f37f5108dc1da1104eec.bindPopup(popup_61dfde8b8317e7a510285b1f80db22de)\n",
              "        ;\n",
              "\n",
              "        \n",
              "    \n",
              "    \n",
              "            var marker_c4ba3e842f587aa3883b3a54811ee070 = L.marker(\n",
              "                [42.347189843290586, -71.10317871062922],\n",
              "                {}\n",
              "            ).addTo(marker_cluster_d79917942ff35a19388b46cd412714af);\n",
              "        \n",
              "    \n",
              "            var icon_7db2bfa098067c664bc36ffa5c152a07 = L.AwesomeMarkers.icon(\n",
              "                {&quot;extraClasses&quot;: &quot;fa-rotate-0&quot;, &quot;icon&quot;: &quot;info-sign&quot;, &quot;iconColor&quot;: &quot;white&quot;, &quot;markerColor&quot;: &quot;blue&quot;, &quot;prefix&quot;: &quot;glyphicon&quot;}\n",
              "            );\n",
              "            marker_c4ba3e842f587aa3883b3a54811ee070.setIcon(icon_7db2bfa098067c664bc36ffa5c152a07);\n",
              "        \n",
              "    \n",
              "        var popup_bc1049d422a2cd77f402a9d20f018e5d = L.popup({&quot;maxWidth&quot;: &quot;100%&quot;});\n",
              "\n",
              "        \n",
              "            \n",
              "                var html_4efcfbad198f62490d47a19c5a6049f8 = $(`&lt;div id=&quot;html_4efcfbad198f62490d47a19c5a6049f8&quot; style=&quot;width: 100.0%; height: 100.0%;&quot;&gt;Bookings: 96931&lt;/div&gt;`)[0];\n",
              "                popup_bc1049d422a2cd77f402a9d20f018e5d.setContent(html_4efcfbad198f62490d47a19c5a6049f8);\n",
              "            \n",
              "        \n",
              "\n",
              "        marker_c4ba3e842f587aa3883b3a54811ee070.bindPopup(popup_bc1049d422a2cd77f402a9d20f018e5d)\n",
              "        ;\n",
              "\n",
              "        \n",
              "    \n",
              "&lt;/script&gt;\n",
              "&lt;/html&gt;\" style=\"position:absolute;width:100%;height:100%;left:0;top:0;border:none !important;\" allowfullscreen webkitallowfullscreen mozallowfullscreen></iframe></div></div>"
            ]
          },
          "metadata": {}
        }
      ]
    },
    {
      "cell_type": "markdown",
      "source": [
        "**You can scroll,zoom-in and zoom-out this map. Once zoomed-out at a greater level, you can see a green cluster above boston city with number of clusters being shown as the areas with high bookings. Zoom-in to have a look at individual clusters. Click on info-sign(i) button to know the number of bookings in that area**"
      ],
      "metadata": {
        "id": "ek_yUz4xhlbT"
      }
    },
    {
      "cell_type": "markdown",
      "source": [
        "**Note: this particular visualisation (folium -maps function) requires heavy computing and may not display in some computers **So, I plotted the clusters in latitude vs longitude**"
      ],
      "metadata": {
        "id": "0NmXLbnlKDTS"
      }
    },
    {
      "cell_type": "code",
      "source": [
        "import matplotlib.pyplot as plt\n",
        "\n",
        "# Calculate the count of bookings within each cluster\n",
        "cluster_counts = data['cluster_label'].value_counts().sort_index()\n",
        "\n",
        "plt.figure(figsize=(8, 6))\n",
        "colors = ['red', 'blue', 'green', 'orange', 'purple']\n",
        "\n",
        "for label in range(num_clusters):\n",
        "    cluster_data = data[data['cluster_label'] == label]\n",
        "    plt.scatter(cluster_data['longitude'], cluster_data['latitude'], color=colors[label],\n",
        "                label=f'Cluster {label + 1} ({cluster_counts[label]} bookings)')\n",
        "\n",
        "plt.xlabel('Longitude')\n",
        "plt.ylabel('Latitude')\n",
        "plt.title('Cluster Visualization')\n",
        "plt.legend()\n",
        "plt.show()\n"
      ],
      "metadata": {
        "colab": {
          "base_uri": "https://localhost:8080/",
          "height": 564
        },
        "id": "yQh499QzW4Co",
        "outputId": "a1192813-1af6-4972-ffc9-5bac97e265d1"
      },
      "execution_count": null,
      "outputs": [
        {
          "output_type": "display_data",
          "data": {
            "text/plain": [
              "<Figure size 800x600 with 1 Axes>"
            ],
            "image/png": "[encoded data removed]"
          },
          "metadata": {}
        }
      ]
    },
    {
      "cell_type": "markdown",
      "source": [
        "#Supervised Alogorithm (Linear regression) for price prediction"
      ],
      "metadata": {
        "id": "w_0hkcPCGgQD"
      }
    },
    {
      "cell_type": "code",
      "source": [
        "#Preprocess the data for regression\n",
        "regression_data = data[['hour', 'day', 'month', 'temperature', 'price']].copy()"
      ],
      "metadata": {
        "id": "3e06I3q8GlPb"
      },
      "execution_count": null,
      "outputs": []
    },
    {
      "cell_type": "markdown",
      "source": [
        "**Note:** we are not using *latitude* and *longitude* here because, it is too complex for a human to input correct co-ordinates with respect to the place. Boston is a small part of earth and any incoorect entry may influence the model greatly."
      ],
      "metadata": {
        "id": "rzL35X2ijp6S"
      }
    },
    {
      "cell_type": "code",
      "source": [
        "#Split the data into training and testing sets\n",
        "train_data = regression_data.sample(frac=0.8, random_state=42)\n",
        "test_data = regression_data.drop(train_data.index)"
      ],
      "metadata": {
        "id": "Nb7x0VTwGkmO"
      },
      "execution_count": null,
      "outputs": []
    },
    {
      "cell_type": "code",
      "source": [
        "#Train the linear regression model\n",
        "regression_model = LinearRegression()\n",
        "regression_model.fit(train_data.drop('price', axis=1), train_data['price'])\n"
      ],
      "metadata": {
        "colab": {
          "base_uri": "https://localhost:8080/",
          "height": 75
        },
        "id": "6ui17kmzGkSI",
        "outputId": "10d0b8b0-e6ab-4755-c51a-453e2f84e409"
      },
      "execution_count": null,
      "outputs": [
        {
          "output_type": "execute_result",
          "data": {
            "text/plain": [
              "LinearRegression()"
            ],
            "text/html": [
              "<style>#sk-container-id-1 {color: black;background-color: white;}#sk-container-id-1 pre{padding: 0;}#sk-container-id-1 div.sk-toggleable {background-color: white;}#sk-container-id-1 label.sk-toggleable__label {cursor: pointer;display: block;width: 100%;margin-bottom: 0;padding: 0.3em;box-sizing: border-box;text-align: center;}#sk-container-id-1 label.sk-toggleable__label-arrow:before {content: \"▸\";float: left;margin-right: 0.25em;color: #696969;}#sk-container-id-1 label.sk-toggleable__label-arrow:hover:before {color: black;}#sk-container-id-1 div.sk-estimator:hover label.sk-toggleable__label-arrow:before {color: black;}#sk-container-id-1 div.sk-toggleable__content {max-height: 0;max-width: 0;overflow: hidden;text-align: left;background-color: #f0f8ff;}#sk-container-id-1 div.sk-toggleable__content pre {margin: 0.2em;color: black;border-radius: 0.25em;background-color: #f0f8ff;}#sk-container-id-1 input.sk-toggleable__control:checked~div.sk-toggleable__content {max-height: 200px;max-width: 100%;overflow: auto;}#sk-container-id-1 input.sk-toggleable__control:checked~label.sk-toggleable__label-arrow:before {content: \"▾\";}#sk-container-id-1 div.sk-estimator input.sk-toggleable__control:checked~label.sk-toggleable__label {background-color: #d4ebff;}#sk-container-id-1 div.sk-label input.sk-toggleable__control:checked~label.sk-toggleable__label {background-color: #d4ebff;}#sk-container-id-1 input.sk-hidden--visually {border: 0;clip: rect(1px 1px 1px 1px);clip: rect(1px, 1px, 1px, 1px);height: 1px;margin: -1px;overflow: hidden;padding: 0;position: absolute;width: 1px;}#sk-container-id-1 div.sk-estimator {font-family: monospace;background-color: #f0f8ff;border: 1px dotted black;border-radius: 0.25em;box-sizing: border-box;margin-bottom: 0.5em;}#sk-container-id-1 div.sk-estimator:hover {background-color: #d4ebff;}#sk-container-id-1 div.sk-parallel-item::after {content: \"\";width: 100%;border-bottom: 1px solid gray;flex-grow: 1;}#sk-container-id-1 div.sk-label:hover label.sk-toggleable__label {background-color: #d4ebff;}#sk-container-id-1 div.sk-serial::before {content: \"\";position: absolute;border-left: 1px solid gray;box-sizing: border-box;top: 0;bottom: 0;left: 50%;z-index: 0;}#sk-container-id-1 div.sk-serial {display: flex;flex-direction: column;align-items: center;background-color: white;padding-right: 0.2em;padding-left: 0.2em;position: relative;}#sk-container-id-1 div.sk-item {position: relative;z-index: 1;}#sk-container-id-1 div.sk-parallel {display: flex;align-items: stretch;justify-content: center;background-color: white;position: relative;}#sk-container-id-1 div.sk-item::before, #sk-container-id-1 div.sk-parallel-item::before {content: \"\";position: absolute;border-left: 1px solid gray;box-sizing: border-box;top: 0;bottom: 0;left: 50%;z-index: -1;}#sk-container-id-1 div.sk-parallel-item {display: flex;flex-direction: column;z-index: 1;position: relative;background-color: white;}#sk-container-id-1 div.sk-parallel-item:first-child::after {align-self: flex-end;width: 50%;}#sk-container-id-1 div.sk-parallel-item:last-child::after {align-self: flex-start;width: 50%;}#sk-container-id-1 div.sk-parallel-item:only-child::after {width: 0;}#sk-container-id-1 div.sk-dashed-wrapped {border: 1px dashed gray;margin: 0 0.4em 0.5em 0.4em;box-sizing: border-box;padding-bottom: 0.4em;background-color: white;}#sk-container-id-1 div.sk-label label {font-family: monospace;font-weight: bold;display: inline-block;line-height: 1.2em;}#sk-container-id-1 div.sk-label-container {text-align: center;}#sk-container-id-1 div.sk-container {/* jupyter's `normalize.less` sets `[hidden] { display: none; }` but bootstrap.min.css set `[hidden] { display: none !important; }` so we also need the `!important` here to be able to override the default hidden behavior on the sphinx rendered scikit-learn.org. See: https://github.com/scikit-learn/scikit-learn/issues/21755 */display: inline-block !important;position: relative;}#sk-container-id-1 div.sk-text-repr-fallback {display: none;}</style><div id=\"sk-container-id-1\" class=\"sk-top-container\"><div class=\"sk-text-repr-fallback\"><pre>LinearRegression()</pre><b>In a Jupyter environment, please rerun this cell to show the HTML representation or trust the notebook. <br />On GitHub, the HTML representation is unable to render, please try loading this page with nbviewer.org.</b></div><div class=\"sk-container\" hidden><div class=\"sk-item\"><div class=\"sk-estimator sk-toggleable\"><input class=\"sk-toggleable__control sk-hidden--visually\" id=\"sk-estimator-id-1\" type=\"checkbox\" checked><label for=\"sk-estimator-id-1\" class=\"sk-toggleable__label sk-toggleable__label-arrow\">LinearRegression</label><div class=\"sk-toggleable__content\"><pre>LinearRegression()</pre></div></div></div></div></div>"
            ]
          },
          "metadata": {},
          "execution_count": 22
        }
      ]
    },
    {
      "cell_type": "code",
      "source": [
        "#Evaluate the model for efficiency\n",
        "mse = mean_squared_error(test_data['price'], regression_model.predict(test_data.drop('price', axis=1)))\n",
        "r_squared = regression_model.score(test_data.drop('price', axis=1), test_data['price'])\n",
        "print(f\"Mean Squared Error: {mse}\")\n",
        "print(f\"R-squared: {r_squared}\")"
      ],
      "metadata": {
        "colab": {
          "base_uri": "https://localhost:8080/"
        },
        "id": "t_SSDywXGn0u",
        "outputId": "9ac830e2-ab0c-4128-9b43-eee2ef674b2d"
      },
      "execution_count": null,
      "outputs": [
        {
          "output_type": "stream",
          "name": "stdout",
          "text": [
            "Mean Squared Error: 80.78161002249139\n",
            "R-squared: -0.00011912374214073651\n"
          ]
        }
      ]
    },
    {
      "cell_type": "code",
      "source": [
        "#Predict prices for new locations\n",
        "new_location = pd.DataFrame([[16, 30, 11, 28.64, None]], columns=['hour', 'day', 'month', 'temperature', 'price'])\n",
        "predicted_price = regression_model.predict(new_location.drop('price', axis=1))\n",
        "print(f\"Predicted Price: {predicted_price[0]}\")\n"
      ],
      "metadata": {
        "colab": {
          "base_uri": "https://localhost:8080/"
        },
        "id": "ZXJht8SH1Hz_",
        "outputId": "3cac6029-4544-4f7e-d4ac-9d22ece6a897"
      },
      "execution_count": null,
      "outputs": [
        {
          "output_type": "stream",
          "name": "stdout",
          "text": [
            "Predicted Price: 16.50530645012299\n"
          ]
        }
      ]
    },
    {
      "cell_type": "markdown",
      "source": [
        "**Note:** we are not using *latitude* and *longitude* here because, it is too complex for a human to input correct co-ordinates with respect to the place. Boston is a small part of earth and any incoorect entry may influence the model greatly."
      ],
      "metadata": {
        "id": "Bf2SNRuFkTfb"
      }
    },
    {
      "cell_type": "code",
      "source": [
        "\n",
        "#Take input from the user\n",
        "hour = int(input(\"Enter the hour of the day (24 hour format)): \"))\n",
        "day = int(input(\"Enter the day (1-31) : \"))\n",
        "month = int(input(\"Enter the month (1-12): \"))\n",
        "temperature = float(input(\"Enter the temperature (in celsius): \"))\n",
        "\n",
        "# Create a DataFrame with the user input\n",
        "new_location = pd.DataFrame([[hour, day, month, temperature, None]], columns=['hour', 'day', 'month', 'temperature', 'price'])\n",
        "\n",
        "# Step 2: Predict the price using the regression model\n",
        "predicted_price = regression_model.predict(new_location.drop('price', axis=1))\n",
        "\n",
        "# Step 3: Display the predicted price\n",
        "print('*'*35)\n",
        "print('*'*30)\n",
        "print(f\"Predicted Price: {predicted_price[0]}\")\n",
        "print('*'*30)\n",
        "print('*'*35)"
      ],
      "metadata": {
        "colab": {
          "base_uri": "https://localhost:8080/"
        },
        "id": "iGsUC12cNrfH",
        "outputId": "71a12381-6fc5-4737-e085-ca63fda0f324"
      },
      "execution_count": null,
      "outputs": [
        {
          "output_type": "stream",
          "name": "stdout",
          "text": [
            "Enter the hour of the day (24 hour format)): 12\n",
            "Enter the day (1-31) : 14\n",
            "Enter the month (1-12): 3\n",
            "Enter the temperature (in celsius): 30\n",
            "***********************************\n",
            "******************************\n",
            "Predicted Price: 16.462660755127338\n",
            "******************************\n",
            "***********************************\n"
          ]
        }
      ]
    },
    {
      "cell_type": "code",
      "source": [],
      "metadata": {
        "id": "9P3lkOw3Oo9n"
      },
      "execution_count": null,
      "outputs": []
    }
  ]
}