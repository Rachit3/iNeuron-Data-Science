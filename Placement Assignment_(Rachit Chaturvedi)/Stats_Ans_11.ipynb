{
  "nbformat": 4,
  "nbformat_minor": 0,
  "metadata": {
    "colab": {
      "provenance": []
    },
    "kernelspec": {
      "name": "python3",
      "display_name": "Python 3"
    },
    "language_info": {
      "name": "python"
    }
  },
  "cells": [
    {
      "cell_type": "code",
      "execution_count": 4,
      "metadata": {
        "id": "H_y5BjpdRwbM"
      },
      "outputs": [],
      "source": [
        "import matplotlib.pyplot as plt\n",
        "import pandas as pd\n",
        "from scipy.stats import levene\n",
        "\n",
        "# Read the data into a DataFrame\n",
        "data = pd.read_csv('data.csv') "
      ]
    },
    {
      "cell_type": "markdown",
      "source": [
        "#a. Checking the distribution of all the classes:"
      ],
      "metadata": {
        "id": "UOw_PCSRXB4e"
      }
    },
    {
      "cell_type": "code",
      "source": [
        "# Plot histograms of the variables\n",
        "plt.hist(data[' Blood Pressure Before (mmHg)'], bins=10, alpha=0.5, label=' Blood Pressure Before')\n",
        "plt.hist(data[' Blood Pressure After (mmHg)'], bins=10, alpha=0.5, label=' Blood Pressure After')\n",
        "plt.xlabel('Blood Pressure (mmHg)')\n",
        "plt.ylabel('Frequency')\n",
        "plt.legend()\n",
        "plt.show()"
      ],
      "metadata": {
        "colab": {
          "base_uri": "https://localhost:8080/",
          "height": 449
        },
        "id": "o7zeFso7TkSV",
        "outputId": "3b235cb0-ebe1-4b54-94ca-df27d12d33e2"
      },
      "execution_count": 2,
      "outputs": [
        {
          "output_type": "display_data",
          "data": {
            "text/plain": [
              "<Figure size 640x480 with 1 Axes>"
            ],
            "image/png": "[encoded data removed]"
          },
          "metadata": {}
        }
      ]
    },
    {
      "cell_type": "markdown",
      "source": [
        "#b. Checking the equality of variance"
      ],
      "metadata": {
        "id": "UxDJCxcUXIem"
      }
    },
    {
      "cell_type": "code",
      "source": [
        "# Perform Levene's test for equality of variances\n",
        "statistic, p_value = levene(data[' Blood Pressure Before (mmHg)'], data[' Blood Pressure After (mmHg)'])\n",
        "\n",
        "# Set significance level (alpha)\n",
        "alpha = 0.05\n",
        "\n",
        "# Compare p-value to significance level\n",
        "if p_value > alpha:\n",
        "    conclusion = \"The variances are statistically equal (fail to reject null hypothesis)\"\n",
        "else:\n",
        "    conclusion = \"The variances are not statistically equal (reject null hypothesis)\"\n",
        "\n",
        "\n",
        "\n",
        "print('p-value:', p_value)\n",
        "print(\"Levene's test conclusion:\", conclusion)\n"
      ],
      "metadata": {
        "colab": {
          "base_uri": "https://localhost:8080/"
        },
        "id": "zjdmTd60TseE",
        "outputId": "55f2e750-cb0a-4035-8ff3-c498021abb40"
      },
      "execution_count": 10,
      "outputs": [
        {
          "output_type": "stream",
          "name": "stdout",
          "text": [
            "p-value: 0.6715080090945376\n",
            "Levene's test conclusion: The variances are statistically equal (fail to reject null hypothesis)\n"
          ]
        }
      ]
    },
    {
      "cell_type": "markdown",
      "source": [
        "#c. Performance of LDA and QDA"
      ],
      "metadata": {
        "id": "zdpyc2RlXMh9"
      }
    },
    {
      "cell_type": "code",
      "source": [
        "\n",
        "from sklearn.discriminant_analysis import LinearDiscriminantAnalysis, QuadraticDiscriminantAnalysis\n",
        "from sklearn.model_selection import train_test_split\n",
        "from sklearn.metrics import accuracy_score\n",
        "\n",
        "\n",
        "\n",
        "# Assume class labels\n",
        "data['Class'] = ['Before Treatment'] * 50 + ['After Treatment'] * 50\n",
        "# I divided the data into before treatment and after treatment equally as there were no data labels given for classification\n",
        "\n",
        "# Split the data into training and testing sets\n",
        "X_train, X_test, y_train, y_test = train_test_split(data[[' Blood Pressure Before (mmHg)', ' Blood Pressure After (mmHg)']],\n",
        "                                                    data['Class'], test_size=0.2, random_state=42)\n",
        "\n",
        "# Create and train LDA classifier\n",
        "lda = LinearDiscriminantAnalysis()\n",
        "lda.fit(X_train, y_train)\n",
        "\n",
        "# Create and train QDA classifier\n",
        "qda = QuadraticDiscriminantAnalysis()\n",
        "qda.fit(X_train, y_train)\n",
        "\n",
        "# Make predictions on the test set\n",
        "lda_predictions = lda.predict(X_test)\n",
        "qda_predictions = qda.predict(X_test)\n",
        "\n",
        "# Evaluate the accuracy of the classifiers\n",
        "lda_accuracy = accuracy_score(y_test, lda_predictions)\n",
        "qda_accuracy = accuracy_score(y_test, qda_predictions)\n",
        "\n",
        "print(\"LDA Accuracy:\", lda_accuracy)\n",
        "print(\"QDA Accuracy:\", qda_accuracy)\n"
      ],
      "metadata": {
        "colab": {
          "base_uri": "https://localhost:8080/"
        },
        "id": "Ro2-SusQUG3F",
        "outputId": "c8ea2031-13c6-4ded-80ee-d3e32430fddc"
      },
      "execution_count": 18,
      "outputs": [
        {
          "output_type": "stream",
          "name": "stdout",
          "text": [
            "LDA Accuracy: 0.7\n",
            "QDA Accuracy: 0.6\n"
          ]
        }
      ]
    },
    {
      "cell_type": "markdown",
      "source": [
        "LDA would perform better on this data for classification as it scored greater accuracy compared to QDA"
      ],
      "metadata": {
        "id": "N2Vp-x_nWSiq"
      }
    },
    {
      "cell_type": "code",
      "source": [
        "data"
      ],
      "metadata": {
        "colab": {
          "base_uri": "https://localhost:8080/",
          "height": 423
        },
        "id": "BOmR8ZMEYQBh",
        "outputId": "36746c76-afff-484c-80ec-17eac4646793"
      },
      "execution_count": 19,
      "outputs": [
        {
          "output_type": "execute_result",
          "data": {
            "text/plain": [
              "    Patient ID   Blood Pressure Before (mmHg)   Blood Pressure After (mmHg)  \\\n",
              "0            1                            130                           120   \n",
              "1            2                            142                           135   \n",
              "2            3                            120                           118   \n",
              "3            4                            135                           127   \n",
              "4            5                            148                           140   \n",
              "..         ...                            ...                           ...   \n",
              "95          96                            136                           129   \n",
              "96          97                            143                           137   \n",
              "97          98                            127                           123   \n",
              "98          99                            139                           135   \n",
              "99         100                            135                           130   \n",
              "\n",
              "               Class  \n",
              "0   Before Treatment  \n",
              "1   Before Treatment  \n",
              "2   Before Treatment  \n",
              "3   Before Treatment  \n",
              "4   Before Treatment  \n",
              "..               ...  \n",
              "95   After Treatment  \n",
              "96   After Treatment  \n",
              "97   After Treatment  \n",
              "98   After Treatment  \n",
              "99   After Treatment  \n",
              "\n",
              "[100 rows x 4 columns]"
            ],
            "text/html": [
              "\n",
              "  <div id=\"df-03410ecd-be1b-4770-b4cb-98d3f068e6a7\">\n",
              "    <div class=\"colab-df-container\">\n",
              "      <div>\n",
              "<style scoped>\n",
              "    .dataframe tbody tr th:only-of-type {\n",
              "        vertical-align: middle;\n",
              "    }\n",
              "\n",
              "    .dataframe tbody tr th {\n",
              "        vertical-align: top;\n",
              "    }\n",
              "\n",
              "    .dataframe thead th {\n",
              "        text-align: right;\n",
              "    }\n",
              "</style>\n",
              "<table border=\"1\" class=\"dataframe\">\n",
              "  <thead>\n",
              "    <tr style=\"text-align: right;\">\n",
              "      <th></th>\n",
              "      <th>Patient ID</th>\n",
              "      <th>Blood Pressure Before (mmHg)</th>\n",
              "      <th>Blood Pressure After (mmHg)</th>\n",
              "      <th>Class</th>\n",
              "    </tr>\n",
              "  </thead>\n",
              "  <tbody>\n",
              "    <tr>\n",
              "      <th>0</th>\n",
              "      <td>1</td>\n",
              "      <td>130</td>\n",
              "      <td>120</td>\n",
              "      <td>Before Treatment</td>\n",
              "    </tr>\n",
              "    <tr>\n",
              "      <th>1</th>\n",
              "      <td>2</td>\n",
              "      <td>142</td>\n",
              "      <td>135</td>\n",
              "      <td>Before Treatment</td>\n",
              "    </tr>\n",
              "    <tr>\n",
              "      <th>2</th>\n",
              "      <td>3</td>\n",
              "      <td>120</td>\n",
              "      <td>118</td>\n",
              "      <td>Before Treatment</td>\n",
              "    </tr>\n",
              "    <tr>\n",
              "      <th>3</th>\n",
              "      <td>4</td>\n",
              "      <td>135</td>\n",
              "      <td>127</td>\n",
              "      <td>Before Treatment</td>\n",
              "    </tr>\n",
              "    <tr>\n",
              "      <th>4</th>\n",
              "      <td>5</td>\n",
              "      <td>148</td>\n",
              "      <td>140</td>\n",
              "      <td>Before Treatment</td>\n",
              "    </tr>\n",
              "    <tr>\n",
              "      <th>...</th>\n",
              "      <td>...</td>\n",
              "      <td>...</td>\n",
              "      <td>...</td>\n",
              "      <td>...</td>\n",
              "    </tr>\n",
              "    <tr>\n",
              "      <th>95</th>\n",
              "      <td>96</td>\n",
              "      <td>136</td>\n",
              "      <td>129</td>\n",
              "      <td>After Treatment</td>\n",
              "    </tr>\n",
              "    <tr>\n",
              "      <th>96</th>\n",
              "      <td>97</td>\n",
              "      <td>143</td>\n",
              "      <td>137</td>\n",
              "      <td>After Treatment</td>\n",
              "    </tr>\n",
              "    <tr>\n",
              "      <th>97</th>\n",
              "      <td>98</td>\n",
              "      <td>127</td>\n",
              "      <td>123</td>\n",
              "      <td>After Treatment</td>\n",
              "    </tr>\n",
              "    <tr>\n",
              "      <th>98</th>\n",
              "      <td>99</td>\n",
              "      <td>139</td>\n",
              "      <td>135</td>\n",
              "      <td>After Treatment</td>\n",
              "    </tr>\n",
              "    <tr>\n",
              "      <th>99</th>\n",
              "      <td>100</td>\n",
              "      <td>135</td>\n",
              "      <td>130</td>\n",
              "      <td>After Treatment</td>\n",
              "    </tr>\n",
              "  </tbody>\n",
              "</table>\n",
              "<p>100 rows × 4 columns</p>\n",
              "</div>\n",
              "      <button class=\"colab-df-convert\" onclick=\"convertToInteractive('df-03410ecd-be1b-4770-b4cb-98d3f068e6a7')\"\n",
              "              title=\"Convert this dataframe to an interactive table.\"\n",
              "              style=\"display:none;\">\n",
              "        \n",
              "  <svg xmlns=\"http://www.w3.org/2000/svg\" height=\"24px\"viewBox=\"0 0 24 24\"\n",
              "       width=\"24px\">\n",
              "    <path d=\"M0 0h24v24H0V0z\" fill=\"none\"/>\n",
              "    <path d=\"M18.56 5.44l.94 2.06.94-2.06 2.06-.94-2.06-.94-.94-2.06-.94 2.06-2.06.94zm-11 1L8.5 8.5l.94-2.06 2.06-.94-2.06-.94L8.5 2.5l-.94 2.06-2.06.94zm10 10l.94 2.06.94-2.06 2.06-.94-2.06-.94-.94-2.06-.94 2.06-2.06.94z\"/><path d=\"M17.41 7.96l-1.37-1.37c-.4-.4-.92-.59-1.43-.59-.52 0-1.04.2-1.43.59L10.3 9.45l-7.72 7.72c-.78.78-.78 2.05 0 2.83L4 21.41c.39.39.9.59 1.41.59.51 0 1.02-.2 1.41-.59l7.78-7.78 2.81-2.81c.8-.78.8-2.07 0-2.86zM5.41 20L4 18.59l7.72-7.72 1.47 1.35L5.41 20z\"/>\n",
              "  </svg>\n",
              "      </button>\n",
              "      \n",
              "  <style>\n",
              "    .colab-df-container {\n",
              "      display:flex;\n",
              "      flex-wrap:wrap;\n",
              "      gap: 12px;\n",
              "    }\n",
              "\n",
              "    .colab-df-convert {\n",
              "      background-color: #E8F0FE;\n",
              "      border: none;\n",
              "      border-radius: 50%;\n",
              "      cursor: pointer;\n",
              "      display: none;\n",
              "      fill: #1967D2;\n",
              "      height: 32px;\n",
              "      padding: 0 0 0 0;\n",
              "      width: 32px;\n",
              "    }\n",
              "\n",
              "    .colab-df-convert:hover {\n",
              "      background-color: #E2EBFA;\n",
              "      box-shadow: 0px 1px 2px rgba(60, 64, 67, 0.3), 0px 1px 3px 1px rgba(60, 64, 67, 0.15);\n",
              "      fill: #174EA6;\n",
              "    }\n",
              "\n",
              "    [theme=dark] .colab-df-convert {\n",
              "      background-color: #3B4455;\n",
              "      fill: #D2E3FC;\n",
              "    }\n",
              "\n",
              "    [theme=dark] .colab-df-convert:hover {\n",
              "      background-color: #434B5C;\n",
              "      box-shadow: 0px 1px 3px 1px rgba(0, 0, 0, 0.15);\n",
              "      filter: drop-shadow(0px 1px 2px rgba(0, 0, 0, 0.3));\n",
              "      fill: #FFFFFF;\n",
              "    }\n",
              "  </style>\n",
              "\n",
              "      <script>\n",
              "        const buttonEl =\n",
              "          document.querySelector('#df-03410ecd-be1b-4770-b4cb-98d3f068e6a7 button.colab-df-convert');\n",
              "        buttonEl.style.display =\n",
              "          google.colab.kernel.accessAllowed ? 'block' : 'none';\n",
              "\n",
              "        async function convertToInteractive(key) {\n",
              "          const element = document.querySelector('#df-03410ecd-be1b-4770-b4cb-98d3f068e6a7');\n",
              "          const dataTable =\n",
              "            await google.colab.kernel.invokeFunction('convertToInteractive',\n",
              "                                                     [key], {});\n",
              "          if (!dataTable) return;\n",
              "\n",
              "          const docLinkHtml = 'Like what you see? Visit the ' +\n",
              "            '<a target=\"_blank\" href=https://colab.research.google.com/notebooks/data_table.ipynb>data table notebook</a>'\n",
              "            + ' to learn more about interactive tables.';\n",
              "          element.innerHTML = '';\n",
              "          dataTable['output_type'] = 'display_data';\n",
              "          await google.colab.output.renderOutput(dataTable, element);\n",
              "          const docLink = document.createElement('div');\n",
              "          docLink.innerHTML = docLinkHtml;\n",
              "          element.appendChild(docLink);\n",
              "        }\n",
              "      </script>\n",
              "    </div>\n",
              "  </div>\n",
              "  "
            ]
          },
          "metadata": {},
          "execution_count": 19
        }
      ]
    },
    {
      "cell_type": "markdown",
      "source": [
        "#d. Checking the equality of mean between all the classes:"
      ],
      "metadata": {
        "id": "jCiE727FXQFN"
      }
    },
    {
      "cell_type": "code",
      "source": [
        "from scipy.stats import ttest_ind\n",
        "\n",
        "# Extract the data for each class\n",
        "before_treatment = data[data['Class'] == 'Before Treatment'][' Blood Pressure Before (mmHg)']\n",
        "after_treatment = data[data['Class'] == 'After Treatment'][' Blood Pressure After (mmHg)']\n",
        "\n",
        "# Perform t-test\n",
        "statistic, p_value = ttest_ind(before_treatment, after_treatment)\n",
        "\n",
        "print('T-test statistic:', statistic)\n",
        "print('p-value:', p_value)\n",
        "\n",
        "# Set significance level (alpha)\n",
        "alpha = 0.05\n",
        "\n",
        "alpha = 0.05\n",
        "\n",
        "# Check if the p-value is less than alpha\n",
        "if p_value < alpha:\n",
        "    conclusion = \"There is a significant difference in means between 'Before Treatment' and 'After Treatment' classes (reject null hypothesis)\"\n",
        "else:\n",
        "    conclusion = \"There is no significant difference in means between 'Before Treatment' and 'After Treatment' classes (fail to reject null hypothesis)\"\n",
        "\n",
        "print(\"T-test conclusion:\", conclusion)\n",
        "\n"
      ],
      "metadata": {
        "colab": {
          "base_uri": "https://localhost:8080/"
        },
        "id": "c4FvFUR3WLbx",
        "outputId": "aa2e79e8-f210-4065-f4f4-8702ae1a0887"
      },
      "execution_count": 24,
      "outputs": [
        {
          "output_type": "stream",
          "name": "stdout",
          "text": [
            "T-test statistic: 4.049767262678321\n",
            "p-value: 0.00010260016269085749\n",
            "T-test conclusion: There is a significant difference in means between 'Before Treatment' and 'After Treatment' classes (reject null hypothesis)\n"
          ]
        }
      ]
    }
  ]
}