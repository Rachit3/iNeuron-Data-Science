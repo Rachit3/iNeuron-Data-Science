{
  "nbformat": 4,
  "nbformat_minor": 0,
  "metadata": {
    "colab": {
      "provenance": []
    },
    "kernelspec": {
      "name": "python3",
      "display_name": "Python 3"
    },
    "language_info": {
      "name": "python"
    }
  },
  "cells": [
    {
      "cell_type": "code",
      "execution_count": 1,
      "metadata": {
        "id": "zUm5qVypjH6b"
      },
      "outputs": [],
      "source": [
        "import pandas as pd\n",
        "import numpy as np\n",
        "import matplotlib.pyplot as plt\n",
        "from scipy import stats\n"
      ]
    },
    {
      "cell_type": "code",
      "source": [
        "#reading csv data from the file. I downloaded the file and placed it in my pwd\n",
        "# please use the dataset from the url 'https://drive.google.com/file/d/1mCjtYHiX--mMUjicuaP2gH3k-SnFxt8Y/view?usp=share_' \n",
        " \n",
        "df=pd.read_csv('data.csv')\n",
        "df"
      ],
      "metadata": {
        "colab": {
          "base_uri": "https://localhost:8080/",
          "height": 423
        },
        "id": "771V4WPZjNMb",
        "outputId": "4e26d603-04c2-448d-f47d-be834a4896eb"
      },
      "execution_count": 2,
      "outputs": [
        {
          "output_type": "execute_result",
          "data": {
            "text/plain": [
              "    Patient ID   Blood Pressure Before (mmHg)   Blood Pressure After (mmHg)\n",
              "0            1                            130                           120\n",
              "1            2                            142                           135\n",
              "2            3                            120                           118\n",
              "3            4                            135                           127\n",
              "4            5                            148                           140\n",
              "..         ...                            ...                           ...\n",
              "95          96                            136                           129\n",
              "96          97                            143                           137\n",
              "97          98                            127                           123\n",
              "98          99                            139                           135\n",
              "99         100                            135                           130\n",
              "\n",
              "[100 rows x 3 columns]"
            ],
            "text/html": [
              "\n",
              "  <div id=\"df-99d53168-806a-4e10-a33c-13c977040ef4\">\n",
              "    <div class=\"colab-df-container\">\n",
              "      <div>\n",
              "<style scoped>\n",
              "    .dataframe tbody tr th:only-of-type {\n",
              "        vertical-align: middle;\n",
              "    }\n",
              "\n",
              "    .dataframe tbody tr th {\n",
              "        vertical-align: top;\n",
              "    }\n",
              "\n",
              "    .dataframe thead th {\n",
              "        text-align: right;\n",
              "    }\n",
              "</style>\n",
              "<table border=\"1\" class=\"dataframe\">\n",
              "  <thead>\n",
              "    <tr style=\"text-align: right;\">\n",
              "      <th></th>\n",
              "      <th>Patient ID</th>\n",
              "      <th>Blood Pressure Before (mmHg)</th>\n",
              "      <th>Blood Pressure After (mmHg)</th>\n",
              "    </tr>\n",
              "  </thead>\n",
              "  <tbody>\n",
              "    <tr>\n",
              "      <th>0</th>\n",
              "      <td>1</td>\n",
              "      <td>130</td>\n",
              "      <td>120</td>\n",
              "    </tr>\n",
              "    <tr>\n",
              "      <th>1</th>\n",
              "      <td>2</td>\n",
              "      <td>142</td>\n",
              "      <td>135</td>\n",
              "    </tr>\n",
              "    <tr>\n",
              "      <th>2</th>\n",
              "      <td>3</td>\n",
              "      <td>120</td>\n",
              "      <td>118</td>\n",
              "    </tr>\n",
              "    <tr>\n",
              "      <th>3</th>\n",
              "      <td>4</td>\n",
              "      <td>135</td>\n",
              "      <td>127</td>\n",
              "    </tr>\n",
              "    <tr>\n",
              "      <th>4</th>\n",
              "      <td>5</td>\n",
              "      <td>148</td>\n",
              "      <td>140</td>\n",
              "    </tr>\n",
              "    <tr>\n",
              "      <th>...</th>\n",
              "      <td>...</td>\n",
              "      <td>...</td>\n",
              "      <td>...</td>\n",
              "    </tr>\n",
              "    <tr>\n",
              "      <th>95</th>\n",
              "      <td>96</td>\n",
              "      <td>136</td>\n",
              "      <td>129</td>\n",
              "    </tr>\n",
              "    <tr>\n",
              "      <th>96</th>\n",
              "      <td>97</td>\n",
              "      <td>143</td>\n",
              "      <td>137</td>\n",
              "    </tr>\n",
              "    <tr>\n",
              "      <th>97</th>\n",
              "      <td>98</td>\n",
              "      <td>127</td>\n",
              "      <td>123</td>\n",
              "    </tr>\n",
              "    <tr>\n",
              "      <th>98</th>\n",
              "      <td>99</td>\n",
              "      <td>139</td>\n",
              "      <td>135</td>\n",
              "    </tr>\n",
              "    <tr>\n",
              "      <th>99</th>\n",
              "      <td>100</td>\n",
              "      <td>135</td>\n",
              "      <td>130</td>\n",
              "    </tr>\n",
              "  </tbody>\n",
              "</table>\n",
              "<p>100 rows × 3 columns</p>\n",
              "</div>\n",
              "      <button class=\"colab-df-convert\" onclick=\"convertToInteractive('df-99d53168-806a-4e10-a33c-13c977040ef4')\"\n",
              "              title=\"Convert this dataframe to an interactive table.\"\n",
              "              style=\"display:none;\">\n",
              "        \n",
              "  <svg xmlns=\"http://www.w3.org/2000/svg\" height=\"24px\"viewBox=\"0 0 24 24\"\n",
              "       width=\"24px\">\n",
              "    <path d=\"M0 0h24v24H0V0z\" fill=\"none\"/>\n",
              "    <path d=\"M18.56 5.44l.94 2.06.94-2.06 2.06-.94-2.06-.94-.94-2.06-.94 2.06-2.06.94zm-11 1L8.5 8.5l.94-2.06 2.06-.94-2.06-.94L8.5 2.5l-.94 2.06-2.06.94zm10 10l.94 2.06.94-2.06 2.06-.94-2.06-.94-.94-2.06-.94 2.06-2.06.94z\"/><path d=\"M17.41 7.96l-1.37-1.37c-.4-.4-.92-.59-1.43-.59-.52 0-1.04.2-1.43.59L10.3 9.45l-7.72 7.72c-.78.78-.78 2.05 0 2.83L4 21.41c.39.39.9.59 1.41.59.51 0 1.02-.2 1.41-.59l7.78-7.78 2.81-2.81c.8-.78.8-2.07 0-2.86zM5.41 20L4 18.59l7.72-7.72 1.47 1.35L5.41 20z\"/>\n",
              "  </svg>\n",
              "      </button>\n",
              "      \n",
              "  <style>\n",
              "    .colab-df-container {\n",
              "      display:flex;\n",
              "      flex-wrap:wrap;\n",
              "      gap: 12px;\n",
              "    }\n",
              "\n",
              "    .colab-df-convert {\n",
              "      background-color: #E8F0FE;\n",
              "      border: none;\n",
              "      border-radius: 50%;\n",
              "      cursor: pointer;\n",
              "      display: none;\n",
              "      fill: #1967D2;\n",
              "      height: 32px;\n",
              "      padding: 0 0 0 0;\n",
              "      width: 32px;\n",
              "    }\n",
              "\n",
              "    .colab-df-convert:hover {\n",
              "      background-color: #E2EBFA;\n",
              "      box-shadow: 0px 1px 2px rgba(60, 64, 67, 0.3), 0px 1px 3px 1px rgba(60, 64, 67, 0.15);\n",
              "      fill: #174EA6;\n",
              "    }\n",
              "\n",
              "    [theme=dark] .colab-df-convert {\n",
              "      background-color: #3B4455;\n",
              "      fill: #D2E3FC;\n",
              "    }\n",
              "\n",
              "    [theme=dark] .colab-df-convert:hover {\n",
              "      background-color: #434B5C;\n",
              "      box-shadow: 0px 1px 3px 1px rgba(0, 0, 0, 0.15);\n",
              "      filter: drop-shadow(0px 1px 2px rgba(0, 0, 0, 0.3));\n",
              "      fill: #FFFFFF;\n",
              "    }\n",
              "  </style>\n",
              "\n",
              "      <script>\n",
              "        const buttonEl =\n",
              "          document.querySelector('#df-99d53168-806a-4e10-a33c-13c977040ef4 button.colab-df-convert');\n",
              "        buttonEl.style.display =\n",
              "          google.colab.kernel.accessAllowed ? 'block' : 'none';\n",
              "\n",
              "        async function convertToInteractive(key) {\n",
              "          const element = document.querySelector('#df-99d53168-806a-4e10-a33c-13c977040ef4');\n",
              "          const dataTable =\n",
              "            await google.colab.kernel.invokeFunction('convertToInteractive',\n",
              "                                                     [key], {});\n",
              "          if (!dataTable) return;\n",
              "\n",
              "          const docLinkHtml = 'Like what you see? Visit the ' +\n",
              "            '<a target=\"_blank\" href=https://colab.research.google.com/notebooks/data_table.ipynb>data table notebook</a>'\n",
              "            + ' to learn more about interactive tables.';\n",
              "          element.innerHTML = '';\n",
              "          dataTable['output_type'] = 'display_data';\n",
              "          await google.colab.output.renderOutput(dataTable, element);\n",
              "          const docLink = document.createElement('div');\n",
              "          docLink.innerHTML = docLinkHtml;\n",
              "          element.appendChild(docLink);\n",
              "        }\n",
              "      </script>\n",
              "    </div>\n",
              "  </div>\n",
              "  "
            ]
          },
          "metadata": {},
          "execution_count": 2
        }
      ]
    },
    {
      "cell_type": "code",
      "source": [
        "df.columns"
      ],
      "metadata": {
        "colab": {
          "base_uri": "https://localhost:8080/"
        },
        "id": "X3zXHFFsoF6v",
        "outputId": "734cd765-9778-4547-9f31-06fa86ea9781"
      },
      "execution_count": 3,
      "outputs": [
        {
          "output_type": "execute_result",
          "data": {
            "text/plain": [
              "Index(['Patient ID', ' Blood Pressure Before (mmHg)',\n",
              "       ' Blood Pressure After (mmHg)'],\n",
              "      dtype='object')"
            ]
          },
          "metadata": {},
          "execution_count": 3
        }
      ]
    },
    {
      "cell_type": "markdown",
      "source": [
        "# a. Measure the dispersion"
      ],
      "metadata": {
        "id": "giYuGlnt9Igj"
      }
    },
    {
      "cell_type": "code",
      "source": [
        "# a. Measure the dispersion\n",
        "dispersion_before = df[' Blood Pressure Before (mmHg)'].max() - df[' Blood Pressure Before (mmHg)'].min()\n",
        "dispersion_after = df[' Blood Pressure After (mmHg)'].max() - df[' Blood Pressure After (mmHg)'].min()\n",
        "\n",
        "iqr_before = df[' Blood Pressure Before (mmHg)'].quantile(0.75) - df[' Blood Pressure Before (mmHg)'].quantile(0.25)\n",
        "iqr_after = df[' Blood Pressure After (mmHg)'].quantile(0.75) - df[' Blood Pressure After (mmHg)'].quantile(0.25)\n",
        "\n",
        "range_before = df[' Blood Pressure Before (mmHg)'].max() - df[' Blood Pressure Before (mmHg)'].min()\n",
        "range_after = df[' Blood Pressure After (mmHg)'].max() - df[' Blood Pressure After (mmHg)'].min()\n",
        "\n",
        "variance_before = df[' Blood Pressure Before (mmHg)'].var()\n",
        "variance_after = df[' Blood Pressure After (mmHg)'].var()\n",
        "\n",
        "std_before = df[' Blood Pressure Before (mmHg)'].std()\n",
        "std_after = df[' Blood Pressure After (mmHg)'].std()\n",
        "\n",
        "print(\"Dispersion in 'Blood Pressure Before':\", dispersion_before)\n",
        "print(\"Dispersion in 'Blood Pressure After':\", dispersion_after)\n",
        "print(\"IQR of 'Blood Pressure Before':\", iqr_before)\n",
        "print(\"IQR of 'Blood Pressure After':\", iqr_after)\n",
        "print(\"Range of 'Blood Pressure Before':\", range_before)\n",
        "print(\"Range of 'Blood Pressure After':\", range_after)\n",
        "print(\"Variance of 'Blood Pressure Before':\", variance_before)\n",
        "print(\"Variance of 'Blood Pressure After':\", variance_after)\n",
        "print(\"Standard Deviation of 'Blood Pressure Before':\", std_before)\n",
        "print(\"Standard Deviation of 'Blood Pressure After':\", std_after)"
      ],
      "metadata": {
        "colab": {
          "base_uri": "https://localhost:8080/"
        },
        "id": "BPiuiVCanAo4",
        "outputId": "898bc8f1-bb41-4b9c-dc00-14e99f58e568"
      },
      "execution_count": 4,
      "outputs": [
        {
          "output_type": "stream",
          "name": "stdout",
          "text": [
            "Dispersion in 'Blood Pressure Before': 28\n",
            "Dispersion in 'Blood Pressure After': 23\n",
            "IQR of 'Blood Pressure Before': 11.25\n",
            "IQR of 'Blood Pressure After': 12.0\n",
            "Range of 'Blood Pressure Before': 28\n",
            "Range of 'Blood Pressure After': 23\n",
            "Variance of 'Blood Pressure Before': 43.53727272727272\n",
            "Variance of 'Blood Pressure After': 47.44484848484848\n",
            "Standard Deviation of 'Blood Pressure Before': 6.598278012275076\n",
            "Standard Deviation of 'Blood Pressure After': 6.888022102523226\n"
          ]
        }
      ]
    },
    {
      "cell_type": "markdown",
      "source": [
        "# b. Calculate mean and 5% confidence interval and plot it in a graph\n"
      ],
      "metadata": {
        "id": "9P1uGo159KHI"
      }
    },
    {
      "cell_type": "code",
      "source": [
        "# b. Calculate mean and 5% confidence interval and plot it in a graph\n",
        "mean_before = df[' Blood Pressure Before (mmHg)'].mean()\n",
        "mean_after = df[' Blood Pressure After (mmHg)'].mean()\n",
        "\n",
        "confidence_interval_before = stats.t.interval(0.95, len(df[' Blood Pressure Before (mmHg)']) - 1, loc=mean_before, scale=stats.sem(df[' Blood Pressure Before (mmHg)']))\n",
        "confidence_interval_after = stats.t.interval(0.95, len(df[' Blood Pressure After (mmHg)']) - 1, loc=mean_after, scale=stats.sem(df[' Blood Pressure After (mmHg)']))\n",
        "\n",
        "plt.errorbar([1, 2], [mean_before, mean_after], yerr=[mean_before-confidence_interval_before[0], mean_after-confidence_interval_after[0]], fmt='o')\n",
        "plt.xticks([1, 2], [' Blood Pressure Before (mmHg)', ' Blood Pressure After (mmHg)'])\n",
        "plt.ylabel('Mean')\n",
        "plt.title('Mean and 5% Confidence Interval')\n",
        "plt.show()\n"
      ],
      "metadata": {
        "colab": {
          "base_uri": "https://localhost:8080/",
          "height": 452
        },
        "id": "h-PqhUqf8VFe",
        "outputId": "20d3abd9-2d0d-4e1c-d103-0a45303e9ce9"
      },
      "execution_count": 8,
      "outputs": [
        {
          "output_type": "display_data",
          "data": {
            "text/plain": [
              "<Figure size 640x480 with 1 Axes>"
            ],
            "image/png": "[encoded data removed]"
          },
          "metadata": {}
        }
      ]
    },
    {
      "cell_type": "markdown",
      "source": [
        "# c. Calculate Mean Absolute Deviation (MAD) and Standard Deviation (SD)\n"
      ],
      "metadata": {
        "id": "YgvrA1vB9iYK"
      }
    },
    {
      "cell_type": "code",
      "source": [
        "# c. Calculate Mean Absolute Deviation (MAD) and Standard Deviation (SD)\n",
        "mad_before = np.abs(df[' Blood Pressure Before (mmHg)'] - mean_before).mean()\n",
        "mad_after = np.abs(df[' Blood Pressure After (mmHg)'] - mean_after).mean()\n",
        "\n",
        "sd_before = df[' Blood Pressure Before (mmHg)'].std()\n",
        "sd_after = df[' Blood Pressure After (mmHg)'].std()\n",
        "\n",
        "print(\"Mean Absolute Deviation (MAD) of 'Blood Pressure Before':\", mad_before)\n",
        "print(\"Mean Absolute Deviation (MAD) of 'Blood Pressure After':\", mad_after)\n",
        "print(\"Standard Deviation (SD) of 'Blood Pressure Before':\", sd_before)\n",
        "print(\"Standard Deviation (SD) of 'Blood Pressure After':\", sd_after)\n"
      ],
      "metadata": {
        "colab": {
          "base_uri": "https://localhost:8080/"
        },
        "id": "f3kfxj329OJW",
        "outputId": "63a4eb2f-0756-47a1-8145-237940e56a7e"
      },
      "execution_count": 9,
      "outputs": [
        {
          "output_type": "stream",
          "name": "stdout",
          "text": [
            "Mean Absolute Deviation (MAD) of 'Blood Pressure Before': 5.7118\n",
            "Mean Absolute Deviation (MAD) of 'Blood Pressure After': 5.9\n",
            "Standard Deviation (SD) of 'Blood Pressure Before': 6.598278012275076\n",
            "Standard Deviation (SD) of 'Blood Pressure After': 6.888022102523226\n"
          ]
        }
      ]
    },
    {
      "cell_type": "markdown",
      "source": [
        "#d. Calculate the correlation coefficient and check the significance of it at 1% level of significance."
      ],
      "metadata": {
        "id": "oDEpNmSZ95Gq"
      }
    },
    {
      "cell_type": "code",
      "source": [
        "correlation = df[' Blood Pressure Before (mmHg)'].corr(df[' Blood Pressure After (mmHg)'])\n",
        "print(\"Correlation between 'Blood Pressure Before' and 'Blood Pressure After' is :\", correlation)"
      ],
      "metadata": {
        "colab": {
          "base_uri": "https://localhost:8080/"
        },
        "id": "y9rq60JU9lAN",
        "outputId": "2ececcdd-a6ce-4c23-df5c-52e9ba3fbaf3"
      },
      "execution_count": 12,
      "outputs": [
        {
          "output_type": "stream",
          "name": "stdout",
          "text": [
            "Correlation between 'Blood Pressure Before' and 'Blood Pressure After' is : 0.9779485966556016\n"
          ]
        }
      ]
    },
    {
      "cell_type": "code",
      "source": [],
      "metadata": {
        "id": "IRSpQeWt-RN2"
      },
      "execution_count": null,
      "outputs": []
    }
  ]
}