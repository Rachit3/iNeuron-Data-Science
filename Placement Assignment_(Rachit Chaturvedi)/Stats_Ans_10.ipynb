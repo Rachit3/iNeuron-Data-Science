{
  "nbformat": 4,
  "nbformat_minor": 0,
  "metadata": {
    "colab": {
      "provenance": []
    },
    "kernelspec": {
      "name": "python3",
      "display_name": "Python 3"
    },
    "language_info": {
      "name": "python"
    }
  },
  "cells": [
    {
      "cell_type": "code",
      "execution_count": 1,
      "metadata": {
        "id": "5MAE_nqRMQQS"
      },
      "outputs": [],
      "source": [
        "import math\n",
        "\n",
        "#Defining binomial_coefficient and binomial_probability function\n",
        "\n",
        "def binomial_coefficient(n, k):   \n",
        "    return math.factorial(n) / (math.factorial(k) * math.factorial(n - k))\n",
        "#binomial coefficient C(n, k) = n! / (k! * (n - k)!)\n",
        "\n",
        "\n",
        "def binomial_probability(n, k, p):\n",
        "    \"\"\"\n",
        "    Binomial probability formula:\n",
        "    P(X = k) = C(n, k) * p^k * (1 - p)^(n - k)\n",
        "    where:\n",
        "    - n is the number of trials\n",
        "    - k is the number of successes\n",
        "    - p is the probability of success\n",
        "    \"\"\"\n",
        "    return binomial_coefficient(n, k) * (p ** k) * ((1 - p) ** (n - k))"
      ]
    },
    {
      "cell_type": "code",
      "source": [
        "# a. Probability of exactly 20 bulbs being defective\n",
        "n = 500\n",
        "p = 0.05\n",
        "k = 20\n",
        "\n",
        "probability_20_defective = binomial_probability(n, k, p)\n",
        "print(\"Probability of exactly 20 bulbs being defective:\", probability_20_defective)"
      ],
      "metadata": {
        "colab": {
          "base_uri": "https://localhost:8080/"
        },
        "id": "hB89wJu4OohU",
        "outputId": "9cf825f5-e733-48b6-ce3c-f914b5e35966"
      },
      "execution_count": 2,
      "outputs": [
        {
          "output_type": "stream",
          "name": "stdout",
          "text": [
            "Probability of exactly 20 bulbs being defective: 0.05161619253663997\n"
          ]
        }
      ]
    },
    {
      "cell_type": "code",
      "source": [
        "# b. Probability of at least 10 bulbs being defective\n",
        "probability_less_than_10 = sum(binomial_probability(n, i, p) for i in range(10))\n",
        "probability_at_least_10_defective = 1 - probability_less_than_10\n",
        "print(\"Probability of at least 10 bulbs being defective:\", probability_at_least_10_defective)"
      ],
      "metadata": {
        "colab": {
          "base_uri": "https://localhost:8080/"
        },
        "id": "8cURGrhkOlhk",
        "outputId": "35e7e41d-41bc-4d0f-a318-a2c4f3a13f2f"
      },
      "execution_count": 3,
      "outputs": [
        {
          "output_type": "stream",
          "name": "stdout",
          "text": [
            "Probability of at least 10 bulbs being defective: 0.9998316463654902\n"
          ]
        }
      ]
    },
    {
      "cell_type": "code",
      "source": [
        "# c. Probability of at most 15 bulbs being defective\n",
        "probability_15_or_less = sum(binomial_probability(n, i, p) for i in range(16))\n",
        "print(\"Probability of at most 15 bulbs being defective:\", probability_15_or_less)"
      ],
      "metadata": {
        "colab": {
          "base_uri": "https://localhost:8080/"
        },
        "id": "sqPlKecpOjhs",
        "outputId": "58b4d34c-023c-42f6-fd0b-1aa564c5d962"
      },
      "execution_count": 4,
      "outputs": [
        {
          "output_type": "stream",
          "name": "stdout",
          "text": [
            "Probability of at most 15 bulbs being defective: 0.019858377163006223\n"
          ]
        }
      ]
    },
    {
      "cell_type": "code",
      "source": [
        "# d. Expected number of defective bulbs\n",
        "expected_defective_bulbs = n * p\n",
        "print(\"Expected number of defective bulbs:\", expected_defective_bulbs)"
      ],
      "metadata": {
        "colab": {
          "base_uri": "https://localhost:8080/"
        },
        "id": "7do9WsOlOZ3t",
        "outputId": "67193ce8-7a85-4fd3-f624-aac3b02af65a"
      },
      "execution_count": 5,
      "outputs": [
        {
          "output_type": "stream",
          "name": "stdout",
          "text": [
            "Expected number of defective bulbs: 25.0\n"
          ]
        }
      ]
    }
  ]
}