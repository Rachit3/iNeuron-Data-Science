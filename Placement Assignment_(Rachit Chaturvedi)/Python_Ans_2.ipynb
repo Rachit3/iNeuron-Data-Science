{
  "nbformat": 4,
  "nbformat_minor": 0,
  "metadata": {
    "colab": {
      "provenance": []
    },
    "kernelspec": {
      "name": "python3",
      "display_name": "Python 3"
    },
    "language_info": {
      "name": "python"
    }
  },
  "cells": [
    {
      "cell_type": "code",
      "execution_count": 3,
      "metadata": {
        "colab": {
          "base_uri": "https://localhost:8080/",
          "height": 53
        },
        "id": "0pyOzjwb8wTE",
        "outputId": "bec31b28-8e26-4279-8708-e4c219762ae1"
      },
      "outputs": [
        {
          "name": "stdout",
          "output_type": "stream",
          "text": [
            "Enter string to test: abccc\n"
          ]
        },
        {
          "output_type": "execute_result",
          "data": {
            "text/plain": [
              "'NO'"
            ],
            "application/vnd.google.colaboratory.intrinsic+json": {
              "type": "string"
            }
          },
          "metadata": {},
          "execution_count": 3
        }
      ],
      "source": [
        "def is_valid(s):\n",
        "    frequency = {}\n",
        "    for char in s:\n",
        "        if char in frequency:\n",
        "            frequency[char] += 1\n",
        "        else:\n",
        "            frequency[char] = 1\n",
        "    \n",
        "    counts = list(frequency.values())\n",
        "    max_count = max(counts)\n",
        "    min_count = min(counts)\n",
        "    num_max = counts.count(max_count)\n",
        "    num_min = counts.count(min_count)\n",
        "\n",
        "    if max_count == min_count:\n",
        "        return \"YES\"\n",
        "    elif max_count - min_count == 1:\n",
        "        if (num_max == 1 and num_min == len(counts) - 1) or (num_min == 1 and min_count == 1):\n",
        "            return \"YES\"\n",
        "    return \"NO\"\n",
        "\n",
        "inp=input(\"Enter string to test: \")\n",
        "is_valid(inp)\n"
      ]
    }
  ]
}