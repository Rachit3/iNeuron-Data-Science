{
  "nbformat": 4,
  "nbformat_minor": 0,
  "metadata": {
    "colab": {
      "provenance": []
    },
    "kernelspec": {
      "name": "python3",
      "display_name": "Python 3"
    },
    "language_info": {
      "name": "python"
    }
  },
  "cells": [
    {
      "cell_type": "code",
      "execution_count": 1,
      "metadata": {
        "colab": {
          "base_uri": "https://localhost:8080/"
        },
        "id": "VBf7Ys-IcHop",
        "outputId": "663181e2-cc92-4fc9-c7eb-dd32b4d151e9"
      },
      "outputs": [
        {
          "output_type": "stream",
          "name": "stdout",
          "text": [
            "Calculated t-value: 1.6431676725154976\n",
            "Critical t-value: 2.0017174830120923\n",
            "Fail to reject the null hypothesis\n"
          ]
        }
      ],
      "source": [
        "import numpy as np\n",
        "from scipy import stats\n",
        "\n",
        "# Data for Group A\n",
        "meanA = 2.5\n",
        "stdDevA = 0.8\n",
        "nA = 30\n",
        "\n",
        "# Data for Group B\n",
        "meanB = 2.2\n",
        "stdDevB = 0.6\n",
        "nB = 30\n",
        "\n",
        "# Calculate the t-value\n",
        "t, p = stats.ttest_ind_from_stats(meanA, stdDevA, nA, meanB, stdDevB, nB)\n",
        "\n",
        "# Set the significance level\n",
        "alpha = 0.05\n",
        "\n",
        "# Compare the t-value with the critical t-value\n",
        "critical_t = stats.t.ppf(1 - alpha / 2, nA + nB - 2)\n",
        "\n",
        "# Print the results\n",
        "print(\"Calculated t-value:\", t)\n",
        "print(\"Critical t-value:\", critical_t)\n",
        "\n",
        "if abs(t) > critical_t:\n",
        "    print(\"Reject the null hypothesis\")\n",
        "else:\n",
        "    print(\"Fail to reject the null hypothesis\")\n"
      ]
    },
    {
      "cell_type": "markdown",
      "source": [
        "**Conclusion**: Based on the t-test results, we do not have enough evidence to conclude that there is a significant difference in the mean improvement scores between Group A and Group B. This suggests that the new drug's effectiveness is comparable to the standard drug for treating the particular condition, as there is no statistical evidence to support a significant difference between the two groups' mean improvement scores."
      ],
      "metadata": {
        "id": "-j2SvE9xd7uS"
      }
    }
  ]
}