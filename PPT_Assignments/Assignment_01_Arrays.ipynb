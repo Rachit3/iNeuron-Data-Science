{
  "nbformat": 4,
  "nbformat_minor": 0,
  "metadata": {
    "colab": {
      "provenance": []
    },
    "kernelspec": {
      "name": "python3",
      "display_name": "Python 3"
    },
    "language_info": {
      "name": "python"
    }
  },
  "cells": [
    {
      "cell_type": "markdown",
      "source": [
        "\n",
        " **Q1.** Given an array of integers nums and an integer target, return indices of the two numbers such that they add up to target.\n",
        "\n",
        "You may assume that each input would have exactly one solution, and you may not use the same element twice.\n",
        "\n",
        "You can return the answer in any order.\n",
        "\n",
        "**Example:**\n",
        "Input: nums = [2,7,11,15], target = 9\n",
        "Output0 [0,1]\n",
        "\n",
        "**Explanation:** Because nums[0] + nums[1] == 9, we return [0, 1]\n"
      ],
      "metadata": {
        "id": "7xcgd_0vPRNz"
      }
    },
    {
      "cell_type": "code",
      "execution_count": 1,
      "metadata": {
        "colab": {
          "base_uri": "https://localhost:8080/"
        },
        "id": "VcO4GwEHPEds",
        "outputId": "0fff8bb8-db53-4cfd-a981-4752305b63b2"
      },
      "outputs": [
        {
          "output_type": "stream",
          "name": "stdout",
          "text": [
            "[0, 1]\n"
          ]
        }
      ],
      "source": [
        "def two_sum(nums, target):\n",
        "    # Create a dictionary to store the complement of each number and its index\n",
        "    complement_dict = {}\n",
        "\n",
        "    for i, num in enumerate(nums):\n",
        "        complement = target - num\n",
        "        # If the complement is already in the dictionary, return its index and the current index\n",
        "        if complement in complement_dict:\n",
        "            return [complement_dict[complement], i]\n",
        "        # Otherwise, store the current number and its index in the dictionary\n",
        "        complement_dict[num] = i\n",
        "\n",
        "    # If no solution is found, return an empty list or raise an exception\n",
        "    return []\n",
        "\n",
        "# Example usage:\n",
        "nums = [2, 7, 11, 15]\n",
        "target = 9\n",
        "result = two_sum(nums, target)\n",
        "print(result)  # Output: [0, 1]\n"
      ]
    },
    {
      "cell_type": "markdown",
      "source": [
        "\n",
        " **Q2.** Given an integer array nums and an integer val, remove all occurrences of val in nums in-place. The order of the elements may be changed. Then return the number of elements in nums which are not equal to val.\n",
        "\n",
        "Consider the number of elements in nums which are not equal to val be k, to get accepted, you need to do the following things:\n",
        "\n",
        "- Change the array nums such that the first k elements of nums contain the elements which are not equal to val. The remaining elements of nums are not important as well as the size of nums.\n",
        "- Return k.\n",
        "\n",
        "**Example :**\n",
        "Input: nums = [3,2,2,3], val = 3\n",
        "Output: 2, nums = [2,2,_*,_*]\n",
        "\n",
        "**Explanation:** Your function should return k = 2, with the first two elements of nums being 2. It does not matter what you leave beyond the returned k (hence they are underscores)\n",
        "\n"
      ],
      "metadata": {
        "id": "yps-aotTPcdE"
      }
    },
    {
      "cell_type": "code",
      "source": [
        "def remove_element(nums, val):\n",
        "    # Initialize two pointers: one for iterating the array and another for overwriting elements\n",
        "    i = 0\n",
        "    j = 0\n",
        "\n",
        "    while i < len(nums):\n",
        "        if nums[i] != val:\n",
        "            # If the current element is not equal to val, overwrite the element at the jth position with the ith element\n",
        "            nums[j] = nums[i]\n",
        "            j += 1\n",
        "        i += 1\n",
        "\n",
        "    # Return the number of elements in nums that are not equal to val\n",
        "    return j\n",
        "\n",
        "# Example usage:\n",
        "nums = [3, 2, 2, 3]\n",
        "val = 3\n",
        "k = remove_element(nums, val)\n",
        "print(k)  # Output: 2\n",
        "print(nums[:k])  # Output: [2, 2]\n"
      ],
      "metadata": {
        "colab": {
          "base_uri": "https://localhost:8080/"
        },
        "id": "EAk7AtsKPf0L",
        "outputId": "ce1b17e2-c8f8-48db-a956-bc2fc2ed1f71"
      },
      "execution_count": 2,
      "outputs": [
        {
          "output_type": "stream",
          "name": "stdout",
          "text": [
            "2\n",
            "[2, 2]\n"
          ]
        }
      ]
    },
    {
      "cell_type": "markdown",
      "source": [
        " **Q3.** Given a sorted array of distinct integers and a target value, return the index if the target is found. If not, return the index where it would be if it were inserted in order.\n",
        "\n",
        "You must write an algorithm with O(log n) runtime complexity.\n",
        "\n",
        "**Example 1:**\n",
        "Input: nums = [1,3,5,6], target = 5\n",
        "\n",
        "Output: 2\n",
        "\n"
      ],
      "metadata": {
        "id": "2kekMGQ0P0d1"
      }
    },
    {
      "cell_type": "code",
      "source": [
        "def search_insert(nums, target):\n",
        "    left = 0\n",
        "    right = len(nums) - 1\n",
        "\n",
        "    while left <= right:\n",
        "        mid = (left + right) // 2\n",
        "\n",
        "        if nums[mid] == target:\n",
        "            return mid\n",
        "        elif nums[mid] < target:\n",
        "            left = mid + 1\n",
        "        else:\n",
        "            right = mid - 1\n",
        "\n",
        "    # If the loop exits, the target is not found in the array\n",
        "    # The left pointer now represents the index where the target should be inserted\n",
        "    return left\n",
        "\n",
        "# Example usage:\n",
        "nums = [1, 3, 5, 6]\n",
        "target = 5\n",
        "index = search_insert(nums, target)\n",
        "print(index)  # Output: 2\n"
      ],
      "metadata": {
        "colab": {
          "base_uri": "https://localhost:8080/"
        },
        "id": "PjZVpRpdPs-q",
        "outputId": "07ea82cc-0b56-4f2f-f140-45939759ea8c"
      },
      "execution_count": 3,
      "outputs": [
        {
          "output_type": "stream",
          "name": "stdout",
          "text": [
            "2\n"
          ]
        }
      ]
    },
    {
      "cell_type": "markdown",
      "source": [
        "**Q4.** You are given a large integer represented as an integer array digits, where each digits[i] is the ith digit of the integer. The digits are ordered from most significant to least significant in left-to-right order. The large integer does not contain any leading 0's.\n",
        "\n",
        "Increment the large integer by one and return the resulting array of digits.\n",
        "\n",
        "**Example 1:**\n",
        "Input: digits = [1,2,3]\n",
        "Output: [1,2,4]\n",
        "\n",
        "**Explanation:** The array represents the integer 123.\n",
        "\n",
        "Incrementing by one gives 123 + 1 = 124.\n",
        "Thus, the result should be [1,2,4].\n",
        "\n"
      ],
      "metadata": {
        "id": "5BrEw5R8QLYY"
      }
    },
    {
      "cell_type": "code",
      "source": [
        "def plus_one(digits):\n",
        "    n = len(digits)\n",
        "    carry = 1\n",
        "\n",
        "    for i in range(n - 1, -1, -1):\n",
        "        digits[i] += carry\n",
        "\n",
        "        if digits[i] == 10:\n",
        "            digits[i] = 0\n",
        "            carry = 1\n",
        "        else:\n",
        "            carry = 0\n",
        "            break\n",
        "\n",
        "    if carry == 1:\n",
        "        digits.insert(0, 1)\n",
        "\n",
        "    return digits\n",
        "\n",
        "# Example usage:\n",
        "digits = [1, 2, 3]\n",
        "result = plus_one(digits)\n",
        "print(result)  # Output: [1, 2, 4]\n"
      ],
      "metadata": {
        "colab": {
          "base_uri": "https://localhost:8080/"
        },
        "id": "TlhhaGHFQC_n",
        "outputId": "7bb00490-18b4-4a24-fe50-83604643b8b1"
      },
      "execution_count": 4,
      "outputs": [
        {
          "output_type": "stream",
          "name": "stdout",
          "text": [
            "[1, 2, 4]\n"
          ]
        }
      ]
    },
    {
      "cell_type": "markdown",
      "source": [
        "**Q5.** You are given two integer arrays nums1 and nums2, sorted in non-decreasing order, and two integers m and n, representing the number of elements in nums1 and nums2 respectively.\n",
        "\n",
        "Merge nums1 and nums2 into a single array sorted in non-decreasing order.\n",
        "\n",
        "The final sorted array should not be returned by the function, but instead be stored inside the array nums1. To accommodate this, nums1 has a length of m + n, where the first m elements denote the elements that should be merged, and the last n elements are set to 0 and should be ignored. nums2 has a length of n.\n",
        "\n",
        "**Example 1:**\n",
        "Input: nums1 = [1,2,3,0,0,0], m = 3, nums2 = [2,5,6], n = 3\n",
        "Output: [1,2,2,3,5,6]\n",
        "\n",
        "**Explanation:** The arrays we are merging are [1,2,3] and [2,5,6].\n",
        "The result of the merge is [1,2,2,3,5,6] with the underlined elements coming from nums1."
      ],
      "metadata": {
        "id": "etNsx-QDQUoN"
      }
    },
    {
      "cell_type": "code",
      "source": [
        "def merge(nums1, m, nums2, n):\n",
        "    i = m - 1\n",
        "    j = n - 1\n",
        "    k = m + n - 1\n",
        "\n",
        "    while i >= 0 and j >= 0:\n",
        "        if nums1[i] >= nums2[j]:\n",
        "            nums1[k] = nums1[i]\n",
        "            i -= 1\n",
        "        else:\n",
        "            nums1[k] = nums2[j]\n",
        "            j -= 1\n",
        "        k -= 1\n",
        "\n",
        "    while j >= 0:\n",
        "        nums1[k] = nums2[j]\n",
        "        j -= 1\n",
        "        k -= 1\n",
        "\n",
        "# Example usage:\n",
        "nums1 = [1, 2, 3, 0, 0, 0]\n",
        "m = 3\n",
        "nums2 = [2, 5, 6]\n",
        "n = 3\n",
        "merge(nums1, m, nums2, n)\n",
        "print(nums1)  # Output: [1, 2, 2, 3, 5, 6]\n"
      ],
      "metadata": {
        "colab": {
          "base_uri": "https://localhost:8080/"
        },
        "id": "qiV0vMOaQPyf",
        "outputId": "a6041f82-86df-451c-fd60-ce41a7a6bee1"
      },
      "execution_count": 5,
      "outputs": [
        {
          "output_type": "stream",
          "name": "stdout",
          "text": [
            "[1, 2, 2, 3, 5, 6]\n"
          ]
        }
      ]
    },
    {
      "cell_type": "markdown",
      "source": [
        "**Q6.** Given an integer array nums, return true if any value appears at least twice in the array, and return false if every element is distinct.\n",
        "\n",
        "**Example 1:**\n",
        "Input: nums = [1,2,3,1]\n",
        "\n",
        "Output: true\n",
        "\n"
      ],
      "metadata": {
        "id": "sHaDKM8fQmUc"
      }
    },
    {
      "cell_type": "code",
      "source": [
        "def contains_duplicate(nums):\n",
        "    unique_nums = set()\n",
        "\n",
        "    for num in nums:\n",
        "        if num in unique_nums:\n",
        "            return True\n",
        "        unique_nums.add(num)\n",
        "\n",
        "    return False\n",
        "\n",
        "# Example usage:\n",
        "nums = [1, 2, 3, 1]\n",
        "result = contains_duplicate(nums)\n",
        "print(result)  # Output: True\n"
      ],
      "metadata": {
        "colab": {
          "base_uri": "https://localhost:8080/"
        },
        "id": "iBf7St0CQeGG",
        "outputId": "d5bc6121-2f38-4c50-8c55-2cae97cc1adf"
      },
      "execution_count": 6,
      "outputs": [
        {
          "output_type": "stream",
          "name": "stdout",
          "text": [
            "True\n"
          ]
        }
      ]
    },
    {
      "cell_type": "markdown",
      "source": [
        "**Q7.** Given an integer array nums, move all 0's to the end of it while maintaining the relative order of the nonzero elements.\n",
        "\n",
        "Note that you must do this in-place without making a copy of the array.\n",
        "\n",
        "**Example 1:**\n",
        "Input: nums = [0,1,0,3,12]\n",
        "Output: [1,3,12,0,0]\n",
        "\n"
      ],
      "metadata": {
        "id": "UXZDFf6BQ00P"
      }
    },
    {
      "cell_type": "code",
      "source": [
        "def move_zeroes(nums):\n",
        "    j = 0\n",
        "\n",
        "    for i in range(len(nums)):\n",
        "        if nums[i] != 0:\n",
        "            nums[j] = nums[i]\n",
        "            j += 1\n",
        "\n",
        "    for i in range(j, len(nums)):\n",
        "        nums[i] = 0\n",
        "\n",
        "# Example usage:\n",
        "nums = [0, 1, 0, 3, 12]\n",
        "move_zeroes(nums)\n",
        "print(nums)  # Output: [1, 3, 12, 0, 0]\n"
      ],
      "metadata": {
        "colab": {
          "base_uri": "https://localhost:8080/"
        },
        "id": "LF6Lpb2zQqSA",
        "outputId": "aa83fc23-019b-44cf-eb23-88d25bc3775b"
      },
      "execution_count": 7,
      "outputs": [
        {
          "output_type": "stream",
          "name": "stdout",
          "text": [
            "[1, 3, 12, 0, 0]\n"
          ]
        }
      ]
    },
    {
      "cell_type": "markdown",
      "source": [
        " **Q8.** You have a set of integers s, which originally contains all the numbers from 1 to n. Unfortunately, due to some error, one of the numbers in s got duplicated to another number in the set, which results in repetition of one number and loss of another number.\n",
        "\n",
        "You are given an integer array nums representing the data status of this set after the error.\n",
        "\n",
        "Find the number that occurs twice and the number that is missing and return them in the form of an array.\n",
        "\n",
        "**Example 1:**\n",
        "Input: nums = [1,2,2,4]\n",
        "Output: [2,3]\n",
        "\n"
      ],
      "metadata": {
        "id": "xgICu8d-RDZc"
      }
    },
    {
      "cell_type": "code",
      "source": [
        "def find_error_nums(nums):\n",
        "    n = len(nums)\n",
        "    duplicate = -1\n",
        "    missing = -1\n",
        "\n",
        "    # Find the duplicate number using a hash set\n",
        "    num_set = set()\n",
        "    for num in nums:\n",
        "        if num in num_set:\n",
        "            duplicate = num\n",
        "        else:\n",
        "            num_set.add(num)\n",
        "\n",
        "    # Find the missing number by comparing with the original set\n",
        "    for i in range(1, n+1):\n",
        "        if i not in num_set:\n",
        "            missing = i\n",
        "            break\n",
        "\n",
        "    return [duplicate, missing]\n",
        "\n",
        "# Example usage:\n",
        "nums = [1, 2, 2, 4]\n",
        "result = find_error_nums(nums)\n",
        "print(result)  # Output: [2, 3]\n"
      ],
      "metadata": {
        "colab": {
          "base_uri": "https://localhost:8080/"
        },
        "id": "RSbHz4aYQ6nk",
        "outputId": "19df770a-4303-47d8-d9fe-b28056a3b000"
      },
      "execution_count": 8,
      "outputs": [
        {
          "output_type": "stream",
          "name": "stdout",
          "text": [
            "[2, 3]\n"
          ]
        }
      ]
    }
  ]
}