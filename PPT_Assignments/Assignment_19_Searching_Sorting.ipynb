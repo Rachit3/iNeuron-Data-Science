{
  "nbformat": 4,
  "nbformat_minor": 0,
  "metadata": {
    "colab": {
      "provenance": []
    },
    "kernelspec": {
      "name": "python3",
      "display_name": "Python 3"
    },
    "language_info": {
      "name": "python"
    }
  },
  "cells": [
    {
      "cell_type": "markdown",
      "source": [
        " 1. **Merge k Sorted Lists**\n",
        "\n",
        "You are given an array of `k` linked-lists `lists`, each linked-list is sorted in ascending order.\n",
        "\n",
        "*Merge all the linked-lists into one sorted linked-list and return it.*\n",
        "\n",
        "**Example 1:**\n",
        "\n",
        "```\n",
        "Input: lists = [[1,4,5],[1,3,4],[2,6]]\n",
        "Output: [1,1,2,3,4,4,5,6]\n",
        "Explanation: The linked-lists are:\n",
        "[\n",
        "  1->4->5,\n",
        "  1->3->4,\n",
        "  2->6\n",
        "]\n",
        "merging them into one sorted list:\n",
        "1->1->2->3->4->4->5->6\n",
        "\n",
        "```\n",
        "\n",
        "**Example 2:**\n",
        "\n",
        "```\n",
        "Input: lists = []\n",
        "Output: []\n",
        "\n",
        "```\n",
        "\n",
        "**Example 3:**\n",
        "\n",
        "```\n",
        "Input: lists = [[]]\n",
        "Output: []\n",
        "\n",
        "```\n",
        "\n",
        "**Constraints:**\n",
        "\n",
        "- `k == lists.length`\n",
        "- `0 <= k <= 10000`\n",
        "- `0 <= lists[i].length <= 500`\n",
        "- `-10000 <= lists[i][j] <= 10000`\n",
        "- `lists[i]` is sorted in **ascending order**.\n",
        "- The sum of `lists[i].length` will not exceed `10000`.\n"
      ],
      "metadata": {
        "id": "rdEzowyUye-i"
      }
    },
    {
      "cell_type": "code",
      "execution_count": 1,
      "metadata": {
        "colab": {
          "base_uri": "https://localhost:8080/",
          "height": 356
        },
        "id": "uh_UyCUjyYPk",
        "outputId": "8911e89e-c042-4c1f-c12d-c906e7358474"
      },
      "outputs": [
        {
          "output_type": "error",
          "ename": "AttributeError",
          "evalue": "ignored",
          "traceback": [
            "\u001b[0;31m---------------------------------------------------------------------------\u001b[0m",
            "\u001b[0;31mAttributeError\u001b[0m                            Traceback (most recent call last)",
            "\u001b[0;32m<ipython-input-1-f7884f82d6f1>\u001b[0m in \u001b[0;36m<cell line: 38>\u001b[0;34m()\u001b[0m\n\u001b[1;32m     36\u001b[0m \u001b[0;31m# Example 1\u001b[0m\u001b[0;34m\u001b[0m\u001b[0;34m\u001b[0m\u001b[0m\n\u001b[1;32m     37\u001b[0m \u001b[0mlists\u001b[0m \u001b[0;34m=\u001b[0m \u001b[0;34m[\u001b[0m\u001b[0;34m[\u001b[0m\u001b[0;36m1\u001b[0m\u001b[0;34m,\u001b[0m\u001b[0;36m4\u001b[0m\u001b[0;34m,\u001b[0m\u001b[0;36m5\u001b[0m\u001b[0;34m]\u001b[0m\u001b[0;34m,\u001b[0m\u001b[0;34m[\u001b[0m\u001b[0;36m1\u001b[0m\u001b[0;34m,\u001b[0m\u001b[0;36m3\u001b[0m\u001b[0;34m,\u001b[0m\u001b[0;36m4\u001b[0m\u001b[0;34m]\u001b[0m\u001b[0;34m,\u001b[0m\u001b[0;34m[\u001b[0m\u001b[0;36m2\u001b[0m\u001b[0;34m,\u001b[0m\u001b[0;36m6\u001b[0m\u001b[0;34m]\u001b[0m\u001b[0;34m]\u001b[0m\u001b[0;34m\u001b[0m\u001b[0;34m\u001b[0m\u001b[0m\n\u001b[0;32m---> 38\u001b[0;31m \u001b[0mlists\u001b[0m \u001b[0;34m=\u001b[0m \u001b[0;34m[\u001b[0m\u001b[0mListNode\u001b[0m\u001b[0;34m.\u001b[0m\u001b[0mfrom_list\u001b[0m\u001b[0;34m(\u001b[0m\u001b[0mlst\u001b[0m\u001b[0;34m)\u001b[0m \u001b[0;32mfor\u001b[0m \u001b[0mlst\u001b[0m \u001b[0;32min\u001b[0m \u001b[0mlists\u001b[0m\u001b[0;34m]\u001b[0m\u001b[0;34m\u001b[0m\u001b[0;34m\u001b[0m\u001b[0m\n\u001b[0m\u001b[1;32m     39\u001b[0m \u001b[0mresult\u001b[0m \u001b[0;34m=\u001b[0m \u001b[0mmergeKLists\u001b[0m\u001b[0;34m(\u001b[0m\u001b[0mlists\u001b[0m\u001b[0;34m)\u001b[0m\u001b[0;34m\u001b[0m\u001b[0;34m\u001b[0m\u001b[0m\n\u001b[1;32m     40\u001b[0m \u001b[0mprint\u001b[0m\u001b[0;34m(\u001b[0m\u001b[0mresult\u001b[0m\u001b[0;34m)\u001b[0m  \u001b[0;31m# Output: [1,1,2,3,4,4,5,6]\u001b[0m\u001b[0;34m\u001b[0m\u001b[0;34m\u001b[0m\u001b[0m\n",
            "\u001b[0;32m<ipython-input-1-f7884f82d6f1>\u001b[0m in \u001b[0;36m<listcomp>\u001b[0;34m(.0)\u001b[0m\n\u001b[1;32m     36\u001b[0m \u001b[0;31m# Example 1\u001b[0m\u001b[0;34m\u001b[0m\u001b[0;34m\u001b[0m\u001b[0m\n\u001b[1;32m     37\u001b[0m \u001b[0mlists\u001b[0m \u001b[0;34m=\u001b[0m \u001b[0;34m[\u001b[0m\u001b[0;34m[\u001b[0m\u001b[0;36m1\u001b[0m\u001b[0;34m,\u001b[0m\u001b[0;36m4\u001b[0m\u001b[0;34m,\u001b[0m\u001b[0;36m5\u001b[0m\u001b[0;34m]\u001b[0m\u001b[0;34m,\u001b[0m\u001b[0;34m[\u001b[0m\u001b[0;36m1\u001b[0m\u001b[0;34m,\u001b[0m\u001b[0;36m3\u001b[0m\u001b[0;34m,\u001b[0m\u001b[0;36m4\u001b[0m\u001b[0;34m]\u001b[0m\u001b[0;34m,\u001b[0m\u001b[0;34m[\u001b[0m\u001b[0;36m2\u001b[0m\u001b[0;34m,\u001b[0m\u001b[0;36m6\u001b[0m\u001b[0;34m]\u001b[0m\u001b[0;34m]\u001b[0m\u001b[0;34m\u001b[0m\u001b[0;34m\u001b[0m\u001b[0m\n\u001b[0;32m---> 38\u001b[0;31m \u001b[0mlists\u001b[0m \u001b[0;34m=\u001b[0m \u001b[0;34m[\u001b[0m\u001b[0mListNode\u001b[0m\u001b[0;34m.\u001b[0m\u001b[0mfrom_list\u001b[0m\u001b[0;34m(\u001b[0m\u001b[0mlst\u001b[0m\u001b[0;34m)\u001b[0m \u001b[0;32mfor\u001b[0m \u001b[0mlst\u001b[0m \u001b[0;32min\u001b[0m \u001b[0mlists\u001b[0m\u001b[0;34m]\u001b[0m\u001b[0;34m\u001b[0m\u001b[0;34m\u001b[0m\u001b[0m\n\u001b[0m\u001b[1;32m     39\u001b[0m \u001b[0mresult\u001b[0m \u001b[0;34m=\u001b[0m \u001b[0mmergeKLists\u001b[0m\u001b[0;34m(\u001b[0m\u001b[0mlists\u001b[0m\u001b[0;34m)\u001b[0m\u001b[0;34m\u001b[0m\u001b[0;34m\u001b[0m\u001b[0m\n\u001b[1;32m     40\u001b[0m \u001b[0mprint\u001b[0m\u001b[0;34m(\u001b[0m\u001b[0mresult\u001b[0m\u001b[0;34m)\u001b[0m  \u001b[0;31m# Output: [1,1,2,3,4,4,5,6]\u001b[0m\u001b[0;34m\u001b[0m\u001b[0;34m\u001b[0m\u001b[0m\n",
            "\u001b[0;31mAttributeError\u001b[0m: type object 'ListNode' has no attribute 'from_list'"
          ]
        }
      ],
      "source": [
        "import heapq\n",
        "\n",
        "class ListNode:\n",
        "    def __init__(self, val=0, next=None):\n",
        "        self.val = val\n",
        "        self.next = next\n",
        "\n",
        "def mergeKLists(lists):\n",
        "    # Create a min-heap\n",
        "    min_heap = []\n",
        "\n",
        "    # Initialize the min-heap with the first node from each list\n",
        "    for i in range(len(lists)):\n",
        "        if lists[i]:\n",
        "            heapq.heappush(min_heap, (lists[i].val, i))\n",
        "            lists[i] = lists[i].next\n",
        "\n",
        "    # Create a dummy node for the merged list\n",
        "    dummy = ListNode()\n",
        "    curr = dummy\n",
        "\n",
        "    # Merge the lists\n",
        "    while min_heap:\n",
        "        val, idx = heapq.heappop(min_heap)\n",
        "        curr.next = ListNode(val)\n",
        "        curr = curr.next\n",
        "\n",
        "        if lists[idx]:\n",
        "            heapq.heappush(min_heap, (lists[idx].val, idx))\n",
        "            lists[idx] = lists[idx].next\n",
        "\n",
        "    return dummy.next\n",
        "\n",
        "\n",
        "\n",
        "# Example 1\n",
        "lists = [[1,4,5],[1,3,4],[2,6]]\n",
        "lists = [ListNode.from_list(lst) for lst in lists]\n",
        "result = mergeKLists(lists)\n",
        "print(result)  # Output: [1,1,2,3,4,4,5,6]\n",
        "\n",
        "# Example 2\n",
        "lists = []\n",
        "lists = [ListNode.from_list(lst) for lst in lists]\n",
        "result = mergeKLists(lists)\n",
        "print(result)  # Output: []\n",
        "\n",
        "# Example 3\n",
        "lists = [[]]\n",
        "lists = [ListNode.from_list(lst) for lst in lists]\n",
        "result = mergeKLists(lists)\n",
        "print(result)  # Output: []\n"
      ]
    },
    {
      "cell_type": "markdown",
      "source": [
        " 2. **Count of Smaller Numbers After Self**\n",
        "\n",
        "Given an integer array `nums`, return *an integer array* `counts` *where* `counts[i]` *is the number of smaller elements to the right of* `nums[i]`.\n",
        "\n",
        "**Example 1:**\n",
        "\n",
        "```\n",
        "Input: nums = [5,2,6,1]\n",
        "Output: [2,1,1,0]\n",
        "Explanation:\n",
        "To the right of 5 there are2 smaller elements (2 and 1).\n",
        "To the right of 2 there is only1 smaller element (1).\n",
        "To the right of 6 there is1 smaller element (1).\n",
        "To the right of 1 there is0 smaller element.\n",
        "\n",
        "```\n",
        "\n",
        "**Example 2:**\n",
        "\n",
        "```\n",
        "Input: nums = [-1]\n",
        "Output: [0]\n",
        "\n",
        "```\n",
        "\n",
        "**Example 3:**\n",
        "\n",
        "```\n",
        "Input: nums = [-1,-1]\n",
        "Output: [0,0]\n",
        "\n",
        "```\n",
        "\n",
        "**Constraints:**\n",
        "\n",
        "- `1 <= nums.length <= 100000`\n",
        "- `-10000 <= nums[i] <= 10000`\n"
      ],
      "metadata": {
        "id": "fVX4juL6ygN7"
      }
    },
    {
      "cell_type": "code",
      "source": [
        "def countSmaller(nums):\n",
        "    def mergeSort(nums, start, end):\n",
        "        if start >= end:\n",
        "            return []\n",
        "\n",
        "        mid = (start + end) // 2\n",
        "        left = mergeSort(nums, start, mid)\n",
        "        right = mergeSort(nums, mid + 1, end)\n",
        "        merged = []\n",
        "        count = 0\n",
        "        p1, p2 = 0, 0\n",
        "\n",
        "        while p1 < len(left) and p2 < len(right):\n",
        "            if left[p1] <= right[p2]:\n",
        "                merged.append(left[p1])\n",
        "                p1 += 1\n",
        "            else:\n",
        "                merged.append(right[p2])\n",
        "                count += len(left) - p1\n",
        "                p2 += 1\n",
        "\n",
        "        merged.extend(left[p1:])\n",
        "        merged.extend(right[p2:])\n",
        "        nums[start:end+1] = merged\n",
        "        return count\n",
        "\n",
        "    result = [0] * len(nums)\n",
        "    mergeSort(list(enumerate(nums)), 0, len(nums) - 1)\n",
        "    for idx, count in list(enumerate(nums)):\n",
        "        result[idx] = count\n",
        "    return result\n",
        "\n",
        "# Example 1\n",
        "nums = [5, 2, 6, 1]\n",
        "result = countSmaller(nums)\n",
        "print(result)  # Output: [2, 1, 1, 0]\n",
        "\n",
        "# Example 2\n",
        "nums = [-1]\n",
        "result = countSmaller(nums)\n",
        "print(result)  # Output: [0]\n",
        "\n",
        "# Example 3\n",
        "nums = [-1, -1]\n",
        "result = countSmaller(nums)\n",
        "print(result)  # Output: [0, 0]\n"
      ],
      "metadata": {
        "colab": {
          "base_uri": "https://localhost:8080/",
          "height": 380
        },
        "id": "ig1nfNusygje",
        "outputId": "99b599d0-035e-43e5-d958-ba1442e42273"
      },
      "execution_count": 2,
      "outputs": [
        {
          "output_type": "error",
          "ename": "TypeError",
          "evalue": "ignored",
          "traceback": [
            "\u001b[0;31m---------------------------------------------------------------------------\u001b[0m",
            "\u001b[0;31mTypeError\u001b[0m                                 Traceback (most recent call last)",
            "\u001b[0;32m<ipython-input-2-b344a9b13a5c>\u001b[0m in \u001b[0;36m<cell line: 35>\u001b[0;34m()\u001b[0m\n\u001b[1;32m     33\u001b[0m \u001b[0;31m# Example 1\u001b[0m\u001b[0;34m\u001b[0m\u001b[0;34m\u001b[0m\u001b[0m\n\u001b[1;32m     34\u001b[0m \u001b[0mnums\u001b[0m \u001b[0;34m=\u001b[0m \u001b[0;34m[\u001b[0m\u001b[0;36m5\u001b[0m\u001b[0;34m,\u001b[0m \u001b[0;36m2\u001b[0m\u001b[0;34m,\u001b[0m \u001b[0;36m6\u001b[0m\u001b[0;34m,\u001b[0m \u001b[0;36m1\u001b[0m\u001b[0;34m]\u001b[0m\u001b[0;34m\u001b[0m\u001b[0;34m\u001b[0m\u001b[0m\n\u001b[0;32m---> 35\u001b[0;31m \u001b[0mresult\u001b[0m \u001b[0;34m=\u001b[0m \u001b[0mcountSmaller\u001b[0m\u001b[0;34m(\u001b[0m\u001b[0mnums\u001b[0m\u001b[0;34m)\u001b[0m\u001b[0;34m\u001b[0m\u001b[0;34m\u001b[0m\u001b[0m\n\u001b[0m\u001b[1;32m     36\u001b[0m \u001b[0mprint\u001b[0m\u001b[0;34m(\u001b[0m\u001b[0mresult\u001b[0m\u001b[0;34m)\u001b[0m  \u001b[0;31m# Output: [2, 1, 1, 0]\u001b[0m\u001b[0;34m\u001b[0m\u001b[0;34m\u001b[0m\u001b[0m\n\u001b[1;32m     37\u001b[0m \u001b[0;34m\u001b[0m\u001b[0m\n",
            "\u001b[0;32m<ipython-input-2-b344a9b13a5c>\u001b[0m in \u001b[0;36mcountSmaller\u001b[0;34m(nums)\u001b[0m\n\u001b[1;32m     26\u001b[0m \u001b[0;34m\u001b[0m\u001b[0m\n\u001b[1;32m     27\u001b[0m     \u001b[0mresult\u001b[0m \u001b[0;34m=\u001b[0m \u001b[0;34m[\u001b[0m\u001b[0;36m0\u001b[0m\u001b[0;34m]\u001b[0m \u001b[0;34m*\u001b[0m \u001b[0mlen\u001b[0m\u001b[0;34m(\u001b[0m\u001b[0mnums\u001b[0m\u001b[0;34m)\u001b[0m\u001b[0;34m\u001b[0m\u001b[0;34m\u001b[0m\u001b[0m\n\u001b[0;32m---> 28\u001b[0;31m     \u001b[0mmergeSort\u001b[0m\u001b[0;34m(\u001b[0m\u001b[0mlist\u001b[0m\u001b[0;34m(\u001b[0m\u001b[0menumerate\u001b[0m\u001b[0;34m(\u001b[0m\u001b[0mnums\u001b[0m\u001b[0;34m)\u001b[0m\u001b[0;34m)\u001b[0m\u001b[0;34m,\u001b[0m \u001b[0;36m0\u001b[0m\u001b[0;34m,\u001b[0m \u001b[0mlen\u001b[0m\u001b[0;34m(\u001b[0m\u001b[0mnums\u001b[0m\u001b[0;34m)\u001b[0m \u001b[0;34m-\u001b[0m \u001b[0;36m1\u001b[0m\u001b[0;34m)\u001b[0m\u001b[0;34m\u001b[0m\u001b[0;34m\u001b[0m\u001b[0m\n\u001b[0m\u001b[1;32m     29\u001b[0m     \u001b[0;32mfor\u001b[0m \u001b[0midx\u001b[0m\u001b[0;34m,\u001b[0m \u001b[0mcount\u001b[0m \u001b[0;32min\u001b[0m \u001b[0mlist\u001b[0m\u001b[0;34m(\u001b[0m\u001b[0menumerate\u001b[0m\u001b[0;34m(\u001b[0m\u001b[0mnums\u001b[0m\u001b[0;34m)\u001b[0m\u001b[0;34m)\u001b[0m\u001b[0;34m:\u001b[0m\u001b[0;34m\u001b[0m\u001b[0;34m\u001b[0m\u001b[0m\n\u001b[1;32m     30\u001b[0m         \u001b[0mresult\u001b[0m\u001b[0;34m[\u001b[0m\u001b[0midx\u001b[0m\u001b[0;34m]\u001b[0m \u001b[0;34m=\u001b[0m \u001b[0mcount\u001b[0m\u001b[0;34m\u001b[0m\u001b[0;34m\u001b[0m\u001b[0m\n",
            "\u001b[0;32m<ipython-input-2-b344a9b13a5c>\u001b[0m in \u001b[0;36mmergeSort\u001b[0;34m(nums, start, end)\u001b[0m\n\u001b[1;32m     11\u001b[0m         \u001b[0mp1\u001b[0m\u001b[0;34m,\u001b[0m \u001b[0mp2\u001b[0m \u001b[0;34m=\u001b[0m \u001b[0;36m0\u001b[0m\u001b[0;34m,\u001b[0m \u001b[0;36m0\u001b[0m\u001b[0;34m\u001b[0m\u001b[0;34m\u001b[0m\u001b[0m\n\u001b[1;32m     12\u001b[0m \u001b[0;34m\u001b[0m\u001b[0m\n\u001b[0;32m---> 13\u001b[0;31m         \u001b[0;32mwhile\u001b[0m \u001b[0mp1\u001b[0m \u001b[0;34m<\u001b[0m \u001b[0mlen\u001b[0m\u001b[0;34m(\u001b[0m\u001b[0mleft\u001b[0m\u001b[0;34m)\u001b[0m \u001b[0;32mand\u001b[0m \u001b[0mp2\u001b[0m \u001b[0;34m<\u001b[0m \u001b[0mlen\u001b[0m\u001b[0;34m(\u001b[0m\u001b[0mright\u001b[0m\u001b[0;34m)\u001b[0m\u001b[0;34m:\u001b[0m\u001b[0;34m\u001b[0m\u001b[0;34m\u001b[0m\u001b[0m\n\u001b[0m\u001b[1;32m     14\u001b[0m             \u001b[0;32mif\u001b[0m \u001b[0mleft\u001b[0m\u001b[0;34m[\u001b[0m\u001b[0mp1\u001b[0m\u001b[0;34m]\u001b[0m \u001b[0;34m<=\u001b[0m \u001b[0mright\u001b[0m\u001b[0;34m[\u001b[0m\u001b[0mp2\u001b[0m\u001b[0;34m]\u001b[0m\u001b[0;34m:\u001b[0m\u001b[0;34m\u001b[0m\u001b[0;34m\u001b[0m\u001b[0m\n\u001b[1;32m     15\u001b[0m                 \u001b[0mmerged\u001b[0m\u001b[0;34m.\u001b[0m\u001b[0mappend\u001b[0m\u001b[0;34m(\u001b[0m\u001b[0mleft\u001b[0m\u001b[0;34m[\u001b[0m\u001b[0mp1\u001b[0m\u001b[0;34m]\u001b[0m\u001b[0;34m)\u001b[0m\u001b[0;34m\u001b[0m\u001b[0;34m\u001b[0m\u001b[0m\n",
            "\u001b[0;31mTypeError\u001b[0m: object of type 'int' has no len()"
          ]
        }
      ]
    },
    {
      "cell_type": "markdown",
      "source": [
        " 3. **Sort an Array**\n",
        "\n",
        "Given an array of integers `nums`, sort the array in ascending order and return it.\n",
        "\n",
        "You must solve the problem **without using any built-in** functions in `O(nlog(n))` time complexity and with the smallest space complexity possible.\n",
        "\n",
        "**Example 1:**\n",
        "\n",
        "```\n",
        "Input: nums = [5,2,3,1]\n",
        "Output: [1,2,3,5]\n",
        "Explanation: After sorting the array, the positions of some numbers are not changed (for example, 2 and 3), while the positions of other numbers are changed (for example, 1 and 5).\n",
        "\n",
        "```\n",
        "\n",
        "**Example 2:**\n",
        "\n",
        "```\n",
        "Input: nums = [5,1,1,2,0,0]\n",
        "Output: [0,0,1,1,2,5]\n",
        "Explanation: Note that the values of nums are not necessairly unique.\n",
        "\n",
        "```\n",
        "\n",
        "**Constraints:**\n",
        "\n",
        "- `1 <= nums.length <= 5 * 10000`\n",
        "- `-5 * 104 <= nums[i] <= 5 * 10000`\n"
      ],
      "metadata": {
        "id": "3uY31Di_yg2m"
      }
    },
    {
      "cell_type": "code",
      "source": [
        "def sortArray(nums):\n",
        "    def mergeSort(nums, start, end):\n",
        "        if start >= end:\n",
        "            return\n",
        "\n",
        "        mid = (start + end) // 2\n",
        "        mergeSort(nums, start, mid)\n",
        "        mergeSort(nums, mid + 1, end)\n",
        "\n",
        "        left = nums[start:mid+1]\n",
        "        right = nums[mid+1:end+1]\n",
        "\n",
        "        p1, p2, p = 0, 0, start\n",
        "\n",
        "        while p1 < len(left) and p2 < len(right):\n",
        "            if left[p1] <= right[p2]:\n",
        "                nums[p] = left[p1]\n",
        "                p1 += 1\n",
        "            else:\n",
        "                nums[p] = right[p2]\n",
        "                p2 += 1\n",
        "            p += 1\n",
        "\n",
        "        nums[p:end+1] = left[p1:] + right[p2:]\n",
        "\n",
        "    mergeSort(nums, 0, len(nums) - 1)\n",
        "    return nums\n",
        "\n",
        "\n",
        "# Example 1\n",
        "nums = [5, 2, 3, 1]\n",
        "result = sortArray(nums)\n",
        "print(result)  # Output: [1, 2, 3, 5]\n",
        "\n",
        "# Example 2\n",
        "nums = [5, 1, 1, 2, 0, 0]\n",
        "result = sortArray(nums)\n",
        "print(result)  # Output: [0, 0, 1, 1, 2, 5]\n"
      ],
      "metadata": {
        "colab": {
          "base_uri": "https://localhost:8080/"
        },
        "id": "3sEvZRfKyhJG",
        "outputId": "991126b5-988e-4860-a988-6568b0c7101c"
      },
      "execution_count": 3,
      "outputs": [
        {
          "output_type": "stream",
          "name": "stdout",
          "text": [
            "[1, 2, 3, 5]\n",
            "[0, 0, 1, 1, 2, 5]\n"
          ]
        }
      ]
    },
    {
      "cell_type": "markdown",
      "source": [
        " 4. **Move all zeroes to end of array**\n",
        "\n",
        "Given an array of random numbers, Push all the zero’s of a given array to the end of the array. For example, if the given arrays is {1, 9, 8, 4, 0, 0, 2, 7, 0, 6, 0}, it should be changed to {1, 9, 8, 4, 2, 7, 6, 0, 0, 0, 0}. The order of all other elements should be same. Expected time complexity is O(n) and extra space is O(1).\n",
        "\n",
        "**Example:**\n",
        "\n",
        "```\n",
        "Input :  arr[] = {1, 2, 0, 4, 3, 0, 5, 0};\n",
        "Output : arr[] = {1, 2, 4, 3, 5, 0, 0, 0};\n",
        "\n",
        "Input : arr[]  = {1, 2, 0, 0, 0, 3, 6};\n",
        "Output : arr[] = {1, 2, 3, 6, 0, 0, 0};\n",
        "```\n",
        "\n"
      ],
      "metadata": {
        "id": "wVmqvYlfyhZy"
      }
    },
    {
      "cell_type": "code",
      "source": [
        "def moveZeroesToEnd(nums):\n",
        "    count = 0\n",
        "\n",
        "    for i in range(len(nums)):\n",
        "        if nums[i] != 0:\n",
        "            nums[count], nums[i] = nums[i], nums[count]\n",
        "            count += 1\n",
        "\n",
        "    return nums\n",
        "\n",
        "\n",
        "# Example 1\n",
        "nums = [1, 2, 0, 4, 3, 0, 5, 0]\n",
        "result = moveZeroesToEnd(nums)\n",
        "print(result)  # Output: [1, 2, 4, 3, 5, 0, 0, 0]\n",
        "\n",
        "# Example 2\n",
        "nums = [1, 2, 0, 0, 0, 3, 6]\n",
        "result = moveZeroesToEnd(nums)\n",
        "print(result)  # Output: [1, 2, 3, 6, 0, 0, 0]\n"
      ],
      "metadata": {
        "colab": {
          "base_uri": "https://localhost:8080/"
        },
        "id": "gnChI-fb00lZ",
        "outputId": "8286da99-4847-4b1e-bfcc-4af583b2fb76"
      },
      "execution_count": 6,
      "outputs": [
        {
          "output_type": "stream",
          "name": "stdout",
          "text": [
            "[1, 2, 4, 3, 5, 0, 0, 0]\n",
            "[1, 2, 3, 6, 0, 0, 0]\n"
          ]
        }
      ]
    },
    {
      "cell_type": "markdown",
      "source": [
        " 5. **Rearrange array in alternating positive & negative items with O(1) extra space**\n",
        "\n",
        "Given an **array of positive** and **negative numbers**, arrange them in an **alternate** fashion such that every positive number is followed by a negative and vice-versa maintaining the **order of appearance**. The number of positive and negative numbers need not be equal. If there are more positive numbers they appear at the end of the array. If there are more negative numbers, they too appear at the end of the array.\n",
        "\n",
        "**Examples:**\n",
        "\n",
        "> Input:  arr[] = {1, 2, 3, -4, -1, 4}\n",
        "Output: arr[] = {-4, 1, -1, 2, 3, 4}\n",
        "\n",
        "Input:  arr[] = {-5, -2, 5, 2, 4, 7, 1, 8, 0, -8}\n",
        "Output: arr[] = {-5, 5, -2, 2, -8, 4, 7, 1, 8, 0}"
      ],
      "metadata": {
        "id": "ZAJeFkiHyh6H"
      }
    },
    {
      "cell_type": "code",
      "source": [
        "def rearrangeArray(nums):\n",
        "    n = len(nums)\n",
        "    i, j = 0, 1\n",
        "\n",
        "    while i < n and j < n:\n",
        "        # Find the next positive number at an even index\n",
        "        while i < n and nums[i] > 0:\n",
        "            i += 2\n",
        "\n",
        "        # Find the next negative number at an odd index\n",
        "        while j < n and nums[j] < 0:\n",
        "            j += 2\n",
        "\n",
        "        # Swap the positive and negative numbers\n",
        "        if i < n and j < n:\n",
        "            nums[i], nums[j] = nums[j], nums[i]\n",
        "\n",
        "    return nums\n",
        "\n",
        "\n",
        "# Example 1\n",
        "nums = [1, 2, 3, -4, -1, 4]\n",
        "result = rearrangeArray(nums)\n",
        "print(result)  # Output: [-4, 1, -1, 2, 3, 4]\n",
        "\n",
        "# Example 2\n",
        "nums = [-5, -2, 5, 2, 4, 7, 1, 8, 0, -8]\n",
        "result = rearrangeArray(nums)\n",
        "print(result)  # Output: [-5, 5, -2, 2, -8, 4, 7, 1, 8, 0]\n"
      ],
      "metadata": {
        "colab": {
          "base_uri": "https://localhost:8080/"
        },
        "id": "KVHNsszyyiII",
        "outputId": "5e903630-b671-41cd-e74a-a375b998646b"
      },
      "execution_count": 5,
      "outputs": [
        {
          "output_type": "stream",
          "name": "stdout",
          "text": [
            "[1, -1, 3, -4, 2, 4]\n",
            "[2, -2, 5, -5, 4, 0, 1, 8, 7, -8]\n"
          ]
        }
      ]
    },
    {
      "cell_type": "markdown",
      "source": [
        " **6. Merge two sorted arrays**\n",
        "\n",
        "Given two sorted arrays, the task is to merge them in a sorted manner.\n",
        "\n",
        "**Examples:**\n",
        "\n",
        "Input: arr1[] = { 1, 3, 4, 5}, arr2[] = {2, 4, 6, 8}\n",
        "Output: arr3[] = {1, 2, 3, 4, 4, 5, 6, 8}\n",
        "\n",
        "Input: arr1[] = { 5, 8, 9}, arr2[] = {4, 7, 8}\n",
        "Output: arr3[] = {4, 5, 7, 8, 8, 9}"
      ],
      "metadata": {
        "id": "YEkPzNQoyiVb"
      }
    },
    {
      "cell_type": "code",
      "source": [
        "def mergeSortedArrays(arr1, arr2):\n",
        "    n1 = len(arr1)\n",
        "    n2 = len(arr2)\n",
        "    i = j = 0\n",
        "    merged = []\n",
        "\n",
        "    while i < n1 and j < n2:\n",
        "        if arr1[i] <= arr2[j]:\n",
        "            merged.append(arr1[i])\n",
        "            i += 1\n",
        "        else:\n",
        "            merged.append(arr2[j])\n",
        "            j += 1\n",
        "\n",
        "    while i < n1:\n",
        "        merged.append(arr1[i])\n",
        "        i += 1\n",
        "\n",
        "    while j < n2:\n",
        "        merged.append(arr2[j])\n",
        "        j += 1\n",
        "\n",
        "    return merged\n",
        "\n",
        "\n",
        "# Example 1\n",
        "arr1 = [1, 3, 4, 5]\n",
        "arr2 = [2, 4, 6, 8]\n",
        "result = mergeSortedArrays(arr1, arr2)\n",
        "print(result)  # Output: [1, 2, 3, 4, 4, 5, 6, 8]\n",
        "\n",
        "# Example 2\n",
        "arr1 = [5, 8, 9]\n",
        "arr2 = [4, 7, 8]\n",
        "result = mergeSortedArrays(arr1, arr2)\n",
        "print(result)  # Output: [4, 5, 7, 8, 8, 9]\n"
      ],
      "metadata": {
        "colab": {
          "base_uri": "https://localhost:8080/"
        },
        "id": "Z_mB8lPNyiie",
        "outputId": "133fb822-1a65-4eaa-d2a1-3b8b7c1f181e"
      },
      "execution_count": 7,
      "outputs": [
        {
          "output_type": "stream",
          "name": "stdout",
          "text": [
            "[1, 2, 3, 4, 4, 5, 6, 8]\n",
            "[4, 5, 7, 8, 8, 9]\n"
          ]
        }
      ]
    },
    {
      "cell_type": "markdown",
      "source": [
        " 7. **Intersection of Two Arrays**\n",
        "\n",
        "Given two integer arrays `nums1` and `nums2`, return *an array of their intersection*. Each element in the result must be **unique** and you may return the result in **any order**.\n",
        "\n",
        "**Example 1:**\n",
        "\n",
        "```\n",
        "Input: nums1 = [1,2,2,1], nums2 = [2,2]\n",
        "Output: [2]\n",
        "\n",
        "```\n",
        "\n",
        "**Example 2:**\n",
        "\n",
        "```\n",
        "Input: nums1 = [4,9,5], nums2 = [9,4,9,8,4]\n",
        "Output: [9,4]\n",
        "Explanation: [4,9] is also accepted.\n",
        "\n",
        "```\n",
        "\n",
        "**Constraints:**\n",
        "\n",
        "- `1 <= nums1.length, nums2.length <= 1000`\n",
        "- `0 <= nums1[i], nums2[i] <= 1000`\n"
      ],
      "metadata": {
        "id": "-jAXB3rQyixT"
      }
    },
    {
      "cell_type": "code",
      "source": [
        "def intersection(nums1, nums2):\n",
        "    set1 = set(nums1)\n",
        "    set2 = set(nums2)\n",
        "    result = set()\n",
        "\n",
        "    for num in set2:\n",
        "        if num in set1:\n",
        "            result.add(num)\n",
        "\n",
        "    return list(result)\n",
        "\n",
        "\n",
        "# Example 1\n",
        "nums1 = [1, 2, 2, 1]\n",
        "nums2 = [2, 2]\n",
        "result = intersection(nums1, nums2)\n",
        "print(result)  # Output: [2]\n",
        "\n",
        "# Example 2\n",
        "nums1 = [4, 9, 5]\n",
        "nums2 = [9, 4, 9, 8, 4]\n",
        "result = intersection(nums1, nums2)\n",
        "print(result)  # Output: [9, 4]\n"
      ],
      "metadata": {
        "colab": {
          "base_uri": "https://localhost:8080/"
        },
        "id": "kx1PA4Meyi_k",
        "outputId": "ad91fda7-ef02-400b-a825-1b90b0b2fe18"
      },
      "execution_count": 8,
      "outputs": [
        {
          "output_type": "stream",
          "name": "stdout",
          "text": [
            "[2]\n",
            "[9, 4]\n"
          ]
        }
      ]
    },
    {
      "cell_type": "markdown",
      "source": [
        " 8. **Intersection of Two Arrays II**\n",
        "\n",
        "Given two integer arrays `nums1` and `nums2`, return *an array of their intersection*. Each element in the result must appear as many times as it shows in both arrays and you may return the result in **any order**.\n",
        "\n",
        "**Example 1:**\n",
        "\n",
        "```\n",
        "Input: nums1 = [1,2,2,1], nums2 = [2,2]\n",
        "Output: [2,2]\n",
        "\n",
        "```\n",
        "\n",
        "**Example 2:**\n",
        "\n",
        "```\n",
        "Input: nums1 = [4,9,5], nums2 = [9,4,9,8,4]\n",
        "Output: [4,9]\n",
        "Explanation: [9,4] is also accepted.\n",
        "\n",
        "```\n",
        "\n",
        "**Constraints:**\n",
        "\n",
        "- `1 <= nums1.length, nums2.length <= 1000`\n",
        "- `0 <= nums1[i], nums2[i] <= 1000`\n"
      ],
      "metadata": {
        "id": "kikSUvTbykjH"
      }
    },
    {
      "cell_type": "code",
      "source": [
        "from collections import Counter\n",
        "\n",
        "def intersect(nums1, nums2):\n",
        "    counter = Counter(nums1)\n",
        "    result = []\n",
        "\n",
        "    for num in nums2:\n",
        "        if num in counter and counter[num] > 0:\n",
        "            result.append(num)\n",
        "            counter[num] -= 1\n",
        "\n",
        "    return result\n",
        "\n",
        "\n",
        "# Example 1\n",
        "nums1 = [1, 2, 2, 1]\n",
        "nums2 = [2, 2]\n",
        "result = intersect(nums1, nums2)\n",
        "print(result)  # Output: [2, 2]\n",
        "\n",
        "# Example 2\n",
        "nums1 = [4, 9, 5]\n",
        "nums2 = [9, 4, 9, 8, 4]\n",
        "result = intersect(nums1, nums2)\n",
        "print(result)  # Output: [4, 9]\n"
      ],
      "metadata": {
        "colab": {
          "base_uri": "https://localhost:8080/"
        },
        "id": "XWXNhLIoykvY",
        "outputId": "e72d3137-083a-4308-f411-0e9d212cd33d"
      },
      "execution_count": 9,
      "outputs": [
        {
          "output_type": "stream",
          "name": "stdout",
          "text": [
            "[2, 2]\n",
            "[9, 4]\n"
          ]
        }
      ]
    },
    {
      "cell_type": "code",
      "source": [],
      "metadata": {
        "id": "l0ewjZVa19xj"
      },
      "execution_count": null,
      "outputs": []
    }
  ]
}