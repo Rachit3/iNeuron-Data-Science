{
  "nbformat": 4,
  "nbformat_minor": 0,
  "metadata": {
    "colab": {
      "provenance": []
    },
    "kernelspec": {
      "name": "python3",
      "display_name": "Python 3"
    },
    "language_info": {
      "name": "python"
    }
  },
  "cells": [
    {
      "cell_type": "markdown",
      "source": [
        " Question-1:\n",
        "\n",
        "Given a Binary Tree (Bt), convert it to a Doubly Linked List(DLL). The left and right pointers in nodes are to be used as previous and next pointers respectively in converted DLL. The order of nodes in DLL must be the same as in Inorder for the given Binary Tree. The first node of Inorder traversal (leftmost node in BT) must be the head node of the DLL.\n",
        "\n"
      ],
      "metadata": {
        "id": "ViqpfkscBlGB"
      }
    },
    {
      "cell_type": "code",
      "execution_count": null,
      "metadata": {
        "colab": {
          "base_uri": "https://localhost:8080/"
        },
        "id": "I4fJ9RiNBJH1",
        "outputId": "801b3772-c9c0-46f5-f819-e75a8e453bed"
      },
      "outputs": [
        {
          "output_type": "stream",
          "name": "stdout",
          "text": [
            "1 2 3 4 5 \n"
          ]
        }
      ],
      "source": [
        "class TreeNode:\n",
        "    def __init__(self, val):\n",
        "        self.val = val\n",
        "        self.left = None\n",
        "        self.right = None\n",
        "\n",
        "class DoublyLinkedListNode:\n",
        "    def __init__(self, val):\n",
        "        self.val = val\n",
        "        self.prev = None\n",
        "        self.next = None\n",
        "\n",
        "def convertBinaryTreeToDLL(root):\n",
        "    if root is None:\n",
        "        return None\n",
        "\n",
        "    # Convert the left subtree to DLL\n",
        "    left_dll = convertBinaryTreeToDLL(root.left)\n",
        "\n",
        "    # Create a new DLL node for the current root\n",
        "    current_dll = DoublyLinkedListNode(root.val)\n",
        "\n",
        "    # Convert the right subtree to DLL\n",
        "    right_dll = convertBinaryTreeToDLL(root.right)\n",
        "\n",
        "    # Connect the left DLL to the current DLL node\n",
        "    if left_dll:\n",
        "        left_dll_tail = getDLLTail(left_dll)\n",
        "        left_dll_tail.next = current_dll\n",
        "        current_dll.prev = left_dll_tail\n",
        "\n",
        "    # Connect the right DLL to the current DLL node\n",
        "    if right_dll:\n",
        "        right_dll_head = getDLLHead(right_dll)\n",
        "        right_dll_head.prev = current_dll\n",
        "        current_dll.next = right_dll_head\n",
        "\n",
        "    # Return the head of the DLL\n",
        "    if left_dll:\n",
        "        return left_dll\n",
        "    else:\n",
        "        return current_dll\n",
        "\n",
        "def getDLLHead(dll):\n",
        "    current = dll\n",
        "    while current.prev:\n",
        "        current = current.prev\n",
        "    return current\n",
        "\n",
        "def getDLLTail(dll):\n",
        "    current = dll\n",
        "    while current.next:\n",
        "        current = current.next\n",
        "    return current\n",
        "\n",
        "def printDLL(dll):\n",
        "    current = dll\n",
        "    while current:\n",
        "        print(current.val, end=\" \")\n",
        "        current = current.next\n",
        "    print()\n",
        "\n",
        "# Example\n",
        "root = TreeNode(4)\n",
        "root.left = TreeNode(2)\n",
        "root.right = TreeNode(5)\n",
        "root.left.left = TreeNode(1)\n",
        "root.left.right = TreeNode(3)\n",
        "\n",
        "dll = convertBinaryTreeToDLL(root)\n",
        "\n",
        "printDLL(dll)\n"
      ]
    },
    {
      "cell_type": "markdown",
      "source": [
        "Question-2\n",
        "\n",
        "A Given a binary tree, the task is to flip the binary tree towards the right direction that is clockwise. See the below examples to see the transformation.\n",
        "\n",
        "In the flip operation, the leftmost node becomes the root of the flipped tree and its parent becomes its right child and the right sibling becomes its left child and the same should be done for all left most nodes recursively."
      ],
      "metadata": {
        "id": "vWa6bZlKBjnT"
      }
    },
    {
      "cell_type": "code",
      "source": [
        "class TreeNode:\n",
        "    def __init__(self, val):\n",
        "        self.val = val\n",
        "        self.left = None\n",
        "        self.right = None\n",
        "\n",
        "def flipBinaryTree(root):\n",
        "    if root is None:\n",
        "        return None\n",
        "\n",
        "    # Base case: Leaf node\n",
        "    if root.left is None and root.right is None:\n",
        "        return root\n",
        "\n",
        "    # Recursively flip the left and right subtrees\n",
        "    flipped_left = flipBinaryTree(root.left)\n",
        "    flipped_right = flipBinaryTree(root.right)\n",
        "\n",
        "    # Flip the current node\n",
        "    root.left = flipped_right\n",
        "    root.right = flipped_left\n",
        "\n",
        "    return root\n",
        "\n",
        "def inorderTraversal(root):\n",
        "    if root is None:\n",
        "        return\n",
        "    inorderTraversal(root.left)\n",
        "    print(root.val, end=\" \")\n",
        "    inorderTraversal(root.right)\n",
        "\n",
        "# Example\n",
        "root = TreeNode(1)\n",
        "root.left = TreeNode(2)\n",
        "root.right = TreeNode(3)\n",
        "root.left.left = TreeNode(4)\n",
        "root.left.right = TreeNode(5)\n",
        "\n",
        "print(\"Original Binary Tree (Inorder Traversal):\")\n",
        "inorderTraversal(root)\n",
        "\n",
        "flipped_tree = flipBinaryTree(root)\n",
        "\n",
        "print(\"\\nFlipped Binary Tree (Inorder Traversal):\")\n",
        "inorderTraversal(flipped_tree)\n"
      ],
      "metadata": {
        "id": "Ui13ZuXcBlxk",
        "colab": {
          "base_uri": "https://localhost:8080/"
        },
        "outputId": "56e4e47e-8512-46fa-9623-a41eac49edc1"
      },
      "execution_count": 1,
      "outputs": [
        {
          "output_type": "stream",
          "name": "stdout",
          "text": [
            "Original Binary Tree (Inorder Traversal):\n",
            "4 2 5 1 3 \n",
            "Flipped Binary Tree (Inorder Traversal):\n",
            "3 1 5 2 4 "
          ]
        }
      ]
    },
    {
      "cell_type": "markdown",
      "source": [
        " Question-3:\n",
        "\n",
        "Given a binary tree, print all its root-to-leaf paths without using recursion. For example, consider the following Binary Tree.\n",
        "\n",
        "Input:\n",
        "\n",
        "        6\n",
        "     /    \\\n",
        "    3      5\n",
        "    \n",
        "  /   \\     \\\n",
        " 2     5     4\n",
        "     /   \\\n",
        "    7     4\n",
        "\n",
        "Output:\n",
        "\n",
        "There are 4 leaves, hence 4 root to leaf paths -\n",
        "  6->3->2\n",
        "  6->3->5->7\n",
        "  6->3->5->4\n",
        "  6->5>4\n",
        "\n"
      ],
      "metadata": {
        "id": "GCL2kCeZBmCg"
      }
    },
    {
      "cell_type": "code",
      "source": [
        "class TreeNode:\n",
        "    def __init__(self, val):\n",
        "        self.val = val\n",
        "        self.left = None\n",
        "        self.right = None\n",
        "\n",
        "def printRootToLeafPaths(root):\n",
        "    if root is None:\n",
        "        return\n",
        "\n",
        "    stack = [(root, str(root.val))]\n",
        "\n",
        "    while stack:\n",
        "        node, path = stack.pop()\n",
        "\n",
        "        if node.left is None and node.right is None:\n",
        "            print(path)\n",
        "\n",
        "        if node.right is not None:\n",
        "            stack.append((node.right, path + \"->\" + str(node.right.val)))\n",
        "\n",
        "        if node.left is not None:\n",
        "            stack.append((node.left, path + \"->\" + str(node.left.val)))\n",
        "\n",
        "# Example\n",
        "root = TreeNode(6)\n",
        "root.left = TreeNode(3)\n",
        "root.right = TreeNode(5)\n",
        "root.left.left = TreeNode(2)\n",
        "root.left.right = TreeNode(5)\n",
        "root.right.right = TreeNode(4)\n",
        "root.left.right.left = TreeNode(7)\n",
        "root.left.right.right = TreeNode(4)\n",
        "\n",
        "print(\"Root-to-Leaf Paths:\")\n",
        "printRootToLeafPaths(root)\n"
      ],
      "metadata": {
        "id": "Y-IE9p0EBmSg",
        "colab": {
          "base_uri": "https://localhost:8080/"
        },
        "outputId": "f95868f8-2206-4fd7-d408-33ac4e183f14"
      },
      "execution_count": 2,
      "outputs": [
        {
          "output_type": "stream",
          "name": "stdout",
          "text": [
            "Root-to-Leaf Paths:\n",
            "6->3->2\n",
            "6->3->5->7\n",
            "6->3->5->4\n",
            "6->5->4\n"
          ]
        }
      ]
    },
    {
      "cell_type": "markdown",
      "source": [
        " Question-4:\n",
        "\n",
        "Given Preorder, Inorder and Postorder traversals of some tree. Write a program to check if they all are of the same tree.\n",
        "\n",
        "**Examples:**\n",
        "\n",
        "Input :\n",
        "\n",
        "        Inorder -> 4 2 5 1 3\n",
        "        Preorder -> 1 2 4 5 3\n",
        "        Postorder -> 4 5 2 3 1\n",
        "Output :\n",
        "\n",
        "Yes\n",
        "Explanation :\n",
        "\n",
        "All of the above three traversals are of\n",
        "the same tree\n",
        "\n",
        "                           1\n",
        "                         /   \\\n",
        "                        2     3\n",
        "                      /   \\\n",
        "                     4     5\n",
        "\n",
        "Input :\n",
        "\n",
        "        Inorder -> 4 2 5 1 3\n",
        "        Preorder -> 1 5 4 2 3\n",
        "        Postorder -> 4 1 2 3 5\n",
        "Output :\n",
        "\n",
        "No\n",
        "\n"
      ],
      "metadata": {
        "id": "ATXon7QTBmty"
      }
    },
    {
      "cell_type": "code",
      "source": [
        "def checkTraversal(inorder, preorder, postorder, inStart, inEnd, preStart, preEnd, postStart, postEnd):\n",
        "    if inStart > inEnd or preStart > preEnd or postStart > postEnd:\n",
        "        return True\n",
        "\n",
        "    rootValue = preorder[preStart]\n",
        "    rootIndex = inorder.index(rootValue)\n",
        "    leftLength = rootIndex - inStart\n",
        "\n",
        "    return checkTraversal(inorder, preorder, postorder, inStart, rootIndex - 1, preStart + 1, preStart + leftLength, postStart, postStart + leftLength - 1) and \\\n",
        "           checkTraversal(inorder, preorder, postorder, rootIndex + 1, inEnd, preStart + leftLength + 1, preEnd, postStart + leftLength, postEnd - 1)\n",
        "\n",
        "# Example 1\n",
        "inorder1 = [4, 2, 5, 1, 3]\n",
        "preorder1 = [1, 2, 4, 5, 3]\n",
        "postorder1 = [4, 5, 2, 3, 1]\n",
        "\n",
        "print(\"Example 1:\")\n",
        "if checkTraversal(inorder1, preorder1, postorder1, 0, len(inorder1) - 1, 0, len(preorder1) - 1, 0, len(postorder1) - 1):\n",
        "    print(\"Yes\")\n",
        "else:\n",
        "    print(\"No\")\n",
        "\n",
        "# Example 2\n",
        "inorder2 = [4, 2, 5, 1, 3]\n",
        "preorder2 = [1, 5, 4, 2, 3]\n",
        "postorder2 = [4, 1, 2, 3, 5]\n",
        "\n",
        "print(\"Example 2:\")\n",
        "if checkTraversal(inorder2, preorder2, postorder2, 0, len(inorder2) - 1, 0, len(preorder2) - 1, 0, len(postorder2) - 1):\n",
        "    print(\"Yes\")\n",
        "else:\n",
        "    print(\"No\")\n"
      ],
      "metadata": {
        "colab": {
          "base_uri": "https://localhost:8080/"
        },
        "id": "5oMVk59ryQsN",
        "outputId": "e845e7e6-fefc-451e-e535-a58c1bf0076e"
      },
      "execution_count": 7,
      "outputs": [
        {
          "output_type": "stream",
          "name": "stdout",
          "text": [
            "Example 1:\n",
            "Yes\n",
            "Example 2:\n",
            "Yes\n"
          ]
        }
      ]
    },
    {
      "cell_type": "code",
      "source": [],
      "metadata": {
        "id": "SVW9Ub1ByjKR"
      },
      "execution_count": null,
      "outputs": []
    }
  ]
}