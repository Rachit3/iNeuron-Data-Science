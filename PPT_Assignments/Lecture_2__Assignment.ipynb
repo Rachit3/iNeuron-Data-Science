{
  "nbformat": 4,
  "nbformat_minor": 0,
  "metadata": {
    "colab": {
      "provenance": []
    },
    "kernelspec": {
      "name": "python3",
      "display_name": "Python 3"
    },
    "language_info": {
      "name": "python"
    }
  },
  "cells": [
    {
      "cell_type": "markdown",
      "source": [
        "**1. Write a Python program to reverse a string without using any built-in string reversal functions.**"
      ],
      "metadata": {
        "id": "MjTOBfizIUFJ"
      }
    },
    {
      "cell_type": "code",
      "execution_count": 3,
      "metadata": {
        "colab": {
          "base_uri": "https://localhost:8080/"
        },
        "id": "dbN_88alIK4C",
        "outputId": "bce40794-7a62-48ad-fdf8-28fa767681cd"
      },
      "outputs": [
        {
          "output_type": "stream",
          "name": "stdout",
          "text": [
            "!dlroW ,olleH\n"
          ]
        }
      ],
      "source": [
        "def reverse_string(string):\n",
        "    reversed_string = ''\n",
        "    for i in range(len(string)-1, -1, -1):\n",
        "        reversed_string += string[i]\n",
        "    return reversed_string\n",
        "\n",
        "# Example usage\n",
        "input_string = \"Hello, World!\"\n",
        "reversed_string = reverse_string(input_string)\n",
        "print(reversed_string)\n"
      ]
    },
    {
      "cell_type": "markdown",
      "source": [
        "**2. Implement a function to check if a given string is a palindrome.**"
      ],
      "metadata": {
        "id": "8Zu3XAJWIQ90"
      }
    },
    {
      "cell_type": "code",
      "source": [
        "def is_palindrome(string):\n",
        "    reversed_string = reverse_string(string)\n",
        "    if string == reversed_string:\n",
        "        return True\n",
        "    else:\n",
        "        return False\n",
        "\n",
        "# Example usage\n",
        "input_string = \"level\"\n",
        "if is_palindrome(input_string):\n",
        "    print(\"Palindrome\")\n",
        "else:\n",
        "    print(\"Not a palindrome\")\n"
      ],
      "metadata": {
        "colab": {
          "base_uri": "https://localhost:8080/"
        },
        "id": "xCURFvNkMOvB",
        "outputId": "64cd4262-19d1-4fb9-a5d9-deb213612fe6"
      },
      "execution_count": 4,
      "outputs": [
        {
          "output_type": "stream",
          "name": "stdout",
          "text": [
            "Palindrome\n"
          ]
        }
      ]
    },
    {
      "cell_type": "markdown",
      "source": [
        "**3. Write a program to find the largest element in a given list.**"
      ],
      "metadata": {
        "id": "2F0ERE2CIX9s"
      }
    },
    {
      "cell_type": "code",
      "source": [
        "def find_largest_element(lst):\n",
        "    largest = lst[0]\n",
        "    for num in lst:\n",
        "        if num > largest:\n",
        "            largest = num\n",
        "    return largest\n",
        "\n",
        "# Example usage\n",
        "input_list = [5, 10, 3, 8, 15, 1]\n",
        "largest_element = find_largest_element(input_list)\n",
        "print(\"Largest element:\", largest_element)\n"
      ],
      "metadata": {
        "colab": {
          "base_uri": "https://localhost:8080/"
        },
        "id": "OTMyUQsYMfBP",
        "outputId": "4f796771-2b94-463c-af9f-dc2817548979"
      },
      "execution_count": 5,
      "outputs": [
        {
          "output_type": "stream",
          "name": "stdout",
          "text": [
            "Largest element: 15\n"
          ]
        }
      ]
    },
    {
      "cell_type": "markdown",
      "source": [
        "**4. Implement a function to count the occurrence of each element in a list.**"
      ],
      "metadata": {
        "id": "Jj2E6wYkIYA7"
      }
    },
    {
      "cell_type": "code",
      "source": [
        "def count_occurrences(lst):\n",
        "    counts = {}\n",
        "    for num in lst:\n",
        "        if num in counts:\n",
        "            counts[num] += 1\n",
        "        else:\n",
        "            counts[num] = 1\n",
        "    return counts\n",
        "\n",
        "# Example usage\n",
        "input_list = [1, 2, 1, 3, 2, 1, 4, 4, 2, 5]\n",
        "occurrences = count_occurrences(input_list)\n",
        "print(\"Occurrences:\", occurrences)\n"
      ],
      "metadata": {
        "colab": {
          "base_uri": "https://localhost:8080/"
        },
        "id": "eUWWIhH1M3yq",
        "outputId": "1fecfbf8-13ec-48a3-8dde-ce7c41cd321e"
      },
      "execution_count": 6,
      "outputs": [
        {
          "output_type": "stream",
          "name": "stdout",
          "text": [
            "Occurrences: {1: 3, 2: 3, 3: 1, 4: 2, 5: 1}\n"
          ]
        }
      ]
    },
    {
      "cell_type": "markdown",
      "source": [
        "**5. Write a Python program to find the second largest number in a list.**"
      ],
      "metadata": {
        "id": "5C0PNFhSIYFi"
      }
    },
    {
      "cell_type": "code",
      "source": [
        "def find_second_largest(lst):\n",
        "    largest = lst[0]\n",
        "    second_largest = float('-inf')\n",
        "    for num in lst:\n",
        "        if num > largest:\n",
        "            second_largest = largest\n",
        "            largest = num\n",
        "        elif num > second_largest and num != largest:\n",
        "            second_largest = num\n",
        "    return second_largest\n",
        "\n",
        "# Example usage\n",
        "input_list = [5, 10, 3, 8, 15, 1]\n",
        "second_largest = find_second_largest(input_list)\n",
        "print(\"Second largest element:\", second_largest)\n"
      ],
      "metadata": {
        "colab": {
          "base_uri": "https://localhost:8080/"
        },
        "id": "klUwkQ1LNslS",
        "outputId": "5e8eb54f-5c8d-481e-fc31-2fb9fea804a4"
      },
      "execution_count": 7,
      "outputs": [
        {
          "output_type": "stream",
          "name": "stdout",
          "text": [
            "Second largest element: 10\n"
          ]
        }
      ]
    },
    {
      "cell_type": "markdown",
      "source": [
        "**6. Implement a function to remove duplicate elements from a list.**"
      ],
      "metadata": {
        "id": "94D5g_n-IYI0"
      }
    },
    {
      "cell_type": "code",
      "source": [
        "def remove_duplicates(lst):\n",
        "    unique_list = []\n",
        "    for num in lst:\n",
        "        if num not in unique_list:\n",
        "            unique_list.append(num)\n",
        "    return unique_list\n",
        "\n",
        "# Example usage\n",
        "input_list = [1, 2, 1, 3, 2, 1, 4, 4, 2, 5]\n",
        "unique_elements = remove_duplicates(input_list)\n",
        "print(\"Unique elements:\", unique_elements)\n"
      ],
      "metadata": {
        "colab": {
          "base_uri": "https://localhost:8080/"
        },
        "id": "AR14X8FTg1LL",
        "outputId": "ebd6f7ac-dd40-422a-b3c8-def9c6b4dbd1"
      },
      "execution_count": 1,
      "outputs": [
        {
          "output_type": "stream",
          "name": "stdout",
          "text": [
            "Unique elements: [1, 2, 3, 4, 5]\n"
          ]
        }
      ]
    },
    {
      "cell_type": "markdown",
      "source": [
        "**7. Write a program to calculate the factorial of a given number.**"
      ],
      "metadata": {
        "id": "MfzzeoRNIYLs"
      }
    },
    {
      "cell_type": "code",
      "source": [
        "def factorial(n):\n",
        "    if n == 0:\n",
        "        return 1\n",
        "    else:\n",
        "        return n * factorial(n-1)\n",
        "\n",
        "# Example usage\n",
        "number = 5\n",
        "factorial_value = factorial(number)\n",
        "print(\"Factorial:\", factorial_value)\n"
      ],
      "metadata": {
        "colab": {
          "base_uri": "https://localhost:8080/"
        },
        "id": "YEzxYZFrhAN0",
        "outputId": "2dbbd0ed-7e6b-4d2f-ed75-216f8f0ac9fe"
      },
      "execution_count": 2,
      "outputs": [
        {
          "output_type": "stream",
          "name": "stdout",
          "text": [
            "Factorial: 120\n"
          ]
        }
      ]
    },
    {
      "cell_type": "markdown",
      "source": [
        "**8. Implement a function to check if a given number is prime.**"
      ],
      "metadata": {
        "id": "4khfGcVKIYOf"
      }
    },
    {
      "cell_type": "code",
      "source": [
        "def is_prime(n):\n",
        "    if n <= 1:\n",
        "        return False\n",
        "    for i in range(2, int(n**0.5) + 1):\n",
        "        if n % i == 0:\n",
        "            return False\n",
        "    return True\n",
        "\n",
        "# Example usage\n",
        "number = 17\n",
        "if is_prime(number):\n",
        "    print(\"Prime\")\n",
        "else:\n",
        "    print(\"Not a prime\")\n"
      ],
      "metadata": {
        "colab": {
          "base_uri": "https://localhost:8080/"
        },
        "id": "td_sor7chDRx",
        "outputId": "90f61333-331a-4bab-b258-01e1aa7cfaa3"
      },
      "execution_count": 3,
      "outputs": [
        {
          "output_type": "stream",
          "name": "stdout",
          "text": [
            "Prime\n"
          ]
        }
      ]
    },
    {
      "cell_type": "markdown",
      "source": [
        "**9. Write a Python program to sort a list of integers in ascending order.**"
      ],
      "metadata": {
        "id": "KAi1FwmHIYRn"
      }
    },
    {
      "cell_type": "code",
      "source": [
        "def sort_list(lst):\n",
        "    sorted_lst = lst[:]\n",
        "    for i in range(len(sorted_lst)):\n",
        "        for j in range(i+1, len(sorted_lst)):\n",
        "            if sorted_lst[j] < sorted_lst[i]:\n",
        "                sorted_lst[i], sorted_lst[j] = sorted_lst[j], sorted_lst[i]\n",
        "    return sorted_lst\n",
        "\n",
        "# Example usage\n",
        "input_list = [5, 2, 8, 1, 10]\n",
        "sorted_list = sort_list(input_list)\n",
        "print(\"Sorted list:\", sorted_list)\n"
      ],
      "metadata": {
        "colab": {
          "base_uri": "https://localhost:8080/"
        },
        "id": "7jx1Bco4hFrf",
        "outputId": "b761ab2a-fd3d-45d0-c843-18db51d738cb"
      },
      "execution_count": 4,
      "outputs": [
        {
          "output_type": "stream",
          "name": "stdout",
          "text": [
            "Sorted list: [1, 2, 5, 8, 10]\n"
          ]
        }
      ]
    },
    {
      "cell_type": "markdown",
      "source": [
        "**10. Implement a function to find the sum of all numbers in a list.**"
      ],
      "metadata": {
        "id": "9hFRWEIGIYUt"
      }
    },
    {
      "cell_type": "code",
      "source": [
        "def find_sum(lst):\n",
        "    total = 0\n",
        "    for num in lst:\n",
        "        total += num\n",
        "    return total\n",
        "\n",
        "# Example usage\n",
        "input_list = [1, 2, 3, 4, 5]\n",
        "sum_of_numbers = find_sum(input_list)\n",
        "print(\"Sum:\", sum_of_numbers)\n"
      ],
      "metadata": {
        "colab": {
          "base_uri": "https://localhost:8080/"
        },
        "id": "_NZCjzNshI3n",
        "outputId": "2fa33a4f-5eb1-42e0-c5dc-191d6c72f872"
      },
      "execution_count": 5,
      "outputs": [
        {
          "output_type": "stream",
          "name": "stdout",
          "text": [
            "Sum: 15\n"
          ]
        }
      ]
    },
    {
      "cell_type": "markdown",
      "source": [
        "**11. Write a program to find the common elements between two lists.**"
      ],
      "metadata": {
        "id": "VR-T2qOKIYXs"
      }
    },
    {
      "cell_type": "code",
      "source": [
        "def find_common_elements(list1, list2):\n",
        "    common_elements = []\n",
        "    for element in list1:\n",
        "        if element in list2 and element not in common_elements:\n",
        "            common_elements.append(element)\n",
        "    return common_elements\n",
        "\n",
        "# Example usage\n",
        "list1 = [1, 2, 3, 4, 5]\n",
        "list2 = [4, 5, 6, 7, 8]\n",
        "common_elements = find_common_elements(list1, list2)\n",
        "print(\"Common elements:\", common_elements)\n"
      ],
      "metadata": {
        "colab": {
          "base_uri": "https://localhost:8080/"
        },
        "id": "Nundj1hBhUXA",
        "outputId": "db9b2dee-7bfc-4fa2-b85d-fdabe28e186b"
      },
      "execution_count": 6,
      "outputs": [
        {
          "output_type": "stream",
          "name": "stdout",
          "text": [
            "Common elements: [4, 5]\n"
          ]
        }
      ]
    },
    {
      "cell_type": "markdown",
      "source": [
        "**12. Implement a function to check if a given string is an anagram of another string.**"
      ],
      "metadata": {
        "id": "BLT0peFEIYa3"
      }
    },
    {
      "cell_type": "code",
      "source": [
        "def is_anagram(str1, str2):\n",
        "    str1 = str1.lower()\n",
        "    str2 = str2.lower()\n",
        "    return sorted(str1) == sorted(str2)\n",
        "\n",
        "# Example usage\n",
        "string1 = \"listen\"\n",
        "string2 = \"silent\"\n",
        "if is_anagram(string1, string2):\n",
        "    print(\"Anagram\")\n",
        "else:\n",
        "    print(\"Not an anagram\")\n"
      ],
      "metadata": {
        "colab": {
          "base_uri": "https://localhost:8080/"
        },
        "id": "IR-drSQzhsMg",
        "outputId": "4f0f2a6f-bf5d-4ebf-eb89-313ebd870981"
      },
      "execution_count": 7,
      "outputs": [
        {
          "output_type": "stream",
          "name": "stdout",
          "text": [
            "Anagram\n"
          ]
        }
      ]
    },
    {
      "cell_type": "markdown",
      "source": [
        "**13. Write a Python program to generate all permutations of a given string.**"
      ],
      "metadata": {
        "id": "xS5hbUcqIYeA"
      }
    },
    {
      "cell_type": "code",
      "source": [
        "import itertools\n",
        "\n",
        "def generate_permutations(string):\n",
        "    permutations = []\n",
        "    for permutation in itertools.permutations(string):\n",
        "        permutations.append(''.join(permutation))\n",
        "    return permutations\n",
        "\n",
        "# Example usage\n",
        "string = \"abc\"\n",
        "permutations = generate_permutations(string)\n",
        "print(\"Permutations:\", permutations)\n"
      ],
      "metadata": {
        "colab": {
          "base_uri": "https://localhost:8080/"
        },
        "id": "90jCCXOJhvnq",
        "outputId": "2a621ea3-cee4-4325-c013-bfdff0e0e3f8"
      },
      "execution_count": 8,
      "outputs": [
        {
          "output_type": "stream",
          "name": "stdout",
          "text": [
            "Permutations: ['abc', 'acb', 'bac', 'bca', 'cab', 'cba']\n"
          ]
        }
      ]
    },
    {
      "cell_type": "markdown",
      "source": [
        "**14. Implement a function to calculate the Fibonacci sequence up to a given number of terms.**"
      ],
      "metadata": {
        "id": "vnVc1W-wIYhJ"
      }
    },
    {
      "cell_type": "code",
      "source": [
        "def fibonacci_sequence(n):\n",
        "    sequence = []\n",
        "    if n >= 1:\n",
        "        sequence.append(0)\n",
        "    if n >= 2:\n",
        "        sequence.append(1)\n",
        "    for i in range(2, n):\n",
        "        next_num = sequence[i-1] + sequence[i-2]\n",
        "        sequence.append(next_num)\n",
        "    return sequence\n",
        "\n",
        "# Example usage\n",
        "terms = 8\n",
        "fibonacci_seq = fibonacci_sequence(terms)\n",
        "print(\"Fibonacci sequence:\", fibonacci_seq)\n"
      ],
      "metadata": {
        "colab": {
          "base_uri": "https://localhost:8080/"
        },
        "id": "Uhg5ElXliLtu",
        "outputId": "563a7305-1e36-4d1d-87bc-d87b025b366f"
      },
      "execution_count": 9,
      "outputs": [
        {
          "output_type": "stream",
          "name": "stdout",
          "text": [
            "Fibonacci sequence: [0, 1, 1, 2, 3, 5, 8, 13]\n"
          ]
        }
      ]
    },
    {
      "cell_type": "markdown",
      "source": [
        "**15. Write a program to find the median of a list of numbers.**"
      ],
      "metadata": {
        "id": "sXf_UEooIYkj"
      }
    },
    {
      "cell_type": "code",
      "source": [
        "def find_median(lst):\n",
        "    sorted_lst = sorted(lst)\n",
        "    n = len(sorted_lst)\n",
        "    if n % 2 == 0:\n",
        "        median = (sorted_lst[n//2-1] + sorted_lst[n//2]) / 2\n",
        "    else:\n",
        "        median = sorted_lst[n//2]\n",
        "    return median\n",
        "\n",
        "# Example usage\n",
        "numbers = [3, 1, 7, 4, 2, 9, 6]\n",
        "median_value = find_median(numbers)\n",
        "print(\"Median:\", median_value)\n"
      ],
      "metadata": {
        "colab": {
          "base_uri": "https://localhost:8080/"
        },
        "id": "yhBRBh1jiOlN",
        "outputId": "9bc768ea-13b9-49d5-996a-4f1d977b27e4"
      },
      "execution_count": 10,
      "outputs": [
        {
          "output_type": "stream",
          "name": "stdout",
          "text": [
            "Median: 4\n"
          ]
        }
      ]
    },
    {
      "cell_type": "markdown",
      "source": [
        "**16. Implement a function to check if a given list is sorted in non-decreasing order.**"
      ],
      "metadata": {
        "id": "hy2QcJBsIYnO"
      }
    },
    {
      "cell_type": "code",
      "source": [
        "def is_sorted(lst):\n",
        "    return all(lst[i] <= lst[i+1] for i in range(len(lst)-1))\n",
        "\n",
        "# Example usage\n",
        "sorted_list = [1, 2, 3, 4, 5]\n",
        "if is_sorted(sorted_list):\n",
        "    print(\"List is sorted\")\n",
        "else:\n",
        "    print(\"List is not sorted\")\n"
      ],
      "metadata": {
        "colab": {
          "base_uri": "https://localhost:8080/"
        },
        "id": "HzPKEGA5iR83",
        "outputId": "f1689ba4-a0cf-42cb-e870-aebd4638f0a9"
      },
      "execution_count": 11,
      "outputs": [
        {
          "output_type": "stream",
          "name": "stdout",
          "text": [
            "List is sorted\n"
          ]
        }
      ]
    },
    {
      "cell_type": "markdown",
      "source": [
        "**17. Write a Python program to find the intersection of two lists.**"
      ],
      "metadata": {
        "id": "AesrvRhQIYqN"
      }
    },
    {
      "cell_type": "code",
      "source": [
        "def find_intersection(list1, list2):\n",
        "    intersection = []\n",
        "    for element in list1:\n",
        "        if element in list2 and element not in intersection:\n",
        "            intersection.append(element)\n",
        "    return intersection\n",
        "\n",
        "# Example usage\n",
        "list1 = [1, 2, 3, 4, 5]\n",
        "list2 = [4, 5, 6, 7, 8]\n",
        "intersection = find_intersection(list1, list2)\n",
        "print(\"Intersection:\", intersection)\n"
      ],
      "metadata": {
        "colab": {
          "base_uri": "https://localhost:8080/"
        },
        "id": "8hRS-SmdiVOO",
        "outputId": "5777e4ad-c604-4d3f-c4f3-cefcc4ada84c"
      },
      "execution_count": 12,
      "outputs": [
        {
          "output_type": "stream",
          "name": "stdout",
          "text": [
            "Intersection: [4, 5]\n"
          ]
        }
      ]
    },
    {
      "cell_type": "markdown",
      "source": [
        "**18. Implement a function to find the maximum subarray sum in a given list.**"
      ],
      "metadata": {
        "id": "ottPuzNiIYtY"
      }
    },
    {
      "cell_type": "code",
      "source": [
        "def find_maximum_subarray_sum(lst):\n",
        "    max_sum = float('-inf')\n",
        "    current_sum = 0\n",
        "    for num in lst:\n",
        "        current_sum += num\n",
        "        if current_sum > max_sum:\n",
        "            max_sum = current_sum\n",
        "        if current_sum < 0:\n",
        "            current_sum = 0\n",
        "    return max_sum\n",
        "\n",
        "# Example usage\n",
        "numbers = [-2, 1, -3, 4, -1, 2, 1, -5, 4]\n",
        "max_subarray_sum = find_maximum_subarray_sum(numbers)\n",
        "print(\"Maximum subarray sum:\", max_subarray_sum)\n"
      ],
      "metadata": {
        "colab": {
          "base_uri": "https://localhost:8080/"
        },
        "id": "f5OQBJbTiY0K",
        "outputId": "b6cab34c-33fd-4c81-fd3a-fa8e102c8e2c"
      },
      "execution_count": 13,
      "outputs": [
        {
          "output_type": "stream",
          "name": "stdout",
          "text": [
            "Maximum subarray sum: 6\n"
          ]
        }
      ]
    },
    {
      "cell_type": "markdown",
      "source": [
        "**19. Write a program to remove all vowels from a given string.**"
      ],
      "metadata": {
        "id": "45fnMTvjIYwi"
      }
    },
    {
      "cell_type": "code",
      "source": [
        "def remove_vowels(string):\n",
        "    vowels = 'aeiouAEIOU'\n",
        "    return ''.join(char for char in string if char not in vowels)\n",
        "\n",
        "# Example usage\n",
        "text = \"Hello, World!\"\n",
        "result = remove_vowels(text)\n",
        "print(\"Result:\", result)\n"
      ],
      "metadata": {
        "colab": {
          "base_uri": "https://localhost:8080/"
        },
        "id": "9X7quK_9ie0O",
        "outputId": "294fe9c0-7260-469f-bb98-265863925b78"
      },
      "execution_count": 14,
      "outputs": [
        {
          "output_type": "stream",
          "name": "stdout",
          "text": [
            "Result: Hll, Wrld!\n"
          ]
        }
      ]
    },
    {
      "cell_type": "markdown",
      "source": [
        "**20. Implement a function to reverse the order of words in a given sentence.**"
      ],
      "metadata": {
        "id": "zgEfCEfTIYzd"
      }
    },
    {
      "cell_type": "code",
      "source": [
        "def reverse_words(sentence):\n",
        "    words = sentence.split()\n",
        "    reversed_words = words[::-1]\n",
        "    return ' '.join(reversed_words)\n",
        "\n",
        "# Example usage\n",
        "sentence = \"Hello World, How are you?\"\n",
        "reversed_sentence = reverse_words(sentence)\n",
        "print(\"Reversed sentence:\", reversed_sentence)\n"
      ],
      "metadata": {
        "colab": {
          "base_uri": "https://localhost:8080/"
        },
        "id": "ek8PqRtAiobm",
        "outputId": "a9edb75a-cad8-4a05-bedf-5b07595363eb"
      },
      "execution_count": 15,
      "outputs": [
        {
          "output_type": "stream",
          "name": "stdout",
          "text": [
            "Reversed sentence: you? are How World, Hello\n"
          ]
        }
      ]
    },
    {
      "cell_type": "markdown",
      "source": [
        "**21. Write a Python program to check if two strings are anagrams of each other.**"
      ],
      "metadata": {
        "id": "nEccAyo8IY20"
      }
    },
    {
      "cell_type": "code",
      "source": [
        "def are_anagrams(str1, str2):\n",
        "    str1 = str1.lower()\n",
        "    str2 = str2.lower()\n",
        "    return sorted(str1) == sorted(str2)\n",
        "\n",
        "# Example usage\n",
        "string1 = \"listen\"\n",
        "string2 = \"silent\"\n",
        "if are_anagrams(string1, string2):\n",
        "    print(\"Anagrams\")\n",
        "else:\n",
        "    print(\"Not anagrams\")\n"
      ],
      "metadata": {
        "colab": {
          "base_uri": "https://localhost:8080/"
        },
        "id": "FTgR-7pLjA2n",
        "outputId": "11ccc882-ac1c-4da4-a9fc-67646481d9e4"
      },
      "execution_count": 16,
      "outputs": [
        {
          "output_type": "stream",
          "name": "stdout",
          "text": [
            "Anagrams\n"
          ]
        }
      ]
    },
    {
      "cell_type": "markdown",
      "source": [
        "**22. Implement a function to find the first non-repeating character in a string.**"
      ],
      "metadata": {
        "id": "r239QItRIY56"
      }
    },
    {
      "cell_type": "code",
      "source": [
        "def find_first_non_repeating_char(string):\n",
        "    char_counts = {}\n",
        "    for char in string:\n",
        "        char_counts[char] = char_counts.get(char, 0) + 1\n",
        "    for char in string:\n",
        "        if char_counts[char] == 1:\n",
        "            return char\n",
        "    return None\n",
        "\n",
        "# Example usage\n",
        "text = \"abracadabra\"\n",
        "result = find_first_non_repeating_char(text)\n",
        "print(\"First non-repeating character:\", result)\n"
      ],
      "metadata": {
        "colab": {
          "base_uri": "https://localhost:8080/"
        },
        "id": "PrgF5_VhjDwg",
        "outputId": "17bdfbea-7f68-4db6-9ca4-f831dfa87d16"
      },
      "execution_count": 17,
      "outputs": [
        {
          "output_type": "stream",
          "name": "stdout",
          "text": [
            "First non-repeating character: c\n"
          ]
        }
      ]
    },
    {
      "cell_type": "markdown",
      "source": [
        "**23. Write a program to find the prime factors of a given number.**"
      ],
      "metadata": {
        "id": "FJPxmAmWIY9J"
      }
    },
    {
      "cell_type": "code",
      "source": [
        "def find_prime_factors(n):\n",
        "    factors = []\n",
        "    i = 2\n",
        "    while i * i <= n:\n",
        "        if n % i:\n",
        "            i += 1\n",
        "        else:\n",
        "            n //= i\n",
        "            factors.append(i)\n",
        "    if n > 1:\n",
        "        factors.append(n)\n",
        "    return factors\n",
        "\n",
        "# Example usage\n",
        "number = 60\n",
        "prime_factors = find_prime_factors(number)\n",
        "print(\"Prime factors of\", number, \":\", prime_factors)\n"
      ],
      "metadata": {
        "colab": {
          "base_uri": "https://localhost:8080/"
        },
        "id": "uKunseILjHbv",
        "outputId": "91134566-504b-4553-f2e2-0e60a1309740"
      },
      "execution_count": 18,
      "outputs": [
        {
          "output_type": "stream",
          "name": "stdout",
          "text": [
            "Prime factors of 60 : [2, 2, 3, 5]\n"
          ]
        }
      ]
    },
    {
      "cell_type": "markdown",
      "source": [
        "**24. Implement a function to check if a given number is a power of two.**"
      ],
      "metadata": {
        "id": "YJS0qpUpIZAh"
      }
    },
    {
      "cell_type": "code",
      "source": [
        "def is_power_of_two(n):\n",
        "    if n <= 0:\n",
        "        return False\n",
        "    return (n & (n - 1)) == 0\n",
        "\n",
        "# Example usage\n",
        "number = 16\n",
        "if is_power_of_two(number):\n",
        "    print(number, \"is a power of two\")\n",
        "else:\n",
        "    print(number, \"is not a power of two\")\n"
      ],
      "metadata": {
        "colab": {
          "base_uri": "https://localhost:8080/"
        },
        "id": "x7jEh6KvjZhv",
        "outputId": "8e664097-0fcb-4d86-d9ab-4fca2b285da2"
      },
      "execution_count": 19,
      "outputs": [
        {
          "output_type": "stream",
          "name": "stdout",
          "text": [
            "16 is a power of two\n"
          ]
        }
      ]
    },
    {
      "cell_type": "markdown",
      "source": [
        "**25. Write a Python program to merge two sorted lists into a single sorted list.**"
      ],
      "metadata": {
        "id": "CzqUwyNsIZD0"
      }
    },
    {
      "cell_type": "code",
      "source": [
        "def merge_sorted_lists(list1, list2):\n",
        "    merged_list = []\n",
        "    i = j = 0\n",
        "    while i < len(list1) and j < len(list2):\n",
        "        if list1[i] <= list2[j]:\n",
        "            merged_list.append(list1[i])\n",
        "            i += 1\n",
        "        else:\n",
        "            merged_list.append(list2[j])\n",
        "            j += 1\n",
        "    merged_list.extend(list1[i:])\n",
        "    merged_list.extend(list2[j:])\n",
        "    return merged_list\n",
        "\n",
        "# Example usage\n",
        "list1 = [1, 3, 5, 7]\n",
        "list2 = [2, 4, 6, 8]\n",
        "merged_list = merge_sorted_lists(list1, list2)\n",
        "print(\"Merged list:\", merged_list)\n"
      ],
      "metadata": {
        "colab": {
          "base_uri": "https://localhost:8080/"
        },
        "id": "0UnNNua5jjMK",
        "outputId": "00c5bc70-ff07-445e-de97-968f3e8b0aae"
      },
      "execution_count": 20,
      "outputs": [
        {
          "output_type": "stream",
          "name": "stdout",
          "text": [
            "Merged list: [1, 2, 3, 4, 5, 6, 7, 8]\n"
          ]
        }
      ]
    },
    {
      "cell_type": "markdown",
      "source": [
        "**26. Implement a function to find the mode of a list of numbers.**"
      ],
      "metadata": {
        "id": "mrKyg3fCIZG-"
      }
    },
    {
      "cell_type": "code",
      "source": [
        "from collections import Counter\n",
        "\n",
        "def find_mode(lst):\n",
        "    counter = Counter(lst)\n",
        "    max_count = max(counter.values())\n",
        "    mode = [num for num, count in counter.items() if count == max_count]\n",
        "    return mode\n",
        "\n",
        "# Example usage\n",
        "numbers = [1, 2, 3, 2, 4, 5, 2]\n",
        "mode = find_mode(numbers)\n",
        "print(\"Mode:\", mode)\n"
      ],
      "metadata": {
        "colab": {
          "base_uri": "https://localhost:8080/"
        },
        "id": "n4u3Vd6-jkns",
        "outputId": "49e7fa79-113c-4a14-81d2-0b26e9f859ca"
      },
      "execution_count": 21,
      "outputs": [
        {
          "output_type": "stream",
          "name": "stdout",
          "text": [
            "Mode: [2]\n"
          ]
        }
      ]
    },
    {
      "cell_type": "markdown",
      "source": [
        "**27. Write a program to find the greatest common divisor (GCD) of two numbers.**"
      ],
      "metadata": {
        "id": "zUwCsHfKIZKE"
      }
    },
    {
      "cell_type": "code",
      "source": [
        "def find_gcd(a, b):\n",
        "    while b:\n",
        "        a, b = b, a % b\n",
        "    return a\n",
        "\n",
        "# Example usage\n",
        "num1 = 48\n",
        "num2 = 60\n",
        "gcd = find_gcd(num1, num2)\n",
        "print(\"GCD:\", gcd)\n"
      ],
      "metadata": {
        "colab": {
          "base_uri": "https://localhost:8080/"
        },
        "id": "FIpWAuM8jsWe",
        "outputId": "f532e6a1-7346-4dcf-e992-62dba5b70186"
      },
      "execution_count": 22,
      "outputs": [
        {
          "output_type": "stream",
          "name": "stdout",
          "text": [
            "GCD: 12\n"
          ]
        }
      ]
    },
    {
      "cell_type": "markdown",
      "source": [
        "**28. Implement a function to calculate the square root of a given number.**\n"
      ],
      "metadata": {
        "id": "nbbgrQRjIZNN"
      }
    },
    {
      "cell_type": "code",
      "source": [
        "def calculate_square_root(n):\n",
        "    if n < 0:\n",
        "        raise ValueError(\"Square root is not defined for negative numbers\")\n",
        "    guess = n\n",
        "    while abs(guess * guess - n) > 1e-6:\n",
        "        guess = (guess + n / guess) / 2\n",
        "    return guess\n",
        "\n",
        "# Example usage\n",
        "number = 25\n",
        "square_root = calculate_square_root(number)\n",
        "print(\"Square root of\", number, \":\", square_root)\n"
      ],
      "metadata": {
        "colab": {
          "base_uri": "https://localhost:8080/"
        },
        "id": "ur0rnSLkjtmz",
        "outputId": "2c691eda-9e5b-4c9d-c6c4-245f7c26c05a"
      },
      "execution_count": 23,
      "outputs": [
        {
          "output_type": "stream",
          "name": "stdout",
          "text": [
            "Square root of 25 : 5.000000000053722\n"
          ]
        }
      ]
    },
    {
      "cell_type": "markdown",
      "source": [
        "**29. Write a Python program to check if a given string is a valid palindrome ignoring non-alphanumeric characters.**"
      ],
      "metadata": {
        "id": "rsEEqgeOIZQq"
      }
    },
    {
      "cell_type": "code",
      "source": [
        "import re\n",
        "\n",
        "def is_valid_palindrome(string):\n",
        "    alphanumeric_string = re.sub('[\\W_]', '', string.lower())\n",
        "    return alphanumeric_string == alphanumeric_string[::-1]\n",
        "\n",
        "# Example usage\n",
        "text = \"A man, a plan, a canal: Panama\"\n",
        "if is_valid_palindrome(text):\n",
        "    print(\"Valid palindrome\")\n",
        "else:\n",
        "    print(\"Not a valid palindrome\")\n"
      ],
      "metadata": {
        "colab": {
          "base_uri": "https://localhost:8080/"
        },
        "id": "bXP9eoJKjzTh",
        "outputId": "e00c4760-0a54-46f6-d7b2-22e1440a2197"
      },
      "execution_count": 24,
      "outputs": [
        {
          "output_type": "stream",
          "name": "stdout",
          "text": [
            "Valid palindrome\n"
          ]
        }
      ]
    },
    {
      "cell_type": "markdown",
      "source": [
        "**30. Implement a function to find the minimum element in a rotated sorted list.**"
      ],
      "metadata": {
        "id": "cD34yPQeIZT-"
      }
    },
    {
      "cell_type": "code",
      "source": [
        "def find_minimum_in_rotated_sorted(nums):\n",
        "    left = 0\n",
        "    right = len(nums) - 1\n",
        "\n",
        "    while left < right:\n",
        "        mid = (left + right) // 2\n",
        "\n",
        "        if nums[mid] > nums[right]:\n",
        "            left = mid + 1\n",
        "        else:\n",
        "            right = mid\n",
        "\n",
        "    return nums[left]\n",
        "\n",
        "# Example usage\n",
        "rotated_list = [4, 5, 6, 7, 0, 1, 2]\n",
        "minimum = find_minimum_in_rotated_sorted(rotated_list)\n",
        "print(\"Minimum element:\", minimum)\n"
      ],
      "metadata": {
        "colab": {
          "base_uri": "https://localhost:8080/"
        },
        "id": "MkTL58brkWCf",
        "outputId": "42b379d9-ac58-47e1-d6e3-cfce03d27e66"
      },
      "execution_count": 25,
      "outputs": [
        {
          "output_type": "stream",
          "name": "stdout",
          "text": [
            "Minimum element: 0\n"
          ]
        }
      ]
    },
    {
      "cell_type": "markdown",
      "source": [
        "**31. Write a program to find the sum of all even numbers in a list.**"
      ],
      "metadata": {
        "id": "6far4wReIZXH"
      }
    },
    {
      "cell_type": "code",
      "source": [
        "def sum_of_even_numbers(numbers):\n",
        "    return sum(num for num in numbers if num % 2 == 0)\n",
        "\n",
        "# Example usage\n",
        "nums = [1, 2, 3, 4, 5, 6, 7, 8, 9, 10]\n",
        "even_sum = sum_of_even_numbers(nums)\n",
        "print(\"Sum of even numbers:\", even_sum)\n"
      ],
      "metadata": {
        "colab": {
          "base_uri": "https://localhost:8080/"
        },
        "id": "DRXTmWG5lTtR",
        "outputId": "4f62f203-9aab-4db4-d0d7-a74f81c1b67a"
      },
      "execution_count": 26,
      "outputs": [
        {
          "output_type": "stream",
          "name": "stdout",
          "text": [
            "Sum of even numbers: 30\n"
          ]
        }
      ]
    },
    {
      "cell_type": "markdown",
      "source": [
        "**32. Implement a function to calculate the power of a number using recursion.**"
      ],
      "metadata": {
        "id": "F9NYZMgXIZaN"
      }
    },
    {
      "cell_type": "code",
      "source": [
        "def power(base, exponent):\n",
        "    if exponent == 0:\n",
        "        return 1\n",
        "    elif exponent > 0:\n",
        "        return base * power(base, exponent - 1)\n",
        "    else:\n",
        "        return 1 / (base * power(base, -exponent - 1))\n",
        "\n",
        "# Example usage\n",
        "base = 2\n",
        "exponent = 3\n",
        "result = power(base, exponent)\n",
        "print(base, \"raised to the power of\", exponent, \":\", result)\n"
      ],
      "metadata": {
        "colab": {
          "base_uri": "https://localhost:8080/"
        },
        "id": "o3FWgw1klYI3",
        "outputId": "2d8a11f6-f0ce-4474-de18-f796f8603163"
      },
      "execution_count": 27,
      "outputs": [
        {
          "output_type": "stream",
          "name": "stdout",
          "text": [
            "2 raised to the power of 3 : 8\n"
          ]
        }
      ]
    },
    {
      "cell_type": "markdown",
      "source": [
        "**33. Write a Python program to remove duplicates from a list while preserving the order.**"
      ],
      "metadata": {
        "id": "RB1qaPBhIZdN"
      }
    },
    {
      "cell_type": "code",
      "source": [
        "def remove_duplicates(lst):\n",
        "    unique_list = []\n",
        "    seen = set()\n",
        "\n",
        "    for item in lst:\n",
        "        if item not in seen:\n",
        "            unique_list.append(item)\n",
        "            seen.add(item)\n",
        "\n",
        "    return unique_list\n",
        "\n",
        "# Example usage\n",
        "numbers = [1, 2, 3, 2, 4, 5, 1, 3]\n",
        "result = remove_duplicates(numbers)\n",
        "print(\"List with duplicates removed:\", result)\n"
      ],
      "metadata": {
        "colab": {
          "base_uri": "https://localhost:8080/"
        },
        "id": "yVEFe8etlbXE",
        "outputId": "2dc92896-a398-40b0-b8e6-8274c5d49d35"
      },
      "execution_count": 28,
      "outputs": [
        {
          "output_type": "stream",
          "name": "stdout",
          "text": [
            "List with duplicates removed: [1, 2, 3, 4, 5]\n"
          ]
        }
      ]
    },
    {
      "cell_type": "markdown",
      "source": [
        "**34. Implement a function to find the longest common prefix among a list of strings.**"
      ],
      "metadata": {
        "id": "zeP8_Jx0IZij"
      }
    },
    {
      "cell_type": "code",
      "source": [
        "def longest_common_prefix(strings):\n",
        "    if not strings:\n",
        "        return \"\"\n",
        "\n",
        "    prefix = strings[0]\n",
        "\n",
        "    for string in strings[1:]:\n",
        "        while string[:len(prefix)] != prefix:\n",
        "            prefix = prefix[:-1]\n",
        "\n",
        "            if not prefix:\n",
        "                return \"\"\n",
        "\n",
        "    return prefix\n",
        "\n",
        "# Example usage\n",
        "words = [\"flower\", \"flow\", \"flight\"]\n",
        "common_prefix = longest_common_prefix(words)\n",
        "print(\"Longest common prefix:\", common_prefix)\n"
      ],
      "metadata": {
        "colab": {
          "base_uri": "https://localhost:8080/"
        },
        "id": "8Cb9ah4KlqQs",
        "outputId": "3131d83a-cff5-4d3c-8242-80f96dd699c6"
      },
      "execution_count": 29,
      "outputs": [
        {
          "output_type": "stream",
          "name": "stdout",
          "text": [
            "Longest common prefix: fl\n"
          ]
        }
      ]
    },
    {
      "cell_type": "markdown",
      "source": [
        "**35. Write a program to check if a given number is a perfect square.**"
      ],
      "metadata": {
        "id": "zkHiw4b6IZl8"
      }
    },
    {
      "cell_type": "code",
      "source": [
        "def is_perfect_square(num):\n",
        "    if num < 0:\n",
        "        return False\n",
        "\n",
        "    root = int(num ** 0.5)\n",
        "    return root * root == num\n",
        "\n",
        "# Example usage\n",
        "number = 16\n",
        "if is_perfect_square(number):\n",
        "    print(\"The number is a perfect square\")\n",
        "else:\n",
        "    print(\"The number is not a perfect square\")\n"
      ],
      "metadata": {
        "colab": {
          "base_uri": "https://localhost:8080/"
        },
        "id": "CdJO0SLJlrnV",
        "outputId": "fd36b221-dc76-4114-df2e-20bdb5f044bd"
      },
      "execution_count": 30,
      "outputs": [
        {
          "output_type": "stream",
          "name": "stdout",
          "text": [
            "The number is a perfect square\n"
          ]
        }
      ]
    },
    {
      "cell_type": "markdown",
      "source": [
        "**36. Implement a function to calculate the product of all elements in a list.**"
      ],
      "metadata": {
        "id": "dygB3bLdIZpW"
      }
    },
    {
      "cell_type": "code",
      "source": [
        "def product_of_elements(numbers):\n",
        "    product = 1\n",
        "\n",
        "    for num in numbers:\n",
        "        product *= num\n",
        "\n",
        "    return product\n",
        "\n",
        "# Example usage\n",
        "nums = [1, 2, 3, 4, 5]\n",
        "result = product_of_elements(nums)\n",
        "print(\"Product of elements:\", result)\n"
      ],
      "metadata": {
        "colab": {
          "base_uri": "https://localhost:8080/"
        },
        "id": "fnAiBX1llvvH",
        "outputId": "65a9576f-89a7-467a-b455-6f9d6ce3e7fb"
      },
      "execution_count": 31,
      "outputs": [
        {
          "output_type": "stream",
          "name": "stdout",
          "text": [
            "Product of elements: 120\n"
          ]
        }
      ]
    },
    {
      "cell_type": "markdown",
      "source": [
        "**37. Write a Python program to reverse the order of words in a sentence while preserving the word order.**"
      ],
      "metadata": {
        "id": "MoIAfk46IZsy"
      }
    },
    {
      "cell_type": "code",
      "source": [
        "def reverse_sentence(sentence):\n",
        "    words = sentence.split()\n",
        "    reversed_words = words[::-1]\n",
        "    reversed_sentence = \" \".join(reversed_words)\n",
        "    return reversed_sentence\n",
        "\n",
        "# Example usage\n",
        "text = \"Hello, world! How are you?\"\n",
        "reversed_text = reverse_sentence(text)\n",
        "print(\"Reversed sentence:\", reversed_text)\n"
      ],
      "metadata": {
        "colab": {
          "base_uri": "https://localhost:8080/"
        },
        "id": "dFcUOfYRlyS7",
        "outputId": "8138c337-af41-41d0-c0b3-a75c528ee760"
      },
      "execution_count": 32,
      "outputs": [
        {
          "output_type": "stream",
          "name": "stdout",
          "text": [
            "Reversed sentence: you? are How world! Hello,\n"
          ]
        }
      ]
    },
    {
      "cell_type": "markdown",
      "source": [
        "**38. Implement a function to find the missing number in a given list of consecutive numbers.**"
      ],
      "metadata": {
        "id": "Sv8W7KyxIZwe"
      }
    },
    {
      "cell_type": "code",
      "source": [
        "def find_missing_number(numbers):\n",
        "    n = len(numbers) + 1\n",
        "    expected_sum = n * (n + 1) // 2\n",
        "    actual_sum = sum(numbers)\n",
        "    missing_number = expected_sum - actual_sum\n",
        "    return missing_number\n",
        "\n",
        "# Example usage\n",
        "sequence = [1, 2, 3, 5, 6, 7]\n",
        "missing_num = find_missing_number(sequence)\n",
        "print(\"Missing number:\", missing_num)\n"
      ],
      "metadata": {
        "colab": {
          "base_uri": "https://localhost:8080/"
        },
        "id": "QXXAJsB4l0dL",
        "outputId": "44e8ddb6-fd86-416f-f687-c63d0ecfd71d"
      },
      "execution_count": 33,
      "outputs": [
        {
          "output_type": "stream",
          "name": "stdout",
          "text": [
            "Missing number: 4\n"
          ]
        }
      ]
    },
    {
      "cell_type": "markdown",
      "source": [
        "**39. Write a program to find the sum of digits of a given number.**"
      ],
      "metadata": {
        "id": "7goWObyWIZz7"
      }
    },
    {
      "cell_type": "code",
      "source": [
        "def sum_of_digits(number):\n",
        "    digit_sum = 0\n",
        "\n",
        "    while number > 0:\n",
        "        digit_sum += number % 10\n",
        "        number //= 10\n",
        "\n",
        "    return digit_sum\n",
        "\n",
        "# Example usage\n",
        "num = 12345\n",
        "sum_digits = sum_of_digits(num)\n",
        "print(\"Sum of digits:\", sum_digits)\n"
      ],
      "metadata": {
        "colab": {
          "base_uri": "https://localhost:8080/"
        },
        "id": "qwHcMKNJl86u",
        "outputId": "f66e575c-eebd-4271-adc5-6f93914312a5"
      },
      "execution_count": 34,
      "outputs": [
        {
          "output_type": "stream",
          "name": "stdout",
          "text": [
            "Sum of digits: 15\n"
          ]
        }
      ]
    },
    {
      "cell_type": "markdown",
      "source": [
        "**40. Implement a function to check if a given string is a valid palindrome considering case sensitivity.**"
      ],
      "metadata": {
        "id": "LZzuzC5BIZ3b"
      }
    },
    {
      "cell_type": "code",
      "source": [
        "def is_valid_palindrome(string):\n",
        "    # Remove non-alphanumeric characters and convert to lowercase\n",
        "    string = ''.join(ch.lower() for ch in string if ch.isalnum())\n",
        "\n",
        "    # Check if the string is a palindrome\n",
        "    return string == string[::-1]\n",
        "\n",
        "# Example usage\n",
        "text = \"A man, a plan, a canal: Panama\"\n",
        "if is_valid_palindrome(text):\n",
        "    print(\"The string is a valid palindrome\")\n",
        "else:\n",
        "    print(\"The string is not a valid palindrome\")\n"
      ],
      "metadata": {
        "colab": {
          "base_uri": "https://localhost:8080/"
        },
        "id": "HHlHE_7qlAwY",
        "outputId": "7bf8b5e9-c148-40a2-e4a5-84cd500ea2e8"
      },
      "execution_count": 35,
      "outputs": [
        {
          "output_type": "stream",
          "name": "stdout",
          "text": [
            "The string is a valid palindrome\n"
          ]
        }
      ]
    },
    {
      "cell_type": "markdown",
      "source": [
        "**41. Write a Python program to find the smallest missing positive integer in a list.**"
      ],
      "metadata": {
        "id": "rA_CCJpKIZ62"
      }
    },
    {
      "cell_type": "code",
      "source": [
        "def find_smallest_missing_positive(numbers):\n",
        "    n = len(numbers)\n",
        "\n",
        "    # Separate positive numbers from non-positive numbers\n",
        "    i = 0\n",
        "    for j in range(n):\n",
        "        if numbers[j] > 0:\n",
        "            numbers[i], numbers[j] = numbers[j], numbers[i]\n",
        "            i += 1\n",
        "\n",
        "    # Consider only positive numbers from index 0 to i\n",
        "    positive_numbers = numbers[:i]\n",
        "\n",
        "    # Mark presence of positive numbers using negative indices\n",
        "    for num in positive_numbers:\n",
        "        index = abs(num) - 1\n",
        "        if index < i:\n",
        "            positive_numbers[index] = -abs(positive_numbers[index])\n",
        "\n",
        "    # Find the smallest missing positive integer\n",
        "    for j in range(i):\n",
        "        if positive_numbers[j] > 0:\n",
        "            return j + 1\n",
        "\n",
        "    return i + 1\n",
        "\n",
        "# Example usage\n",
        "nums = [3, 4, -1, 1]\n",
        "smallest_missing = find_smallest_missing_positive(nums)\n",
        "print(\"Smallest missing positive integer:\", smallest_missing)\n"
      ],
      "metadata": {
        "colab": {
          "base_uri": "https://localhost:8080/"
        },
        "id": "u6Y422Y7mGD1",
        "outputId": "78b0b229-4302-4ee5-ba81-47a8abf1df40"
      },
      "execution_count": 36,
      "outputs": [
        {
          "output_type": "stream",
          "name": "stdout",
          "text": [
            "Smallest missing positive integer: 2\n"
          ]
        }
      ]
    },
    {
      "cell_type": "markdown",
      "source": [
        "**42. Implement a function to find the longest palindrome substring in a given string.**"
      ],
      "metadata": {
        "id": "RFmsgCB8IZ-V"
      }
    },
    {
      "cell_type": "code",
      "source": [
        "def longest_palindrome_substring(string):\n",
        "    longest = \"\"\n",
        "\n",
        "    for i in range(len(string)):\n",
        "        for j in range(i, len(string)):\n",
        "            substring = string[i:j+1]\n",
        "            if substring == substring[::-1] and len(substring) > len(longest):\n",
        "                longest = substring\n",
        "\n",
        "    return longest\n",
        "\n",
        "# Example usage\n",
        "text = \"babad\"\n",
        "longest_substring = longest_palindrome_substring(text)\n",
        "print(\"Longest palindrome substring:\", longest_substring)\n"
      ],
      "metadata": {
        "colab": {
          "base_uri": "https://localhost:8080/"
        },
        "id": "qMNGXWu0mXzv",
        "outputId": "4e977acd-920d-4bab-8cf9-ab7a96da2b5d"
      },
      "execution_count": 37,
      "outputs": [
        {
          "output_type": "stream",
          "name": "stdout",
          "text": [
            "Longest palindrome substring: bab\n"
          ]
        }
      ]
    },
    {
      "cell_type": "markdown",
      "source": [
        "**43. Write a program to find the number of occurrences of a given element in a list.**"
      ],
      "metadata": {
        "id": "T7p4lNFxIaBd"
      }
    },
    {
      "cell_type": "code",
      "source": [
        "def count_occurrences(lst, element):\n",
        "    count = 0\n",
        "\n",
        "    for item in lst:\n",
        "        if item == element:\n",
        "            count += 1\n",
        "\n",
        "    return count\n",
        "\n",
        "# Example usage\n",
        "numbers = [1, 2, 3, 4, 2, 2, 5, 6, 2]\n",
        "target = 2\n",
        "occurrences = count_occurrences(numbers, target)\n",
        "print(\"Number of occurrences:\", occurrences)\n"
      ],
      "metadata": {
        "colab": {
          "base_uri": "https://localhost:8080/"
        },
        "id": "urt-LuLQmykw",
        "outputId": "4439ed39-d2e3-495a-aff1-8c72e62a9a4a"
      },
      "execution_count": 40,
      "outputs": [
        {
          "output_type": "stream",
          "name": "stdout",
          "text": [
            "Number of occurrences: 4\n"
          ]
        }
      ]
    },
    {
      "cell_type": "markdown",
      "source": [
        "**44. Implement a function to check if a given number is a perfect number.**"
      ],
      "metadata": {
        "id": "ztu5VxJ1IaFQ"
      }
    },
    {
      "cell_type": "code",
      "source": [
        "def is_perfect_number(number):\n",
        "    if number <= 0:\n",
        "        return False\n",
        "\n",
        "    divisor_sum = 0\n",
        "    for i in range(1, number):\n",
        "        if number % i == 0:\n",
        "            divisor_sum += i\n",
        "\n",
        "    return divisor_sum == number\n",
        "\n",
        "# Example usage\n",
        "num = 28\n",
        "if is_perfect_number(num):\n",
        "    print(\"The number is a perfect number\")\n",
        "else:\n",
        "    print(\"The number is not a perfect number\")\n"
      ],
      "metadata": {
        "colab": {
          "base_uri": "https://localhost:8080/"
        },
        "id": "eUy5HUaomd4z",
        "outputId": "c1516559-0ca6-4756-82c8-f9194d98b7de"
      },
      "execution_count": 38,
      "outputs": [
        {
          "output_type": "stream",
          "name": "stdout",
          "text": [
            "The number is a perfect number\n"
          ]
        }
      ]
    },
    {
      "cell_type": "markdown",
      "source": [
        "**45. Write a Python program to remove all duplicates from a string.**"
      ],
      "metadata": {
        "id": "pOqsJ8vYIaI8"
      }
    },
    {
      "cell_type": "code",
      "source": [
        "def remove_duplicates(string):\n",
        "    unique_chars = \"\"\n",
        "\n",
        "    for ch in string:\n",
        "        if ch not in unique_chars:\n",
        "            unique_chars += ch\n",
        "\n",
        "    return unique_chars\n",
        "\n",
        "# Example usage\n",
        "text = \"hello\"\n",
        "result = remove_duplicates(text)\n",
        "print(\"String with duplicates removed:\", result)\n"
      ],
      "metadata": {
        "colab": {
          "base_uri": "https://localhost:8080/"
        },
        "id": "LNsG72PWmhrC",
        "outputId": "3de55fd6-1910-424a-8184-bb6c38c53964"
      },
      "execution_count": 39,
      "outputs": [
        {
          "output_type": "stream",
          "name": "stdout",
          "text": [
            "String with duplicates removed: helo\n"
          ]
        }
      ]
    },
    {
      "cell_type": "markdown",
      "source": [
        "**46. Implement a function to find the first missing positive**"
      ],
      "metadata": {
        "id": "xne7lGtVIaMj"
      }
    },
    {
      "cell_type": "code",
      "source": [
        "def find_first_missing_positive(nums):\n",
        "    n = len(nums)\n",
        "\n",
        "    # Rearrange the list by swapping elements to their correct positions\n",
        "    i = 0\n",
        "    while i < n:\n",
        "        # If the current number is positive and within the valid range\n",
        "        if 1 <= nums[i] <= n and nums[i] != nums[nums[i] - 1]:\n",
        "            # Swap the current number to its correct position\n",
        "            nums[nums[i] - 1], nums[i] = nums[i], nums[nums[i] - 1]\n",
        "        else:\n",
        "            i += 1\n",
        "\n",
        "    # Find the first missing positive number\n",
        "    for i in range(n):\n",
        "        if nums[i] != i + 1:\n",
        "            return i + 1\n",
        "\n",
        "    # If all positive numbers are present, the missing positive is n + 1\n",
        "    return n + 1\n",
        "\n",
        "# Example usage\n",
        "numbers = [3, 4, -1, 1]\n",
        "missing_positive = find_first_missing_positive(numbers)\n",
        "print(\"First missing positive:\", missing_positive)\n"
      ],
      "metadata": {
        "colab": {
          "base_uri": "https://localhost:8080/"
        },
        "id": "s7KYS8qDm3eU",
        "outputId": "56a6c536-5a11-49d5-a494-c3a5489391b0"
      },
      "execution_count": 41,
      "outputs": [
        {
          "output_type": "stream",
          "name": "stdout",
          "text": [
            "First missing positive: 2\n"
          ]
        }
      ]
    }
  ]
}