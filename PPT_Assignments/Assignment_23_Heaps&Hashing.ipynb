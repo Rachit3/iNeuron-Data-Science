{
  "nbformat": 4,
  "nbformat_minor": 0,
  "metadata": {
    "colab": {
      "provenance": []
    },
    "kernelspec": {
      "name": "python3",
      "display_name": "Python 3"
    },
    "language_info": {
      "name": "python"
    }
  },
  "cells": [
    {
      "cell_type": "markdown",
      "source": [
        " Question-1:\n",
        "\n",
        "Given preorder of a binary tree, calculate its **[depth(or height)](https://www.geeksforgeeks.org/write-a-c-program-to-find-the-maximum-depth-or-height-of-a-tree/)** [starting from depth 0]. The preorder is given as a string with two possible characters.\n",
        "\n",
        "1. ‘l’ denotes the leaf\n",
        "2. ‘n’ denotes internal node\n",
        "\n",
        "The given tree can be seen as a full binary tree where every node has 0 or two children. The two children of a node can ‘n’ or ‘l’ or mix of both.\n",
        "\n",
        "**Examples :**\n",
        "\n",
        "Input  : nlnll\n",
        "Output : 2\n",
        "Explanation :\n",
        "\n",
        "\n",
        "Input  : nlnnlll\n",
        "Output : 3"
      ],
      "metadata": {
        "id": "WH58ckHhzdpA"
      }
    },
    {
      "cell_type": "code",
      "execution_count": 4,
      "metadata": {
        "colab": {
          "base_uri": "https://localhost:8080/"
        },
        "id": "tFBh7x2my_R9",
        "outputId": "ae4ddb0f-16d3-4a98-f275-040e27a18b92"
      },
      "outputs": [
        {
          "output_type": "stream",
          "name": "stdout",
          "text": [
            "Example 1:\n",
            "Preorder: nlnll\n",
            "Depth: 1\n",
            "Example 2:\n",
            "Preorder: nlnnlll\n",
            "Depth: 2\n"
          ]
        }
      ],
      "source": [
        "def calculateDepth(preorder):\n",
        "    depth = 0\n",
        "    max_depth = 0\n",
        "\n",
        "    for ch in preorder:\n",
        "        if ch == 'n':\n",
        "            depth += 1\n",
        "            max_depth = max(max_depth, depth)\n",
        "        elif ch == 'l':\n",
        "            depth -= 1\n",
        "\n",
        "    return max_depth\n",
        "\n",
        "# Example 1\n",
        "preorder1 = \"nlnll\"\n",
        "print(\"Example 1:\")\n",
        "print(\"Preorder:\", preorder1)\n",
        "print(\"Depth:\", calculateDepth(preorder1))\n",
        "\n",
        "# Example 2\n",
        "preorder2 = \"nlnnlll\"\n",
        "print(\"Example 2:\")\n",
        "print(\"Preorder:\", preorder2)\n",
        "print(\"Depth:\", calculateDepth(preorder2))\n"
      ]
    },
    {
      "cell_type": "markdown",
      "source": [
        " Question-2:\n",
        "\n",
        "Given a Binary tree, the task is to print the **left view** of the Binary Tree. The left view of a Binary Tree is a set of leftmost nodes for every level.\n",
        "\n",
        "**Examples:**\n",
        "\n",
        "***Input:***\n",
        "\n",
        "            4\n",
        "\n",
        "          /   \\\n",
        "\n",
        "        5     2\n",
        "\n",
        "             /   \\\n",
        "\n",
        "            3     1\n",
        "\n",
        "           /  \\\n",
        "\n",
        "          6    7\n",
        "\n",
        "***Output:** 4 5 3 6*\n",
        "\n",
        "\n",
        "***Input:***\n",
        "\n",
        "                    1\n",
        "\n",
        "                  /   \\\n",
        "\n",
        "                2       3\n",
        "\n",
        "                 \\\n",
        "\n",
        "                   4\n",
        "\n",
        "                     \\\n",
        "\n",
        "                        5\n",
        "\n",
        "                           \\\n",
        "\n",
        "                             6\n",
        "\n",
        "**Output:** 1 2 4 5 6"
      ],
      "metadata": {
        "id": "tPJn_h1pzsyA"
      }
    },
    {
      "cell_type": "code",
      "source": [
        "from collections import deque\n",
        "\n",
        "class TreeNode:\n",
        "    def __init__(self, value):\n",
        "        self.val = value\n",
        "        self.left = None\n",
        "        self.right = None\n",
        "\n",
        "def leftView(root):\n",
        "    if not root:\n",
        "        return []\n",
        "\n",
        "    left_view = []\n",
        "    queue = deque()\n",
        "    queue.append(root)\n",
        "\n",
        "    while queue:\n",
        "        size = len(queue)\n",
        "\n",
        "        for i in range(size):\n",
        "            node = queue.popleft()\n",
        "\n",
        "            if i == 0:\n",
        "                left_view.append(node.val)\n",
        "\n",
        "            if node.left:\n",
        "                queue.append(node.left)\n",
        "            if node.right:\n",
        "                queue.append(node.right)\n",
        "\n",
        "    return left_view\n",
        "\n",
        "# Example 1\n",
        "root1 = TreeNode(4)\n",
        "root1.left = TreeNode(5)\n",
        "root1.right = TreeNode(2)\n",
        "root1.right.left = TreeNode(3)\n",
        "root1.right.right = TreeNode(1)\n",
        "root1.right.left.left = TreeNode(6)\n",
        "root1.right.left.right = TreeNode(7)\n",
        "\n",
        "print(\"Example 1:\")\n",
        "print(\"Left View:\", leftView(root1))\n",
        "\n",
        "# Example 2\n",
        "root2 = TreeNode(1)\n",
        "root2.left = TreeNode(2)\n",
        "root2.right = TreeNode(3)\n",
        "root2.left.right = TreeNode(4)\n",
        "root2.left.right.right = TreeNode(5)\n",
        "root2.left.right.right.right = TreeNode(6)\n",
        "\n",
        "print(\"Example 2:\")\n",
        "print(\"Left View:\", leftView(root2))\n"
      ],
      "metadata": {
        "colab": {
          "base_uri": "https://localhost:8080/"
        },
        "id": "7eGwyK3i0FM7",
        "outputId": "acb2e545-3a42-45d0-9f5d-3789eedbba08"
      },
      "execution_count": 2,
      "outputs": [
        {
          "output_type": "stream",
          "name": "stdout",
          "text": [
            "Example 1:\n",
            "Left View: [4, 5, 3, 6]\n",
            "Example 2:\n",
            "Left View: [1, 2, 4, 5, 6]\n"
          ]
        }
      ]
    },
    {
      "cell_type": "markdown",
      "source": [
        " Question-3:\n",
        "\n",
        "Given a Binary Tree, print the Right view of it.\n",
        "\n",
        "The right view of a Binary Tree is a set of nodes visible when the tree is visited from the Right side.\n",
        "\n",
        "**Examples:**\n",
        "\n",
        "**Input:**\n",
        "\n",
        "         1\n",
        "\n",
        "      /     \\\n",
        "\n",
        "   2         3\n",
        "\n",
        "/   \\       /  \\\n",
        "\n",
        "4     5   6    7\n",
        "\n",
        "             \\\n",
        "\n",
        "               8\n",
        "\n",
        "**Output**:\n",
        "\n",
        "Right view of the tree is 1 3 7 8\n",
        "\n",
        "**Input:**\n",
        "\n",
        "         1\n",
        "\n",
        "       /\n",
        "\n",
        "    8\n",
        "\n",
        "  /\n",
        "\n",
        "7\n",
        "\n",
        "**Output**:\n",
        "\n",
        "Right view of the tree is 1 8 7\n",
        "\n"
      ],
      "metadata": {
        "id": "XgCNEqyoz723"
      }
    },
    {
      "cell_type": "code",
      "source": [],
      "metadata": {
        "id": "9Ro1Fksozx5X"
      },
      "execution_count": null,
      "outputs": []
    },
    {
      "cell_type": "markdown",
      "source": [
        "Question-4:\n",
        "\n",
        "Given a Binary Tree, The task is to print the **bottom view** from left to right. A node **x** is there in output if x is the bottommost node at its horizontal distance. The horizontal distance of the left child of a node x is equal to a horizontal distance of x minus 1, and that of a right child is the horizontal distance of x plus 1.\n",
        "\n",
        "**Examples:**\n",
        "\n",
        "**Input:**\n",
        "\n",
        "             20\n",
        "\n",
        "           /     \\\n",
        "\n",
        "        8         22\n",
        "\n",
        "    /      \\         \\\n",
        "\n",
        "5         3        25\n",
        "\n",
        "        /    \\\n",
        "\n",
        "   10       14\n",
        "\n",
        "**Output:** 5, 10, 3, 14, 25.\n",
        "\n",
        "**Input:**\n",
        "\n",
        "             20\n",
        "\n",
        "           /     \\\n",
        "\n",
        "        8         22\n",
        "\n",
        "    /      \\      /   \\\n",
        "\n",
        " 5         3    4     25\n",
        "\n",
        "         /    \\\n",
        "\n",
        "     10       14\n",
        "\n",
        "**Output:**\n",
        "\n",
        "5 10 4 14 25.\n",
        "\n",
        "**Explanation:**\n",
        "\n",
        "If there are multiple bottom-most nodes for a horizontal distance from the root, then print the later one in the level traversal.\n",
        "\n",
        "**3 and 4** are both the bottom-most nodes at a horizontal distance of 0, we need to print 4.\n"
      ],
      "metadata": {
        "id": "cvqYrfQi0RzU"
      }
    },
    {
      "cell_type": "code",
      "source": [
        "from collections import deque\n",
        "\n",
        "class TreeNode:\n",
        "    def __init__(self, value):\n",
        "        self.val = value\n",
        "        self.left = None\n",
        "        self.right = None\n",
        "\n",
        "def rightView(root):\n",
        "    if not root:\n",
        "        return []\n",
        "\n",
        "    right_view = []\n",
        "    queue = deque()\n",
        "    queue.append(root)\n",
        "\n",
        "    while queue:\n",
        "        size = len(queue)\n",
        "\n",
        "        for i in range(size):\n",
        "            node = queue.popleft()\n",
        "\n",
        "            if i == size - 1:\n",
        "                right_view.append(node.val)\n",
        "\n",
        "            if node.left:\n",
        "                queue.append(node.left)\n",
        "            if node.right:\n",
        "                queue.append(node.right)\n",
        "\n",
        "    return right_view\n",
        "\n",
        "# Example 1\n",
        "root1 = TreeNode(1)\n",
        "root1.left = TreeNode(2)\n",
        "root1.right = TreeNode(3)\n",
        "root1.left.left = TreeNode(4)\n",
        "root1.left.right = TreeNode(5)\n",
        "root1.right.left = TreeNode(6)\n",
        "root1.right.right = TreeNode(7)\n",
        "root1.right.right.right = TreeNode(8)\n",
        "\n",
        "print(\"Example 1:\")\n",
        "print(\"Right View:\", rightView(root1))\n",
        "\n",
        "# Example 2\n",
        "root2 = TreeNode(1)\n",
        "root2.left = TreeNode(8)\n",
        "root2.left.left = TreeNode(7)\n",
        "\n",
        "print(\"Example 2:\")\n",
        "print(\"Right View:\", rightView(root2))\n"
      ],
      "metadata": {
        "colab": {
          "base_uri": "https://localhost:8080/"
        },
        "id": "jOhHC8lF0SWd",
        "outputId": "7f249f92-19e6-4ca3-ae9e-11171bb05d88"
      },
      "execution_count": 3,
      "outputs": [
        {
          "output_type": "stream",
          "name": "stdout",
          "text": [
            "Example 1:\n",
            "Right View: [1, 3, 7, 8]\n",
            "Example 2:\n",
            "Right View: [1, 8, 7]\n"
          ]
        }
      ]
    },
    {
      "cell_type": "code",
      "source": [],
      "metadata": {
        "id": "1xyFfrsE0dgu"
      },
      "execution_count": null,
      "outputs": []
    }
  ]
}