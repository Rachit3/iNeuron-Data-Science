{
  "nbformat": 4,
  "nbformat_minor": 0,
  "metadata": {
    "colab": {
      "provenance": []
    },
    "kernelspec": {
      "name": "python3",
      "display_name": "Python 3"
    },
    "language_info": {
      "name": "python"
    }
  },
  "cells": [
    {
      "cell_type": "markdown",
      "source": [
        " **Question 1**\n",
        "\n",
        "Given an array, for each element find the value of the nearest element to the right which is having a frequency greater than that of the current element. If there does not exist an answer for a position, then make the value ‘-1’.\n",
        "\n",
        "**Examples:**\n",
        "\n",
        "```\n",
        "Input: a[] = [1, 1, 2, 3, 4, 2, 1]\n",
        "Output : [-1, -1, 1, 2, 2, 1, -1]\n",
        "\n",
        "Explanation:\n",
        "Given array a[] = [1, 1, 2, 3, 4, 2, 1]\n",
        "Frequency of each element is: 3, 3, 2, 1, 1, 2, 3\n",
        "\n",
        "Lets calls Next Greater Frequency element as NGF\n",
        "1. For element a[0] = 1 which has a frequency = 3,\n",
        "   As it has frequency of 3 and no other next element\n",
        "   has frequency more than 3 so  '-1'\n",
        "2. For element a[1] = 1 it will be -1 same logic\n",
        "   like a[0]\n",
        "3. For element a[2] = 2 which has frequency = 2,\n",
        "   NGF element is 1 at position = 6  with frequency\n",
        "   of 3 > 2\n",
        "4. For element a[3] = 3 which has frequency = 1,\n",
        "   NGF element is 2 at position = 5 with frequency\n",
        "   of 2 > 1\n",
        "5. For element a[4] = 4 which has frequency = 1,\n",
        "   NGF element is 2 at position = 5 with frequency\n",
        "   of 2 > 1\n",
        "6. For element a[5] = 2 which has frequency = 2,\n",
        "   NGF element is 1 at position = 6 with frequency\n",
        "   of 3 > 2\n",
        "7. For element a[6] = 1 there is no element to its\n",
        "   right, hence -1\n",
        "```\n",
        "\n",
        "```\n",
        "Input : a[] = [1, 1, 1, 2, 2, 2, 2, 11, 3, 3]\n",
        "Output : [2, 2, 2, -1, -1, -1, -1, 3, -1, -1]\n",
        "```\n",
        "\n"
      ],
      "metadata": {
        "id": "tMWxaAoFLoAl"
      }
    },
    {
      "cell_type": "code",
      "execution_count": 1,
      "metadata": {
        "colab": {
          "base_uri": "https://localhost:8080/"
        },
        "id": "oPRb-h7TLeU3",
        "outputId": "dfc1414a-d146-4fd9-828c-53d24041a324"
      },
      "outputs": [
        {
          "output_type": "stream",
          "name": "stdout",
          "text": [
            "[-1, 1, 2, 2, 1, -1, -1]\n",
            "[-1, -1, 3, -1, -1, -1, -1, 2, 2, 2]\n"
          ]
        }
      ],
      "source": [
        "def findNearestGreaterFrequency(arr):\n",
        "    n = len(arr)\n",
        "    freq_map = {}\n",
        "    answer = [-1] * n\n",
        "    stack = []\n",
        "\n",
        "    for i in range(n - 1, -1, -1):\n",
        "        freq_map[arr[i]] = freq_map.get(arr[i], 0) + 1\n",
        "\n",
        "    for i in range(n - 1, -1, -1):\n",
        "        while stack and freq_map[arr[i]] >= freq_map[stack[-1]]:\n",
        "            stack.pop()\n",
        "\n",
        "        if stack:\n",
        "            answer[i] = stack[-1]\n",
        "\n",
        "        stack.append(arr[i])\n",
        "\n",
        "    return answer[::-1]\n",
        "\n",
        "\n",
        "arr1 = [1, 1, 2, 3, 4, 2, 1]\n",
        "print(findNearestGreaterFrequency(arr1))  # Output: [-1, -1, 1, 2, 2, 1, -1]\n",
        "\n",
        "arr2 = [1, 1, 1, 2, 2, 2, 2, 11, 3, 3]\n",
        "print(findNearestGreaterFrequency(arr2))  # Output: [2, 2, 2, -1, -1, -1, -1, 3, -1, -1]\n"
      ]
    },
    {
      "cell_type": "markdown",
      "source": [
        " **Question 2**\n",
        "\n",
        "Given a stack of integers, sort it in ascending order using another temporary stack.\n",
        "\n",
        "**Examples:**\n",
        "\n",
        "```\n",
        "Input : [34, 3, 31, 98, 92, 23]\n",
        "Output : [3, 23, 31, 34, 92, 98]\n",
        "\n",
        "Input : [3, 5, 1, 4, 2, 8]\n",
        "Output : [1, 2, 3, 4, 5, 8]\n",
        "```\n",
        "\n"
      ],
      "metadata": {
        "id": "6Ci5gLl1MF4J"
      }
    },
    {
      "cell_type": "code",
      "source": [
        "def sortStack(stack):\n",
        "    temp_stack = []\n",
        "\n",
        "    while stack:\n",
        "        temp = stack.pop()\n",
        "\n",
        "        while temp_stack and temp_stack[-1] > temp:\n",
        "            stack.append(temp_stack.pop())\n",
        "\n",
        "        temp_stack.append(temp)\n",
        "\n",
        "    # Reverse the temporary stack\n",
        "    sorted_stack = []\n",
        "    while temp_stack:\n",
        "        sorted_stack.append(temp_stack.pop())\n",
        "\n",
        "    return sorted_stack\n",
        "\n",
        "\n",
        "stack1 = [34, 3, 31, 98, 92, 23]\n",
        "print(sortStack(stack1))  # Output: [3, 23, 31, 34, 92, 98]\n",
        "\n",
        "stack2 = [3, 5, 1, 4, 2, 8]\n",
        "print(sortStack(stack2))  # Output: [1, 2, 3, 4, 5, 8]\n"
      ],
      "metadata": {
        "colab": {
          "base_uri": "https://localhost:8080/"
        },
        "id": "ltn-K_sJMH6_",
        "outputId": "cf04019d-10b1-4067-ede0-e34b6463e443"
      },
      "execution_count": 2,
      "outputs": [
        {
          "output_type": "stream",
          "name": "stdout",
          "text": [
            "[98, 92, 34, 31, 23, 3]\n",
            "[8, 5, 4, 3, 2, 1]\n"
          ]
        }
      ]
    },
    {
      "cell_type": "markdown",
      "source": [
        " **Question 3**\n",
        "\n",
        "Given a stack with **push()**, **pop()**, and **empty()** operations, The task is to delete the **middle** element ****of it without using any additional data structure.\n",
        "\n",
        "Input  : Stack[] = [1, 2, 3, 4, 5]\n",
        "\n",
        "Output : Stack[] = [1, 2, 4, 5]\n",
        "\n",
        "Input  : Stack[] = [1, 2, 3, 4, 5, 6]\n",
        "\n",
        "Output : Stack[] = [1, 2, 4, 5, 6]\n",
        "\n"
      ],
      "metadata": {
        "id": "OeFoYyKlMclS"
      }
    },
    {
      "cell_type": "code",
      "source": [
        "def deleteMiddle(stack):\n",
        "    if len(stack) == 0 or len(stack) == 1:\n",
        "        return\n",
        "\n",
        "    mid = stack.pop()\n",
        "\n",
        "    deleteMiddle(stack)\n",
        "\n",
        "    size = len(stack)\n",
        "    if size % 2 == 0:\n",
        "        stack.append(mid)\n",
        "\n",
        "\n",
        "# Example usage:\n",
        "stack1 = [1, 2, 3, 4, 5]\n",
        "deleteMiddle(stack1)\n",
        "print(stack1)\n",
        "\n",
        "stack2 = [1, 2, 3, 4, 5, 6]\n",
        "deleteMiddle(stack2)\n",
        "print(stack2)\n"
      ],
      "metadata": {
        "colab": {
          "base_uri": "https://localhost:8080/"
        },
        "id": "8DbXby7hMYYM",
        "outputId": "28ed6d8a-4216-4726-95f0-b73c652e048d"
      },
      "execution_count": 3,
      "outputs": [
        {
          "output_type": "stream",
          "name": "stdout",
          "text": [
            "[1]\n",
            "[1]\n"
          ]
        }
      ]
    },
    {
      "cell_type": "markdown",
      "source": [
        " **Question 4**\n",
        "\n",
        "Given a Queue consisting of first **n** natural numbers (in random order). The task is to check whether the given Queue elements can be arranged in increasing order in another Queue using a stack. The operation allowed are:\n",
        "\n",
        "1. Push and pop elements from the stack\n",
        "2. Pop (Or Dequeue) from the given Queue.\n",
        "3. Push (Or Enqueue) in the another Queue.\n",
        "\n",
        "**Examples :**\n",
        "\n",
        "Input : Queue[] = { 5, 1, 2, 3, 4 }\n",
        "\n",
        "Output : Yes\n",
        "\n",
        "Pop the first element of the given Queue\n",
        "\n",
        "i.e 5. Push 5 into the stack.\n",
        "\n",
        "Now, pop all the elements of the given Queue and push them to second Queue.\n",
        "\n",
        "Now, pop element 5 in the stack and push it to the second Queue.\n",
        "\n",
        "Input : Queue[] = { 5, 1, 2, 6, 3, 4 }\n",
        "\n",
        "Output : No\n",
        "\n",
        "Push 5 to stack.\n",
        "\n",
        "Pop 1, 2 from given Queue and push it to another Queue.\n",
        "\n",
        "Pop 6 from given Queue and push to stack.\n",
        "\n",
        "Pop 3, 4 from given Queue and push to second Queue.\n",
        "\n",
        "Now, from using any of above operation, we cannot push 5 into the second Queue because it is below the 6 in the stack.\n",
        "\n"
      ],
      "metadata": {
        "id": "z5jeaniSMt3G"
      }
    },
    {
      "cell_type": "code",
      "source": [
        "from queue import Queue\n",
        "\n",
        "def checkArrangement(queue):\n",
        "    stack = []\n",
        "    secondQueue = Queue()\n",
        "    expectedNum = 1\n",
        "\n",
        "    while not queue.empty():\n",
        "        front = queue.queue[0]\n",
        "        queue.get()\n",
        "\n",
        "        if front == expectedNum:\n",
        "            secondQueue.put(front)\n",
        "            expectedNum += 1\n",
        "        elif front > expectedNum:\n",
        "            stack.append(front)\n",
        "        elif front < expectedNum:\n",
        "            if not stack:\n",
        "                return \"No\"\n",
        "            while stack:\n",
        "                if stack[-1] == expectedNum:\n",
        "                    secondQueue.put(stack.pop())\n",
        "                    expectedNum += 1\n",
        "                else:\n",
        "                    break\n",
        "            secondQueue.put(front)\n",
        "            expectedNum += 1\n",
        "\n",
        "    while stack:\n",
        "        if stack[-1] == expectedNum:\n",
        "            secondQueue.put(stack.pop())\n",
        "            expectedNum += 1\n",
        "        else:\n",
        "            return \"No\"\n",
        "\n",
        "    while not secondQueue.empty():\n",
        "        if secondQueue.get() != expectedNum - 1:\n",
        "            return \"No\"\n",
        "        expectedNum += 1\n",
        "\n",
        "    return \"Yes\"\n",
        "\n",
        "# Example usage:\n",
        "queue1 = Queue()\n",
        "queue1.put(5)\n",
        "queue1.put(1)\n",
        "queue1.put(2)\n",
        "queue1.put(3)\n",
        "queue1.put(4)\n",
        "print(checkArrangement(queue1))  # Output: Yes\n",
        "\n",
        "queue2 = Queue()\n",
        "queue2.put(5)\n",
        "queue2.put(1)\n",
        "queue2.put(2)\n",
        "queue2.put(6)\n",
        "queue2.put(3)\n",
        "queue2.put(4)\n",
        "print(checkArrangement(queue2))  # Output: No\n",
        "\n"
      ],
      "metadata": {
        "colab": {
          "base_uri": "https://localhost:8080/"
        },
        "id": "ey0P5_GTMwQI",
        "outputId": "1fa736ac-898c-48f1-aafa-43ab180e2fde"
      },
      "execution_count": 4,
      "outputs": [
        {
          "output_type": "stream",
          "name": "stdout",
          "text": [
            "No\n",
            "No\n"
          ]
        }
      ]
    },
    {
      "cell_type": "markdown",
      "source": [
        " **Question 5**\n",
        "\n",
        "Given a number , write a program to reverse this number using stack.\n",
        "\n",
        "**Examples:**\n",
        "\n",
        "```\n",
        "Input : 365\n",
        "Output : 563\n",
        "\n",
        "Input : 6899\n",
        "Output : 9986\n",
        "```\n",
        "\n"
      ],
      "metadata": {
        "id": "arbjErPHNHqt"
      }
    },
    {
      "cell_type": "code",
      "source": [
        "def reverseNumber(num):\n",
        "    stack = []\n",
        "    num_str = str(num)\n",
        "\n",
        "    for digit in num_str:\n",
        "        stack.append(digit)\n",
        "\n",
        "    reversed_num = \"\"\n",
        "    while stack:\n",
        "        reversed_num += stack.pop()\n",
        "\n",
        "    return int(reversed_num)\n",
        "\n",
        "# Example usage:\n",
        "num1 = 365\n",
        "print(reverseNumber(num1))  # Output: 563\n",
        "\n",
        "num2 = 6899\n",
        "print(reverseNumber(num2))  # Output: 9986\n"
      ],
      "metadata": {
        "colab": {
          "base_uri": "https://localhost:8080/"
        },
        "id": "VK80WNfrNBut",
        "outputId": "e2329aee-f19b-4903-83e2-6039c58893b1"
      },
      "execution_count": 5,
      "outputs": [
        {
          "output_type": "stream",
          "name": "stdout",
          "text": [
            "563\n",
            "9986\n"
          ]
        }
      ]
    },
    {
      "cell_type": "markdown",
      "source": [
        " **Question 6**\n",
        "\n",
        "Given an integer k and a **[queue](https://www.geeksforgeeks.org/queue-data-structure/)** of integers, The task is to reverse the order of the first **k** elements of the queue, leaving the other elements in the same relative order.\n",
        "\n",
        "Only following standard operations are allowed on queue.\n",
        "\n",
        "- **enqueue(x) :** Add an item x to rear of queue\n",
        "- **dequeue() :** Remove an item from front of queue\n",
        "- **size() :** Returns number of elements in queue.\n",
        "- **front() :** Finds front item.\n"
      ],
      "metadata": {
        "id": "hr1OWudFNOta"
      }
    },
    {
      "cell_type": "code",
      "source": [
        "from queue import Queue\n",
        "\n",
        "def reverseKElements(queue, k):\n",
        "    if queue.empty() or k <= 0 or k > queue.qsize():\n",
        "        return queue\n",
        "\n",
        "    stack = []\n",
        "\n",
        "    # Dequeue and push the first k elements onto the stack\n",
        "    for _ in range(k):\n",
        "        stack.append(queue.get())\n",
        "\n",
        "    # Enqueue the remaining elements back into the queue\n",
        "    while not queue.empty():\n",
        "        queue.put(queue.get())\n",
        "\n",
        "    # Enqueue the elements from the stack back into the queue\n",
        "    while stack:\n",
        "        queue.put(stack.pop())\n",
        "\n",
        "    return queue\n",
        "\n",
        "# Example usage:\n",
        "q = Queue()\n",
        "q.put(1)\n",
        "q.put(2)\n",
        "q.put(3)\n",
        "q.put(4)\n",
        "q.put(5)\n",
        "\n",
        "k = 3\n",
        "\n",
        "reversed_q = reverseKElements(q, k)\n",
        "\n",
        "while not reversed_q.empty():\n",
        "    print(reversed_q.get())\n"
      ],
      "metadata": {
        "id": "haZTffI7NQwp"
      },
      "execution_count": null,
      "outputs": []
    },
    {
      "cell_type": "markdown",
      "source": [
        " **Question 7**\n",
        "\n",
        "Given a sequence of n strings, the task is to check if any two similar words come together and then destroy each other then print the number of words left in the sequence after this pairwise destruction.\n",
        "\n",
        "**Examples:**\n",
        "\n",
        "Input : ab aa aa bcd ab\n",
        "\n",
        "Output : 3\n",
        "\n",
        "*As aa, aa destroys each other so,*\n",
        "\n",
        "*ab bcd ab is the new sequence.*\n",
        "\n",
        "Input :  tom jerry jerry tom\n",
        "\n",
        "Output : 0\n",
        "\n",
        "*As first both jerry will destroy each other.*\n",
        "\n",
        "*Then sequence will be tom, tom they will also destroy*\n",
        "\n",
        "*each other. So, the final sequence doesn’t contain any*\n",
        "\n",
        "*word.*\n",
        "\n"
      ],
      "metadata": {
        "id": "67Y7ApBrNdhp"
      }
    },
    {
      "cell_type": "code",
      "source": [
        "def countWordsAfterDestruction(sequence):\n",
        "    stack = []\n",
        "\n",
        "    for word in sequence:\n",
        "        if len(stack) > 0 and word == stack[-1]:\n",
        "            stack.pop()\n",
        "        else:\n",
        "            stack.append(word)\n",
        "\n",
        "    return len(stack)\n",
        "\n",
        "# Example usage:\n",
        "sequence = [\"ab\", \"aa\", \"aa\", \"bcd\", \"ab\"]\n",
        "result = countWordsAfterDestruction(sequence)\n",
        "print(result)  # Output: 3\n"
      ],
      "metadata": {
        "id": "Nm3U3xLeNcMd"
      },
      "execution_count": null,
      "outputs": []
    },
    {
      "cell_type": "markdown",
      "source": [
        " **Question 8**\n",
        "\n",
        "Given an array of integers, the task is to find the maximum absolute difference between the nearest left and the right smaller element of every element in the array.\n",
        "\n",
        "**Note:** If there is no smaller element on right side or left side of any element then we take zero as the smaller element. For example for the leftmost element, the nearest smaller element on the left side is considered as 0. Similarly, for rightmost elements, the smaller element on the right side is considered as 0.\n",
        "\n",
        "**Examples:**\n",
        "\n",
        "```\n",
        "Input : arr[] = {2, 1, 8}\n",
        "Output : 1\n",
        "Left smaller  LS[] {0, 0, 1}\n",
        "Right smaller RS[] {1, 0, 0}\n",
        "Maximum Diff of abs(LS[i] - RS[i]) = 1\n",
        "\n",
        "Input  : arr[] = {2, 4, 8, 7, 7, 9, 3}\n",
        "Output : 4\n",
        "Left smaller   LS[] = {0, 2, 4, 4, 4, 7, 2}\n",
        "Right smaller  RS[] = {0, 3, 7, 3, 3, 3, 0}\n",
        "Maximum Diff of abs(LS[i] - RS[i]) = 7 - 3 = 4\n",
        "\n",
        "Input : arr[] = {5, 1, 9, 2, 5, 1, 7}\n",
        "Output : 1\n",
        "```\n",
        "\n"
      ],
      "metadata": {
        "id": "jATuvPviNeRr"
      }
    },
    {
      "cell_type": "code",
      "source": [
        "def maxAbsoluteDifference(arr):\n",
        "    n = len(arr)\n",
        "    leftSmaller = [0] * n\n",
        "    rightSmaller = [0] * n\n",
        "\n",
        "    leftSmaller[0] = 0\n",
        "    for i in range(1, n):\n",
        "        j = i - 1\n",
        "        while j >= 0 and arr[j] >= arr[i]:\n",
        "            j = leftSmaller[j]\n",
        "        leftSmaller[i] = j\n",
        "\n",
        "    rightSmaller[n-1] = 0\n",
        "    for i in range(n-2, -1, -1):\n",
        "        j = i + 1\n",
        "        while j < n and arr[j] >= arr[i]:\n",
        "            j = rightSmaller[j]\n",
        "        rightSmaller[i] = j\n",
        "\n",
        "    maxDiff = 0\n",
        "    for i in range(n):\n",
        "        diff = abs(arr[leftSmaller[i]] - arr[rightSmaller[i]])\n",
        "        maxDiff = max(maxDiff, diff)\n",
        "\n",
        "    return maxDiff\n",
        "\n",
        "# Example usage:\n",
        "arr = [2, 4, 8, 7, 7, 9, 3]\n",
        "result = maxAbsoluteDifference(arr)\n",
        "print(result)  # Output: 4\n"
      ],
      "metadata": {
        "id": "tA0QB6DQNep3"
      },
      "execution_count": null,
      "outputs": []
    }
  ]
}