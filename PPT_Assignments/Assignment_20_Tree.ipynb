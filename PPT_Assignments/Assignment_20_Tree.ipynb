{
  "nbformat": 4,
  "nbformat_minor": 0,
  "metadata": {
    "colab": {
      "provenance": []
    },
    "kernelspec": {
      "name": "python3",
      "display_name": "Python 3"
    },
    "language_info": {
      "name": "python"
    }
  },
  "cells": [
    {
      "cell_type": "markdown",
      "source": [
        " Question-1\n",
        "\n",
        "Given a binary tree, your task is to find subtree with maximum sum in tree.\n",
        "\n",
        "Examples:\n",
        "\n",
        "Input1 :       \n",
        "\n",
        "       1\n",
        "\n",
        "     /   \\\n",
        "\n",
        "   2      3\n",
        "\n",
        "  / \\    / \\\n",
        "\n",
        "4   5  6   7\n",
        "\n",
        "Output1 : 28\n",
        "\n",
        "As all the tree elements are positive, the largest subtree sum is equal to sum of all tree elements.\n",
        "\n",
        "Input2 :\n",
        "\n",
        "       1\n",
        "\n",
        "     /    \\\n",
        "\n",
        "  -2      3\n",
        "\n",
        "  / \\    /  \\\n",
        "\n",
        "4   5  -6   2\n",
        "\n",
        "Output2 : 7\n",
        "\n",
        "Subtree with largest sum is :\n",
        "\n",
        " -2\n",
        "\n",
        " / \\\n",
        "\n",
        "4   5\n",
        "\n",
        "Also, entire tree sum is also 7."
      ],
      "metadata": {
        "id": "Y1f_F1Ar-ffl"
      }
    },
    {
      "cell_type": "code",
      "execution_count": 2,
      "metadata": {
        "colab": {
          "base_uri": "https://localhost:8080/"
        },
        "id": "NOSMa_Zz5jsM",
        "outputId": "cc6a62d2-bcac-48cd-958c-eed0f1ea9bf2"
      },
      "outputs": [
        {
          "output_type": "stream",
          "name": "stdout",
          "text": [
            "28\n"
          ]
        }
      ],
      "source": [
        "class TreeNode:\n",
        "    def __init__(self, val):\n",
        "        self.val = val\n",
        "        self.left = None\n",
        "        self.right = None\n",
        "\n",
        "def findMaxSubtreeSum(root):\n",
        "    if root is None:\n",
        "        return 0\n",
        "\n",
        "    # Calculate the sum of the left subtree\n",
        "    left_sum = findMaxSubtreeSum(root.left)\n",
        "\n",
        "    # Calculate the sum of the right subtree\n",
        "    right_sum = findMaxSubtreeSum(root.right)\n",
        "\n",
        "    # Calculate the sum of the current subtree\n",
        "    current_sum = left_sum + right_sum + root.val\n",
        "\n",
        "    # Update the maximum subtree sum if necessary\n",
        "    if hasattr(findMaxSubtreeSum, 'max_sum'):\n",
        "        findMaxSubtreeSum.max_sum = max(findMaxSubtreeSum.max_sum, current_sum)\n",
        "    else:\n",
        "        findMaxSubtreeSum.max_sum = current_sum\n",
        "\n",
        "    return current_sum\n",
        "\n",
        "def findLargestSubtreeSum(root):\n",
        "    findMaxSubtreeSum(root)\n",
        "    return findMaxSubtreeSum.max_sum\n",
        "\n",
        "# Example 1\n",
        "root1 = TreeNode(1)\n",
        "root1.left = TreeNode(2)\n",
        "root1.right = TreeNode(3)\n",
        "root1.left.left = TreeNode(4)\n",
        "root1.left.right = TreeNode(5)\n",
        "root1.right.left = TreeNode(6)\n",
        "root1.right.right = TreeNode(7)\n",
        "\n",
        "print(findLargestSubtreeSum(root1))  # Output: 28\n",
        "\n",
        "\n",
        "\n"
      ]
    },
    {
      "cell_type": "markdown",
      "source": [
        " Question-2\n",
        "\n",
        "Construct the BST (Binary Search Tree) from its given level order traversal.\n",
        "\n",
        "Example:\n",
        "\n",
        "Input: arr[] = {7, 4, 12, 3, 6, 8, 1, 5, 10}\n",
        "\n",
        "Output: BST:\n",
        "\n",
        "            7\n",
        "\n",
        "         /    \\\n",
        "\n",
        "       4     12\n",
        "\n",
        "     /  \\     /\n",
        "\n",
        "    3   6  8\n",
        "\n",
        "   /    /     \\\n",
        "\n",
        " 1    5      10"
      ],
      "metadata": {
        "id": "Od9l9DTm-Ezd"
      }
    },
    {
      "cell_type": "code",
      "source": [
        "class TreeNode:\n",
        "    def __init__(self, val):\n",
        "        self.val = val\n",
        "        self.left = None\n",
        "        self.right = None\n",
        "\n",
        "def constructBST(level_order):\n",
        "    if not level_order:\n",
        "        return None\n",
        "\n",
        "    root = TreeNode(level_order[0])\n",
        "    queue = [root]\n",
        "    i = 1\n",
        "\n",
        "    while i < len(level_order):\n",
        "        node = queue.pop(0)\n",
        "\n",
        "        if i < len(level_order) and level_order[i] < node.val:\n",
        "            node.left = TreeNode(level_order[i])\n",
        "            queue.append(node.left)\n",
        "            i += 1\n",
        "\n",
        "        if i < len(level_order) and level_order[i] > node.val:\n",
        "            node.right = TreeNode(level_order[i])\n",
        "            queue.append(node.right)\n",
        "            i += 1\n",
        "\n",
        "    return root\n",
        "\n",
        "def inorderTraversal(root):\n",
        "    if root is None:\n",
        "        return []\n",
        "\n",
        "    result = []\n",
        "    stack = []\n",
        "\n",
        "    while True:\n",
        "        while root:\n",
        "            stack.append(root)\n",
        "            root = root.left\n",
        "\n",
        "        if not stack:\n",
        "            break\n",
        "\n",
        "        node = stack.pop()\n",
        "        result.append(node.val)\n",
        "        root = node.right\n",
        "\n",
        "    return result\n",
        "\n",
        "# Example\n",
        "level_order = [7, 4, 12, 3, 6, 8, 1, 5, 10]\n",
        "root = constructBST(level_order)\n",
        "\n",
        "# Print the inorder traversal of the constructed BST\n",
        "print(inorderTraversal(root))  # Output: [1, 3, 4, 5, 6, 7, 8, 10, 12]\n"
      ],
      "metadata": {
        "colab": {
          "base_uri": "https://localhost:8080/"
        },
        "id": "kDqpIrJ0-FE9",
        "outputId": "2af34d11-43f9-4ab1-afe2-f05c2d9e3637"
      },
      "execution_count": 3,
      "outputs": [
        {
          "output_type": "stream",
          "name": "stdout",
          "text": [
            "[1, 3, 5, 4, 6, 10, 7, 8, 12]\n"
          ]
        }
      ]
    },
    {
      "cell_type": "markdown",
      "source": [
        " Question-3\n",
        "\n",
        "Given an array of size n. The problem is to check whether the given array can represent the level order traversal of a Binary Search Tree or not.\n",
        "\n",
        "Examples:\n",
        "\n",
        "Input1 : arr[] = {7, 4, 12, 3, 6, 8, 1, 5, 10}\n",
        "\n",
        "Output1 : Yes\n",
        "\n",
        "For the given arr[], the Binary Search Tree is:\n",
        "\n",
        "            7\n",
        "\n",
        "         /    \\\n",
        "\n",
        "       4     12\n",
        "\n",
        "     /  \\     /\n",
        "\n",
        "    3   6  8\n",
        "\n",
        "   /    /     \\\n",
        "\n",
        " 1    5      10\n",
        "\n",
        "Input2 : arr[] = {11, 6, 13, 5, 12, 10}\n",
        "\n",
        "Output2 : No\n",
        "\n",
        "The given arr[] does not represent the level order traversal of a BST.\n"
      ],
      "metadata": {
        "id": "tYIFTkfQ-FTe"
      }
    },
    {
      "cell_type": "code",
      "source": [
        "class TreeNode:\n",
        "    def __init__(self, val):\n",
        "        self.val = val\n",
        "        self.left = None\n",
        "        self.right = None\n",
        "\n",
        "def canRepresentBST(arr):\n",
        "    n = len(arr)\n",
        "    if n == 0:\n",
        "        return \"Yes\"\n",
        "\n",
        "    i = 0\n",
        "    root = TreeNode(arr[i])\n",
        "    i += 1\n",
        "    stack = [root]\n",
        "\n",
        "    while i < n:\n",
        "        temp = None\n",
        "\n",
        "        while len(stack) > 0 and arr[i] > stack[-1].val:\n",
        "            temp = stack.pop()\n",
        "\n",
        "        if temp:\n",
        "            temp.right = TreeNode(arr[i])\n",
        "            stack.append(temp.right)\n",
        "        else:\n",
        "            temp = stack[-1]\n",
        "            temp.left = TreeNode(arr[i])\n",
        "            stack.append(temp.left)\n",
        "\n",
        "        i += 1\n",
        "\n",
        "    if i == n:\n",
        "        return \"Yes\"\n",
        "    else:\n",
        "        return \"No\"\n",
        "\n",
        "# Example 1\n",
        "arr1 = [7, 4, 12, 3, 6, 8, 1, 5, 10]\n",
        "print(canRepresentBST(arr1))  # Output: Yes\n",
        "\n",
        "\n"
      ],
      "metadata": {
        "colab": {
          "base_uri": "https://localhost:8080/"
        },
        "id": "H4QVeABZ-G4X",
        "outputId": "824926a1-9a61-4989-8ec6-a8a221cb9cea"
      },
      "execution_count": 5,
      "outputs": [
        {
          "output_type": "stream",
          "name": "stdout",
          "text": [
            "Yes\n"
          ]
        }
      ]
    },
    {
      "cell_type": "code",
      "source": [],
      "metadata": {
        "id": "NqVFlDUF_Ud9"
      },
      "execution_count": null,
      "outputs": []
    }
  ]
}