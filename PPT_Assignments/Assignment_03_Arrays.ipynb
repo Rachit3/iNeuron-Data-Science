{
  "nbformat": 4,
  "nbformat_minor": 0,
  "metadata": {
    "colab": {
      "provenance": []
    },
    "kernelspec": {
      "name": "python3",
      "display_name": "Python 3"
    },
    "language_info": {
      "name": "python"
    }
  },
  "cells": [
    {
      "cell_type": "markdown",
      "source": [
        "**Question 1**\n",
        "\n",
        "Given an integer array nums of length n and an integer target, find three integers\n",
        "in nums such that the sum is closest to the target.\n",
        "Return the sum of the three integers.\n",
        "You may assume that each input would have exactly one solution.\n",
        "\n",
        "**Example 1:**\n",
        "\n",
        "**Input:** nums = [-1,2,1,-4], target = 1\n",
        "\n",
        "**Output:** 2\n",
        "Explanation: The sum that is closest to the target is 2. (-1 + 2 + 1 = 2)."
      ],
      "metadata": {
        "id": "x2KF0v8NUpNg"
      }
    },
    {
      "cell_type": "code",
      "execution_count": 1,
      "metadata": {
        "colab": {
          "base_uri": "https://localhost:8080/"
        },
        "id": "09583WabUoC0",
        "outputId": "821c1fab-6079-46ae-be15-4cdee916c7a7"
      },
      "outputs": [
        {
          "output_type": "stream",
          "name": "stdout",
          "text": [
            "2\n"
          ]
        }
      ],
      "source": [
        "def three_sum_closest(nums, target):\n",
        "    nums.sort()  # Sort the array in ascending order\n",
        "    n = len(nums)\n",
        "    closest_sum = float('inf')\n",
        "\n",
        "    for i in range(n - 2):\n",
        "        left = i + 1\n",
        "        right = n - 1\n",
        "\n",
        "        while left < right:\n",
        "            current_sum = nums[i] + nums[left] + nums[right]\n",
        "\n",
        "            if current_sum == target:\n",
        "                return target  # If the sum is equal to the target, return it directly\n",
        "\n",
        "            # Update the closest_sum if the current sum is closer to the target\n",
        "            if abs(current_sum - target) < abs(closest_sum - target):\n",
        "                closest_sum = current_sum\n",
        "\n",
        "            if current_sum < target:\n",
        "                left += 1  # Increment left pointer for a larger sum\n",
        "            else:\n",
        "                right -= 1  # Decrement right pointer for a smaller sum\n",
        "\n",
        "    return closest_sum\n",
        "\n",
        "# Example usage:\n",
        "nums = [-1, 2, 1, -4]\n",
        "target = 1\n",
        "result = three_sum_closest(nums, target)\n",
        "print(result)  # Output: 2\n"
      ]
    },
    {
      "cell_type": "markdown",
      "source": [
        "**Question 2**\n",
        "\n",
        "Given an array nums of n integers, return an array of all the unique quadruplets\n",
        "[nums[a], nums[b], nums[c], nums[d]] such that:  \n",
        "\n",
        "● 0 <= a, b, c, d < n\n",
        "\n",
        "● a, b, c, and d are distinct.\n",
        "\n",
        "● nums[a] + nums[b] + nums[c] + nums[d] == target\n",
        "\n",
        "You may return the answer in any order.\n",
        "\n",
        "**Example :**\n",
        "\n",
        "**Input:** nums = [1,0,-1,0,-2,2], target = 0\n",
        "\n",
        "**Output:**[[-2,-1,1,2],[-2,0,0,2],[-1,0,0,1]]"
      ],
      "metadata": {
        "id": "gbu0UtqxVUE4"
      }
    },
    {
      "cell_type": "code",
      "source": [
        "def four_sum(nums, target):\n",
        "    nums.sort()  # Sort the array in ascending order\n",
        "    n = len(nums)\n",
        "    result = []\n",
        "\n",
        "    for i in range(n - 3):\n",
        "        if i > 0 and nums[i] == nums[i - 1]:\n",
        "            continue  # Skip duplicate values for the first element\n",
        "\n",
        "        for j in range(i + 1, n - 2):\n",
        "            if j > i + 1 and nums[j] == nums[j - 1]:\n",
        "                continue  # Skip duplicate values for the second element\n",
        "\n",
        "            left = j + 1\n",
        "            right = n - 1\n",
        "\n",
        "            while left < right:\n",
        "                current_sum = nums[i] + nums[j] + nums[left] + nums[right]\n",
        "\n",
        "                if current_sum == target:\n",
        "                    result.append([nums[i], nums[j], nums[left], nums[right]])\n",
        "\n",
        "                    # Skip duplicate values for the third element\n",
        "                    while left < right and nums[left] == nums[left + 1]:\n",
        "                        left += 1\n",
        "                    left += 1\n",
        "\n",
        "                    # Skip duplicate values for the fourth element\n",
        "                    while left < right and nums[right] == nums[right - 1]:\n",
        "                        right -= 1\n",
        "                    right -= 1\n",
        "\n",
        "                elif current_sum < target:\n",
        "                    left += 1  # Increment left pointer for a larger sum\n",
        "                else:\n",
        "                    right -= 1  # Decrement right pointer for a smaller sum\n",
        "\n",
        "    return result\n",
        "\n",
        "# Example usage:\n",
        "nums = [1, 0, -1, 0, -2, 2]\n",
        "target = 0\n",
        "result = four_sum(nums, target)\n",
        "print(result)  # Output: [[-2, -1, 1, 2], [-2, 0, 0, 2], [-1, 0, 0, 1]]\n"
      ],
      "metadata": {
        "colab": {
          "base_uri": "https://localhost:8080/"
        },
        "id": "i5-qqTzTVEXp",
        "outputId": "08338eb1-0d6a-4af7-e138-274f9305c12a"
      },
      "execution_count": 2,
      "outputs": [
        {
          "output_type": "stream",
          "name": "stdout",
          "text": [
            "[[-2, -1, 1, 2], [-2, 0, 0, 2], [-1, 0, 0, 1]]\n"
          ]
        }
      ]
    },
    {
      "cell_type": "markdown",
      "source": [
        "**Question 3**"
      ],
      "metadata": {
        "id": "XVO7b6mWWDK7"
      }
    },
    {
      "cell_type": "code",
      "source": [
        "def next_permutation(nums):\n",
        "    n = len(nums)\n",
        "    i = n - 2  # Start from the second-to-last element\n",
        "\n",
        "    # Find the first decreasing element from the right\n",
        "    while i >= 0 and nums[i] >= nums[i + 1]:\n",
        "        i -= 1\n",
        "\n",
        "    if i >= 0:\n",
        "        j = n - 1\n",
        "\n",
        "        # Find the smallest element greater than nums[i]\n",
        "        while j >= 0 and nums[j] <= nums[i]:\n",
        "            j -= 1\n",
        "\n",
        "        # Swap nums[i] and nums[j]\n",
        "        nums[i], nums[j] = nums[j], nums[i]\n",
        "\n",
        "    # Reverse the subarray nums[i+1:]\n",
        "    left = i + 1\n",
        "    right = n - 1\n",
        "    while left < right:\n",
        "        nums[left], nums[right] = nums[right], nums[left]\n",
        "        left += 1\n",
        "        right -= 1\n",
        "\n",
        "# Example usage:\n",
        "nums = [1, 2, 3]\n",
        "next_permutation(nums)\n",
        "print(nums)  # Output: [1, 3, 2]\n"
      ],
      "metadata": {
        "colab": {
          "base_uri": "https://localhost:8080/"
        },
        "id": "K2T61PGKVyCV",
        "outputId": "1cca20d2-a726-4468-b834-6e57a220e647"
      },
      "execution_count": 3,
      "outputs": [
        {
          "output_type": "stream",
          "name": "stdout",
          "text": [
            "[1, 3, 2]\n"
          ]
        }
      ]
    },
    {
      "cell_type": "markdown",
      "source": [
        "**Question 4**\n",
        "\n",
        "Given a sorted array of distinct integers and a target value, return the index if the\n",
        "target is found. If not, return the index where it would be if it were inserted in\n",
        "order.\n",
        "You must write an algorithm with O(log n) runtime complexity.\n",
        "\n",
        "**Example :**\n",
        "\n",
        "**Input:** nums = [1,3,5,6], target = 5\n",
        "\n",
        "**Output:** 2"
      ],
      "metadata": {
        "id": "izM8VFN0WNeM"
      }
    },
    {
      "cell_type": "code",
      "source": [
        "def searchInsert(nums, target):\n",
        "    n = len(nums)\n",
        "    left = 0\n",
        "    right = n - 1\n",
        "\n",
        "    while left <= right:\n",
        "        mid = (left + right) // 2\n",
        "\n",
        "        if nums[mid] == target:\n",
        "            return mid\n",
        "        elif nums[mid] < target:\n",
        "            left = mid + 1\n",
        "        else:\n",
        "            right = mid - 1\n",
        "\n",
        "    # If the target is not found, return the index where it would be inserted\n",
        "    return left\n",
        "\n",
        "# Example usage:\n",
        "nums = [1, 3, 5, 6]\n",
        "target = 5\n",
        "index = searchInsert(nums, target)\n",
        "print(index)  # Output: 2\n"
      ],
      "metadata": {
        "colab": {
          "base_uri": "https://localhost:8080/"
        },
        "id": "61HiDhfeWOiS",
        "outputId": "a5a0635c-8f44-4589-97fa-dcd82b05a166"
      },
      "execution_count": 4,
      "outputs": [
        {
          "output_type": "stream",
          "name": "stdout",
          "text": [
            "2\n"
          ]
        }
      ]
    },
    {
      "cell_type": "markdown",
      "source": [
        "**Question 5**\n",
        "\n",
        "You are given a large integer represented as an integer array digits, where each\n",
        "digits[i] is the ith digit of the integer. The digits are ordered from most significant\n",
        "to least significant in left-to-right order. The large integer does not contain any\n",
        "leading 0's.\n",
        "Increment the large integer by one and return the resulting array of digits.\n",
        "\n",
        "**Example :**\n",
        "\n",
        "**Input:** digits = [1,2,3]\n",
        "\n",
        "**Output:** [1,2,4]   \n",
        "**Explanation:** The array represents the integer 123.\n",
        "Incrementing by one gives 123 + 1 = 124.\n",
        "Thus, the result should be [1,2,4]."
      ],
      "metadata": {
        "id": "V1OGEQ-MW2EM"
      }
    },
    {
      "cell_type": "code",
      "source": [
        "def plusOne(digits):\n",
        "    n = len(digits)\n",
        "    carry = 1\n",
        "\n",
        "    for i in range(n - 1, -1, -1):\n",
        "        digits[i] += carry\n",
        "\n",
        "        if digits[i] < 10:\n",
        "            carry = 0\n",
        "            break\n",
        "        else:\n",
        "            digits[i] %= 10\n",
        "\n",
        "    if carry == 1:\n",
        "        digits.insert(0, 1)\n",
        "\n",
        "    return digits\n",
        "\n",
        "# Example usage:\n",
        "digits = [1, 2, 3]\n",
        "result = plusOne(digits)\n",
        "print(result)  # Output: [1, 2, 4]\n"
      ],
      "metadata": {
        "colab": {
          "base_uri": "https://localhost:8080/"
        },
        "id": "ybaUFCs8Wn71",
        "outputId": "cd98b2c0-9d88-4d45-bb70-2177bd146502"
      },
      "execution_count": 5,
      "outputs": [
        {
          "output_type": "stream",
          "name": "stdout",
          "text": [
            "[1, 2, 4]\n"
          ]
        }
      ]
    },
    {
      "cell_type": "markdown",
      "source": [
        "**Question 6**\n",
        "\n",
        "Given a non-empty array of integers nums, every element appears twice except\n",
        "for one. Find that single one.\n",
        "You must implement a solution with a linear runtime complexity and use only\n",
        "constant extra space.\n",
        "\n",
        "**Example :**\n",
        "\n",
        "**Input: **nums = [2,2,1]\n",
        "\n",
        "**Output**: 1"
      ],
      "metadata": {
        "id": "NOOC9_miXXb-"
      }
    },
    {
      "cell_type": "code",
      "source": [
        "def singleNumber(nums):\n",
        "    result = 0\n",
        "\n",
        "    for num in nums:\n",
        "        result ^= num\n",
        "\n",
        "    return result\n",
        "\n",
        "# Example usage:\n",
        "nums = [2, 2, 1]\n",
        "result = singleNumber(nums)\n",
        "print(result)  # Output: 1\n"
      ],
      "metadata": {
        "colab": {
          "base_uri": "https://localhost:8080/"
        },
        "id": "6LUShH6RXM0I",
        "outputId": "626b779c-af90-48de-f6c1-c1b1403a0030"
      },
      "execution_count": 6,
      "outputs": [
        {
          "output_type": "stream",
          "name": "stdout",
          "text": [
            "1\n"
          ]
        }
      ]
    },
    {
      "cell_type": "markdown",
      "source": [
        "**Question 7**\n",
        "You are given an inclusive range [lower, upper] and a sorted unique integer array\n",
        "nums, where all elements are within the inclusive range.\n",
        "A number x is considered missing if x is in the range [lower, upper] and x is not in\n",
        "nums.\n",
        "Return the shortest sorted list of ranges that exactly covers all the missing\n",
        "numbers. That is, no element of nums is included in any of the ranges, and each\n",
        "missing number is covered by one of the ranges.\n",
        "\n",
        "**Example 1:**\n",
        "\n",
        "**Input:** nums = [0,1,3,50,75], lower = 0, upper = 99\n",
        "\n",
        "**Output:** [[2,2],[4,49],[51,74],[76,99]]\n",
        "\n",
        "**Explanation:** The ranges are:\n",
        "[2,2]\n",
        "[4,49]\n",
        "[51,74]\n",
        "[76,99]"
      ],
      "metadata": {
        "id": "NXnwKNeqX08N"
      }
    },
    {
      "cell_type": "code",
      "source": [
        "def findMissingRanges(nums, lower, upper):\n",
        "    result = []\n",
        "    \n",
        "    def addRange(start, end):\n",
        "        if start == end:\n",
        "            result.append([start])\n",
        "        else:\n",
        "            result.append([start, end])\n",
        "\n",
        "    if nums[0] > lower:\n",
        "        addRange(lower, nums[0] - 1)\n",
        "\n",
        "    for i in range(1, len(nums)):\n",
        "        if nums[i] > nums[i - 1] + 1:\n",
        "            addRange(nums[i - 1] + 1, nums[i] - 1)\n",
        "\n",
        "    if nums[-1] < upper:\n",
        "        addRange(nums[-1] + 1, upper)\n",
        "\n",
        "    return result\n",
        "\n",
        "nums = [0, 1, 3, 50, 75]\n",
        "lower = 0\n",
        "upper = 99\n",
        "result = findMissingRanges(nums, lower, upper)\n",
        "print(result)  # Output: [[2, 2], [4, 49], [51, 74], [76, 99]]\n",
        "\n"
      ],
      "metadata": {
        "colab": {
          "base_uri": "https://localhost:8080/"
        },
        "id": "J5rtTDrhXhxu",
        "outputId": "cbb2b105-03ac-425a-c5ac-63d83c789d20"
      },
      "execution_count": 13,
      "outputs": [
        {
          "output_type": "stream",
          "name": "stdout",
          "text": [
            "[[2], [4, 49], [51, 74], [76, 99]]\n"
          ]
        }
      ]
    },
    {
      "cell_type": "markdown",
      "source": [
        "**Question 8**\n",
        "\n",
        "Given an array of meeting time intervals where intervals[i] = [starti, endi],\n",
        "determine if a person could attend all meetings.\n",
        "\n",
        "**Example :**\n",
        "\n",
        "**Input:** intervals = [[0,30],[5,10],[15,20]]\n",
        "\n",
        "**Output:** false"
      ],
      "metadata": {
        "id": "mAJlSIgfY96_"
      }
    },
    {
      "cell_type": "code",
      "source": [
        "def canAttendMeetings(intervals):\n",
        "    intervals.sort(key=lambda x: x[0])  # Sort the intervals based on start time\n",
        "\n",
        "    for i in range(1, len(intervals)):\n",
        "        if intervals[i][0] < intervals[i-1][1]:\n",
        "            return False\n",
        "\n",
        "    return True\n",
        "\n",
        "intervals = [[0, 30], [5, 10], [15, 20]]\n",
        "result = canAttendMeetings(intervals)\n",
        "print(result)  # Output: False\n"
      ],
      "metadata": {
        "colab": {
          "base_uri": "https://localhost:8080/"
        },
        "id": "VOxdjXIKYCXX",
        "outputId": "dc352588-176e-43b4-d5e2-e725c3efa02e"
      },
      "execution_count": 10,
      "outputs": [
        {
          "output_type": "stream",
          "name": "stdout",
          "text": [
            "False\n"
          ]
        }
      ]
    },
    {
      "cell_type": "code",
      "source": [],
      "metadata": {
        "id": "4NjJhvXBZJ03"
      },
      "execution_count": null,
      "outputs": []
    }
  ]
}