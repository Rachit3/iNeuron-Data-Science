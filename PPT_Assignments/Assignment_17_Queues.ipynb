{
  "nbformat": 4,
  "nbformat_minor": 0,
  "metadata": {
    "colab": {
      "provenance": []
    },
    "kernelspec": {
      "name": "python3",
      "display_name": "Python 3"
    },
    "language_info": {
      "name": "python"
    }
  },
  "cells": [
    {
      "cell_type": "markdown",
      "source": [
        " **Question 1**\n",
        "\n",
        "Given a string `s`, *find the first non-repeating character in it and return its index*. If it does not exist, return `-1`.\n",
        "\n",
        "**Example 1:**\n",
        "\n",
        "```\n",
        "Input: s = \"leetcode\"\n",
        "Output: 0\n",
        "\n",
        "```\n",
        "\n",
        "**Example 2:**\n",
        "\n",
        "```\n",
        "Input: s = \"loveleetcode\"\n",
        "Output: 2\n",
        "\n",
        "```\n",
        "\n",
        "**Example 3:**\n",
        "\n",
        "```\n",
        "Input: s = \"aabb\"\n",
        "Output: -1\n",
        "```\n",
        "\n"
      ],
      "metadata": {
        "id": "0f7TNrLuQu2-"
      }
    },
    {
      "cell_type": "code",
      "execution_count": 1,
      "metadata": {
        "colab": {
          "base_uri": "https://localhost:8080/"
        },
        "id": "A6AWoJC1QYYO",
        "outputId": "9dff98ef-fd79-4e93-bf57-a0d7dc10ac16"
      },
      "outputs": [
        {
          "output_type": "stream",
          "name": "stdout",
          "text": [
            "0\n"
          ]
        }
      ],
      "source": [
        "def firstUniqChar(s):\n",
        "    # Step 1: Create a hash map to store character frequencies\n",
        "    charFreq = {}\n",
        "    for char in s:\n",
        "        if char in charFreq:\n",
        "            charFreq[char] += 1\n",
        "        else:\n",
        "            charFreq[char] = 1\n",
        "\n",
        "    # Step 2: Find the first non-repeating character\n",
        "    for i in range(len(s)):\n",
        "        if charFreq[s[i]] == 1:\n",
        "            return i\n",
        "\n",
        "    # Step 3: No non-repeating character found\n",
        "    return -1\n",
        "\n",
        "# Example usage:\n",
        "s = \"leetcode\"\n",
        "result = firstUniqChar(s)\n",
        "print(result)  # Output: 0\n"
      ]
    },
    {
      "cell_type": "markdown",
      "source": [
        "\n",
        " **Question 2**\n",
        "\n",
        "Given a **circular integer array** `nums` of length `n`, return *the maximum possible sum of a non-empty **subarray** of* `nums`.\n",
        "\n",
        "A **circular array** means the end of the array connects to the beginning of the array. Formally, the next element of `nums[i]` is `nums[(i + 1) % n]` and the previous element of `nums[i]` is `nums[(i - 1 + n) % n]`.\n",
        "\n",
        "A **subarray** may only include each element of the fixed buffer `nums` at most once. Formally, for a subarray `nums[i], nums[i + 1], ..., nums[j]`, there does not exist `i <= k1`, `k2 <= j` with `k1 % n == k2 % n`.\n",
        "\n",
        "**Example 1:**\n",
        "\n",
        "```\n",
        "Input: nums = [1,-2,3,-2]\n",
        "Output: 3\n",
        "Explanation: Subarray [3] has maximum sum 3.\n",
        "\n",
        "```\n",
        "\n",
        "**Example 2:**\n",
        "\n",
        "```\n",
        "Input: nums = [5,-3,5]\n",
        "Output: 10\n",
        "Explanation: Subarray [5,5] has maximum sum 5 + 5 = 10.\n",
        "\n",
        "```\n",
        "\n",
        "**Example 3:**\n",
        "\n",
        "```\n",
        "Input: nums = [-3,-2,-3]\n",
        "Output: -2\n",
        "Explanation: Subarray [-2] has maximum sum -2.\n",
        "```\n",
        "\n"
      ],
      "metadata": {
        "id": "ROHdYxEgQwGQ"
      }
    },
    {
      "cell_type": "code",
      "source": [
        "def maxSubarraySumCircular(nums):\n",
        "    # Kadane's algorithm to find maximum subarray sum in a linear array\n",
        "    def kadane(nums):\n",
        "        maxSum = float('-inf')\n",
        "        currentSum = 0\n",
        "        for num in nums:\n",
        "            currentSum = max(num, currentSum + num)\n",
        "            maxSum = max(maxSum, currentSum)\n",
        "        return maxSum\n",
        "\n",
        "    # Step 1: Find maximum subarray sum in the linear array\n",
        "    maxSumLinear = kadane(nums)\n",
        "\n",
        "    # Step 2: Find minimum subarray sum in the linear array with signs flipped\n",
        "    minSumLinear = kadane([-num for num in nums])\n",
        "\n",
        "    # Step 3: Calculate total sum of the original array\n",
        "    totalSum = sum(nums)\n",
        "\n",
        "    # Step 4: Find maximum subarray sum that wraps around\n",
        "    maxSumCircular = totalSum - minSumLinear\n",
        "\n",
        "    # Step 5: Get the maximum of the linear and circular subarray sums\n",
        "    maxSum = max(maxSumLinear, maxSumCircular)\n",
        "\n",
        "    return maxSum\n",
        "\n",
        "# Example usage:\n",
        "nums = [1, -2, 3, -2]\n",
        "result = maxSubarraySumCircular(nums)\n",
        "print(result)  # Output: 3\n"
      ],
      "metadata": {
        "colab": {
          "base_uri": "https://localhost:8080/"
        },
        "id": "ypRVl9JVQveh",
        "outputId": "ed4f1cf4-6feb-42ea-8cd7-166eea96a146"
      },
      "execution_count": 2,
      "outputs": [
        {
          "output_type": "stream",
          "name": "stdout",
          "text": [
            "3\n"
          ]
        }
      ]
    },
    {
      "cell_type": "markdown",
      "source": [
        " **Question 3**\n",
        "\n",
        "The school cafeteria offers circular and square sandwiches at lunch break, referred to by numbers `0` and `1` respectively. All students stand in a queue. Each student either prefers square or circular sandwiches.\n",
        "\n",
        "The number of sandwiches in the cafeteria is equal to the number of students. The sandwiches are placed in a **stack**. At each step:\n",
        "\n",
        "- If the student at the front of the queue **prefers** the sandwich on the top of the stack, they will **take it** and leave the queue.\n",
        "- Otherwise, they will **leave it** and go to the queue's end.\n",
        "\n",
        "This continues until none of the queue students want to take the top sandwich and are thus unable to eat.\n",
        "\n",
        "You are given two integer arrays `students` and `sandwiches` where `sandwiches[i]` is the type of the `ith` sandwich in the stack (`i = 0` is the top of the stack) and `students[j]` is the preference of the `jth` student in the initial queue (`j = 0` is the front of the queue). Return *the number of students that are unable to eat.*\n",
        "\n",
        "**Example 1:**\n",
        "\n",
        "```\n",
        "Input: students = [1,1,0,0], sandwiches = [0,1,0,1]\n",
        "Output: 0\n",
        "Explanation:\n",
        "- Front student leaves the top sandwich and returns to the end of the line making students = [1,0,0,1].\n",
        "- Front student leaves the top sandwich and returns to the end of the line making students = [0,0,1,1].\n",
        "- Front student takes the top sandwich and leaves the line making students = [0,1,1] and sandwiches = [1,0,1].\n",
        "- Front student leaves the top sandwich and returns to the end of the line making students = [1,1,0].\n",
        "- Front student takes the top sandwich and leaves the line making students = [1,0] and sandwiches = [0,1].\n",
        "- Front student leaves the top sandwich and returns to the end of the line making students = [0,1].\n",
        "- Front student takes the top sandwich and leaves the line making students = [1] and sandwiches = [1].\n",
        "- Front student takes the top sandwich and leaves the line making students = [] and sandwiches = [].\n",
        "Hence all students are able to eat.\n",
        "\n",
        "```\n",
        "\n",
        "**Example 2:**\n",
        "\n",
        "```\n",
        "Input: students = [1,1,1,0,0,1], sandwiches = [1,0,0,0,1,1]\n",
        "Output: 3\n",
        "```\n",
        "\n"
      ],
      "metadata": {
        "id": "nfX4OmYlQw3D"
      }
    },
    {
      "cell_type": "code",
      "source": [
        "def countStudents(students, sandwiches):\n",
        "    student_queue = students  # Initialize the student queue\n",
        "    sandwich_stack = sandwiches  # Initialize the sandwich stack\n",
        "\n",
        "    while student_queue:\n",
        "        if student_queue[0] == sandwich_stack[0]:\n",
        "            student_queue.pop(0)  # Student takes the sandwich\n",
        "            sandwich_stack.pop(0)  # Sandwich is consumed\n",
        "        else:\n",
        "            student_queue.append(student_queue.pop(0))  # Student goes to the end of the queue\n",
        "\n",
        "        # Check if no students are able to take the top sandwich\n",
        "        if student_queue.count(student_queue[0]) == len(student_queue):\n",
        "            break\n",
        "\n",
        "    return len(student_queue)  # Return the number of students unable to eat\n",
        "\n",
        "\n",
        "\n",
        "students = [1, 1, 0, 0]\n",
        "sandwiches = [0, 1, 0, 1]\n",
        "print(countStudents(students, sandwiches))\n",
        "\n",
        "students = [1, 1, 1, 0, 0, 1]\n",
        "sandwiches = [1, 0, 0, 0, 1, 1]\n",
        "print(countStudents(students, sandwiches))\n"
      ],
      "metadata": {
        "colab": {
          "base_uri": "https://localhost:8080/"
        },
        "id": "6CR_6JW6QxVG",
        "outputId": "46eec84f-6234-4a65-e3cb-5c979a9ca4cf"
      },
      "execution_count": 3,
      "outputs": [
        {
          "output_type": "stream",
          "name": "stdout",
          "text": [
            "1\n",
            "3\n"
          ]
        }
      ]
    },
    {
      "cell_type": "markdown",
      "source": [
        " **Question 4**\n",
        "\n",
        "You have a `RecentCounter` class which counts the number of recent requests within a certain time frame.\n",
        "\n",
        "Implement the `RecentCounter` class:\n",
        "\n",
        "- `RecentCounter()` Initializes the counter with zero recent requests.\n",
        "- `int ping(int t)` Adds a new request at time `t`, where `t` represents some time in milliseconds, and returns the number of requests that has happened in the past `3000` milliseconds (including the new request). Specifically, return the number of requests that have happened in the inclusive range `[t - 3000, t]`.\n",
        "\n",
        "It is **guaranteed** that every call to `ping` uses a strictly larger value of `t` than the previous call.\n",
        "\n",
        "**Example 1:**\n",
        "\n",
        "```\n",
        "Input\n",
        "[\"RecentCounter\", \"ping\", \"ping\", \"ping\", \"ping\"]\n",
        "[[], [1], [100], [3001], [3002]]\n",
        "Output\n",
        "[null, 1, 2, 3, 3]\n",
        "\n",
        "Explanation\n",
        "RecentCounter recentCounter = new RecentCounter();\n",
        "recentCounter.ping(1);     // requests = [1], range is [-2999,1], return 1\n",
        "recentCounter.ping(100);   // requests = [1,100], range is [-2900,100], return 2\n",
        "recentCounter.ping(3001);  // requests = [1,100,3001], range is [1,3001], return 3\n",
        "recentCounter.ping(3002);  // requests = [1,100,3001,3002], range is [2,3002], return 3\n",
        "```\n",
        "\n"
      ],
      "metadata": {
        "id": "_bdc7Hh4QxxG"
      }
    },
    {
      "cell_type": "code",
      "source": [
        "from collections import deque\n",
        "\n",
        "class RecentCounter:\n",
        "    def __init__(self):\n",
        "        self.requests = deque()\n",
        "\n",
        "    def ping(self, t: int) -> int:\n",
        "        self.requests.append(t)\n",
        "\n",
        "        # Remove outdated requests\n",
        "        while self.requests[0] < t - 3000:\n",
        "            self.requests.popleft()\n",
        "\n",
        "        return len(self.requests)\n",
        "\n",
        "\n",
        "recentCounter = RecentCounter()\n",
        "print(recentCounter.ping(1))     # Output: 1\n",
        "print(recentCounter.ping(100))   # Output: 2\n",
        "print(recentCounter.ping(3001))  # Output: 3\n",
        "print(recentCounter.ping(3002))  # Output: 3\n"
      ],
      "metadata": {
        "colab": {
          "base_uri": "https://localhost:8080/"
        },
        "id": "Z1kbNQBVQyLH",
        "outputId": "0aa44d6f-d42d-4da3-a196-1d7900553642"
      },
      "execution_count": 4,
      "outputs": [
        {
          "output_type": "stream",
          "name": "stdout",
          "text": [
            "1\n",
            "2\n",
            "3\n",
            "3\n"
          ]
        }
      ]
    },
    {
      "cell_type": "markdown",
      "source": [
        "\n",
        " **Question 5**\n",
        "\n",
        "There are `n` friends that are playing a game. The friends are sitting in a circle and are numbered from `1` to `n` in **clockwise order**. More formally, moving clockwise from the `ith` friend brings you to the `(i+1)th` friend for `1 <= i < n`, and moving clockwise from the `nth` friend brings you to the `1st` friend.\n",
        "\n",
        "The rules of the game are as follows:\n",
        "\n",
        "1. **Start** at the `1st` friend.\n",
        "2. Count the next `k` friends in the clockwise direction **including** the friend you started at. The counting wraps around the circle and may count some friends more than once.\n",
        "3. The last friend you counted leaves the circle and loses the game.\n",
        "4. If there is still more than one friend in the circle, go back to step `2` **starting** from the friend **immediately clockwise** of the friend who just lost and repeat.\n",
        "5. Else, the last friend in the circle wins the game.\n",
        "\n",
        "Given the number of friends, `n`, and an integer `k`, return *the winner of the game*.\n",
        "\n",
        "**Example 1:**\n",
        "\n",
        "\n",
        "```\n",
        "Input: n = 5, k = 2\n",
        "Output: 3\n",
        "Explanation: Here are the steps of the game:\n",
        "1) Start at friend 1.\n",
        "2) Count 2 friends clockwise, which are friends 1 and 2.\n",
        "3) Friend 2 leaves the circle. Next start is friend 3.\n",
        "4) Count 2 friends clockwise, which are friends 3 and 4.\n",
        "5) Friend 4 leaves the circle. Next start is friend 5.\n",
        "6) Count 2 friends clockwise, which are friends 5 and 1.\n",
        "7) Friend 1 leaves the circle. Next start is friend 3.\n",
        "8) Count 2 friends clockwise, which are friends 3 and 5.\n",
        "9) Friend 5 leaves the circle. Only friend 3 is left, so they are the winner.\n",
        "```\n",
        "\n",
        "\n",
        "\n",
        "**Example 2:**\n",
        "\n",
        "```\n",
        "Input: n = 6, k = 5\n",
        "Output: 1\n",
        "Explanation: The friends leave in this order: 5, 4, 6, 2, 3. The winner is friend 1.\n",
        "```\n",
        "\n"
      ],
      "metadata": {
        "id": "AvYOVOjMQy0w"
      }
    },
    {
      "cell_type": "code",
      "source": [
        "def findTheWinner(n: int, k: int) -> int:\n",
        "    friends = list(range(1, n+1))\n",
        "    start = 0\n",
        "\n",
        "    while len(friends) > 1:\n",
        "        start = (start + k-1) % len(friends)\n",
        "        friends.pop(start)\n",
        "\n",
        "    return friends[0]\n",
        "\n",
        "print(findTheWinner(5, 2))  # Output: 3\n",
        "print(findTheWinner(6, 5))  # Output: 1\n"
      ],
      "metadata": {
        "colab": {
          "base_uri": "https://localhost:8080/"
        },
        "id": "Ak7zW8BjQzNx",
        "outputId": "ce9ae9b6-d3fd-4b94-b83b-cd8752553ffc"
      },
      "execution_count": 5,
      "outputs": [
        {
          "output_type": "stream",
          "name": "stdout",
          "text": [
            "3\n",
            "1\n"
          ]
        }
      ]
    },
    {
      "cell_type": "markdown",
      "source": [
        " **Question 6**\n",
        "\n",
        "You are given an integer array `deck`. There is a deck of cards where every card has a unique integer. The integer on the `ith` card is `deck[i]`.\n",
        "\n",
        "You can order the deck in any order you want. Initially, all the cards start face down (unrevealed) in one deck.\n",
        "\n",
        "You will do the following steps repeatedly until all cards are revealed:\n",
        "\n",
        "1. Take the top card of the deck, reveal it, and take it out of the deck.\n",
        "2. If there are still cards in the deck then put the next top card of the deck at the bottom of the deck.\n",
        "3. If there are still unrevealed cards, go back to step 1. Otherwise, stop.\n",
        "\n",
        "Return *an ordering of the deck that would reveal the cards in increasing order*.\n",
        "\n",
        "**Note** that the first entry in the answer is considered to be the top of the deck.\n",
        "\n",
        "**Example 1:**\n",
        "\n",
        "```\n",
        "Input: deck = [17,13,11,2,3,5,7]\n",
        "Output: [2,13,3,11,5,17,7]\n",
        "Explanation:\n",
        "We get the deck in the order [17,13,11,2,3,5,7] (this order does not matter), and reorder it.\n",
        "After reordering, the deck starts as [2,13,3,11,5,17,7], where 2 is the top of the deck.\n",
        "We reveal 2, and move 13 to the bottom.  The deck is now [3,11,5,17,7,13].\n",
        "We reveal 3, and move 11 to the bottom.  The deck is now [5,17,7,13,11].\n",
        "We reveal 5, and move 17 to the bottom.  The deck is now [7,13,11,17].\n",
        "We reveal 7, and move 13 to the bottom.  The deck is now [11,17,13].\n",
        "We reveal 11, and move 17 to the bottom.  The deck is now [13,17].\n",
        "We reveal 13, and move 17 to the bottom.  The deck is now [17].\n",
        "We reveal 17.\n",
        "Since all the cards revealed are in increasing order, the answer is correct.\n",
        "\n",
        "```\n",
        "\n",
        "**Example 2:**\n",
        "\n",
        "```\n",
        "Input: deck = [1,1000]\n",
        "Output: [1,1000]\n",
        "```\n",
        "\n"
      ],
      "metadata": {
        "id": "AdDl__L2Qzgl"
      }
    },
    {
      "cell_type": "code",
      "source": [
        "def deckRevealedIncreasing(deck):\n",
        "    n = len(deck)\n",
        "    deck.sort(reverse=True)\n",
        "    result = []\n",
        "\n",
        "    for card in deck:\n",
        "        if result:\n",
        "            result.insert(0, result.pop())\n",
        "\n",
        "        result.insert(0, card)\n",
        "\n",
        "    return result\n",
        "\n",
        "\n",
        "print(deckRevealedIncreasing([17, 13, 11, 2, 3, 5, 7]))  # Output: [2, 13, 3, 11, 5, 17, 7]\n",
        "print(deckRevealedIncreasing([1, 1000]))  # Output: [1, 1000]\n"
      ],
      "metadata": {
        "colab": {
          "base_uri": "https://localhost:8080/"
        },
        "id": "MARtb5PkQz78",
        "outputId": "90e9ab7c-8d27-4898-cce9-1b7b9dcd405a"
      },
      "execution_count": 6,
      "outputs": [
        {
          "output_type": "stream",
          "name": "stdout",
          "text": [
            "[2, 13, 3, 11, 5, 17, 7]\n",
            "[1, 1000]\n"
          ]
        }
      ]
    },
    {
      "cell_type": "markdown",
      "source": [
        " **Question 7**\n",
        "\n",
        "Design a queue that supports `push` and `pop` operations in the front, middle, and back.\n",
        "\n",
        "Implement the `FrontMiddleBack` class:\n",
        "\n",
        "- `FrontMiddleBack()` Initializes the queue.\n",
        "- `void pushFront(int val)` Adds `val` to the **front** of the queue.\n",
        "- `void pushMiddle(int val)` Adds `val` to the **middle** of the queue.\n",
        "- `void pushBack(int val)` Adds `val` to the **back** of the queue.\n",
        "- `int popFront()` Removes the **front** element of the queue and returns it. If the queue is empty, return `1`.\n",
        "- `int popMiddle()` Removes the **middle** element of the queue and returns it. If the queue is empty, return `1`.\n",
        "- `int popBack()` Removes the **back** element of the queue and returns it. If the queue is empty, return `1`.\n",
        "\n",
        "**Notice** that when there are **two** middle position choices, the operation is performed on the **frontmost** middle position choice. For example:\n",
        "\n",
        "- Pushing `6` into the middle of `[1, 2, 3, 4, 5]` results in `[1, 2, 6, 3, 4, 5]`.\n",
        "- Popping the middle from `[1, 2, 3, 4, 5, 6]` returns `3` and results in `[1, 2, 4, 5, 6]`.\n",
        "\n",
        "**Example 1:**\n",
        "\n",
        "```\n",
        "Input:\n",
        "[\"FrontMiddleBackQueue\", \"pushFront\", \"pushBack\", \"pushMiddle\", \"pushMiddle\", \"popFront\", \"popMiddle\", \"popMiddle\", \"popBack\", \"popFront\"]\n",
        "[[], [1], [2], [3], [4], [], [], [], [], []]\n",
        "Output:\n",
        "[null, null, null, null, null, 1, 3, 4, 2, -1]\n",
        "\n",
        "Explanation:\n",
        "FrontMiddleBackQueue q = new FrontMiddleBackQueue();\n",
        "q.pushFront(1);   // [1]\n",
        "q.pushBack(2);    // [1,2]\n",
        "q.pushMiddle(3);  // [1,3, 2]\n",
        "q.pushMiddle(4);  // [1,4, 3, 2]\n",
        "q.popFront();     // return 1 -> [4, 3, 2]\n",
        "q.popMiddle();    // return 3 -> [4, 2]\n",
        "q.popMiddle();    // return 4 -> [2]\n",
        "q.popBack();      // return 2 -> []\n",
        "q.popFront();     // return -1 -> [] (The queue is empty)\n",
        "```\n",
        "\n"
      ],
      "metadata": {
        "id": "yrjW_oNeQ0ft"
      }
    },
    {
      "cell_type": "code",
      "source": [
        "from collections import deque\n",
        "\n",
        "class FrontMiddleBackQueue:\n",
        "    def __init__(self):\n",
        "        self.frontDeque = deque()\n",
        "        self.backDeque = deque()\n",
        "\n",
        "    def pushFront(self, val: int) -> None:\n",
        "        self.frontDeque.appendleft(val)\n",
        "\n",
        "    def pushMiddle(self, val: int) -> None:\n",
        "        if len(self.frontDeque) == len(self.backDeque) or len(self.frontDeque) > len(self.backDeque):\n",
        "            self.backDeque.appendleft(self.frontDeque.pop())\n",
        "            self.frontDeque.append(val)\n",
        "        else:\n",
        "            self.frontDeque.appendleft(self.backDeque.popleft())\n",
        "            self.backDeque.append(val)\n",
        "\n",
        "    def pushBack(self, val: int) -> None:\n",
        "        self.backDeque.append(val)\n",
        "\n",
        "    def popFront(self) -> int:\n",
        "        if self.frontDeque:\n",
        "            return self.frontDeque.popleft()\n",
        "        elif self.backDeque:\n",
        "            return self.backDeque.popleft()\n",
        "        else:\n",
        "            return -1\n",
        "\n",
        "    def popMiddle(self) -> int:\n",
        "        if len(self.frontDeque) == len(self.backDeque):\n",
        "            return self.frontDeque.pop()\n",
        "        elif len(self.frontDeque) > len(self.backDeque):\n",
        "            return self.frontDeque.popleft()\n",
        "        elif len(self.backDeque) > len(self.frontDeque):\n",
        "            return self.backDeque.pop()\n",
        "        else:\n",
        "            return -1\n",
        "\n",
        "    def popBack(self) -> int:\n",
        "        if self.backDeque:\n",
        "            return self.backDeque.pop()\n",
        "        elif self.frontDeque:\n",
        "            return self.frontDeque.pop()\n",
        "        else:\n",
        "            return -1\n",
        "\n",
        "q = FrontMiddleBackQueue()\n",
        "q.pushFront(1)\n",
        "q.pushBack(2)\n",
        "q.pushMiddle(3)\n",
        "q.pushMiddle(4)\n",
        "print(q.popFront())  # Output: 1\n",
        "print(q.popMiddle())  # Output: 3\n",
        "print(q.popMiddle())  # Output: 4\n",
        "print(q.popBack())  # Output: 2\n",
        "print(q.popFront())  # Output: -1\n"
      ],
      "metadata": {
        "colab": {
          "base_uri": "https://localhost:8080/"
        },
        "id": "mOLO5T0PQ2ci",
        "outputId": "6fa62187-8da7-472f-ca5d-f84473685212"
      },
      "execution_count": 7,
      "outputs": [
        {
          "output_type": "stream",
          "name": "stdout",
          "text": [
            "1\n",
            "4\n",
            "3\n",
            "2\n",
            "-1\n"
          ]
        }
      ]
    },
    {
      "cell_type": "markdown",
      "source": [
        " **Question 8**\n",
        "\n",
        "For a stream of integers, implement a data structure that checks if the last `k` integers parsed in the stream are **equal** to `value`.\n",
        "\n",
        "Implement the **DataStream** class:\n",
        "\n",
        "- `DataStream(int value, int k)` Initializes the object with an empty integer stream and the two integers `value` and `k`.\n",
        "- `boolean consec(int num)` Adds `num` to the stream of integers. Returns `true` if the last `k` integers are equal to `value`, and `false` otherwise. If there are less than `k` integers, the condition does not hold true, so returns `false`.\n",
        "\n",
        "**Example 1:**\n",
        "\n",
        "```\n",
        "Input\n",
        "[\"DataStream\", \"consec\", \"consec\", \"consec\", \"consec\"]\n",
        "[[4, 3], [4], [4], [4], [3]]\n",
        "Output\n",
        "[null, false, false, true, false]\n",
        "\n",
        "Explanation\n",
        "DataStream dataStream = new DataStream(4, 3); //value = 4, k = 3\n",
        "dataStream.consec(4); // Only 1 integer is parsed, so returns False.\n",
        "dataStream.consec(4); // Only 2 integers are parsed.\n",
        "                      // Since 2 is less than k, returns False.\n",
        "dataStream.consec(4); // The 3 integers parsed are all equal to value, so returns True.\n",
        "dataStream.consec(3); // The last k integers parsed in the stream are [4,4,3].\n",
        "                      // Since 3 is not equal to value, it returns False.\n",
        "```\n",
        "\n",
        "</aside>"
      ],
      "metadata": {
        "id": "k5R4bw1tQ1ol"
      }
    },
    {
      "cell_type": "code",
      "source": [
        "from collections import deque\n",
        "\n",
        "class DataStream:\n",
        "    def __init__(self, value: int, k: int):\n",
        "        self.value = value\n",
        "        self.k = k\n",
        "        self.stream = deque()\n",
        "\n",
        "    def consec(self, num: int) -> bool:\n",
        "        self.stream.append(num)\n",
        "\n",
        "        if len(self.stream) > self.k:\n",
        "            self.stream.popleft()\n",
        "\n",
        "        return len(self.stream) == self.k and all(num == self.value for num in self.stream)\n",
        "\n",
        "dataStream = DataStream(4, 3)\n",
        "print(dataStream.consec(4))  # Output: False\n",
        "print(dataStream.consec(4))  # Output: False\n",
        "print(dataStream.consec(4))  # Output: True\n",
        "print(dataStream.consec(3))  # Output: False\n"
      ],
      "metadata": {
        "colab": {
          "base_uri": "https://localhost:8080/"
        },
        "id": "bHmI8MbrQ1LA",
        "outputId": "59e03346-620a-4dc1-9941-1ad7f2497399"
      },
      "execution_count": 8,
      "outputs": [
        {
          "output_type": "stream",
          "name": "stdout",
          "text": [
            "False\n",
            "False\n",
            "True\n",
            "False\n"
          ]
        }
      ]
    },
    {
      "cell_type": "code",
      "source": [],
      "metadata": {
        "id": "yuzT3v8oVWs1"
      },
      "execution_count": null,
      "outputs": []
    }
  ]
}