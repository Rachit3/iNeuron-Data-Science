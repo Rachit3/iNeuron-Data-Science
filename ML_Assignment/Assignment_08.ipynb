{
 "cells": [
  {
   "cell_type": "markdown",
   "id": "19d4f3bd",
   "metadata": {},
   "source": [
    "##### 1. What exactly is a feature? Give an example to illustrate your point ?"
   ]
  },
  {
   "cell_type": "markdown",
   "id": "797d1cdb",
   "metadata": {},
   "source": [
    "**Ans:** A feature is a measurable property or characteristic of an object or phenomenon. For example, in a dataset of houses, a feature could be the number of bedrooms."
   ]
  },
  {
   "cell_type": "markdown",
   "id": "941bc9d9",
   "metadata": {},
   "source": [
    "##### 2. What are the various circumstances in which feature construction is required ?"
   ]
  },
  {
   "cell_type": "markdown",
   "id": "08f0d0e7",
   "metadata": {},
   "source": [
    "**Ans:** Feature construction is required in various circumstances, such as when the existing features are not informative enough, when new relevant features need to be created from the existing ones, or when the data representation needs to be transformed to enhance the performance of a machine learning algorithm."
   ]
  },
  {
   "cell_type": "markdown",
   "id": "3a53a7ce",
   "metadata": {},
   "source": [
    "##### 3. Describe how nominal variables are encoded ?"
   ]
  },
  {
   "cell_type": "markdown",
   "id": "0b3b1d24",
   "metadata": {},
   "source": [
    "**Ans:** Nominal variables are encoded by assigning unique numerical values to each category or label. For example, in a dataset with a \"color\" feature having categories like \"red,\" \"green,\" and \"blue,\" they can be encoded as 1, 2, and 3, respectively."
   ]
  },
  {
   "cell_type": "markdown",
   "id": "c4de4555",
   "metadata": {},
   "source": [
    "##### 4. Describe how numeric features are converted to categorical features ?"
   ]
  },
  {
   "cell_type": "markdown",
   "id": "7a2ce760",
   "metadata": {},
   "source": [
    "**Ans:** Converting categorical features into numeric features using domain knowledge. For example, we are given a list of countries and say we know the distance to these countries from India then we can replace it with distance from India. So, every country can be represented as its distance from India."
   ]
  },
  {
   "cell_type": "markdown",
   "id": "d6109820",
   "metadata": {},
   "source": [
    "##### 5. Describe the feature selection wrapper approach. State the advantages and disadvantages of this approach ?"
   ]
  },
  {
   "cell_type": "markdown",
   "id": "72de65b0",
   "metadata": {},
   "source": [
    "**Ans:** Wrapper methods measure the “usefulness” of features based on the classifier performance. In contrast, the filter methods pick up the intrinsic properties of the features (i.e., the “relevance” of the features) measured via univariate statistics instead of cross-validation performance.\n",
    "\n",
    "The wrapper classification algorithms with joint dimensionality reduction and classification can also be used but these methods have high computation cost, lower discriminative power. Moreover, these methods depend on the efficient selection of classifiers for obtaining high accuracy"
   ]
  },
  {
   "cell_type": "markdown",
   "id": "51584401",
   "metadata": {},
   "source": [
    "##### 6. When is a feature considered irrelevant? What can be said to quantify it ?"
   ]
  },
  {
   "cell_type": "markdown",
   "id": "a2a92af6",
   "metadata": {},
   "source": [
    "**Ans:** A feature is considered irrelevant when it doesn't contribute significantly to the predictive power of a model. Its relevance can be quantified using metrics such as information gain, correlation coefficients, or feature importance scores."
   ]
  },
  {
   "cell_type": "markdown",
   "id": "3d21fc3f",
   "metadata": {},
   "source": [
    "##### 7. When is a function considered redundant? What criteria are used to identify features that could be redundant ?"
   ]
  },
  {
   "cell_type": "markdown",
   "id": "8d0ce42e",
   "metadata": {},
   "source": [
    "**Ans:** A function is considered redundant when it can be expressed or derived from other existing features in the dataset. Criteria to identify redundant features include correlation analysis, feature importance ranking, or measuring the increase in model performance after removing the feature."
   ]
  },
  {
   "cell_type": "markdown",
   "id": "7bd4a123",
   "metadata": {},
   "source": [
    "##### 8. What are the various distance measurements used to determine feature similarity ?"
   ]
  },
  {
   "cell_type": "markdown",
   "id": "ed81d5c4",
   "metadata": {},
   "source": [
    "**Ans:** Four of the most commonly used distance measures in machine learning are as follows: \n",
    "- Hamming Distance. \n",
    "- Euclidean Distance\n",
    "- Manhattan Distance."
   ]
  },
  {
   "cell_type": "markdown",
   "id": "e4d6004e",
   "metadata": {},
   "source": [
    "##### 9. State difference between Euclidean and Manhattan distances ?"
   ]
  },
  {
   "cell_type": "markdown",
   "id": "a39944ba",
   "metadata": {},
   "source": [
    "**Ans:** Euclidean & Hamming distances are used to measure similarity or dissimilarity between two sequences. Euclidean distance is extensively applied in analysis of convolutional codes and Trellis codes.\n",
    "\n",
    "Hamming distance is frequently encountered in the analysis of block codes."
   ]
  },
  {
   "cell_type": "markdown",
   "id": "d8a5cfd2",
   "metadata": {},
   "source": [
    "##### 10. Distinguish between feature transformation and feature selection ?"
   ]
  },
  {
   "cell_type": "markdown",
   "id": "722dfcff",
   "metadata": {},
   "source": [
    "**Ans:** Feature selection is for filtering irrelevant or redundant features from your dataset. The key difference between feature selection and extraction is that feature selection keeps a subset of the original features while feature extraction creates brand new ones."
   ]
  },
  {
   "cell_type": "markdown",
   "id": "a90b588d",
   "metadata": {},
   "source": [
    "**11. Make brief notes on any two of the following:**\n",
    "\n",
    "1. SVD (Standard Variable Diameter Diameter)\n",
    "\n",
    "2. Collection of features using a hybrid approach\n",
    "\n",
    "3. The width of the silhouette\n",
    "\n",
    "4. Receiver operating characteristic curve"
   ]
  },
  {
   "cell_type": "markdown",
   "id": "509a21b4",
   "metadata": {},
   "source": [
    "**Ans:**\n",
    "\n",
    "SVD (Singular Value Decomposition): It is a matrix factorization technique used for dimensionality reduction and feature extraction. It decomposes a matrix into three separate matrices and is widely used in various applications, including recommender systems and image compression.\n",
    "\n",
    "Collection of features using a hybrid approach: It refers to combining multiple feature extraction methods or feature sources to create a comprehensive set of features. This approach aims to leverage the strengths of different methods or sources to improve the overall feature representation and enhance model performance."
   ]
  }
 ],
 "metadata": {
  "kernelspec": {
   "display_name": "Python 3",
   "language": "python",
   "name": "python3"
  },
  "language_info": {
   "codemirror_mode": {
    "name": "ipython",
    "version": 3
   },
   "file_extension": ".py",
   "mimetype": "text/x-python",
   "name": "python",
   "nbconvert_exporter": "python",
   "pygments_lexer": "ipython3",
   "version": "3.8.8"
  }
 },
 "nbformat": 4,
 "nbformat_minor": 5
}
