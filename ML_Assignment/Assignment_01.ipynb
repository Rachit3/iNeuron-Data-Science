{
 "cells": [
  {
   "cell_type": "markdown",
   "id": "5542f5dd",
   "metadata": {},
   "source": [
    "##### 1. What does one mean by the term \"machine learning\" ?\n",
    "**Ans:** \"Machine learning\" refers to the process of training computers to learn and make predictions or decisions without being explicitly programmed."
   ]
  },
  {
   "cell_type": "markdown",
   "id": "191d54fe",
   "metadata": {},
   "source": [
    "##### 2.Can you think of 4 distinct types of issues where it shines ?\n",
    "**Ans:** \n",
    "Four distinct types of issues where machine learning shines are image recognition, natural language processing, fraud detection, and recommendation systems."
   ]
  },
  {
   "cell_type": "markdown",
   "id": "2be941b1",
   "metadata": {},
   "source": [
    "##### 3.What is a labeled training set, and how does it work ?\n",
    "**Ans:** You split up the data containing known response variable values into two pieces. The training set is used to train the algorithm, and then you use the trained model on the test set to predict the response variable values that are already known."
   ]
  },
  {
   "cell_type": "markdown",
   "id": "af127751",
   "metadata": {},
   "source": [
    "##### 4.What are the two most important tasks that are supervised ?\n",
    "**Ans:** The two most common supervised learning tasks are **Regression** and **Classification**."
   ]
  },
  {
   "cell_type": "markdown",
   "id": "18091371",
   "metadata": {},
   "source": [
    "##### 5.Can you think of four examples of unsupervised tasks ?\n",
    "**Ans:** Four common Unsupervised Tasks included **Clustering**, **Visualization**, **Dimensionality Reduction**, and **Association Rule Learning**."
   ]
  },
  {
   "cell_type": "markdown",
   "id": "4253e5da",
   "metadata": {},
   "source": [
    "##### 6.State the machine learning model that would be best to make a robot walk through various unfamiliar terrains ?\n",
    "**Ans:** The best Machine Learning algorithm to allow a Robot to walk in unfamiliar terrains is **Reinforced Learning**, where the robot can learn from response of the terrain to optimize itself."
   ]
  },
  {
   "cell_type": "markdown",
   "id": "ad8c6cd2",
   "metadata": {},
   "source": [
    "##### 7.Which algorithm will you use to divide your customers into different groups ?\n",
    "**Ans:** The algorithm used to divide customers into different groups would typically be a clustering algorithm, such as k-means or hierarchical clustering."
   ]
  },
  {
   "cell_type": "markdown",
   "id": "9105b2d5",
   "metadata": {},
   "source": [
    "##### 8.Will you consider the problem of spam detection to be a supervised or unsupervised learning problem ?\n",
    "**Ans:** Spam detection is a Supervised Machine Learning problem because the labels are known (spam or no spam)."
   ]
  },
  {
   "cell_type": "markdown",
   "id": "0c085053",
   "metadata": {},
   "source": [
    "##### 9.What is the concept of an online learning system ?\n",
    "**Ans:** Online learning system is a learning system in which the machine learns continously, as data is given in small streams continuously."
   ]
  },
  {
   "cell_type": "markdown",
   "id": "90fdf632",
   "metadata": {},
   "source": [
    "##### 10.What is out-of-core learning, and how does it differ from core learning ?\n",
    "**Ans:** Out-of-core learning system is a system that can handle data that cannot fit into your computer memory. It uses online learning system to feed data in small bits."
   ]
  },
  {
   "cell_type": "markdown",
   "id": "25b1ebf0",
   "metadata": {},
   "source": [
    "##### 11.What kind of learning algorithm makes predictions using a similarity measure ?\n",
    "**Ans:** Learning algorithm that relies on a similarity measure to make predictions is **Instance Based Algorithm**."
   ]
  },
  {
   "cell_type": "markdown",
   "id": "3311e6c7",
   "metadata": {},
   "source": [
    "##### 12.What's the difference between a model parameter and a hyperparameter in a learning algorithm ?\n",
    "**Ans:** Model parameter determines how a model will predict given a new instance. Model usually has more than one parameter (i.e. slope of a linear model). Hyperparameter is a parameter for the learning algorithm, not of a model."
   ]
  },
  {
   "cell_type": "markdown",
   "id": "1574e21a",
   "metadata": {},
   "source": [
    "##### 13.What are the criteria that model-based learning algorithms look for? What is the most popular method they use to achieve success? What method do they use to make predictions ?\n",
    "**Ans:** Model based learning algorithm search for the optimal value of parameters in a model that will give the best results for the new instances. We often use a cost function or similar to determine what the parameter value has to be in order to minimize the function. The model makes prediction by using the value of the new instance and the parameters in its function."
   ]
  },
  {
   "cell_type": "markdown",
   "id": "42e921cd",
   "metadata": {},
   "source": [
    "##### 14.Can you name four of the most important Machine Learning challenges ?\n",
    "**Ans:** Four main challenges in Machine Learning include the following:\n",
    "1. Overfitting the Data (using a model too complicated)\n",
    "2. Underfitting the data (using a simple model)\n",
    "3. Lacking in Data\n",
    "4. Non Representative Data."
   ]
  },
  {
   "cell_type": "markdown",
   "id": "2e45ca05",
   "metadata": {},
   "source": [
    "##### 15.What happens if the model performs well on the training data but fails to generalize the results to new situations? Can you think of three different options ?\n",
    "**Ans:** If the model performs poorly to new instances, then it has overfitted on the training data. To solve this, we can do any of the following three: \n",
    "- Get more data\n",
    "- Implement a simpler model\n",
    "- Eliminate outliers or noise from the existing data set."
   ]
  },
  {
   "cell_type": "markdown",
   "id": "cb05d8b8",
   "metadata": {},
   "source": [
    "##### 16.What exactly is a test set, and why would you need one ?\n",
    "**Ans:** Test set is a set to test your model (fit using training data) to see how it performs.Test set is necessary to determine how good (or bad) a model performs."
   ]
  },
  {
   "cell_type": "markdown",
   "id": "abf60183",
   "metadata": {},
   "source": [
    "##### 17.What is a validation set's purpose ?\n",
    "**Ans:** The purpose of a validation set is to tune and compare different models or hyperparameters during the model development process, helping to prevent overfitting to the training data."
   ]
  },
  {
   "cell_type": "markdown",
   "id": "31ed593a",
   "metadata": {},
   "source": [
    "##### 18.What precisely is the train-dev kit, when will you need it, how do you put it to use ?\n",
    "**Ans:** The train-dev kit, also known as a development set, is a subset of the training data that is used for model development, debugging, and testing before final evaluation with the test set."
   ]
  },
  {
   "cell_type": "markdown",
   "id": "2148fdcb",
   "metadata": {},
   "source": [
    "##### 19.What could go wrong if you use the test set to tune hyperparameters ?\n",
    "**Ans:** If the test set is used to tune hyperparameters, it can lead to overfitting to the test set, resulting in an overly optimistic evaluation of the model's performance on unseen data."
   ]
  }
 ],
 "metadata": {
  "kernelspec": {
   "display_name": "Python 3",
   "language": "python",
   "name": "python3"
  },
  "language_info": {
   "codemirror_mode": {
    "name": "ipython",
    "version": 3
   },
   "file_extension": ".py",
   "mimetype": "text/x-python",
   "name": "python",
   "nbconvert_exporter": "python",
   "pygments_lexer": "ipython3",
   "version": "3.8.8"
  }
 },
 "nbformat": 4,
 "nbformat_minor": 5
}
