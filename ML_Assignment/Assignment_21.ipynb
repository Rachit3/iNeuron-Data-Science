{
 "cells": [
  {
   "cell_type": "markdown",
   "id": "b2aa57f2",
   "metadata": {},
   "source": [
    "# Assignment 21 Solutions"
   ]
  },
  {
   "cell_type": "markdown",
   "id": "111120c6",
   "metadata": {},
   "source": [
    "##### 1. What is the estimated depth of a Decision Tree trained (unrestricted) on a one million instance training set ?"
   ]
  },
  {
   "cell_type": "markdown",
   "id": "c0a14d87",
   "metadata": {},
   "source": [
    "The estimated depth of a Decision Tree trained on an unrestricted one million instance training set can vary depending on the complexity of the data and the specific parameters used for tree construction. "
   ]
  },
  {
   "cell_type": "code",
   "execution_count": null,
   "id": "e6220769",
   "metadata": {},
   "outputs": [],
   "source": []
  },
  {
   "cell_type": "markdown",
   "id": "4ae857d4",
   "metadata": {},
   "source": [
    "##### 2. Is the Gini impurity of a node usually lower or higher than that of its parent? Is it always lower/greater, or is it usually lower/greater ?"
   ]
  },
  {
   "cell_type": "markdown",
   "id": "473459aa",
   "metadata": {},
   "source": [
    "The Gini impurity of a node is typically lower than that of its parent. Splitting a node aims to decrease the impurity, resulting in child nodes with lower Gini impurity. It is not always guaranteed that the impurity will be strictly lower due to the nature of the splitting criterion and the distribution of data."
   ]
  },
  {
   "cell_type": "code",
   "execution_count": null,
   "id": "b9dd2a1e",
   "metadata": {},
   "outputs": [],
   "source": []
  },
  {
   "cell_type": "markdown",
   "id": "c981ac1e",
   "metadata": {},
   "source": [
    "##### 3. Explain if its a good idea to reduce max depth if a Decision Tree is overfitting the training set ?"
   ]
  },
  {
   "cell_type": "markdown",
   "id": "12c7641d",
   "metadata": {},
   "source": [
    "If a Decision Tree is overfitting the training set, it can be a good idea to reduce the maximum depth of the tree. By limiting the depth, the tree becomes simpler and less prone to capturing noise or specific instances in the training set. This regularization technique helps control overfitting and promotes better generalization to unseen data."
   ]
  },
  {
   "cell_type": "code",
   "execution_count": null,
   "id": "cdff0c41",
   "metadata": {},
   "outputs": [],
   "source": []
  },
  {
   "cell_type": "markdown",
   "id": "07ab2a64",
   "metadata": {},
   "source": [
    "##### 4. Explain if its a  good idea to try scaling the input features if a Decision Tree underfits the training set ?"
   ]
  },
  {
   "cell_type": "markdown",
   "id": "f543cc5c",
   "metadata": {},
   "source": [
    "Scaling the input features is generally not necessary for Decision Trees because they are insensitive to monotonic transformations of the features. Decision Trees make splits based on thresholds without considering the scale of the features. \n",
    "\n"
   ]
  },
  {
   "cell_type": "code",
   "execution_count": null,
   "id": "4bbb0e7e",
   "metadata": {},
   "outputs": [],
   "source": []
  },
  {
   "cell_type": "markdown",
   "id": "0be2162e",
   "metadata": {},
   "source": [
    "##### 5. How much time will it take to train another Decision Tree on a training set of 10 million instances if it takes an hour to train a Decision Tree on a training set with 1 million instances ?"
   ]
  },
  {
   "cell_type": "markdown",
   "id": "75846b63",
   "metadata": {},
   "source": [
    "Estimating the training time for a Decision Tree on a larger training set is challenging due to the dependence on factors like hardware, software optimizations, and specific dataset characteristics."
   ]
  },
  {
   "cell_type": "code",
   "execution_count": null,
   "id": "8d668628",
   "metadata": {},
   "outputs": [],
   "source": []
  },
  {
   "cell_type": "markdown",
   "id": "a96163dd",
   "metadata": {},
   "source": [
    "##### 6. Will setting presort=True speed up training if your training set has 100,000 instances ?"
   ]
  },
  {
   "cell_type": "markdown",
   "id": "45e731d6",
   "metadata": {},
   "source": [
    "Setting presort=True is unlikely to speed up training if the training set has 100,000 instances. The presort option in scikit-learn's Decision Tree implementation is beneficial for smaller datasets, where the pre-sorting step can improve the efficiency of finding the best splits. "
   ]
  },
  {
   "cell_type": "code",
   "execution_count": null,
   "id": "84e62081",
   "metadata": {},
   "outputs": [],
   "source": []
  },
  {
   "cell_type": "markdown",
   "id": "6b3b649e",
   "metadata": {},
   "source": [
    "##### 7. Follow these steps to train and fine-tune a Decision Tree for the moons dataset:\n",
    "1. To build a moons dataset, use make moons(n samples=10000, noise=0.4).\n",
    "2. Divide the dataset into a training and a test collection with train test split().\n",
    "3. To find good hyperparameters values for a DecisionTreeClassifier, use grid search with cross-validation (with the GridSearchCV class). Try different values for max leaf nodes.\n",
    "4. Use these hyperparameters to train the model on the entire training set, and then assess its output on the test set. You can achieve an accuracy of 85 to 87 percent."
   ]
  },
  {
   "cell_type": "code",
   "execution_count": null,
   "id": "507ebbe4",
   "metadata": {},
   "outputs": [],
   "source": [
    "from sklearn.datasets import make_moons\n",
    "from sklearn.model_selection import train_test_split, GridSearchCV\n",
    "from sklearn.tree import DecisionTreeClassifier\n",
    "from sklearn.metrics import accuracy_score\n",
    "\n",
    "# Step a: Build the moons dataset\n",
    "X, y = make_moons(n_samples=10000, noise=0.4, random_state=42)\n",
    "\n",
    "# Step b: Split the dataset into training and test sets\n",
    "X_train, X_test, y_train, y_test = train_test_split(X, y, test_size=0.2, random_state=42)\n",
    "\n",
    "# Step c: Fine-tune hyperparameters with grid search and cross-validation\n",
    "param_grid = {'max_leaf_nodes': [None, 5, 10, 15, 20]}  # Try different values for max leaf nodes\n",
    "grid_search = GridSearchCV(DecisionTreeClassifier(random_state=42), param_grid, cv=5)\n",
    "grid_search.fit(X_train, y_train)\n",
    "\n",
    "# Get the best hyperparameters found by grid search\n",
    "best_params = grid_search.best_params_\n",
    "\n",
    "# Step d: Train the model with the best hyperparameters on the entire training set\n",
    "best_model = DecisionTreeClassifier(random_state=42, **best_params)\n",
    "best_model.fit(X_train, y_train)\n",
    "\n",
    "# Assess the model's output on the test set\n",
    "y_pred = best_model.predict(X_test)\n",
    "accuracy = accuracy_score(y_test, y_pred)\n",
    "\n",
    "# Print accuracy\n",
    "print(\"Accuracy:\", accuracy)\n"
   ]
  },
  {
   "cell_type": "markdown",
   "id": "54020cf8",
   "metadata": {},
   "source": [
    "##### 8. Follow these steps to grow a forest:\n",
    "1. Using the same method as before, create 1,000 subsets of the training set, each containing 100 instances chosen at random. You can do this with Scikit-ShuffleSplit Learn's class.\n",
    "2. Using the best hyperparameter values found in the previous exercise, train one Decision Tree on each subset. On the test collection, evaluate these 1,000 Decision Trees. These Decision        Trees would likely perform worse than the first Decision Tree, achieving only around 80% accuracy, since they were trained on smaller sets.\n",
    "3. Now the magic begins. Create 1,000 Decision Tree predictions for each test set case, and keep only the most common prediction (you can do this with SciPy's mode() function). Over the test collection, this method gives you majority-vote predictions.\n",
    "4. On the test range, evaluate these predictions: you should achieve a slightly higher accuracy than the first model (approx 0.5 to 1.5 percent higher). You've successfully learned a Random Forest classifier!"
   ]
  },
  {
   "cell_type": "code",
   "execution_count": null,
   "id": "948b7b7f",
   "metadata": {},
   "outputs": [],
   "source": [
    "from sklearn.datasets import make_moons\n",
    "from sklearn.model_selection import train_test_split\n",
    "from sklearn.tree import DecisionTreeClassifier\n",
    "from scipy.stats import mode\n",
    "from sklearn.metrics import accuracy_score\n",
    "\n",
    "# Step 1: Create 1,000 subsets of the training set\n",
    "n_trees = 1000\n",
    "subset_size = 100\n",
    "\n",
    "X, y = make_moons(n_samples=10000, noise=0.4, random_state=42)\n",
    "X_train, X_test, y_train, y_test = train_test_split(X, y, test_size=0.2, random_state=42)\n",
    "\n",
    "predictions = []\n",
    "\n",
    "for _ in range(n_trees):\n",
    "    # Create a random subset of the training set\n",
    "    indices = np.random.choice(len(X_train), subset_size, replace=False)\n",
    "    subset_X_train = X_train[indices]\n",
    "    subset_y_train = y_train[indices]\n",
    "    \n",
    "    # Train a Decision Tree on the subset\n",
    "    tree = DecisionTreeClassifier(random_state=42)\n",
    "    tree.fit(subset_X_train, subset_y_train)\n",
    "    \n",
    "    # Predict on the test set using the trained tree\n",
    "    tree_predictions = tree.predict(X_test)\n",
    "    predictions.append(tree_predictions)\n",
    "\n",
    "# Step 3: Keep the most common prediction for each test set case\n",
    "ensemble_predictions = mode(predictions, axis=0)[0][0]\n",
    "\n",
    "# Step 4: Evaluate the predictions on the test set\n",
    "accuracy = accuracy_score(y_test, ensemble_predictions)\n",
    "\n",
    "# Print accuracy\n",
    "print(\"Accuracy:\", accuracy)\n"
   ]
  }
 ],
 "metadata": {
  "kernelspec": {
   "display_name": "Python 3",
   "language": "python",
   "name": "python3"
  },
  "language_info": {
   "codemirror_mode": {
    "name": "ipython",
    "version": 3
   },
   "file_extension": ".py",
   "mimetype": "text/x-python",
   "name": "python",
   "nbconvert_exporter": "python",
   "pygments_lexer": "ipython3",
   "version": "3.11.4"
  }
 },
 "nbformat": 4,
 "nbformat_minor": 5
}
