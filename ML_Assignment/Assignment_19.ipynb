{
 "cells": [
  {
   "cell_type": "markdown",
   "id": "111120c6",
   "metadata": {},
   "source": [
    "##### 1. A set of one-dimensional data points is given to you: 5, 10, 15, 20, 25, 30, 35. Assume that k = 2 and that the first set of random centroid is 15, 32, and that the second set is 12, 30. ?\n",
    "1. Using the k-means method, create two clusters for each set of centroid described above.\n",
    "2. For each set of centroid values, calculate the SSE."
   ]
  },
  {
   "cell_type": "code",
   "execution_count": 1,
   "id": "fdf0f628",
   "metadata": {},
   "outputs": [
    {
     "name": "stdout",
     "output_type": "stream",
     "text": [
      "Set 1 Clusters: [[5, 10, 15, 20], [25, 30, 35]]\n",
      "Set 1 SSE: 175.0\n",
      "Set 2 Clusters: [[5, 10, 15, 20], [25, 30, 35]]\n",
      "Set 2 SSE: 175.0\n"
     ]
    }
   ],
   "source": [
    "import numpy as np\n",
    "\n",
    "def k_means_clustering(data, k, centroids):\n",
    "    clusters = [[] for _ in range(k)]\n",
    "    \n",
    "    # Assign data points to clusters based on nearest centroid\n",
    "    for point in data:\n",
    "        distances = [abs(point - centroid) for centroid in centroids]\n",
    "        nearest_centroid_idx = np.argmin(distances)\n",
    "        clusters[nearest_centroid_idx].append(point)\n",
    "    \n",
    "    # Update centroids based on cluster mean\n",
    "    new_centroids = [np.mean(cluster) for cluster in clusters]\n",
    "    \n",
    "    return clusters, new_centroids\n",
    "\n",
    "def calculate_sse(data, clusters, centroids):\n",
    "    sse = 0\n",
    "    for i in range(len(clusters)):\n",
    "        cluster = clusters[i]\n",
    "        centroid = centroids[i]\n",
    "        sse += sum([(point - centroid) ** 2 for point in cluster])\n",
    "    \n",
    "    return sse\n",
    "\n",
    "data = [5, 10, 15, 20, 25, 30, 35]\n",
    "k = 2\n",
    "centroid_set1 = [15, 32]\n",
    "centroid_set2 = [12, 30]\n",
    "\n",
    "clusters1, new_centroids1 = k_means_clustering(data, k, centroid_set1)\n",
    "sse1 = calculate_sse(data, clusters1, new_centroids1)\n",
    "print(\"Set 1 Clusters:\", clusters1)\n",
    "print(\"Set 1 SSE:\", sse1)\n",
    "\n",
    "clusters2, new_centroids2 = k_means_clustering(data, k, centroid_set2)\n",
    "sse2 = calculate_sse(data, clusters2, new_centroids2)\n",
    "print(\"Set 2 Clusters:\", clusters2)\n",
    "print(\"Set 2 SSE:\", sse2)\n"
   ]
  },
  {
   "cell_type": "markdown",
   "id": "4ae857d4",
   "metadata": {},
   "source": [
    "##### 2. Describe how the Market Basket Research makes use of association analysis concepts ?"
   ]
  },
  {
   "cell_type": "markdown",
   "id": "a5397452",
   "metadata": {},
   "source": [
    "Market Basket Research uses association analysis to find relationships between items purchased together to understand customer behavior and make strategic business decisions."
   ]
  },
  {
   "cell_type": "code",
   "execution_count": null,
   "id": "e5f90466",
   "metadata": {},
   "outputs": [],
   "source": []
  },
  {
   "cell_type": "markdown",
   "id": "c981ac1e",
   "metadata": {},
   "source": [
    "##### 3. Give an example of the Apriori algorithm for learning association rules ?"
   ]
  },
  {
   "cell_type": "markdown",
   "id": "a32e5549",
   "metadata": {},
   "source": [
    "Example of Apriori algorithm: If {A, B} → {C} is a frequent itemset, it means that when customers buy both A and B, they are likely to buy C as well."
   ]
  },
  {
   "cell_type": "code",
   "execution_count": null,
   "id": "f53aa856",
   "metadata": {},
   "outputs": [],
   "source": []
  },
  {
   "cell_type": "markdown",
   "id": "07ab2a64",
   "metadata": {},
   "source": [
    "##### 4. In hierarchical clustering, how is the distance between clusters measured? Explain how this metric is used to decide when to end the iteration ?"
   ]
  },
  {
   "cell_type": "markdown",
   "id": "87c475d2",
   "metadata": {},
   "source": [
    "In hierarchical clustering, the distance between clusters is measured using methods such as Euclidean distance or Manhattan distance. The metric is used to decide when to end the iteration by either reaching a desired number of clusters or a specific threshold of distance."
   ]
  },
  {
   "cell_type": "code",
   "execution_count": null,
   "id": "9b0e3ae0",
   "metadata": {},
   "outputs": [],
   "source": []
  },
  {
   "cell_type": "markdown",
   "id": "0be2162e",
   "metadata": {},
   "source": [
    "##### 5. In the k-means algorithm, how do you recompute the cluster centroids ?"
   ]
  },
  {
   "cell_type": "markdown",
   "id": "667e1c45",
   "metadata": {},
   "source": [
    "In the k-means algorithm, cluster centroids are recomputed by taking the average of all data points assigned to each cluster, resulting in new centroid positions."
   ]
  },
  {
   "cell_type": "code",
   "execution_count": null,
   "id": "c54c3931",
   "metadata": {},
   "outputs": [],
   "source": []
  },
  {
   "cell_type": "markdown",
   "id": "a96163dd",
   "metadata": {},
   "source": [
    "##### 6. At the start of the clustering exercise, discuss one method for determining the required number of clusters ?"
   ]
  },
  {
   "cell_type": "markdown",
   "id": "639ae651",
   "metadata": {},
   "source": [
    "One method for determining the required number of clusters is the Elbow Method, which plots the SSE against the number of clusters and looks for a point where the decrease in SSE becomes less significant (forming an \"elbow\")."
   ]
  },
  {
   "cell_type": "code",
   "execution_count": null,
   "id": "f2364889",
   "metadata": {},
   "outputs": [],
   "source": []
  },
  {
   "cell_type": "markdown",
   "id": "6b3b649e",
   "metadata": {},
   "source": [
    "##### 7. Discuss the k-means algorithm's advantages and disadvantages ?"
   ]
  },
  {
   "cell_type": "markdown",
   "id": "1d5d326e",
   "metadata": {},
   "source": [
    "Advantages of k-means algorithm: Simple to implement, efficient for large datasets. Disadvantages: Sensitive to initial centroid selection, requires predefined number of clusters, susceptible to outliers."
   ]
  },
  {
   "cell_type": "code",
   "execution_count": null,
   "id": "9e8fff0f",
   "metadata": {},
   "outputs": [],
   "source": []
  },
  {
   "cell_type": "markdown",
   "id": "9db681d1",
   "metadata": {},
   "source": [
    "##### 9. During your study, you discovered seven findings, which are listed in the data points below. Using the K-means algorithm, you want to build three clusters from these observations. The clusters C1, C2, and C3 have the following findings after the first iteration ?\n",
    "- `C1: (2,2), (4,4), (6,6); C2: (2,2), (4,4), (6,6); C3: (2,2), (4,4),  `\n",
    "- `C2: (0,4), (4,0), (0,4), (0,4), (0,4), (0,4), (0,4), (0,4), (0,  `\n",
    "- `C3: (5,5) and (9,9) ` \n",
    "\n",
    "What would the cluster centroids be if you were to run a second iteration? What would this clustering's SSE be?"
   ]
  },
  {
   "cell_type": "markdown",
   "id": "472c9503",
   "metadata": {},
   "source": [
    "Second iteration cluster centroids: C1: (4, 4), C2: (0, 4), C3: (7, 7)\n",
    "SSE for this clustering: 14"
   ]
  },
  {
   "cell_type": "code",
   "execution_count": null,
   "id": "fc119cf3",
   "metadata": {},
   "outputs": [],
   "source": []
  }
 ],
 "metadata": {
  "kernelspec": {
   "display_name": "Python 3",
   "language": "python",
   "name": "python3"
  },
  "language_info": {
   "codemirror_mode": {
    "name": "ipython",
    "version": 3
   },
   "file_extension": ".py",
   "mimetype": "text/x-python",
   "name": "python",
   "nbconvert_exporter": "python",
   "pygments_lexer": "ipython3",
   "version": "3.11.4"
  }
 },
 "nbformat": 4,
 "nbformat_minor": 5
}
