{
 "cells": [
  {
   "cell_type": "markdown",
   "id": "b2aa57f2",
   "metadata": {},
   "source": [
    "# Assignment 13 Solutions"
   ]
  },
  {
   "cell_type": "markdown",
   "id": "111120c6",
   "metadata": {},
   "source": [
    "##### 1. Provide an example of the concepts of Prior, Posterior, and Likelihood ?"
   ]
  },
  {
   "cell_type": "code",
   "execution_count": 1,
   "id": "6a5e6747",
   "metadata": {},
   "outputs": [
    {
     "data": {
      "text/plain": [
       "'Prior: The likelihood of an event occurring before any additional evidence is considered. For example, the probability of rain tomorrow based on historical data.\\nPosterior: The revised probability of an event occurring after considering new evidence. For example, the probability of rain tomorrow after checking the current weather forecast.\\nLikelihood: The probability of observing a particular outcome given specific conditions or parameters. For example, the likelihood of rolling a six on a fair die.'"
      ]
     },
     "execution_count": 1,
     "metadata": {},
     "output_type": "execute_result"
    }
   ],
   "source": [
    "'''Prior: The likelihood of an event occurring before any additional evidence is considered. For example, the probability of rain tomorrow based on historical data.\n",
    "Posterior: The revised probability of an event occurring after considering new evidence. For example, the probability of rain tomorrow after checking the current weather forecast.\n",
    "Likelihood: The probability of observing a particular outcome given specific conditions or parameters. For example, the likelihood of rolling a six on a fair die.'''"
   ]
  },
  {
   "cell_type": "markdown",
   "id": "4ae857d4",
   "metadata": {},
   "source": [
    "##### 2. What role does Bayes' theorem play in the concept learning principle ?"
   ]
  },
  {
   "cell_type": "code",
   "execution_count": 2,
   "id": "4a3b8ef7",
   "metadata": {},
   "outputs": [
    {
     "data": {
      "text/plain": [
       "\"Bayes' theorem is the foundation of the concept learning principle. It allows us to update our beliefs about a hypothesis based on new evidence. By incorporating prior knowledge and likelihood, Bayes' theorem helps us calculate the posterior probability of a hypothesis given the observed data.\""
      ]
     },
     "execution_count": 2,
     "metadata": {},
     "output_type": "execute_result"
    }
   ],
   "source": [
    "'''Bayes' theorem is the foundation of the concept learning principle. It allows us to update our beliefs about a hypothesis based on new evidence. By incorporating prior knowledge and likelihood, Bayes' theorem helps us calculate the posterior probability of a hypothesis given the observed data.'''"
   ]
  },
  {
   "cell_type": "markdown",
   "id": "c981ac1e",
   "metadata": {},
   "source": [
    "##### 3. Offer an example of how the Nave Bayes classifier is used in real life ?"
   ]
  },
  {
   "cell_type": "code",
   "execution_count": 3,
   "id": "555955f2",
   "metadata": {},
   "outputs": [
    {
     "data": {
      "text/plain": [
       "'An example of how the Naive Bayes classifier is used in real life is spam email filtering. By analyzing the frequency of certain words or patterns in emails, Naive Bayes can classify incoming emails as either spam or legitimate based on the likelihood of specific features occurring in each category.'"
      ]
     },
     "execution_count": 3,
     "metadata": {},
     "output_type": "execute_result"
    }
   ],
   "source": [
    "'''An example of how the Naive Bayes classifier is used in real life is spam email filtering. By analyzing the frequency of certain words or patterns in emails, Naive Bayes can classify incoming emails as either spam or legitimate based on the likelihood of specific features occurring in each category.'''"
   ]
  },
  {
   "cell_type": "markdown",
   "id": "07ab2a64",
   "metadata": {},
   "source": [
    "##### 4. Can the Nave Bayes classifier be used on continuous numeric data? If so, how can you go about doing it ?"
   ]
  },
  {
   "cell_type": "code",
   "execution_count": 4,
   "id": "cd16a0f3",
   "metadata": {},
   "outputs": [
    {
     "data": {
      "text/plain": [
       "\"Yes, the Naive Bayes classifier can be used on continuous numeric data. One common approach is to assume a probability distribution for each feature, such as a Gaussian distribution. The classifier then calculates the likelihood of each feature value occurring in each class and combines them using Bayes' theorem.\""
      ]
     },
     "execution_count": 4,
     "metadata": {},
     "output_type": "execute_result"
    }
   ],
   "source": [
    "'''Yes, the Naive Bayes classifier can be used on continuous numeric data. One common approach is to assume a probability distribution for each feature, such as a Gaussian distribution. The classifier then calculates the likelihood of each feature value occurring in each class and combines them using Bayes' theorem.'''"
   ]
  },
  {
   "cell_type": "markdown",
   "id": "0be2162e",
   "metadata": {},
   "source": [
    "##### 5. What are Bayesian Belief Networks, and how do they work? What are their applications? Are they capable of resolving a wide range of issues ?"
   ]
  },
  {
   "cell_type": "code",
   "execution_count": 5,
   "id": "92a4568c",
   "metadata": {},
   "outputs": [
    {
     "data": {
      "text/plain": [
       "'Bayesian Belief Networks (BBNs) are probabilistic graphical models that represent relationships between variables using directed acyclic graphs. They combine prior knowledge and observed data to make inferences and predictions. BBNs find applications in various fields, including medicine, finance, and risk assessment, enabling decision-making under uncertainty.'"
      ]
     },
     "execution_count": 5,
     "metadata": {},
     "output_type": "execute_result"
    }
   ],
   "source": [
    "'''Bayesian Belief Networks (BBNs) are probabilistic graphical models that represent relationships between variables using directed acyclic graphs. They combine prior knowledge and observed data to make inferences and predictions. BBNs find applications in various fields, including medicine, finance, and risk assessment, enabling decision-making under uncertainty.'''"
   ]
  },
  {
   "cell_type": "markdown",
   "id": "a96163dd",
   "metadata": {},
   "source": [
    "##### 6. Passengers are checked in an airport screening system to see if there is an intruder. Let I be the random variable that indicates whether someone is an intruder I = 1) or not I = 0), and A be the variable that indicates alarm I = 0). If an intruder is detected with probability P(A = 1|I = 1) = 0.98 and a non-intruder is detected with probability P(A = 1|I = 0) = 0.001, an alarm will be triggered, implying the error factor. The likelihood of an intruder in the passenger population is P(I = 1) = 0.00001. What are the chances that an alarm would be triggered when an individual is actually an intruder ?"
   ]
  },
  {
   "cell_type": "code",
   "execution_count": 6,
   "id": "0907fa52",
   "metadata": {},
   "outputs": [
    {
     "data": {
      "text/plain": [
       "\"The probability of an alarm being triggered when an individual is actually an intruder can be calculated using Bayes' theorem and the provided probabilities. Assuming independence, the posterior probability of an individual being an intruder given an alarm (P(I = 1|A = 1)) can be calculated using:\\n\\nP(I = 1|A = 1) = (P(A = 1|I = 1) * P(I = 1)) / ((P(A = 1|I = 1) * P(I = 1)) + (P(A = 1|I = 0) * P(I = 0)))\\n\\nSubstituting the given values, the result is P(I = 1|A = 1) = 0.98 * 0.00001 / (0.98 * 0.00001 + 0.001 * (1 - 0.00001)).\""
      ]
     },
     "execution_count": 6,
     "metadata": {},
     "output_type": "execute_result"
    }
   ],
   "source": [
    "'''The probability of an alarm being triggered when an individual is actually an intruder can be calculated using Bayes' theorem and the provided probabilities. Assuming independence, the posterior probability of an individual being an intruder given an alarm (P(I = 1|A = 1)) can be calculated using:\n",
    "\n",
    "P(I = 1|A = 1) = (P(A = 1|I = 1) * P(I = 1)) / ((P(A = 1|I = 1) * P(I = 1)) + (P(A = 1|I = 0) * P(I = 0)))\n",
    "\n",
    "Substituting the given values, the result is P(I = 1|A = 1) = 0.98 * 0.00001 / (0.98 * 0.00001 + 0.001 * (1 - 0.00001)).'''"
   ]
  },
  {
   "cell_type": "markdown",
   "id": "6b3b649e",
   "metadata": {},
   "source": [
    "##### 7. An antibiotic resistance test (random variable T) has 1% false positives (i.e., 1% of those who are not immune to an antibiotic display a positive result in the test) and 5% false negatives (i.e., 1% of those who are not resistant to an antibiotic show a positive result in the test) (i.e. 5 percent of those actually resistant to an antibiotic test negative). Assume that 2% of those who were screened were antibiotic-resistant. Calculate the likelihood that a person who tests positive is actually immune (random variable D) ?"
   ]
  },
  {
   "cell_type": "code",
   "execution_count": 7,
   "id": "1aa7a520",
   "metadata": {},
   "outputs": [
    {
     "data": {
      "text/plain": [
       "\"The likelihood that a person who tests positive is actually immune (D = 1) can be calculated using Bayes' theorem. Assuming independence, the posterior probability of being immune given a positive test result (P(D = 1|T = 1)) can be calculated using:\\nP(D = 1|T = 1) = (P(T = 1|D = 1) * P(D = 1)) / ((P(T = 1|D = 1) * P(D = 1)) + (P(T = 1|D = 0) * P(D = 0)))\\n\\nSubstituting the given values, the result is P(D = 1|T = 1) = (1 - 0.05) * 0.02 / ((1 - 0.05) * 0.02 + 0.01 * (1 - 0.02)).\""
      ]
     },
     "execution_count": 7,
     "metadata": {},
     "output_type": "execute_result"
    }
   ],
   "source": [
    "'''The likelihood that a person who tests positive is actually immune (D = 1) can be calculated using Bayes' theorem. Assuming independence, the posterior probability of being immune given a positive test result (P(D = 1|T = 1)) can be calculated using:\n",
    "P(D = 1|T = 1) = (P(T = 1|D = 1) * P(D = 1)) / ((P(T = 1|D = 1) * P(D = 1)) + (P(T = 1|D = 0) * P(D = 0)))\n",
    "\n",
    "Substituting the given values, the result is P(D = 1|T = 1) = (1 - 0.05) * 0.02 / ((1 - 0.05) * 0.02 + 0.01 * (1 - 0.02)).'''"
   ]
  }
 ],
 "metadata": {
  "kernelspec": {
   "display_name": "Python 3",
   "language": "python",
   "name": "python3"
  },
  "language_info": {
   "codemirror_mode": {
    "name": "ipython",
    "version": 3
   },
   "file_extension": ".py",
   "mimetype": "text/x-python",
   "name": "python",
   "nbconvert_exporter": "python",
   "pygments_lexer": "ipython3",
   "version": "3.11.4"
  }
 },
 "nbformat": 4,
 "nbformat_minor": 5
}
