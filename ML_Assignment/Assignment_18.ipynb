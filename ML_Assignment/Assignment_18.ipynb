{
 "cells": [
  {
   "cell_type": "markdown",
   "id": "111120c6",
   "metadata": {},
   "source": [
    "##### 1. What is the difference between supervised and unsupervised learning? Give some examples to illustrate your point ?"
   ]
  },
  {
   "cell_type": "markdown",
   "id": "af0b6fe4",
   "metadata": {},
   "source": [
    "**Ans:** Supervised learning uses labeled data to train a model, while unsupervised learning uses unlabeled data. For example, in supervised learning, you can train a model to classify emails as spam or not spam based on labeled examples. In unsupervised learning, you can group similar customer profiles together based on their purchasing behavior without prior labels."
   ]
  },
  {
   "cell_type": "markdown",
   "id": "4ae857d4",
   "metadata": {},
   "source": [
    "##### 2. Mention a few unsupervised learning applications ?"
   ]
  },
  {
   "cell_type": "markdown",
   "id": "0e4d7be2",
   "metadata": {},
   "source": [
    "**Ans:** The main applications of unsupervised learning include clustering, visualization, dimensionality reduction, finding association rules, and anomaly detection."
   ]
  },
  {
   "cell_type": "markdown",
   "id": "c981ac1e",
   "metadata": {},
   "source": [
    "##### 3. What are the three main types of clustering methods? Briefly describe the characteristics of each ?"
   ]
  },
  {
   "cell_type": "markdown",
   "id": "a2abf909",
   "metadata": {},
   "source": [
    "**Ans:** The three main types of clustering methods are hierarchical clustering, partitioning clustering, and density-based clustering. Hierarchical clustering builds nested clusters, partitioning clustering divides data into distinct non-overlapping clusters, and density-based clustering identifies clusters based on density regions."
   ]
  },
  {
   "cell_type": "markdown",
   "id": "07ab2a64",
   "metadata": {},
   "source": [
    "##### 4. Explain how the k-means algorithm determines the consistency of clustering ?"
   ]
  },
  {
   "cell_type": "markdown",
   "id": "14fbf5a9",
   "metadata": {},
   "source": [
    "**Ans:** Calculate the Within-Cluster-Sum of Squared Errors (WSS) for different values of k, and choose the k for which WSS  becomes first starts to diminish. In the plot of WSS-versus-k, this is visible as an elbow. Within-Cluster-Sum of  Squared Errors sounds a bit complex."
   ]
  },
  {
   "cell_type": "markdown",
   "id": "0be2162e",
   "metadata": {},
   "source": [
    "##### 5. With a simple illustration, explain the key difference between the k-means and k-medoids algorithms ?"
   ]
  },
  {
   "cell_type": "markdown",
   "id": "59735150",
   "metadata": {},
   "source": [
    "**Ans:** K-means attempts to minimize the total squared error, while k-medoids minimizes the sum of dissimilarities between points labeled to be in a cluster and a point designated as the center of that cluster. In contrast to the k -means algorithm, k -medoids chooses datapoints as centers ( medoids or exemplars)."
   ]
  },
  {
   "cell_type": "markdown",
   "id": "a96163dd",
   "metadata": {},
   "source": [
    "##### 6. What is a dendrogram, and how does it work? Explain how to do it ?"
   ]
  },
  {
   "cell_type": "markdown",
   "id": "0ec88301",
   "metadata": {},
   "source": [
    "**Ans:** A dendrogram is a diagram that shows the attribute distances between each pair of sequentially merged classes After each merging, the distances between all pairs of classes are updated. The distances at which the signatures of classes are merged are used to construct a dendrogram."
   ]
  },
  {
   "cell_type": "markdown",
   "id": "6b3b649e",
   "metadata": {},
   "source": [
    "##### 7. What exactly is SSE? What role does it play in the k-means algorithm ?"
   ]
  },
  {
   "cell_type": "markdown",
   "id": "fa5e6d20",
   "metadata": {},
   "source": [
    "**Ans:** I am going to refer to it as SSE, which stands for Sum of Squared Errors. The regression line is the line made using the function we defined above. To get the SSE we calculate the distance for each of the data points from the regression line then square the it, then we add to the sum.\n",
    "\n",
    "The SSE is defined as the sum of the squared Euclidean distances of each point to its closest centroid. Since this is a measure of error, the objective of k-means is to try to minimize this value. The purpose of this figure is to show  that the initialization of the centroids is an important step."
   ]
  },
  {
   "cell_type": "markdown",
   "id": "54020cf8",
   "metadata": {},
   "source": [
    "##### 8. With a step-by-step algorithm, explain the k-means procedure ?"
   ]
  },
  {
   "cell_type": "markdown",
   "id": "f29accb2",
   "metadata": {},
   "source": [
    "**Ans:**Step-by-step k-means algorithm:\n",
    "\n",
    "1. Choose the number of clusters, k.\n",
    "2. Initialize k cluster centroids randomly.\n",
    "3. Assign each data point to the nearest centroid.\n",
    "4. Update the centroids by calculating the mean of the data points in each cluster.\n",
    "5. Repeat steps 3 and 4 until convergence (when the centroids no longer change significantly or a predefined number of iterations is reached)."
   ]
  },
  {
   "cell_type": "markdown",
   "id": "9db681d1",
   "metadata": {},
   "source": [
    "##### 9. In the sense of hierarchical clustering, define the terms single link and complete link ?"
   ]
  },
  {
   "cell_type": "markdown",
   "id": "5567b4bd",
   "metadata": {},
   "source": [
    "**Ans:** In single-link (or single linkage) hierarchical clustering, we merge in each step the two clusters whose two closest members have the smallest distance (or: the two clusters with the smallest minimum pairwise distance). Complete-link clustering can also be described using the concept of clique."
   ]
  },
  {
   "cell_type": "markdown",
   "id": "5b686929",
   "metadata": {},
   "source": [
    "##### 10. How does the apriori concept aid in the reduction of measurement overhead in a business basket analysis? Give an example to demonstrate your point ?"
   ]
  },
  {
   "cell_type": "markdown",
   "id": "fc46ef7d",
   "metadata": {},
   "source": [
    "**Ans:**The apriori concept aids in reducing measurement overhead in business basket analysis by focusing on frequent itemsets. It avoids considering infrequent combinations, which reduces the number of measurements needed. For example, in a retail store, if a customer frequently buys bread and milk together, the apriori algorithm would focus on such frequent itemsets instead of checking all possible combinations of items in the store."
   ]
  }
 ],
 "metadata": {
  "kernelspec": {
   "display_name": "Python 3",
   "language": "python",
   "name": "python3"
  },
  "language_info": {
   "codemirror_mode": {
    "name": "ipython",
    "version": 3
   },
   "file_extension": ".py",
   "mimetype": "text/x-python",
   "name": "python",
   "nbconvert_exporter": "python",
   "pygments_lexer": "ipython3",
   "version": "3.6.13"
  }
 },
 "nbformat": 4,
 "nbformat_minor": 5
}
