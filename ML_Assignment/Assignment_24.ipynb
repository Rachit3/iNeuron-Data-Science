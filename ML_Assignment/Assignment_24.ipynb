{
 "cells": [
  {
   "cell_type": "markdown",
   "id": "111120c6",
   "metadata": {},
   "source": [
    "##### 1. What is your definition of clustering? What are a few clustering algorithms you might think of ?"
   ]
  },
  {
   "cell_type": "markdown",
   "id": "c7c66c7b",
   "metadata": {},
   "source": [
    "**Ans:** CClustering is the task of grouping similar objects together based on their inherent characteristics or similarities. Some clustering algorithms include K-Means, DBSCAN, and Hierarchical clustering."
   ]
  },
  {
   "cell_type": "markdown",
   "id": "4ae857d4",
   "metadata": {},
   "source": [
    "##### 2. What are some of the most popular clustering algorithm applications ?"
   ]
  },
  {
   "cell_type": "markdown",
   "id": "102a391a",
   "metadata": {},
   "source": [
    "**Ans:** Popular applications of clustering algorithms include customer segmentation in marketing, image segmentation in computer vision, anomaly detection in cybersecurity, and document clustering in natural language processing."
   ]
  },
  {
   "cell_type": "markdown",
   "id": "c981ac1e",
   "metadata": {},
   "source": [
    "##### 3. When using K-Means, describe two strategies for selecting the appropriate number of clusters ?"
   ]
  },
  {
   "cell_type": "markdown",
   "id": "35c1c60a",
   "metadata": {},
   "source": [
    "**Ans:** Two strategies for selecting the appropriate number of clusters in K-Means are the Elbow Method, which looks for an elbow point in the plot of within-cluster sum of squares (WCSS) against the number of clusters, and the Silhouette Score, which measures the compactness and separation of clusters."
   ]
  },
  {
   "cell_type": "markdown",
   "id": "07ab2a64",
   "metadata": {},
   "source": [
    "##### 4. What is mark propagation and how does it work? Why would you do it, and how would you do it ?"
   ]
  },
  {
   "cell_type": "markdown",
   "id": "161bda60",
   "metadata": {},
   "source": [
    "**Ans:** Mark propagation, also known as label propagation, is a semi-supervised learning technique. It works by initially assigning labels to a subset of instances and propagating these labels to unlabeled instances based on their similarity or proximity. It can be used to label large datasets efficiently or to propagate information in networks."
   ]
  },
  {
   "cell_type": "markdown",
   "id": "0be2162e",
   "metadata": {},
   "source": [
    "##### 5. Provide two examples of clustering algorithms that can handle large datasets. And two that look for high-density areas ?"
   ]
  },
  {
   "cell_type": "markdown",
   "id": "15308df6",
   "metadata": {},
   "source": [
    "**Ans:** Examples of clustering algorithms that can handle large datasets are MiniBatch K-Means and DBSCAN. Two clustering algorithms that look for high-density areas are OPTICS (Ordering Points To Identify the Clustering Structure) and Mean Shift."
   ]
  },
  {
   "cell_type": "markdown",
   "id": "a96163dd",
   "metadata": {},
   "source": [
    "##### 6. Can you think of a scenario in which constructive learning will be advantageous? How can you go about putting it into action ?"
   ]
  },
  {
   "cell_type": "markdown",
   "id": "282fd79a",
   "metadata": {},
   "source": [
    "**Ans:** Constructive learning can be advantageous in scenarios where acquiring labeled data is expensive or time-consuming. One way to put it into action is to start with a small labeled dataset, train a model, and then use active learning techniques to select informative instances for labeling and gradually expand the labeled dataset."
   ]
  },
  {
   "cell_type": "markdown",
   "id": "6b3b649e",
   "metadata": {},
   "source": [
    "##### 7. How do you tell the difference between anomaly and novelty detection?"
   ]
  },
  {
   "cell_type": "markdown",
   "id": "a8387209",
   "metadata": {},
   "source": [
    "**Ans:** Anomaly detection focuses on identifying instances that significantly deviate from the norm or expected behavior. Novelty detection, on the other hand, aims to identify instances that differ from the training data but are not necessarily considered as anomalies. The main difference lies in the definition and nature of the deviations being detected."
   ]
  },
  {
   "cell_type": "markdown",
   "id": "54020cf8",
   "metadata": {},
   "source": [
    "##### 8. What is a Gaussian mixture, and how does it work? What are some of the things you can do about it?"
   ]
  },
  {
   "cell_type": "markdown",
   "id": "e13f85d1",
   "metadata": {},
   "source": [
    "**Ans:** A Gaussian mixture is a probabilistic model that represents a dataset as a mixture of Gaussian distributions. It works by assuming that the data points are generated from a combination of multiple Gaussian components. To work with Gaussian mixtures, you can estimate the model parameters using the Expectation-Maximization (EM) algorithm and perform tasks such as density estimation, clustering, or generation."
   ]
  },
  {
   "cell_type": "markdown",
   "id": "9db681d1",
   "metadata": {},
   "source": [
    "##### 9. When using a Gaussian mixture model, can you name two techniques for determining the correct number of clusters?"
   ]
  },
  {
   "cell_type": "markdown",
   "id": "5629a3d5",
   "metadata": {},
   "source": [
    "**Ans:** Two techniques for determining the correct number of clusters in a Gaussian mixture model are the Bayesian Information Criterion (BIC) and the Akaike Information Criterion (AIC). These criteria balance the goodness of fit of the model with the complexity of the model, allowing for the selection of an appropriate number of clusters."
   ]
  },
  {
   "cell_type": "markdown",
   "id": "7f4bdb29",
   "metadata": {},
   "source": []
  }
 ],
 "metadata": {
  "kernelspec": {
   "display_name": "Python 3",
   "language": "python",
   "name": "python3"
  },
  "language_info": {
   "codemirror_mode": {
    "name": "ipython",
    "version": 3
   },
   "file_extension": ".py",
   "mimetype": "text/x-python",
   "name": "python",
   "nbconvert_exporter": "python",
   "pygments_lexer": "ipython3",
   "version": "3.6.13"
  }
 },
 "nbformat": 4,
 "nbformat_minor": 5
}
