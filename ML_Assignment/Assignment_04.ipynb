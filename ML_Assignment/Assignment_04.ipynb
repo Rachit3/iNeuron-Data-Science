{
 "cells": [
  {
   "cell_type": "markdown",
   "id": "5f4c3ef3",
   "metadata": {},
   "source": [
    "##### 1. What are the key tasks involved in getting ready to work with machine learning modeling ?"
   ]
  },
  {
   "cell_type": "markdown",
   "id": "c359b60e",
   "metadata": {},
   "source": [
    "Ans: Key tasks in preparing for machine learning modeling:\n",
    "\n",
    "1.Data collection and cleaning\n",
    "\n",
    "2.Feature selection and engineering\n",
    "\n",
    "3.Data preprocessing and normalization\n",
    "\n",
    "4.Splitting data into training and testing sets\n",
    "\n",
    "5.Choosing a suitable machine learning algorithm\n",
    "\n",
    "6.Training and evaluating the model"
   ]
  },
  {
   "cell_type": "markdown",
   "id": "0bdf36f2",
   "metadata": {},
   "source": [
    "##### 2. What are the different forms of data used in machine learning ? Give a specific example for each of them ?\n",
    "\n",
    "**Ans :** Different forms of data used in machine learning:\n",
    "\n",
    "Numerical data: Examples include age, temperature, or salary.\n",
    "\n",
    "Categorical data: Examples include gender (male/female), color (red/blue/green), or country (USA/UK/Canada).\n"
   ]
  },
  {
   "cell_type": "markdown",
   "id": "8da3a03a",
   "metadata": {},
   "source": [
    "##### 3. Distinguish between :\n",
    "1. Numeric vs. categorical attributes\n",
    "2. Feature selection vs. dimensionality reduction"
   ]
  },
  {
   "cell_type": "markdown",
   "id": "9a4a0e93",
   "metadata": {},
   "source": [
    "**Ans:** The following are the differences between:\n",
    "\n",
    "Numeric attributes represent values on a continuous scale (e.g., age, temperature), while categorical attributes represent distinct categories or labels (e.g., gender, color).\n",
    "Feature selection involves selecting a subset of relevant features from the original set, while dimensionality reduction aims to reduce the number of features by transforming them into a lower-dimensional space."
   ]
  },
  {
   "cell_type": "markdown",
   "id": "416b863d",
   "metadata": {},
   "source": [
    "##### 4. Make quick notes on any two of the following ?\n",
    "1. The histogram\n",
    "2. Use a scatter plot\n",
    "3. PCA (Personal Computer Aid)"
   ]
  },
  {
   "cell_type": "markdown",
   "id": "0382f659",
   "metadata": {},
   "source": [
    "**Ans:** \n",
    "\n",
    "Histogram: A graphical representation that displays the distribution of a dataset by dividing it into bins and showing the frequency of values falling into each bin.\n",
    "\n",
    "Scatter plot: A two-dimensional plot that displays the relationship between two variables by representing data points as individual dots.\n",
    "\n",
    "PCA (Principal Component Analysis): A technique used for dimensionality reduction that identifies the most important features in a dataset by transforming them into a new set of orthogonal variables called principal components."
   ]
  },
  {
   "cell_type": "markdown",
   "id": "986de4b3",
   "metadata": {},
   "source": [
    "##### 5. Why is it necessary to investigate data? Is there a discrepancy in how qualitative and quantitative data are explored ?"
   ]
  },
  {
   "cell_type": "markdown",
   "id": "8234c6ef",
   "metadata": {},
   "source": [
    "**Ans:** If your data set is messy, building models will not help you to solve your problem. What will happen is `Garbage In, Garbage Out.` In order to build a powerful machine learning algorithm. We need to explore and understand our data set before we define a predictive task and solve it. "
   ]
  },
  {
   "cell_type": "markdown",
   "id": "3d354a55",
   "metadata": {},
   "source": [
    "##### 6. What are the various histogram shapes? What exactly are ‘bins' ?"
   ]
  },
  {
   "cell_type": "markdown",
   "id": "32e38cf9",
   "metadata": {},
   "source": [
    "**Ans:** The different types of a Histogram are:\n",
    "\n",
    "1. Uniform Histogram\n",
    "2. Symmetric Histogram\n",
    "3. Bimodal Histogram\n",
    "4. Probability Histogram.  \n",
    "\n",
    "The `bin` in a histogram is the choice of unit and spacing on the X-axis. All the data in a probability distribution represented visually by a histogram is filled into the corresponding bins. The height of each bin is a measurement of  the frequency with which data appears inside the range of that bin in the distribution."
   ]
  },
  {
   "cell_type": "markdown",
   "id": "e4b25fc0",
   "metadata": {},
   "source": [
    "##### 7. How do we deal with data outliers ?"
   ]
  },
  {
   "cell_type": "markdown",
   "id": "e682d8f5",
   "metadata": {},
   "source": [
    "**Ans:** Data outliers can be dealt with by either removing them if they are erroneous or influential, or by applying appropriate data transformations or replacing them with a more reasonable value."
   ]
  },
  {
   "cell_type": "markdown",
   "id": "2a098bf0",
   "metadata": {},
   "source": [
    "##### 8. What are the various central inclination measures? Why does mean vary too much from median in certain data sets ?"
   ]
  },
  {
   "cell_type": "markdown",
   "id": "fb4c2905",
   "metadata": {},
   "source": [
    "**Ans:** Various central inclination measures include mean, median, and mode. The mean can vary significantly from the median in certain datasets, especially when there are outliers that disproportionately affect the mean."
   ]
  },
  {
   "cell_type": "markdown",
   "id": "a8082d30",
   "metadata": {},
   "source": [
    "##### 9. Describe how a scatter plot can be used to investigate bivariate relationships. Is it possible to find outliers using a scatter plot ?"
   ]
  },
  {
   "cell_type": "markdown",
   "id": "86e13150",
   "metadata": {},
   "source": [
    "**Ans:** A scatter plot can be used to investigate the relationship between two variables by plotting their values as points on a graph. Outliers can be visually identified as data points that deviate significantly from the general pattern or trend observed in the scatter plot."
   ]
  },
  {
   "cell_type": "markdown",
   "id": "bbbf6ea5",
   "metadata": {},
   "source": [
    "##### 10. Describe how cross-tabs can be used to figure out how two variables are related ?"
   ]
  },
  {
   "cell_type": "markdown",
   "id": "6ec5c3cd",
   "metadata": {},
   "source": [
    "**Ans:** Cross-tabs, or contingency tables, can be used to examine the relationship between two variables by displaying the frequency distribution of their joint occurrences. It helps identify patterns, dependencies, and associations between the variables."
   ]
  },
  {
   "cell_type": "markdown",
   "id": "ab561eb1",
   "metadata": {},
   "source": []
  }
 ],
 "metadata": {
  "kernelspec": {
   "display_name": "Python 3",
   "language": "python",
   "name": "python3"
  },
  "language_info": {
   "codemirror_mode": {
    "name": "ipython",
    "version": 3
   },
   "file_extension": ".py",
   "mimetype": "text/x-python",
   "name": "python",
   "nbconvert_exporter": "python",
   "pygments_lexer": "ipython3",
   "version": "3.8.8"
  }
 },
 "nbformat": 4,
 "nbformat_minor": 5
}
