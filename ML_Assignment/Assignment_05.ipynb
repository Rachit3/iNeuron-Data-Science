{
 "cells": [
  {
   "cell_type": "markdown",
   "id": "7d8139be",
   "metadata": {},
   "source": [
    "##### 1. What are the key tasks that machine learning entails? What does data pre-processing imply ?"
   ]
  },
  {
   "cell_type": "markdown",
   "id": "fc1f8cfa",
   "metadata": {},
   "source": [
    "**Ans:** Key tasks in machine learning: Training models, evaluating model performance, making predictions.\n",
    "\n",
    " Data pre-processing involves cleaning, transforming, and preparing data for analysis."
   ]
  },
  {
   "cell_type": "markdown",
   "id": "03e45119",
   "metadata": {},
   "source": [
    "##### 2. Describe quantitative and qualitative data in depth. Make a distinction between the two ?"
   ]
  },
  {
   "cell_type": "markdown",
   "id": "817c28d0",
   "metadata": {},
   "source": [
    "**Ans:** \n",
    "Quantitative data: Numerical data that can be measured and quantified. Qualitative data: Descriptive data that cannot be measured numerically. Quantitative data can be counted or measured, while qualitative data describes qualities or characteristics."
   ]
  },
  {
   "cell_type": "markdown",
   "id": "208b7757",
   "metadata": {},
   "source": [
    "##### 3. Create a basic data collection that includes some sample records. Have at least one attribute from each of the machine learning data types ?"
   ]
  },
  {
   "cell_type": "markdown",
   "id": "93cee59a",
   "metadata": {},
   "source": [
    "**Ans:** The following is a basic data collection that includes some sample records.\n",
    "\n",
    " A dataset with attributes such as age (numerical), gender (categorical), income (numerical), education level (ordinal), and favorite color (nominal)."
   ]
  },
  {
   "cell_type": "markdown",
   "id": "014f70c7",
   "metadata": {},
   "source": [
    "##### 4. What are the various causes of machine learning data issues? What are the ramifications ?"
   ]
  },
  {
   "cell_type": "markdown",
   "id": "10157eba",
   "metadata": {},
   "source": [
    "**Ans:** Causes of machine learning data issues: Incomplete data, incorrect data, irrelevant data, and biased data. Ramifications include inaccurate models, biased predictions, and reduced model performance."
   ]
  },
  {
   "cell_type": "markdown",
   "id": "e5c2bfb0",
   "metadata": {},
   "source": [
    "##### 5. Demonstrate various approaches to categorical data exploration with appropriate examples ?"
   ]
  },
  {
   "cell_type": "markdown",
   "id": "d0df50ce",
   "metadata": {},
   "source": [
    "**Ans:**Approaches to categorical data exploration: Frequency tables, bar charts, pie charts, and cross-tabulations. For example, creating a bar chart to visualize the distribution of car brands in a dataset."
   ]
  },
  {
   "cell_type": "markdown",
   "id": "587d9dd4",
   "metadata": {},
   "source": [
    "##### 6. How would the learning activity be affected if certain variables have missing values? Having said that, what can be done about it ?"
   ]
  },
  {
   "cell_type": "markdown",
   "id": "0da1acb3",
   "metadata": {},
   "source": [
    "**Ans:** Learning activity with missing values: Missing values can lead to biased or incomplete models. It's important to handle missing values appropriately, such as imputing them with mean values or using advanced imputation techniques.\n"
   ]
  },
  {
   "cell_type": "markdown",
   "id": "e3e5411c",
   "metadata": {},
   "source": [
    "##### 7. Describe the various methods for dealing with missing data values in depth ?"
   ]
  },
  {
   "cell_type": "markdown",
   "id": "b42f3210",
   "metadata": {},
   "source": [
    "**Ans:** Methods for dealing with missing data: Imputation (mean, median, mode), deletion (listwise, pairwise), advanced techniques (multiple imputation, regression imputation), and domain-specific methods."
   ]
  },
  {
   "cell_type": "markdown",
   "id": "438aafab",
   "metadata": {},
   "source": [
    "##### 8. What are the various data pre-processing techniques? Explain dimensionality reduction and function selection in a few words ?"
   ]
  },
  {
   "cell_type": "markdown",
   "id": "06291f51",
   "metadata": {},
   "source": [
    "**Ans:** Data pre-processing techniques: Cleaning, encoding categorical variables, scaling numerical variables, handling missing data. \n",
    "\n",
    "Dimensionality reduction reduces the number of features, while feature selection selects the most relevant features for the model."
   ]
  },
  {
   "cell_type": "markdown",
   "id": "74b54cf9",
   "metadata": {},
   "source": [
    "##### 9.Make brief notes on of the following ?\n",
    "1. What is the IQR? What criteria are used to assess it?\n",
    "2. Describe the various components of a box plot in detail? When will the lower whisker    surpass the upper whisker in length? How can box plots be used to identify outliers?"
   ]
  },
  {
   "cell_type": "markdown",
   "id": "e08a05b1",
   "metadata": {},
   "source": [
    "**Ans:**\n",
    "\n",
    "i. IQR (Interquartile Range): The range between the first quartile (25th percentile) and the third quartile (75th percentile) in a dataset. It is used to measure the spread and variability of data. Outliers can be identified based on the IQR.\n",
    "\n",
    "ii. Components of a box plot: Median, first quartile, third quartile, whiskers, and outliers. The lower whisker surpasses the upper whisker when the data distribution is skewed. Box plots can identify outliers based on being located beyond the whiskers."
   ]
  },
  {
   "cell_type": "markdown",
   "id": "3b6f9818",
   "metadata": {},
   "source": [
    "##### 10. Make brief notes on any two of the following ?\n",
    "1. Data collected at regular intervals\n",
    "2. The gap between the quartiles\n",
    "3. Use a cross-tab"
   ]
  },
  {
   "cell_type": "markdown",
   "id": "8e40e1aa",
   "metadata": {},
   "source": [
    "**Ans:** \n",
    "\n",
    "Data collected at regular intervals: Time series data collected at consistent time intervals, useful for analyzing trends and patterns over time.\n",
    "\n",
    "Gap between the quartiles: The difference between the first quartile (Q1) and the third quartile (Q3), representing the spread or dispersion of data within the middle 50%."
   ]
  },
  {
   "cell_type": "markdown",
   "id": "ae262dc0",
   "metadata": {},
   "source": [
    "##### 11. Make a comparison between ?\n",
    "1. Data with nominal and ordinal values\n",
    "2. Histogram and box plot\n",
    "3. The average and median"
   ]
  },
  {
   "cell_type": "markdown",
   "id": "d0a9b43a",
   "metadata": {},
   "source": [
    "**Ans:** \n",
    "\n",
    "Data with nominal and ordinal values: Nominal data represents categories without an inherent order, while ordinal data has a meaningful order or ranking.\n",
    "\n",
    "Histogram and box plot: Histogram displays the distribution of numerical data using bars, while a box plot shows the distribution, median, quartiles, and outliers.\n",
    "\n",
    "Average and median: Average (mean) is the sum of values divided by the count, while the median is the middle value in a sorted dataset. Median is less affected by extreme values, while the average considers all values equally."
   ]
  },
  {
   "cell_type": "markdown",
   "id": "50d4998c",
   "metadata": {},
   "source": []
  }
 ],
 "metadata": {
  "kernelspec": {
   "display_name": "Python 3",
   "language": "python",
   "name": "python3"
  },
  "language_info": {
   "codemirror_mode": {
    "name": "ipython",
    "version": 3
   },
   "file_extension": ".py",
   "mimetype": "text/x-python",
   "name": "python",
   "nbconvert_exporter": "python",
   "pygments_lexer": "ipython3",
   "version": "3.8.8"
  }
 },
 "nbformat": 4,
 "nbformat_minor": 5
}
